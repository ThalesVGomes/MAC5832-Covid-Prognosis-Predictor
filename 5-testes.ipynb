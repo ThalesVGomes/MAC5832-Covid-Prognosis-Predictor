{
 "cells": [
  {
   "cell_type": "markdown",
   "id": "44a0ae40",
   "metadata": {},
   "source": [
    "# Notebook to Implement Model Training - LGBM"
   ]
  },
  {
   "cell_type": "markdown",
   "id": "e47ad424",
   "metadata": {},
   "source": [
    "---"
   ]
  },
  {
   "cell_type": "markdown",
   "id": "69edc19e",
   "metadata": {},
   "source": [
    "### Atualização sobre o status do projeto"
   ]
  },
  {
   "cell_type": "markdown",
   "id": "dabfec64",
   "metadata": {},
   "source": []
  },
  {
   "cell_type": "markdown",
   "id": "58aabb6a",
   "metadata": {},
   "source": [
    "### 1) Setup"
   ]
  },
  {
   "cell_type": "code",
   "execution_count": 4,
   "id": "e33b8c0f",
   "metadata": {},
   "outputs": [
    {
     "name": "stderr",
     "output_type": "stream",
     "text": [
      "C:\\Users\\Lucas\\AppData\\Local\\Programs\\Python\\Python310\\lib\\site-packages\\tqdm\\auto.py:22: TqdmWarning: IProgress not found. Please update jupyter and ipywidgets. See https://ipywidgets.readthedocs.io/en/stable/user_install.html\n",
      "  from .autonotebook import tqdm as notebook_tqdm\n"
     ]
    }
   ],
   "source": [
    "# Imports\n",
    "import pandas as pd\n",
    "import numpy as np\n",
    "import matplotlib.pyplot as plt\n",
    "import seaborn as sns\n",
    "import scipy\n",
    "\n",
    "from scipy import stats\n",
    "from scipy.stats import wilcoxon\n",
    "\n",
    "from sklearn.metrics import balanced_accuracy_score, make_scorer, confusion_matrix, classification_report\n",
    "from sklearn.model_selection import RepeatedKFold, cross_val_score, GridSearchCV, RandomizedSearchCV\n",
    "from sklearn.ensemble import GradientBoostingClassifier\n",
    "from sklearn.svm import SVC\n",
    "from sklearn.ensemble import IsolationForest\n",
    "\n",
    "import optuna\n",
    "import lightgbm as lgb\n",
    "\n",
    "from sklearn.decomposition import PCA\n",
    "from sklearn.pipeline import Pipeline\n",
    "from sklearn.preprocessing import StandardScaler, MinMaxScaler, RobustScaler\n",
    "from sklearn.impute import SimpleImputer\n",
    "\n",
    "from imblearn.over_sampling import SMOTE,KMeansSMOTE, ADASYN \n",
    "\n",
    "from sklearn.ensemble import RandomForestClassifier\n",
    "from boruta import BorutaPy"
   ]
  },
  {
   "cell_type": "code",
   "execution_count": 5,
   "id": "1028d840",
   "metadata": {},
   "outputs": [],
   "source": [
    "SEED = 42"
   ]
  },
  {
   "cell_type": "code",
   "execution_count": 6,
   "id": "c2e29d7c",
   "metadata": {},
   "outputs": [],
   "source": [
    "TRAIN_CLINICAL_FILENAME = \"train_set.csv\"\n",
    "TEST_CLINICAL_FILENAME = \"test_set.csv\""
   ]
  },
  {
   "cell_type": "markdown",
   "id": "84adf36c",
   "metadata": {},
   "source": [
    "---"
   ]
  },
  {
   "cell_type": "markdown",
   "id": "f9589ede",
   "metadata": {},
   "source": [
    "### 2) Read and Preprocess Data"
   ]
  },
  {
   "cell_type": "code",
   "execution_count": 7,
   "id": "a841c96a",
   "metadata": {},
   "outputs": [],
   "source": [
    "train = pd.read_csv(TRAIN_CLINICAL_FILENAME, sep=\",\")\n",
    "train = train.iloc[: , 1:]"
   ]
  },
  {
   "cell_type": "code",
   "execution_count": 8,
   "id": "dfe72ece",
   "metadata": {},
   "outputs": [
    {
     "data": {
      "text/plain": [
       "(132, 636)"
      ]
     },
     "execution_count": 8,
     "metadata": {},
     "output_type": "execute_result"
    }
   ],
   "source": [
    "train.shape"
   ]
  },
  {
   "cell_type": "code",
   "execution_count": 9,
   "id": "be41efe6",
   "metadata": {},
   "outputs": [
    {
     "data": {
      "text/html": [
       "<div>\n",
       "<style scoped>\n",
       "    .dataframe tbody tr th:only-of-type {\n",
       "        vertical-align: middle;\n",
       "    }\n",
       "\n",
       "    .dataframe tbody tr th {\n",
       "        vertical-align: top;\n",
       "    }\n",
       "\n",
       "    .dataframe thead th {\n",
       "        text-align: right;\n",
       "    }\n",
       "</style>\n",
       "<table border=\"1\" class=\"dataframe\">\n",
       "  <thead>\n",
       "    <tr style=\"text-align: right;\">\n",
       "      <th></th>\n",
       "      <th>Freq.1198.05707939985</th>\n",
       "      <th>Freq.1204.07148226988</th>\n",
       "      <th>Freq.1211.25531677913</th>\n",
       "      <th>Freq.1217.79534957812</th>\n",
       "      <th>Freq.1223.24180676615</th>\n",
       "      <th>Freq.1234.42874922858</th>\n",
       "      <th>Freq.1239.04873179697</th>\n",
       "      <th>Freq.1243.98934968702</th>\n",
       "      <th>Freq.1249.10239635402</th>\n",
       "      <th>Freq.1254.7097579948</th>\n",
       "      <th>...</th>\n",
       "      <th>Freq.8943.76551923189</th>\n",
       "      <th>Freq.9058.85825530971</th>\n",
       "      <th>Freq.9098.58510797401</th>\n",
       "      <th>Freq.9437.74469644083</th>\n",
       "      <th>Freq.9593.90405666006</th>\n",
       "      <th>Freq.9799.842201746</th>\n",
       "      <th>Freq.10432.4853106264</th>\n",
       "      <th>Freq.11006.9514551194</th>\n",
       "      <th>Freq.11161.31855876</th>\n",
       "      <th>Group</th>\n",
       "    </tr>\n",
       "  </thead>\n",
       "  <tbody>\n",
       "    <tr>\n",
       "      <th>0</th>\n",
       "      <td>0.000319</td>\n",
       "      <td>0.000416</td>\n",
       "      <td>0.000077</td>\n",
       "      <td>4.034140e-05</td>\n",
       "      <td>0.000089</td>\n",
       "      <td>0.000282</td>\n",
       "      <td>0.000004</td>\n",
       "      <td>0.000130</td>\n",
       "      <td>0.000288</td>\n",
       "      <td>0.000000e+00</td>\n",
       "      <td>...</td>\n",
       "      <td>0.000017</td>\n",
       "      <td>0.000005</td>\n",
       "      <td>0.000020</td>\n",
       "      <td>0.000029</td>\n",
       "      <td>0.000037</td>\n",
       "      <td>0.000024</td>\n",
       "      <td>0.000016</td>\n",
       "      <td>0.000030</td>\n",
       "      <td>0.000030</td>\n",
       "      <td>MILD</td>\n",
       "    </tr>\n",
       "    <tr>\n",
       "      <th>1</th>\n",
       "      <td>0.000000</td>\n",
       "      <td>0.000000</td>\n",
       "      <td>0.000021</td>\n",
       "      <td>1.064014e-03</td>\n",
       "      <td>0.000113</td>\n",
       "      <td>0.001591</td>\n",
       "      <td>0.016310</td>\n",
       "      <td>0.002330</td>\n",
       "      <td>0.000476</td>\n",
       "      <td>6.074661e-04</td>\n",
       "      <td>...</td>\n",
       "      <td>0.000040</td>\n",
       "      <td>0.000010</td>\n",
       "      <td>0.000001</td>\n",
       "      <td>0.000005</td>\n",
       "      <td>0.000002</td>\n",
       "      <td>0.000052</td>\n",
       "      <td>0.000003</td>\n",
       "      <td>0.000155</td>\n",
       "      <td>0.000001</td>\n",
       "      <td>MILD</td>\n",
       "    </tr>\n",
       "    <tr>\n",
       "      <th>2</th>\n",
       "      <td>0.000199</td>\n",
       "      <td>0.000006</td>\n",
       "      <td>0.000013</td>\n",
       "      <td>5.089552e-08</td>\n",
       "      <td>0.000087</td>\n",
       "      <td>0.000543</td>\n",
       "      <td>0.000231</td>\n",
       "      <td>0.000068</td>\n",
       "      <td>0.000018</td>\n",
       "      <td>1.286428e-04</td>\n",
       "      <td>...</td>\n",
       "      <td>0.000009</td>\n",
       "      <td>0.000044</td>\n",
       "      <td>0.000012</td>\n",
       "      <td>0.000067</td>\n",
       "      <td>0.000207</td>\n",
       "      <td>0.000020</td>\n",
       "      <td>0.000027</td>\n",
       "      <td>0.000100</td>\n",
       "      <td>0.000100</td>\n",
       "      <td>MILD</td>\n",
       "    </tr>\n",
       "    <tr>\n",
       "      <th>3</th>\n",
       "      <td>0.000196</td>\n",
       "      <td>0.000244</td>\n",
       "      <td>0.000069</td>\n",
       "      <td>4.874671e-05</td>\n",
       "      <td>0.000125</td>\n",
       "      <td>0.000353</td>\n",
       "      <td>0.000029</td>\n",
       "      <td>0.000125</td>\n",
       "      <td>0.000120</td>\n",
       "      <td>4.988436e-07</td>\n",
       "      <td>...</td>\n",
       "      <td>0.000072</td>\n",
       "      <td>0.000051</td>\n",
       "      <td>0.000013</td>\n",
       "      <td>0.000061</td>\n",
       "      <td>0.000040</td>\n",
       "      <td>0.000008</td>\n",
       "      <td>0.000003</td>\n",
       "      <td>0.000055</td>\n",
       "      <td>0.000029</td>\n",
       "      <td>MILD</td>\n",
       "    </tr>\n",
       "    <tr>\n",
       "      <th>4</th>\n",
       "      <td>0.000000</td>\n",
       "      <td>0.000000</td>\n",
       "      <td>0.000000</td>\n",
       "      <td>0.000000e+00</td>\n",
       "      <td>0.000000</td>\n",
       "      <td>0.000000</td>\n",
       "      <td>0.000000</td>\n",
       "      <td>0.000000</td>\n",
       "      <td>0.000000</td>\n",
       "      <td>0.000000e+00</td>\n",
       "      <td>...</td>\n",
       "      <td>0.000027</td>\n",
       "      <td>0.000031</td>\n",
       "      <td>0.000014</td>\n",
       "      <td>0.000017</td>\n",
       "      <td>0.000028</td>\n",
       "      <td>0.000009</td>\n",
       "      <td>0.000012</td>\n",
       "      <td>0.000026</td>\n",
       "      <td>0.000017</td>\n",
       "      <td>MILD</td>\n",
       "    </tr>\n",
       "  </tbody>\n",
       "</table>\n",
       "<p>5 rows × 636 columns</p>\n",
       "</div>"
      ],
      "text/plain": [
       "   Freq.1198.05707939985  Freq.1204.07148226988  Freq.1211.25531677913  \\\n",
       "0               0.000319               0.000416               0.000077   \n",
       "1               0.000000               0.000000               0.000021   \n",
       "2               0.000199               0.000006               0.000013   \n",
       "3               0.000196               0.000244               0.000069   \n",
       "4               0.000000               0.000000               0.000000   \n",
       "\n",
       "   Freq.1217.79534957812  Freq.1223.24180676615  Freq.1234.42874922858  \\\n",
       "0           4.034140e-05               0.000089               0.000282   \n",
       "1           1.064014e-03               0.000113               0.001591   \n",
       "2           5.089552e-08               0.000087               0.000543   \n",
       "3           4.874671e-05               0.000125               0.000353   \n",
       "4           0.000000e+00               0.000000               0.000000   \n",
       "\n",
       "   Freq.1239.04873179697  Freq.1243.98934968702  Freq.1249.10239635402  \\\n",
       "0               0.000004               0.000130               0.000288   \n",
       "1               0.016310               0.002330               0.000476   \n",
       "2               0.000231               0.000068               0.000018   \n",
       "3               0.000029               0.000125               0.000120   \n",
       "4               0.000000               0.000000               0.000000   \n",
       "\n",
       "   Freq.1254.7097579948  ...  Freq.8943.76551923189  Freq.9058.85825530971  \\\n",
       "0          0.000000e+00  ...               0.000017               0.000005   \n",
       "1          6.074661e-04  ...               0.000040               0.000010   \n",
       "2          1.286428e-04  ...               0.000009               0.000044   \n",
       "3          4.988436e-07  ...               0.000072               0.000051   \n",
       "4          0.000000e+00  ...               0.000027               0.000031   \n",
       "\n",
       "   Freq.9098.58510797401  Freq.9437.74469644083  Freq.9593.90405666006  \\\n",
       "0               0.000020               0.000029               0.000037   \n",
       "1               0.000001               0.000005               0.000002   \n",
       "2               0.000012               0.000067               0.000207   \n",
       "3               0.000013               0.000061               0.000040   \n",
       "4               0.000014               0.000017               0.000028   \n",
       "\n",
       "   Freq.9799.842201746  Freq.10432.4853106264  Freq.11006.9514551194  \\\n",
       "0             0.000024               0.000016               0.000030   \n",
       "1             0.000052               0.000003               0.000155   \n",
       "2             0.000020               0.000027               0.000100   \n",
       "3             0.000008               0.000003               0.000055   \n",
       "4             0.000009               0.000012               0.000026   \n",
       "\n",
       "   Freq.11161.31855876  Group  \n",
       "0             0.000030   MILD  \n",
       "1             0.000001   MILD  \n",
       "2             0.000100   MILD  \n",
       "3             0.000029   MILD  \n",
       "4             0.000017   MILD  \n",
       "\n",
       "[5 rows x 636 columns]"
      ]
     },
     "execution_count": 9,
     "metadata": {},
     "output_type": "execute_result"
    }
   ],
   "source": [
    "train.head()"
   ]
  },
  {
   "cell_type": "code",
   "execution_count": 10,
   "id": "646285c1",
   "metadata": {},
   "outputs": [],
   "source": [
    "##### Preprocessing\n",
    "\n",
    "train_mod = train.copy()\n",
    "# Imputation using mean method\n",
    "#train_mod = train_mod.replace(0,np.nan)\n",
    "#train_mod_imp = train_mod.transform(lambda x: x.fillna(x.mean()))"
   ]
  },
  {
   "cell_type": "code",
   "execution_count": 11,
   "id": "b27da16d",
   "metadata": {},
   "outputs": [
    {
     "data": {
      "text/plain": [
       "(132, 636)"
      ]
     },
     "execution_count": 11,
     "metadata": {},
     "output_type": "execute_result"
    }
   ],
   "source": [
    "train_mod.shape"
   ]
  },
  {
   "cell_type": "code",
   "execution_count": 12,
   "id": "81e259a5",
   "metadata": {
    "scrolled": true
   },
   "outputs": [
    {
     "data": {
      "text/html": [
       "<div>\n",
       "<style scoped>\n",
       "    .dataframe tbody tr th:only-of-type {\n",
       "        vertical-align: middle;\n",
       "    }\n",
       "\n",
       "    .dataframe tbody tr th {\n",
       "        vertical-align: top;\n",
       "    }\n",
       "\n",
       "    .dataframe thead th {\n",
       "        text-align: right;\n",
       "    }\n",
       "</style>\n",
       "<table border=\"1\" class=\"dataframe\">\n",
       "  <thead>\n",
       "    <tr style=\"text-align: right;\">\n",
       "      <th></th>\n",
       "      <th>Freq.1198.05707939985</th>\n",
       "      <th>Freq.1204.07148226988</th>\n",
       "      <th>Freq.1211.25531677913</th>\n",
       "      <th>Freq.1217.79534957812</th>\n",
       "      <th>Freq.1223.24180676615</th>\n",
       "      <th>Freq.1234.42874922858</th>\n",
       "      <th>Freq.1239.04873179697</th>\n",
       "      <th>Freq.1243.98934968702</th>\n",
       "      <th>Freq.1249.10239635402</th>\n",
       "      <th>Freq.1254.7097579948</th>\n",
       "      <th>...</th>\n",
       "      <th>Freq.8943.76551923189</th>\n",
       "      <th>Freq.9058.85825530971</th>\n",
       "      <th>Freq.9098.58510797401</th>\n",
       "      <th>Freq.9437.74469644083</th>\n",
       "      <th>Freq.9593.90405666006</th>\n",
       "      <th>Freq.9799.842201746</th>\n",
       "      <th>Freq.10432.4853106264</th>\n",
       "      <th>Freq.11006.9514551194</th>\n",
       "      <th>Freq.11161.31855876</th>\n",
       "      <th>Group</th>\n",
       "    </tr>\n",
       "  </thead>\n",
       "  <tbody>\n",
       "    <tr>\n",
       "      <th>0</th>\n",
       "      <td>0.000319</td>\n",
       "      <td>0.000416</td>\n",
       "      <td>0.000077</td>\n",
       "      <td>4.034140e-05</td>\n",
       "      <td>0.000089</td>\n",
       "      <td>0.000282</td>\n",
       "      <td>0.000004</td>\n",
       "      <td>0.000130</td>\n",
       "      <td>0.000288</td>\n",
       "      <td>0.000000e+00</td>\n",
       "      <td>...</td>\n",
       "      <td>0.000017</td>\n",
       "      <td>0.000005</td>\n",
       "      <td>0.000020</td>\n",
       "      <td>0.000029</td>\n",
       "      <td>0.000037</td>\n",
       "      <td>0.000024</td>\n",
       "      <td>0.000016</td>\n",
       "      <td>0.000030</td>\n",
       "      <td>0.000030</td>\n",
       "      <td>MILD</td>\n",
       "    </tr>\n",
       "    <tr>\n",
       "      <th>1</th>\n",
       "      <td>0.000000</td>\n",
       "      <td>0.000000</td>\n",
       "      <td>0.000021</td>\n",
       "      <td>1.064014e-03</td>\n",
       "      <td>0.000113</td>\n",
       "      <td>0.001591</td>\n",
       "      <td>0.016310</td>\n",
       "      <td>0.002330</td>\n",
       "      <td>0.000476</td>\n",
       "      <td>6.074661e-04</td>\n",
       "      <td>...</td>\n",
       "      <td>0.000040</td>\n",
       "      <td>0.000010</td>\n",
       "      <td>0.000001</td>\n",
       "      <td>0.000005</td>\n",
       "      <td>0.000002</td>\n",
       "      <td>0.000052</td>\n",
       "      <td>0.000003</td>\n",
       "      <td>0.000155</td>\n",
       "      <td>0.000001</td>\n",
       "      <td>MILD</td>\n",
       "    </tr>\n",
       "    <tr>\n",
       "      <th>2</th>\n",
       "      <td>0.000199</td>\n",
       "      <td>0.000006</td>\n",
       "      <td>0.000013</td>\n",
       "      <td>5.089552e-08</td>\n",
       "      <td>0.000087</td>\n",
       "      <td>0.000543</td>\n",
       "      <td>0.000231</td>\n",
       "      <td>0.000068</td>\n",
       "      <td>0.000018</td>\n",
       "      <td>1.286428e-04</td>\n",
       "      <td>...</td>\n",
       "      <td>0.000009</td>\n",
       "      <td>0.000044</td>\n",
       "      <td>0.000012</td>\n",
       "      <td>0.000067</td>\n",
       "      <td>0.000207</td>\n",
       "      <td>0.000020</td>\n",
       "      <td>0.000027</td>\n",
       "      <td>0.000100</td>\n",
       "      <td>0.000100</td>\n",
       "      <td>MILD</td>\n",
       "    </tr>\n",
       "    <tr>\n",
       "      <th>3</th>\n",
       "      <td>0.000196</td>\n",
       "      <td>0.000244</td>\n",
       "      <td>0.000069</td>\n",
       "      <td>4.874671e-05</td>\n",
       "      <td>0.000125</td>\n",
       "      <td>0.000353</td>\n",
       "      <td>0.000029</td>\n",
       "      <td>0.000125</td>\n",
       "      <td>0.000120</td>\n",
       "      <td>4.988436e-07</td>\n",
       "      <td>...</td>\n",
       "      <td>0.000072</td>\n",
       "      <td>0.000051</td>\n",
       "      <td>0.000013</td>\n",
       "      <td>0.000061</td>\n",
       "      <td>0.000040</td>\n",
       "      <td>0.000008</td>\n",
       "      <td>0.000003</td>\n",
       "      <td>0.000055</td>\n",
       "      <td>0.000029</td>\n",
       "      <td>MILD</td>\n",
       "    </tr>\n",
       "    <tr>\n",
       "      <th>4</th>\n",
       "      <td>0.000000</td>\n",
       "      <td>0.000000</td>\n",
       "      <td>0.000000</td>\n",
       "      <td>0.000000e+00</td>\n",
       "      <td>0.000000</td>\n",
       "      <td>0.000000</td>\n",
       "      <td>0.000000</td>\n",
       "      <td>0.000000</td>\n",
       "      <td>0.000000</td>\n",
       "      <td>0.000000e+00</td>\n",
       "      <td>...</td>\n",
       "      <td>0.000027</td>\n",
       "      <td>0.000031</td>\n",
       "      <td>0.000014</td>\n",
       "      <td>0.000017</td>\n",
       "      <td>0.000028</td>\n",
       "      <td>0.000009</td>\n",
       "      <td>0.000012</td>\n",
       "      <td>0.000026</td>\n",
       "      <td>0.000017</td>\n",
       "      <td>MILD</td>\n",
       "    </tr>\n",
       "  </tbody>\n",
       "</table>\n",
       "<p>5 rows × 636 columns</p>\n",
       "</div>"
      ],
      "text/plain": [
       "   Freq.1198.05707939985  Freq.1204.07148226988  Freq.1211.25531677913  \\\n",
       "0               0.000319               0.000416               0.000077   \n",
       "1               0.000000               0.000000               0.000021   \n",
       "2               0.000199               0.000006               0.000013   \n",
       "3               0.000196               0.000244               0.000069   \n",
       "4               0.000000               0.000000               0.000000   \n",
       "\n",
       "   Freq.1217.79534957812  Freq.1223.24180676615  Freq.1234.42874922858  \\\n",
       "0           4.034140e-05               0.000089               0.000282   \n",
       "1           1.064014e-03               0.000113               0.001591   \n",
       "2           5.089552e-08               0.000087               0.000543   \n",
       "3           4.874671e-05               0.000125               0.000353   \n",
       "4           0.000000e+00               0.000000               0.000000   \n",
       "\n",
       "   Freq.1239.04873179697  Freq.1243.98934968702  Freq.1249.10239635402  \\\n",
       "0               0.000004               0.000130               0.000288   \n",
       "1               0.016310               0.002330               0.000476   \n",
       "2               0.000231               0.000068               0.000018   \n",
       "3               0.000029               0.000125               0.000120   \n",
       "4               0.000000               0.000000               0.000000   \n",
       "\n",
       "   Freq.1254.7097579948  ...  Freq.8943.76551923189  Freq.9058.85825530971  \\\n",
       "0          0.000000e+00  ...               0.000017               0.000005   \n",
       "1          6.074661e-04  ...               0.000040               0.000010   \n",
       "2          1.286428e-04  ...               0.000009               0.000044   \n",
       "3          4.988436e-07  ...               0.000072               0.000051   \n",
       "4          0.000000e+00  ...               0.000027               0.000031   \n",
       "\n",
       "   Freq.9098.58510797401  Freq.9437.74469644083  Freq.9593.90405666006  \\\n",
       "0               0.000020               0.000029               0.000037   \n",
       "1               0.000001               0.000005               0.000002   \n",
       "2               0.000012               0.000067               0.000207   \n",
       "3               0.000013               0.000061               0.000040   \n",
       "4               0.000014               0.000017               0.000028   \n",
       "\n",
       "   Freq.9799.842201746  Freq.10432.4853106264  Freq.11006.9514551194  \\\n",
       "0             0.000024               0.000016               0.000030   \n",
       "1             0.000052               0.000003               0.000155   \n",
       "2             0.000020               0.000027               0.000100   \n",
       "3             0.000008               0.000003               0.000055   \n",
       "4             0.000009               0.000012               0.000026   \n",
       "\n",
       "   Freq.11161.31855876  Group  \n",
       "0             0.000030   MILD  \n",
       "1             0.000001   MILD  \n",
       "2             0.000100   MILD  \n",
       "3             0.000029   MILD  \n",
       "4             0.000017   MILD  \n",
       "\n",
       "[5 rows x 636 columns]"
      ]
     },
     "execution_count": 12,
     "metadata": {},
     "output_type": "execute_result"
    }
   ],
   "source": [
    "train_mod.head()"
   ]
  },
  {
   "cell_type": "code",
   "execution_count": 13,
   "id": "78d1a54a",
   "metadata": {},
   "outputs": [
    {
     "data": {
      "text/html": [
       "<div>\n",
       "<style scoped>\n",
       "    .dataframe tbody tr th:only-of-type {\n",
       "        vertical-align: middle;\n",
       "    }\n",
       "\n",
       "    .dataframe tbody tr th {\n",
       "        vertical-align: top;\n",
       "    }\n",
       "\n",
       "    .dataframe thead th {\n",
       "        text-align: right;\n",
       "    }\n",
       "</style>\n",
       "<table border=\"1\" class=\"dataframe\">\n",
       "  <thead>\n",
       "    <tr style=\"text-align: right;\">\n",
       "      <th></th>\n",
       "      <th>Freq.1198.05707939985</th>\n",
       "      <th>Freq.1204.07148226988</th>\n",
       "      <th>Freq.1211.25531677913</th>\n",
       "      <th>Freq.1217.79534957812</th>\n",
       "      <th>Freq.1223.24180676615</th>\n",
       "      <th>Freq.1234.42874922858</th>\n",
       "      <th>Freq.1239.04873179697</th>\n",
       "      <th>Freq.1243.98934968702</th>\n",
       "      <th>Freq.1249.10239635402</th>\n",
       "      <th>Freq.1254.7097579948</th>\n",
       "      <th>...</th>\n",
       "      <th>Freq.8943.76551923189</th>\n",
       "      <th>Freq.9058.85825530971</th>\n",
       "      <th>Freq.9098.58510797401</th>\n",
       "      <th>Freq.9437.74469644083</th>\n",
       "      <th>Freq.9593.90405666006</th>\n",
       "      <th>Freq.9799.842201746</th>\n",
       "      <th>Freq.10432.4853106264</th>\n",
       "      <th>Freq.11006.9514551194</th>\n",
       "      <th>Freq.11161.31855876</th>\n",
       "      <th>Group</th>\n",
       "    </tr>\n",
       "  </thead>\n",
       "  <tbody>\n",
       "    <tr>\n",
       "      <th>0</th>\n",
       "      <td>0.000226</td>\n",
       "      <td>0.000341</td>\n",
       "      <td>0.000194</td>\n",
       "      <td>0.000136</td>\n",
       "      <td>0.000341</td>\n",
       "      <td>0.000111</td>\n",
       "      <td>0.000049</td>\n",
       "      <td>0.000696</td>\n",
       "      <td>0.000122</td>\n",
       "      <td>0.000120</td>\n",
       "      <td>...</td>\n",
       "      <td>0.000071</td>\n",
       "      <td>0.000025</td>\n",
       "      <td>0.000027</td>\n",
       "      <td>7.788256e-07</td>\n",
       "      <td>0.000016</td>\n",
       "      <td>0.000008</td>\n",
       "      <td>1.721324e-05</td>\n",
       "      <td>0.000021</td>\n",
       "      <td>0.000009</td>\n",
       "      <td>MILD</td>\n",
       "    </tr>\n",
       "    <tr>\n",
       "      <th>1</th>\n",
       "      <td>0.000001</td>\n",
       "      <td>0.000056</td>\n",
       "      <td>0.000037</td>\n",
       "      <td>0.000028</td>\n",
       "      <td>0.000019</td>\n",
       "      <td>0.000081</td>\n",
       "      <td>0.000047</td>\n",
       "      <td>0.000235</td>\n",
       "      <td>0.000203</td>\n",
       "      <td>0.000245</td>\n",
       "      <td>...</td>\n",
       "      <td>0.000003</td>\n",
       "      <td>0.000008</td>\n",
       "      <td>0.000012</td>\n",
       "      <td>1.775512e-05</td>\n",
       "      <td>0.000234</td>\n",
       "      <td>0.000042</td>\n",
       "      <td>4.124686e-05</td>\n",
       "      <td>0.000015</td>\n",
       "      <td>0.000066</td>\n",
       "      <td>MILD</td>\n",
       "    </tr>\n",
       "    <tr>\n",
       "      <th>2</th>\n",
       "      <td>0.000228</td>\n",
       "      <td>0.000264</td>\n",
       "      <td>0.000006</td>\n",
       "      <td>0.000133</td>\n",
       "      <td>0.000145</td>\n",
       "      <td>0.000032</td>\n",
       "      <td>0.000784</td>\n",
       "      <td>0.000206</td>\n",
       "      <td>0.000144</td>\n",
       "      <td>0.000113</td>\n",
       "      <td>...</td>\n",
       "      <td>0.000008</td>\n",
       "      <td>0.000047</td>\n",
       "      <td>0.000026</td>\n",
       "      <td>1.507294e-05</td>\n",
       "      <td>0.000085</td>\n",
       "      <td>0.000024</td>\n",
       "      <td>5.582014e-05</td>\n",
       "      <td>0.000042</td>\n",
       "      <td>0.000055</td>\n",
       "      <td>MILD</td>\n",
       "    </tr>\n",
       "    <tr>\n",
       "      <th>3</th>\n",
       "      <td>0.003657</td>\n",
       "      <td>0.001790</td>\n",
       "      <td>0.000223</td>\n",
       "      <td>0.000156</td>\n",
       "      <td>0.001859</td>\n",
       "      <td>0.000178</td>\n",
       "      <td>0.000610</td>\n",
       "      <td>0.001428</td>\n",
       "      <td>0.000555</td>\n",
       "      <td>0.000002</td>\n",
       "      <td>...</td>\n",
       "      <td>0.000011</td>\n",
       "      <td>0.000004</td>\n",
       "      <td>0.000002</td>\n",
       "      <td>2.146685e-06</td>\n",
       "      <td>0.000004</td>\n",
       "      <td>0.000006</td>\n",
       "      <td>1.355618e-07</td>\n",
       "      <td>0.000003</td>\n",
       "      <td>0.000003</td>\n",
       "      <td>MILD</td>\n",
       "    </tr>\n",
       "    <tr>\n",
       "      <th>4</th>\n",
       "      <td>0.000003</td>\n",
       "      <td>0.000369</td>\n",
       "      <td>0.000084</td>\n",
       "      <td>0.000026</td>\n",
       "      <td>0.000079</td>\n",
       "      <td>0.000000</td>\n",
       "      <td>0.000520</td>\n",
       "      <td>0.000455</td>\n",
       "      <td>0.000249</td>\n",
       "      <td>0.000111</td>\n",
       "      <td>...</td>\n",
       "      <td>0.000002</td>\n",
       "      <td>0.000021</td>\n",
       "      <td>0.000005</td>\n",
       "      <td>2.076648e-05</td>\n",
       "      <td>0.000050</td>\n",
       "      <td>0.000003</td>\n",
       "      <td>6.206094e-05</td>\n",
       "      <td>0.000022</td>\n",
       "      <td>0.000026</td>\n",
       "      <td>MILD</td>\n",
       "    </tr>\n",
       "  </tbody>\n",
       "</table>\n",
       "<p>5 rows × 636 columns</p>\n",
       "</div>"
      ],
      "text/plain": [
       "   Freq.1198.05707939985  Freq.1204.07148226988  Freq.1211.25531677913  \\\n",
       "0               0.000226               0.000341               0.000194   \n",
       "1               0.000001               0.000056               0.000037   \n",
       "2               0.000228               0.000264               0.000006   \n",
       "3               0.003657               0.001790               0.000223   \n",
       "4               0.000003               0.000369               0.000084   \n",
       "\n",
       "   Freq.1217.79534957812  Freq.1223.24180676615  Freq.1234.42874922858  \\\n",
       "0               0.000136               0.000341               0.000111   \n",
       "1               0.000028               0.000019               0.000081   \n",
       "2               0.000133               0.000145               0.000032   \n",
       "3               0.000156               0.001859               0.000178   \n",
       "4               0.000026               0.000079               0.000000   \n",
       "\n",
       "   Freq.1239.04873179697  Freq.1243.98934968702  Freq.1249.10239635402  \\\n",
       "0               0.000049               0.000696               0.000122   \n",
       "1               0.000047               0.000235               0.000203   \n",
       "2               0.000784               0.000206               0.000144   \n",
       "3               0.000610               0.001428               0.000555   \n",
       "4               0.000520               0.000455               0.000249   \n",
       "\n",
       "   Freq.1254.7097579948  ...  Freq.8943.76551923189  Freq.9058.85825530971  \\\n",
       "0              0.000120  ...               0.000071               0.000025   \n",
       "1              0.000245  ...               0.000003               0.000008   \n",
       "2              0.000113  ...               0.000008               0.000047   \n",
       "3              0.000002  ...               0.000011               0.000004   \n",
       "4              0.000111  ...               0.000002               0.000021   \n",
       "\n",
       "   Freq.9098.58510797401  Freq.9437.74469644083  Freq.9593.90405666006  \\\n",
       "0               0.000027           7.788256e-07               0.000016   \n",
       "1               0.000012           1.775512e-05               0.000234   \n",
       "2               0.000026           1.507294e-05               0.000085   \n",
       "3               0.000002           2.146685e-06               0.000004   \n",
       "4               0.000005           2.076648e-05               0.000050   \n",
       "\n",
       "   Freq.9799.842201746  Freq.10432.4853106264  Freq.11006.9514551194  \\\n",
       "0             0.000008           1.721324e-05               0.000021   \n",
       "1             0.000042           4.124686e-05               0.000015   \n",
       "2             0.000024           5.582014e-05               0.000042   \n",
       "3             0.000006           1.355618e-07               0.000003   \n",
       "4             0.000003           6.206094e-05               0.000022   \n",
       "\n",
       "   Freq.11161.31855876  Group  \n",
       "0             0.000009   MILD  \n",
       "1             0.000066   MILD  \n",
       "2             0.000055   MILD  \n",
       "3             0.000003   MILD  \n",
       "4             0.000026   MILD  \n",
       "\n",
       "[5 rows x 636 columns]"
      ]
     },
     "execution_count": 13,
     "metadata": {},
     "output_type": "execute_result"
    }
   ],
   "source": [
    "test = pd.read_csv(TEST_CLINICAL_FILENAME, sep=\",\")\n",
    "test = test.iloc[: , 1:]\n",
    "test_mod = test.copy()\n",
    "test_mod.head()"
   ]
  },
  {
   "cell_type": "code",
   "execution_count": 14,
   "id": "94c8974e",
   "metadata": {},
   "outputs": [],
   "source": [
    "X_test, y_test = test_mod.drop(\"Group\", axis=1), test_mod[\"Group\"]"
   ]
  },
  {
   "cell_type": "markdown",
   "id": "70f65f1f",
   "metadata": {},
   "source": [
    "---"
   ]
  },
  {
   "cell_type": "markdown",
   "id": "2cc47ef4",
   "metadata": {},
   "source": [
    "### 3) Baseline Model Training and CV"
   ]
  },
  {
   "cell_type": "code",
   "execution_count": 15,
   "id": "adcaec69",
   "metadata": {},
   "outputs": [],
   "source": [
    "# Define Classifier (or pipeline)\n",
    "clf = lgb.LGBMClassifier(random_state=SEED)"
   ]
  },
  {
   "cell_type": "code",
   "execution_count": 16,
   "id": "3de5c702",
   "metadata": {},
   "outputs": [],
   "source": [
    "# Get Features and Target\n",
    "X, y = train_mod.drop(\"Group\", axis=1), train_mod[\"Group\"]"
   ]
  },
  {
   "cell_type": "code",
   "execution_count": 17,
   "id": "2dbd6b39",
   "metadata": {},
   "outputs": [],
   "source": [
    "# Defining RepeatedKFold Cross Validator\n",
    "rkf = RepeatedKFold(n_splits=5, n_repeats=20, random_state=SEED)"
   ]
  },
  {
   "cell_type": "code",
   "execution_count": 18,
   "id": "356afa19",
   "metadata": {},
   "outputs": [
    {
     "data": {
      "text/plain": [
       "make_scorer(balanced_accuracy_score)"
      ]
     },
     "execution_count": 18,
     "metadata": {},
     "output_type": "execute_result"
    }
   ],
   "source": [
    "# Define metric scorer\n",
    "metric_scorer = make_scorer(balanced_accuracy_score)\n",
    "metric_scorer"
   ]
  },
  {
   "cell_type": "code",
   "execution_count": 19,
   "id": "8258c5a6",
   "metadata": {},
   "outputs": [],
   "source": [
    "# Cross validate model\n",
    "scores = cross_val_score(clf, X, y, scoring=metric_scorer, cv=rkf, n_jobs=-1)"
   ]
  },
  {
   "cell_type": "code",
   "execution_count": 20,
   "id": "5e19c754",
   "metadata": {},
   "outputs": [
    {
     "data": {
      "text/plain": [
       "array([0.82236842, 0.75      , 0.86842105, 0.73076923, 0.85119048,\n",
       "       0.875     , 0.875     , 0.76190476, 0.7375    , 0.88888889,\n",
       "       0.82954545, 0.79117647, 0.72556391, 0.72916667, 0.85625   ,\n",
       "       0.83333333, 0.85      , 0.85714286, 0.80065359, 0.69281046,\n",
       "       0.63333333, 0.88486842, 0.70606061, 0.8       , 0.81875   ,\n",
       "       0.80833333, 0.88736264, 0.59722222, 0.69281046, 0.85947712,\n",
       "       0.69444444, 0.83235294, 0.77819549, 0.78125   , 0.69281046,\n",
       "       0.69602273, 0.78618421, 0.72619048, 0.56666667, 0.76785714,\n",
       "       0.75      , 0.75      , 0.83030303, 0.83030303, 0.88194444,\n",
       "       0.78021978, 0.90909091, 0.80392157, 0.7875    , 0.82330827,\n",
       "       0.8       , 0.64166667, 0.7875    , 0.74509804, 0.81875   ,\n",
       "       0.83238636, 0.75      , 0.70138889, 0.80357143, 0.75      ,\n",
       "       0.72058824, 0.69444444, 0.80952381, 0.84722222, 0.64285714,\n",
       "       0.68333333, 0.8       , 0.88194444, 0.72916667, 0.83030303,\n",
       "       0.78693182, 0.79117647, 0.6875    , 0.91176471, 0.76363636,\n",
       "       0.92329545, 0.69117647, 0.88461538, 0.77819549, 0.65625   ,\n",
       "       0.77777778, 0.78235294, 0.85620915, 0.72121212, 0.72916667,\n",
       "       0.80714286, 0.80113636, 0.79761905, 0.77272727, 0.7875    ,\n",
       "       0.77777778, 0.92105263, 0.78484848, 0.80625   , 0.76923077,\n",
       "       0.79605263, 0.86111111, 0.68627451, 0.81818182, 0.70238095])"
      ]
     },
     "execution_count": 20,
     "metadata": {},
     "output_type": "execute_result"
    }
   ],
   "source": [
    "# Score from each CV Iteration\n",
    "scores"
   ]
  },
  {
   "cell_type": "code",
   "execution_count": 21,
   "id": "92335208",
   "metadata": {},
   "outputs": [
    {
     "data": {
      "text/plain": [
       "0.7818376105748396"
      ]
     },
     "execution_count": 21,
     "metadata": {},
     "output_type": "execute_result"
    }
   ],
   "source": [
    "# Mean Metric Value\n",
    "np.mean(scores)"
   ]
  },
  {
   "cell_type": "markdown",
   "id": "a9248c66",
   "metadata": {},
   "source": [
    "# Feature reduction"
   ]
  },
  {
   "cell_type": "code",
   "execution_count": 22,
   "id": "65e27dc7",
   "metadata": {},
   "outputs": [],
   "source": [
    "train_mod_stats = train_mod.drop('Group', axis = 1)"
   ]
  },
  {
   "cell_type": "markdown",
   "id": "d5894365",
   "metadata": {},
   "source": [
    "#### Testing feature reduction using just statistics"
   ]
  },
  {
   "cell_type": "code",
   "execution_count": 23,
   "id": "cabaf37e",
   "metadata": {},
   "outputs": [],
   "source": [
    "df = train_mod.copy()\n",
    "peaks_list = []\n",
    "pval_list = []\n",
    "df2 = pd.melt(df, id_vars = [\"Group\"])\n",
    "mild = df.where(df.Group == \"MILD\").dropna()\n",
    "sev = df.where(df.Group == \"SEVERE\").dropna()\n",
    "for i in range(1,(len(df.columns)-1)):\n",
    "    s, p1 = stats.mannwhitneyu(mild.iloc[:,i], sev.iloc[:,i], alternative = 'two-sided')\n",
    "    if p1 <= 0.05:\n",
    "        pval_list.append(p1)\n",
    "        peaks_list.append(df.columns[i])\n",
    "peaks_list.append(\"Group\")"
   ]
  },
  {
   "cell_type": "code",
   "execution_count": 24,
   "id": "e21c173b",
   "metadata": {},
   "outputs": [],
   "source": [
    "df_filtered = df.drop(columns=[col for col in df if col not in peaks_list])\n",
    "df_test_filtered = test.drop(columns=[col for col in test if col not in peaks_list])"
   ]
  },
  {
   "cell_type": "code",
   "execution_count": 25,
   "id": "3b9b19e4",
   "metadata": {},
   "outputs": [
    {
     "data": {
      "text/plain": [
       "(64, 150)"
      ]
     },
     "execution_count": 25,
     "metadata": {},
     "output_type": "execute_result"
    }
   ],
   "source": [
    "df_test_filtered.shape"
   ]
  },
  {
   "cell_type": "markdown",
   "id": "8e848ed4",
   "metadata": {},
   "source": [
    "---"
   ]
  },
  {
   "cell_type": "code",
   "execution_count": 26,
   "id": "3dc6c626",
   "metadata": {
    "scrolled": false
   },
   "outputs": [
    {
     "data": {
      "text/plain": [
       "array([0.79605263, 0.88888889, 0.82330827, 0.76923077, 0.96428571,\n",
       "       0.88333333, 0.75986842, 0.80357143, 0.7375    , 0.88888889,\n",
       "       0.79829545, 0.82058824, 0.7518797 , 0.75694444, 0.86875   ,\n",
       "       0.88888889, 0.9       , 0.81547619, 0.82679739, 0.71568627,\n",
       "       0.70833333, 0.88486842, 0.71818182, 0.8       , 0.81875   ,\n",
       "       0.73333333, 0.88736264, 0.60416667, 0.71895425, 0.83006536,\n",
       "       0.80555556, 0.83235294, 0.80451128, 0.875     , 0.72222222,\n",
       "       0.78693182, 0.8125    , 0.79761905, 0.625     , 0.85119048,\n",
       "       0.75      , 0.8       , 0.73939394, 0.86363636, 0.88194444,\n",
       "       0.8543956 , 0.87784091, 0.83006536, 0.86875   , 0.82330827,\n",
       "       0.9       , 0.725     , 0.80625   , 0.71568627, 0.8875    ,\n",
       "       0.95454545, 0.8       , 0.70138889, 0.88095238, 0.7       ,\n",
       "       0.72058824, 0.75      , 0.80952381, 0.78472222, 0.68452381,\n",
       "       0.725     , 0.76666667, 0.81944444, 0.79166667, 0.84242424,\n",
       "       0.86363636, 0.79117647, 0.75625   , 0.94117647, 0.76363636,\n",
       "       0.96875   , 0.8       , 0.80769231, 0.70676692, 0.7375    ,\n",
       "       0.75      , 0.69411765, 0.85620915, 0.82121212, 0.84722222,\n",
       "       0.78214286, 0.83238636, 0.79761905, 0.87575758, 0.7875    ,\n",
       "       0.72222222, 0.97368421, 0.73939394, 0.775     , 0.80769231,\n",
       "       0.82236842, 0.97222222, 0.74509804, 0.81818182, 0.70833333])"
      ]
     },
     "execution_count": 26,
     "metadata": {},
     "output_type": "execute_result"
    }
   ],
   "source": [
    "# Get Features and Target\n",
    "X, y = df_filtered.drop(\"Group\", axis=1), df_filtered[\"Group\"]\n",
    "X_test, y_test = df_test_filtered.drop(\"Group\", axis=1), df_test_filtered[\"Group\"]\n",
    "# Cross validate model\n",
    "scores = cross_val_score(clf, X, y, scoring=metric_scorer, cv=rkf, n_jobs=-1)\n",
    "# Score from each CV Iteration\n",
    "scores"
   ]
  },
  {
   "cell_type": "code",
   "execution_count": 27,
   "id": "62399d1a",
   "metadata": {},
   "outputs": [
    {
     "data": {
      "text/plain": [
       "0.8039530045547848"
      ]
     },
     "execution_count": 27,
     "metadata": {},
     "output_type": "execute_result"
    }
   ],
   "source": [
    "# Mean Metric Value\n",
    "np.mean(scores)"
   ]
  },
  {
   "cell_type": "markdown",
   "id": "92ddd277",
   "metadata": {},
   "source": [
    "* A acurácia balanceada foi levemente melhor com a redução de features"
   ]
  },
  {
   "cell_type": "markdown",
   "id": "58c49d27",
   "metadata": {},
   "source": [
    "### 4) Testing hyperparameter optimization methods"
   ]
  },
  {
   "cell_type": "markdown",
   "id": "8c019825",
   "metadata": {},
   "source": [
    "##### 4.1) Hyper Parameter Optimization with Optuna"
   ]
  },
  {
   "cell_type": "code",
   "execution_count": 28,
   "id": "fac3358e",
   "metadata": {},
   "outputs": [],
   "source": [
    "# Define objectiva funtion to maximize metric\n",
    "def objective(trial):\n",
    "    \n",
    "    # Hyper Parameter Grid\n",
    "    param = {\n",
    "        \"objective\": \"binary\",\n",
    "        \"metric\": \"binary_logloss\",\n",
    "        \"verbosity\": 1,\n",
    "        \"boosting_type\": \"gbdt\",\n",
    "        \"lambda_l1\": trial.suggest_float(\"lambda_l1\", 1e-8, 10.0, log=True),\n",
    "        \"lambda_l2\": trial.suggest_float(\"lambda_l2\", 1e-8, 10.0, log=True),\n",
    "        \"num_leaves\": trial.suggest_int(\"num_leaves\", 2, 256),\n",
    "        \"feature_fraction\": trial.suggest_float(\"feature_fraction\", 0.4, 1.0),\n",
    "        \"bagging_fraction\": trial.suggest_float(\"bagging_fraction\", 0.4, 1.0),\n",
    "        \"bagging_freq\": trial.suggest_int(\"bagging_freq\", 1, 7),\n",
    "        \"min_child_samples\": trial.suggest_int(\"min_child_samples\", 5, 100),\n",
    "        \"n_estimators\": trial.suggest_int(\"max_depth\", 100, 1000)\n",
    "    }\n",
    "    # Create model with param trial\n",
    "    clf = lgb.LGBMClassifier(random_state=SEED, **param)\n",
    "    # Get CV Metric we want to maximize\n",
    "    balanced_accuracy = np.mean(cross_val_score(clf, X, y, scoring=metric_scorer, cv=rkf, n_jobs=-1))\n",
    "    \n",
    "    return balanced_accuracy"
   ]
  },
  {
   "cell_type": "code",
   "execution_count": 29,
   "id": "a1574fcb",
   "metadata": {},
   "outputs": [
    {
     "name": "stderr",
     "output_type": "stream",
     "text": [
      "\u001b[32m[I 2022-07-20 01:24:16,035]\u001b[0m A new study created in memory with name: no-name-6a9f756b-8650-4a0d-8f39-1d72d9f320b7\u001b[0m\n"
     ]
    }
   ],
   "source": [
    "study = optuna.create_study(direction=\"maximize\")"
   ]
  },
  {
   "cell_type": "code",
   "execution_count": 30,
   "id": "03e01408",
   "metadata": {
    "scrolled": true
   },
   "outputs": [
    {
     "name": "stderr",
     "output_type": "stream",
     "text": [
      "\u001b[32m[I 2022-07-20 01:24:26,699]\u001b[0m Trial 0 finished with value: 0.6379481800449293 and parameters: {'lambda_l1': 0.0036797231389138958, 'lambda_l2': 0.03130225977497874, 'num_leaves': 85, 'feature_fraction': 0.4075848431203048, 'bagging_fraction': 0.4678727546839163, 'bagging_freq': 6, 'min_child_samples': 32, 'max_depth': 451}. Best is trial 0 with value: 0.6379481800449293.\u001b[0m\n",
      "\u001b[32m[I 2022-07-20 01:24:31,179]\u001b[0m Trial 1 finished with value: 0.5 and parameters: {'lambda_l1': 1.3219952018376395, 'lambda_l2': 0.0018237518797247056, 'num_leaves': 173, 'feature_fraction': 0.6129700315629567, 'bagging_fraction': 0.49739035267514153, 'bagging_freq': 2, 'min_child_samples': 35, 'max_depth': 636}. Best is trial 0 with value: 0.6379481800449293.\u001b[0m\n",
      "\u001b[32m[I 2022-07-20 01:24:34,356]\u001b[0m Trial 2 finished with value: 0.5 and parameters: {'lambda_l1': 0.6352958932590762, 'lambda_l2': 0.017717918365909097, 'num_leaves': 44, 'feature_fraction': 0.8478246735788907, 'bagging_fraction': 0.766556076261897, 'bagging_freq': 2, 'min_child_samples': 60, 'max_depth': 911}. Best is trial 0 with value: 0.6379481800449293.\u001b[0m\n",
      "\u001b[32m[I 2022-07-20 01:24:37,104]\u001b[0m Trial 3 finished with value: 0.8544361882097951 and parameters: {'lambda_l1': 0.013998546903806974, 'lambda_l2': 1.0605707477314345e-08, 'num_leaves': 180, 'feature_fraction': 0.5148698273549563, 'bagging_fraction': 0.5617684190793758, 'bagging_freq': 5, 'min_child_samples': 26, 'max_depth': 222}. Best is trial 3 with value: 0.8544361882097951.\u001b[0m\n",
      "\u001b[32m[I 2022-07-20 01:24:43,871]\u001b[0m Trial 4 finished with value: 0.539967797445932 and parameters: {'lambda_l1': 0.0038498359494920794, 'lambda_l2': 3.555675531750214e-05, 'num_leaves': 247, 'feature_fraction': 0.7430994090986017, 'bagging_fraction': 0.7221868012377908, 'bagging_freq': 2, 'min_child_samples': 45, 'max_depth': 929}. Best is trial 3 with value: 0.8544361882097951.\u001b[0m\n",
      "\u001b[32m[I 2022-07-20 01:24:46,709]\u001b[0m Trial 5 finished with value: 0.5 and parameters: {'lambda_l1': 0.009951240603901979, 'lambda_l2': 0.0005368783388510092, 'num_leaves': 127, 'feature_fraction': 0.5199569279250789, 'bagging_fraction': 0.46425554765356003, 'bagging_freq': 4, 'min_child_samples': 37, 'max_depth': 438}. Best is trial 3 with value: 0.8544361882097951.\u001b[0m\n",
      "\u001b[32m[I 2022-07-20 01:24:48,799]\u001b[0m Trial 6 finished with value: 0.5 and parameters: {'lambda_l1': 0.008503159413902197, 'lambda_l2': 5.5654055070872876e-05, 'num_leaves': 186, 'feature_fraction': 0.695256994033637, 'bagging_fraction': 0.5388226909774181, 'bagging_freq': 3, 'min_child_samples': 72, 'max_depth': 587}. Best is trial 3 with value: 0.8544361882097951.\u001b[0m\n",
      "\u001b[32m[I 2022-07-20 01:24:51,938]\u001b[0m Trial 7 finished with value: 0.8531756997087879 and parameters: {'lambda_l1': 0.22060476993534445, 'lambda_l2': 0.09616430676221657, 'num_leaves': 83, 'feature_fraction': 0.6439592553881723, 'bagging_fraction': 0.6917666318260367, 'bagging_freq': 1, 'min_child_samples': 21, 'max_depth': 455}. Best is trial 3 with value: 0.8544361882097951.\u001b[0m\n",
      "\u001b[32m[I 2022-07-20 01:24:54,846]\u001b[0m Trial 8 finished with value: 0.8670453509983308 and parameters: {'lambda_l1': 0.003555630273632054, 'lambda_l2': 0.00023295456753657533, 'num_leaves': 206, 'feature_fraction': 0.9828470488449634, 'bagging_fraction': 0.5862871325335741, 'bagging_freq': 6, 'min_child_samples': 30, 'max_depth': 405}. Best is trial 8 with value: 0.8670453509983308.\u001b[0m\n",
      "\u001b[32m[I 2022-07-20 01:24:56,180]\u001b[0m Trial 9 finished with value: 0.5 and parameters: {'lambda_l1': 6.981925796298664e-05, 'lambda_l2': 3.899588817825998e-06, 'num_leaves': 112, 'feature_fraction': 0.41443652795223695, 'bagging_fraction': 0.9606669826071745, 'bagging_freq': 3, 'min_child_samples': 64, 'max_depth': 339}. Best is trial 8 with value: 0.8670453509983308.\u001b[0m\n",
      "\u001b[32m[I 2022-07-20 01:24:56,835]\u001b[0m Trial 10 finished with value: 0.5 and parameters: {'lambda_l1': 2.2908073426232695e-07, 'lambda_l2': 5.675120442890913, 'num_leaves': 247, 'feature_fraction': 0.9812317660579999, 'bagging_fraction': 0.8812394256442179, 'bagging_freq': 7, 'min_child_samples': 99, 'max_depth': 126}. Best is trial 8 with value: 0.8670453509983308.\u001b[0m\n",
      "\u001b[32m[I 2022-07-20 01:25:01,093]\u001b[0m Trial 11 finished with value: 0.8273826959289421 and parameters: {'lambda_l1': 1.2353336070471284e-05, 'lambda_l2': 1.1128256549921969e-08, 'num_leaves': 188, 'feature_fraction': 0.9493954052048917, 'bagging_fraction': 0.6057923999880565, 'bagging_freq': 6, 'min_child_samples': 6, 'max_depth': 191}. Best is trial 8 with value: 0.8670453509983308.\u001b[0m\n",
      "\u001b[32m[I 2022-07-20 01:25:04,339]\u001b[0m Trial 12 finished with value: 0.8536640830359871 and parameters: {'lambda_l1': 5.284652126206232e-06, 'lambda_l2': 2.5993789545641012e-08, 'num_leaves': 205, 'feature_fraction': 0.5468720551094808, 'bagging_fraction': 0.6272285820460858, 'bagging_freq': 5, 'min_child_samples': 11, 'max_depth': 264}. Best is trial 8 with value: 0.8670453509983308.\u001b[0m\n",
      "\u001b[32m[I 2022-07-20 01:25:08,181]\u001b[0m Trial 13 finished with value: 0.8778453713469194 and parameters: {'lambda_l1': 0.0003145577014176977, 'lambda_l2': 6.319813591743445e-07, 'num_leaves': 156, 'feature_fraction': 0.8288992922983072, 'bagging_fraction': 0.4107404085473369, 'bagging_freq': 5, 'min_child_samples': 23, 'max_depth': 671}. Best is trial 13 with value: 0.8778453713469194.\u001b[0m\n",
      "\u001b[32m[I 2022-07-20 01:25:13,263]\u001b[0m Trial 14 finished with value: 0.8684617508394598 and parameters: {'lambda_l1': 0.00021689347357719334, 'lambda_l2': 1.5429992059026037e-06, 'num_leaves': 214, 'feature_fraction': 0.8525571256834839, 'bagging_fraction': 0.40494082144917737, 'bagging_freq': 7, 'min_child_samples': 20, 'max_depth': 787}. Best is trial 13 with value: 0.8778453713469194.\u001b[0m\n",
      "\u001b[32m[I 2022-07-20 01:25:18,771]\u001b[0m Trial 15 finished with value: 0.861882436685262 and parameters: {'lambda_l1': 1.6295348207881327e-08, 'lambda_l2': 5.105577761821876e-07, 'num_leaves': 154, 'feature_fraction': 0.8387954972773319, 'bagging_fraction': 0.4072458598335977, 'bagging_freq': 7, 'min_child_samples': 16, 'max_depth': 752}. Best is trial 13 with value: 0.8778453713469194.\u001b[0m\n",
      "\u001b[32m[I 2022-07-20 01:25:24,223]\u001b[0m Trial 16 finished with value: 0.5 and parameters: {'lambda_l1': 0.00021196057830509584, 'lambda_l2': 5.716354654239645e-07, 'num_leaves': 6, 'feature_fraction': 0.839340466274143, 'bagging_fraction': 0.4087947132675981, 'bagging_freq': 5, 'min_child_samples': 48, 'max_depth': 768}. Best is trial 13 with value: 0.8778453713469194.\u001b[0m\n",
      "\u001b[32m[I 2022-07-20 01:25:31,253]\u001b[0m Trial 17 finished with value: 0.8507260863061947 and parameters: {'lambda_l1': 1.3738596685056366e-06, 'lambda_l2': 4.189370071527113e-07, 'num_leaves': 230, 'feature_fraction': 0.7767402460508087, 'bagging_fraction': 0.8176632482779869, 'bagging_freq': 7, 'min_child_samples': 17, 'max_depth': 736}. Best is trial 13 with value: 0.8778453713469194.\u001b[0m\n",
      "\u001b[32m[I 2022-07-20 01:25:34,712]\u001b[0m Trial 18 finished with value: 0.5 and parameters: {'lambda_l1': 9.614401076380225e-05, 'lambda_l2': 8.916088762269406e-06, 'num_leaves': 163, 'feature_fraction': 0.8907232463511935, 'bagging_fraction': 0.6669410438172467, 'bagging_freq': 4, 'min_child_samples': 88, 'max_depth': 849}. Best is trial 13 with value: 0.8778453713469194.\u001b[0m\n",
      "\u001b[32m[I 2022-07-20 01:25:39,145]\u001b[0m Trial 19 finished with value: 0.5 and parameters: {'lambda_l1': 0.09863103994663923, 'lambda_l2': 1.1725592355502121e-07, 'num_leaves': 145, 'feature_fraction': 0.7708919018818037, 'bagging_fraction': 0.516860479333976, 'bagging_freq': 6, 'min_child_samples': 39, 'max_depth': 640}. Best is trial 13 with value: 0.8778453713469194.\u001b[0m\n",
      "\u001b[32m[I 2022-07-20 01:25:41,121]\u001b[0m Trial 20 finished with value: 0.5 and parameters: {'lambda_l1': 7.5867652036058075, 'lambda_l2': 2.4645974651327776e-06, 'num_leaves': 219, 'feature_fraction': 0.9116879764619998, 'bagging_fraction': 0.4366137556797808, 'bagging_freq': 4, 'min_child_samples': 55, 'max_depth': 546}. Best is trial 13 with value: 0.8778453713469194.\u001b[0m\n",
      "\u001b[32m[I 2022-07-20 01:25:46,241]\u001b[0m Trial 21 finished with value: 0.8690662840985983 and parameters: {'lambda_l1': 0.000777689552637171, 'lambda_l2': 0.0001041306187781281, 'num_leaves': 206, 'feature_fraction': 0.9713376670503517, 'bagging_fraction': 0.6156901097707472, 'bagging_freq': 6, 'min_child_samples': 24, 'max_depth': 824}. Best is trial 13 with value: 0.8778453713469194.\u001b[0m\n"
     ]
    },
    {
     "name": "stderr",
     "output_type": "stream",
     "text": [
      "\u001b[32m[I 2022-07-20 01:25:55,466]\u001b[0m Trial 22 finished with value: 0.833168533779602 and parameters: {'lambda_l1': 0.0005839958830503054, 'lambda_l2': 1.4969594680326138e-05, 'num_leaves': 220, 'feature_fraction': 0.9020425357291861, 'bagging_fraction': 0.4997363374295409, 'bagging_freq': 7, 'min_child_samples': 5, 'max_depth': 847}. Best is trial 13 with value: 0.8778453713469194.\u001b[0m\n",
      "\u001b[32m[I 2022-07-20 01:26:00,933]\u001b[0m Trial 23 finished with value: 0.8803659137989632 and parameters: {'lambda_l1': 0.0004069926220181234, 'lambda_l2': 1.2381078904627222e-07, 'num_leaves': 134, 'feature_fraction': 0.8096173466023409, 'bagging_fraction': 0.4048882740474993, 'bagging_freq': 5, 'min_child_samples': 23, 'max_depth': 978}. Best is trial 23 with value: 0.8803659137989632.\u001b[0m\n",
      "\u001b[32m[I 2022-07-20 01:26:06,980]\u001b[0m Trial 24 finished with value: 0.8699650345569464 and parameters: {'lambda_l1': 1.9149381595709434e-05, 'lambda_l2': 1.0097625782643582e-07, 'num_leaves': 131, 'feature_fraction': 0.8074276639049041, 'bagging_fraction': 0.6402573160592705, 'bagging_freq': 5, 'min_child_samples': 25, 'max_depth': 971}. Best is trial 23 with value: 0.8803659137989632.\u001b[0m\n",
      "\u001b[32m[I 2022-07-20 01:26:16,229]\u001b[0m Trial 25 finished with value: 0.8466579740778657 and parameters: {'lambda_l1': 1.1184701642717685e-05, 'lambda_l2': 5.222739105951018e-08, 'num_leaves': 102, 'feature_fraction': 0.791328209481813, 'bagging_fraction': 0.8505704190747462, 'bagging_freq': 5, 'min_child_samples': 14, 'max_depth': 964}. Best is trial 23 with value: 0.8803659137989632.\u001b[0m\n",
      "\u001b[32m[I 2022-07-20 01:26:21,959]\u001b[0m Trial 26 finished with value: 0.8552740296124584 and parameters: {'lambda_l1': 4.731268951820408e-05, 'lambda_l2': 1.8058251040453425e-07, 'num_leaves': 136, 'feature_fraction': 0.7084940518178394, 'bagging_fraction': 0.9411041242256837, 'bagging_freq': 5, 'min_child_samples': 40, 'max_depth': 977}. Best is trial 23 with value: 0.8803659137989632.\u001b[0m\n",
      "\u001b[32m[I 2022-07-20 01:26:26,149]\u001b[0m Trial 27 finished with value: 0.8773062746077452 and parameters: {'lambda_l1': 3.3595643740963947e-07, 'lambda_l2': 8.931016485052564e-08, 'num_leaves': 120, 'feature_fraction': 0.811228201341041, 'bagging_fraction': 0.7518692079110694, 'bagging_freq': 3, 'min_child_samples': 29, 'max_depth': 686}. Best is trial 23 with value: 0.8803659137989632.\u001b[0m\n",
      "\u001b[32m[I 2022-07-20 01:26:30,669]\u001b[0m Trial 28 finished with value: 0.7453235890141849 and parameters: {'lambda_l1': 9.685832027809065e-08, 'lambda_l2': 1.1495247301260572e-06, 'num_leaves': 78, 'feature_fraction': 0.6931976241980251, 'bagging_fraction': 0.7608398670155339, 'bagging_freq': 3, 'min_child_samples': 45, 'max_depth': 684}. Best is trial 23 with value: 0.8803659137989632.\u001b[0m\n",
      "\u001b[32m[I 2022-07-20 01:26:34,299]\u001b[0m Trial 29 finished with value: 0.5 and parameters: {'lambda_l1': 7.473932888526101e-07, 'lambda_l2': 4.0009478952477946e-08, 'num_leaves': 58, 'feature_fraction': 0.7278592407277831, 'bagging_fraction': 0.45915728500203595, 'bagging_freq': 3, 'min_child_samples': 33, 'max_depth': 534}. Best is trial 23 with value: 0.8803659137989632.\u001b[0m\n",
      "\u001b[32m[I 2022-07-20 01:26:38,379]\u001b[0m Trial 30 finished with value: 0.8707857277526395 and parameters: {'lambda_l1': 1.5383438215735412e-06, 'lambda_l2': 7.706266302599425e-06, 'num_leaves': 110, 'feature_fraction': 0.6613211157742542, 'bagging_fraction': 0.7808543106478079, 'bagging_freq': 4, 'min_child_samples': 29, 'max_depth': 689}. Best is trial 23 with value: 0.8803659137989632.\u001b[0m\n",
      "\u001b[32m[I 2022-07-20 01:26:41,339]\u001b[0m Trial 31 finished with value: 0.8654592900005053 and parameters: {'lambda_l1': 1.8031266226618493e-08, 'lambda_l2': 5.57881299697189e-06, 'num_leaves': 103, 'feature_fraction': 0.6450504112986902, 'bagging_fraction': 0.7960953080883622, 'bagging_freq': 4, 'min_child_samples': 30, 'max_depth': 496}. Best is trial 23 with value: 0.8803659137989632.\u001b[0m\n",
      "\u001b[32m[I 2022-07-20 01:26:45,839]\u001b[0m Trial 32 finished with value: 0.8594525064503781 and parameters: {'lambda_l1': 2.3170784344781083e-06, 'lambda_l2': 5.045997684323303e-07, 'num_leaves': 116, 'feature_fraction': 0.66095212507986, 'bagging_fraction': 0.9087047429914448, 'bagging_freq': 4, 'min_child_samples': 30, 'max_depth': 692}. Best is trial 23 with value: 0.8803659137989632.\u001b[0m\n",
      "\u001b[32m[I 2022-07-20 01:26:51,564]\u001b[0m Trial 33 finished with value: 0.8471897095852203 and parameters: {'lambda_l1': 2.6763549728167324e-07, 'lambda_l2': 0.004078369502654659, 'num_leaves': 159, 'feature_fraction': 0.6054988348147838, 'bagging_fraction': 0.7171061716510375, 'bagging_freq': 4, 'min_child_samples': 10, 'max_depth': 626}. Best is trial 23 with value: 0.8803659137989632.\u001b[0m\n",
      "\u001b[32m[I 2022-07-20 01:26:56,299]\u001b[0m Trial 34 finished with value: 0.868363762076417 and parameters: {'lambda_l1': 6.440766105239361e-08, 'lambda_l2': 1.0232844155638083e-07, 'num_leaves': 68, 'feature_fraction': 0.8136478505866674, 'bagging_fraction': 0.7699285698665737, 'bagging_freq': 3, 'min_child_samples': 25, 'max_depth': 693}. Best is trial 23 with value: 0.8803659137989632.\u001b[0m\n",
      "\u001b[32m[I 2022-07-20 01:27:01,159]\u001b[0m Trial 35 finished with value: 0.8503717539984954 and parameters: {'lambda_l1': 0.05924976116883262, 'lambda_l2': 1.975500644841403e-05, 'num_leaves': 91, 'feature_fraction': 0.7545160287793825, 'bagging_fraction': 0.8424741059712412, 'bagging_freq': 2, 'min_child_samples': 42, 'max_depth': 893}. Best is trial 23 with value: 0.8803659137989632.\u001b[0m\n",
      "\u001b[32m[I 2022-07-20 01:27:04,589]\u001b[0m Trial 36 finished with value: 0.8618285460669363 and parameters: {'lambda_l1': 0.0012638913762612195, 'lambda_l2': 1.8463517986403009e-06, 'num_leaves': 121, 'feature_fraction': 0.8759063794943235, 'bagging_fraction': 0.746981329345087, 'bagging_freq': 5, 'min_child_samples': 35, 'max_depth': 594}. Best is trial 23 with value: 0.8803659137989632.\u001b[0m\n",
      "\u001b[32m[I 2022-07-20 01:27:09,029]\u001b[0m Trial 37 finished with value: 0.5 and parameters: {'lambda_l1': 3.5339762888713453e-06, 'lambda_l2': 2.4035161544980034e-08, 'num_leaves': 167, 'feature_fraction': 0.5971309266210704, 'bagging_fraction': 0.5674576233372626, 'bagging_freq': 1, 'min_child_samples': 53, 'max_depth': 905}. Best is trial 23 with value: 0.8803659137989632.\u001b[0m\n",
      "\u001b[32m[I 2022-07-20 01:27:14,699]\u001b[0m Trial 38 finished with value: 0.8581184122465082 and parameters: {'lambda_l1': 3.3552688631199926e-07, 'lambda_l2': 2.5378044278817814e-07, 'num_leaves': 144, 'feature_fraction': 0.9298522978576593, 'bagging_fraction': 0.6788658392410398, 'bagging_freq': 4, 'min_child_samples': 18, 'max_depth': 655}. Best is trial 23 with value: 0.8803659137989632.\u001b[0m\n",
      "\u001b[32m[I 2022-07-20 01:27:17,429]\u001b[0m Trial 39 finished with value: 0.5 and parameters: {'lambda_l1': 0.0018751024412612877, 'lambda_l2': 0.0006050993190395242, 'num_leaves': 41, 'feature_fraction': 0.7307631308017749, 'bagging_fraction': 0.4818792245025344, 'bagging_freq': 2, 'min_child_samples': 63, 'max_depth': 802}. Best is trial 23 with value: 0.8803659137989632.\u001b[0m\n",
      "\u001b[32m[I 2022-07-20 01:27:18,759]\u001b[0m Trial 40 finished with value: 0.5 and parameters: {'lambda_l1': 0.021435266538444964, 'lambda_l2': 5.764376542860943e-05, 'num_leaves': 177, 'feature_fraction': 0.8639294614845924, 'bagging_fraction': 0.44418776616009525, 'bagging_freq': 3, 'min_child_samples': 73, 'max_depth': 360}. Best is trial 23 with value: 0.8803659137989632.\u001b[0m\n",
      "\u001b[32m[I 2022-07-20 01:27:25,789]\u001b[0m Trial 41 finished with value: 0.8696961619821528 and parameters: {'lambda_l1': 3.012256935463721e-05, 'lambda_l2': 8.923607546792429e-08, 'num_leaves': 131, 'feature_fraction': 0.8063128982291389, 'bagging_fraction': 0.7372185670707095, 'bagging_freq': 5, 'min_child_samples': 24, 'max_depth': 994}. Best is trial 23 with value: 0.8803659137989632.\u001b[0m\n",
      "\u001b[32m[I 2022-07-20 01:27:31,259]\u001b[0m Trial 42 finished with value: 0.8736346116044258 and parameters: {'lambda_l1': 2.3016862330790895e-05, 'lambda_l2': 1.0845296773113941e-08, 'num_leaves': 104, 'feature_fraction': 0.8197663043084625, 'bagging_fraction': 0.6467225150709257, 'bagging_freq': 5, 'min_child_samples': 28, 'max_depth': 941}. Best is trial 23 with value: 0.8803659137989632.\u001b[0m\n",
      "\u001b[32m[I 2022-07-20 01:27:36,179]\u001b[0m Trial 43 finished with value: 0.8702893146585098 and parameters: {'lambda_l1': 0.00012769517705020017, 'lambda_l2': 2.2800069209530634e-08, 'num_leaves': 100, 'feature_fraction': 0.75863872567529, 'bagging_fraction': 0.7927214966253913, 'bagging_freq': 6, 'min_child_samples': 31, 'max_depth': 871}. Best is trial 23 with value: 0.8803659137989632.\u001b[0m\n"
     ]
    },
    {
     "name": "stderr",
     "output_type": "stream",
     "text": [
      "\u001b[32m[I 2022-07-20 01:27:40,729]\u001b[0m Trial 44 finished with value: 0.5 and parameters: {'lambda_l1': 6.839810222188678e-06, 'lambda_l2': 1.5397139310246655e-08, 'num_leaves': 117, 'feature_fraction': 0.827760009489995, 'bagging_fraction': 0.5275806845672749, 'bagging_freq': 5, 'min_child_samples': 36, 'max_depth': 725}. Best is trial 23 with value: 0.8803659137989632.\u001b[0m\n",
      "\u001b[32m[I 2022-07-20 01:27:44,219]\u001b[0m Trial 45 finished with value: 0.8726604268839177 and parameters: {'lambda_l1': 0.0003961590062894261, 'lambda_l2': 0.07178661481644083, 'num_leaves': 143, 'feature_fraction': 0.6696883658848364, 'bagging_fraction': 0.660115418046292, 'bagging_freq': 4, 'min_child_samples': 28, 'max_depth': 602}. Best is trial 23 with value: 0.8803659137989632.\u001b[0m\n",
      "\u001b[32m[I 2022-07-20 01:27:53,119]\u001b[0m Trial 46 finished with value: 0.8519747372725314 and parameters: {'lambda_l1': 0.0029153962498022438, 'lambda_l2': 0.25504967315059535, 'num_leaves': 148, 'feature_fraction': 0.6898768911253959, 'bagging_fraction': 0.7015417618536579, 'bagging_freq': 6, 'min_child_samples': 11, 'max_depth': 928}. Best is trial 23 with value: 0.8803659137989632.\u001b[0m\n",
      "\u001b[32m[I 2022-07-20 01:27:56,869]\u001b[0m Trial 47 finished with value: 0.8702733640843161 and parameters: {'lambda_l1': 0.0004556631744237403, 'lambda_l2': 0.04309337379326201, 'num_leaves': 191, 'feature_fraction': 0.5568739340744691, 'bagging_fraction': 0.5825095021952418, 'bagging_freq': 4, 'min_child_samples': 21, 'max_depth': 590}. Best is trial 23 with value: 0.8803659137989632.\u001b[0m\n",
      "\u001b[32m[I 2022-07-20 01:27:59,639]\u001b[0m Trial 48 finished with value: 0.5 and parameters: {'lambda_l1': 0.0066462540053341046, 'lambda_l2': 2.3108491144435432, 'num_leaves': 138, 'feature_fraction': 0.7872885543782183, 'bagging_fraction': 0.6630451539765906, 'bagging_freq': 5, 'min_child_samples': 47, 'max_depth': 405}. Best is trial 23 with value: 0.8803659137989632.\u001b[0m\n",
      "\u001b[32m[I 2022-07-20 01:28:03,619]\u001b[0m Trial 49 finished with value: 0.8722702018054187 and parameters: {'lambda_l1': 0.000246688442027059, 'lambda_l2': 0.007416837952201441, 'num_leaves': 123, 'feature_fraction': 0.8733078651327438, 'bagging_fraction': 0.6388495881787652, 'bagging_freq': 2, 'min_child_samples': 21, 'max_depth': 476}. Best is trial 23 with value: 0.8803659137989632.\u001b[0m\n"
     ]
    }
   ],
   "source": [
    "study.optimize(objective, n_trials=50)"
   ]
  },
  {
   "cell_type": "code",
   "execution_count": 31,
   "id": "055b7aae",
   "metadata": {},
   "outputs": [],
   "source": [
    "# Get best trial based on metric score\n",
    "trial = study.best_trial"
   ]
  },
  {
   "cell_type": "code",
   "execution_count": 32,
   "id": "96818657",
   "metadata": {},
   "outputs": [
    {
     "name": "stdout",
     "output_type": "stream",
     "text": [
      "    lambda_l1: 0.0004069926220181234\n",
      "    lambda_l2: 1.2381078904627222e-07\n",
      "    num_leaves: 134\n",
      "    feature_fraction: 0.8096173466023409\n",
      "    bagging_fraction: 0.4048882740474993\n",
      "    bagging_freq: 5\n",
      "    min_child_samples: 23\n",
      "    max_depth: 978\n"
     ]
    }
   ],
   "source": [
    "# Print params for best trial\n",
    "for key, value in trial.params.items():\n",
    "    print(\"    {}: {}\".format(key, value))"
   ]
  },
  {
   "cell_type": "code",
   "execution_count": 33,
   "id": "2f3afdcc",
   "metadata": {},
   "outputs": [
    {
     "data": {
      "text/plain": [
       "0.8803659137989632"
      ]
     },
     "execution_count": 33,
     "metadata": {},
     "output_type": "execute_result"
    }
   ],
   "source": [
    "# Best Score from HP Opt\n",
    "trial.values[0]"
   ]
  },
  {
   "cell_type": "markdown",
   "id": "5d878a6b",
   "metadata": {},
   "source": [
    "- Aumento de performance considerável em relação ao valor baseline para um LGBM"
   ]
  },
  {
   "cell_type": "markdown",
   "id": "a642b35f",
   "metadata": {},
   "source": [
    "##### 4.2) PCA Dimension Reduction + Hyper Parameter Optimization with Optuna"
   ]
  },
  {
   "cell_type": "code",
   "execution_count": 34,
   "id": "ea04ed14",
   "metadata": {},
   "outputs": [],
   "source": [
    "# Define objectiva funtion to maximize metric\n",
    "def objective(trial):\n",
    "    \n",
    "    # PCA Parameter Grid\n",
    "    pca_param = {\n",
    "        \"n_components\": trial.suggest_int(\"n_components\", 5, 100)\n",
    "    }\n",
    "    # Hyper Parameter Grid\n",
    "    param = {\n",
    "        \"objective\": \"binary\",\n",
    "        \"metric\": \"binary_logloss\",\n",
    "        \"verbosity\": 1,\n",
    "        \"boosting_type\": \"gbdt\",\n",
    "        \"lambda_l1\": trial.suggest_float(\"lambda_l1\", 1e-8, 10.0, log=True),\n",
    "        \"lambda_l2\": trial.suggest_float(\"lambda_l2\", 1e-8, 10.0, log=True),\n",
    "        \"num_leaves\": trial.suggest_int(\"num_leaves\", 2, 256),\n",
    "        \"feature_fraction\": trial.suggest_float(\"feature_fraction\", 0.4, 1.0),\n",
    "        \"bagging_fraction\": trial.suggest_float(\"bagging_fraction\", 0.4, 1.0),\n",
    "        \"bagging_freq\": trial.suggest_int(\"bagging_freq\", 1, 7),\n",
    "        \"min_child_samples\": trial.suggest_int(\"min_child_samples\", 5, 100),\n",
    "        \"n_estimators\": trial.suggest_int(\"max_depth\", 100, 1000)\n",
    "    }\n",
    "    # Create model pipeline with param trial\n",
    "    clf = Pipeline([(\"pca\", PCA(**pca_param)),\n",
    "                    (\"lgbm_clf\", lgb.LGBMClassifier(random_state=SEED, **param))])\n",
    "    # Get CV Metric we want to maximize\n",
    "    balanced_accuracy = np.mean(cross_val_score(clf, X, y, scoring=metric_scorer, cv=rkf, n_jobs=-1))\n",
    "    \n",
    "    return balanced_accuracy"
   ]
  },
  {
   "cell_type": "code",
   "execution_count": 35,
   "id": "9d8c7fab",
   "metadata": {},
   "outputs": [
    {
     "name": "stderr",
     "output_type": "stream",
     "text": [
      "\u001b[32m[I 2022-07-20 01:33:59,868]\u001b[0m A new study created in memory with name: no-name-ee89e02e-b9b8-4102-b694-cc23ad5425ff\u001b[0m\n"
     ]
    }
   ],
   "source": [
    "study = optuna.create_study(direction=\"maximize\")"
   ]
  },
  {
   "cell_type": "code",
   "execution_count": 36,
   "id": "f5b1c8f5",
   "metadata": {
    "scrolled": true
   },
   "outputs": [
    {
     "name": "stderr",
     "output_type": "stream",
     "text": [
      "\u001b[32m[I 2022-07-20 01:34:05,937]\u001b[0m Trial 0 finished with value: 0.6710293619564132 and parameters: {'n_components': 34, 'lambda_l1': 1.1703878880570091e-07, 'lambda_l2': 0.0003738574896336515, 'num_leaves': 85, 'feature_fraction': 0.7002410543685882, 'bagging_fraction': 0.6791814512427448, 'bagging_freq': 5, 'min_child_samples': 30, 'max_depth': 488}. Best is trial 0 with value: 0.6710293619564132.\u001b[0m\n",
      "\u001b[32m[I 2022-07-20 01:34:08,692]\u001b[0m Trial 1 finished with value: 0.5 and parameters: {'n_components': 16, 'lambda_l1': 4.141407679902364e-08, 'lambda_l2': 1.0348908257906732e-06, 'num_leaves': 78, 'feature_fraction': 0.4529568736237706, 'bagging_fraction': 0.5717148844475046, 'bagging_freq': 6, 'min_child_samples': 62, 'max_depth': 835}. Best is trial 0 with value: 0.6710293619564132.\u001b[0m\n",
      "\u001b[32m[I 2022-07-20 01:34:10,397]\u001b[0m Trial 2 finished with value: 0.5 and parameters: {'n_components': 79, 'lambda_l1': 0.6873214791738491, 'lambda_l2': 0.0015262190464139583, 'num_leaves': 6, 'feature_fraction': 0.52017629729427, 'bagging_fraction': 0.47607961540590293, 'bagging_freq': 3, 'min_child_samples': 94, 'max_depth': 487}. Best is trial 0 with value: 0.6710293619564132.\u001b[0m\n",
      "\u001b[32m[I 2022-07-20 01:34:11,977]\u001b[0m Trial 3 finished with value: 0.7003483373781362 and parameters: {'n_components': 41, 'lambda_l1': 1.101110785476573e-06, 'lambda_l2': 1.2175787417643327e-06, 'num_leaves': 229, 'feature_fraction': 0.4849531117319319, 'bagging_fraction': 0.4800395381898083, 'bagging_freq': 5, 'min_child_samples': 14, 'max_depth': 234}. Best is trial 3 with value: 0.7003483373781362.\u001b[0m\n",
      "\u001b[32m[I 2022-07-20 01:34:14,597]\u001b[0m Trial 4 finished with value: 0.5 and parameters: {'n_components': 6, 'lambda_l1': 0.00026102576937801373, 'lambda_l2': 0.14663788307640446, 'num_leaves': 252, 'feature_fraction': 0.7718847214326712, 'bagging_fraction': 0.6136093906377507, 'bagging_freq': 5, 'min_child_samples': 72, 'max_depth': 795}. Best is trial 3 with value: 0.7003483373781362.\u001b[0m\n",
      "\u001b[32m[I 2022-07-20 01:34:19,977]\u001b[0m Trial 5 finished with value: 0.7284628855406718 and parameters: {'n_components': 69, 'lambda_l1': 0.016141577646416994, 'lambda_l2': 0.008096133218963584, 'num_leaves': 247, 'feature_fraction': 0.5814426809736315, 'bagging_fraction': 0.7824411359997077, 'bagging_freq': 1, 'min_child_samples': 15, 'max_depth': 806}. Best is trial 5 with value: 0.7284628855406718.\u001b[0m\n",
      "\u001b[32m[I 2022-07-20 01:34:22,167]\u001b[0m Trial 6 finished with value: 0.5 and parameters: {'n_components': 70, 'lambda_l1': 6.644734711616946e-06, 'lambda_l2': 1.1175899852246888e-08, 'num_leaves': 167, 'feature_fraction': 0.46294078437749264, 'bagging_fraction': 0.4704091972891003, 'bagging_freq': 3, 'min_child_samples': 89, 'max_depth': 632}. Best is trial 5 with value: 0.7284628855406718.\u001b[0m\n",
      "\u001b[32m[I 2022-07-20 01:34:24,547]\u001b[0m Trial 7 finished with value: 0.5 and parameters: {'n_components': 67, 'lambda_l1': 6.509417706921739e-07, 'lambda_l2': 0.0006366535417622262, 'num_leaves': 76, 'feature_fraction': 0.8601379289446264, 'bagging_fraction': 0.7293636140691458, 'bagging_freq': 2, 'min_child_samples': 74, 'max_depth': 646}. Best is trial 5 with value: 0.7284628855406718.\u001b[0m\n",
      "\u001b[32m[I 2022-07-20 01:34:26,137]\u001b[0m Trial 8 finished with value: 0.5 and parameters: {'n_components': 52, 'lambda_l1': 0.25371723585741296, 'lambda_l2': 7.875925334562854e-07, 'num_leaves': 148, 'feature_fraction': 0.5580647386287821, 'bagging_fraction': 0.716968970400446, 'bagging_freq': 5, 'min_child_samples': 87, 'max_depth': 399}. Best is trial 5 with value: 0.7284628855406718.\u001b[0m\n",
      "\u001b[32m[I 2022-07-20 01:34:27,197]\u001b[0m Trial 9 finished with value: 0.5 and parameters: {'n_components': 13, 'lambda_l1': 0.0006919153955869002, 'lambda_l2': 0.04366002373443026, 'num_leaves': 44, 'feature_fraction': 0.6716626931766225, 'bagging_fraction': 0.5609451888025936, 'bagging_freq': 6, 'min_child_samples': 94, 'max_depth': 278}. Best is trial 5 with value: 0.7284628855406718.\u001b[0m\n",
      "\u001b[32m[I 2022-07-20 01:34:33,597]\u001b[0m Trial 10 finished with value: 0.7055077027590572 and parameters: {'n_components': 94, 'lambda_l1': 0.019899294900196055, 'lambda_l2': 5.521735554053115, 'num_leaves': 199, 'feature_fraction': 0.9942589369797232, 'bagging_fraction': 0.9251902107248497, 'bagging_freq': 1, 'min_child_samples': 33, 'max_depth': 919}. Best is trial 5 with value: 0.7284628855406718.\u001b[0m\n",
      "\u001b[32m[I 2022-07-20 01:34:39,387]\u001b[0m Trial 11 finished with value: 0.7046273847626402 and parameters: {'n_components': 97, 'lambda_l1': 0.012221144650166898, 'lambda_l2': 6.328081911495059, 'num_leaves': 201, 'feature_fraction': 0.9978837433117151, 'bagging_fraction': 0.9279837154971645, 'bagging_freq': 1, 'min_child_samples': 39, 'max_depth': 924}. Best is trial 5 with value: 0.7284628855406718.\u001b[0m\n",
      "\u001b[32m[I 2022-07-20 01:34:52,237]\u001b[0m Trial 12 finished with value: 0.7165506100581566 and parameters: {'n_components': 99, 'lambda_l1': 0.02032562717201056, 'lambda_l2': 2.2201343755053875, 'num_leaves': 196, 'feature_fraction': 0.992546142340278, 'bagging_fraction': 0.918016944047758, 'bagging_freq': 1, 'min_child_samples': 8, 'max_depth': 962}. Best is trial 5 with value: 0.7284628855406718.\u001b[0m\n",
      "\u001b[32m[I 2022-07-20 01:34:57,727]\u001b[0m Trial 13 finished with value: 0.671713428942918 and parameters: {'n_components': 82, 'lambda_l1': 4.043809669020754, 'lambda_l2': 0.06304482316461107, 'num_leaves': 255, 'feature_fraction': 0.6117697121103373, 'bagging_fraction': 0.8360278367998754, 'bagging_freq': 2, 'min_child_samples': 8, 'max_depth': 749}. Best is trial 5 with value: 0.7284628855406718.\u001b[0m\n",
      "\u001b[32m[I 2022-07-20 01:35:03,502]\u001b[0m Trial 14 finished with value: 0.7165973165766123 and parameters: {'n_components': 57, 'lambda_l1': 0.00040955895810050987, 'lambda_l2': 0.4582100543490987, 'num_leaves': 190, 'feature_fraction': 0.8774154227244177, 'bagging_fraction': 0.8479268551744955, 'bagging_freq': 1, 'min_child_samples': 20, 'max_depth': 995}. Best is trial 5 with value: 0.7284628855406718.\u001b[0m\n",
      "\u001b[32m[I 2022-07-20 01:35:09,112]\u001b[0m Trial 15 finished with value: 0.7225089078233428 and parameters: {'n_components': 57, 'lambda_l1': 9.50503218419008e-05, 'lambda_l2': 0.006504804175569556, 'num_leaves': 127, 'feature_fraction': 0.8293962574978131, 'bagging_fraction': 0.8204127836075955, 'bagging_freq': 3, 'min_child_samples': 20, 'max_depth': 980}. Best is trial 5 with value: 0.7284628855406718.\u001b[0m\n",
      "\u001b[32m[I 2022-07-20 01:35:13,582]\u001b[0m Trial 16 finished with value: 0.6747335859659777 and parameters: {'n_components': 40, 'lambda_l1': 2.1410706561842173e-05, 'lambda_l2': 0.005303109619158154, 'num_leaves': 117, 'feature_fraction': 0.7684541532914589, 'bagging_fraction': 0.8301324345017997, 'bagging_freq': 3, 'min_child_samples': 47, 'max_depth': 714}. Best is trial 5 with value: 0.7284628855406718.\u001b[0m\n",
      "\u001b[32m[I 2022-07-20 01:35:18,052]\u001b[0m Trial 17 finished with value: 0.7206171547965279 and parameters: {'n_components': 54, 'lambda_l1': 5.669654804633989e-05, 'lambda_l2': 3.696278520592317e-05, 'num_leaves': 119, 'feature_fraction': 0.8698826306593638, 'bagging_fraction': 0.7717248057364252, 'bagging_freq': 2, 'min_child_samples': 23, 'max_depth': 856}. Best is trial 5 with value: 0.7284628855406718.\u001b[0m\n",
      "\u001b[32m[I 2022-07-20 01:35:18,937]\u001b[0m Trial 18 finished with value: 0.6635361370440707 and parameters: {'n_components': 66, 'lambda_l1': 0.006334096863274605, 'lambda_l2': 2.2769272664745988e-05, 'num_leaves': 145, 'feature_fraction': 0.4081942333337032, 'bagging_fraction': 0.9897517694910443, 'bagging_freq': 4, 'min_child_samples': 49, 'max_depth': 104}. Best is trial 5 with value: 0.7284628855406718.\u001b[0m\n",
      "\u001b[32m[I 2022-07-20 01:35:22,187]\u001b[0m Trial 19 finished with value: 0.6889278021385219 and parameters: {'n_components': 28, 'lambda_l1': 0.00227813783817016, 'lambda_l2': 0.014651862268885136, 'num_leaves': 103, 'feature_fraction': 0.6091023238598395, 'bagging_fraction': 0.7957902062905169, 'bagging_freq': 4, 'min_child_samples': 23, 'max_depth': 661}. Best is trial 5 with value: 0.7284628855406718.\u001b[0m\n",
      "\u001b[32m[I 2022-07-20 01:35:27,887]\u001b[0m Trial 20 finished with value: 0.6547565170682431 and parameters: {'n_components': 84, 'lambda_l1': 0.15536707306174583, 'lambda_l2': 3.741144621061627e-05, 'num_leaves': 165, 'feature_fraction': 0.786721136041599, 'bagging_fraction': 0.6316942853295067, 'bagging_freq': 7, 'min_child_samples': 39, 'max_depth': 871}. Best is trial 5 with value: 0.7284628855406718.\u001b[0m\n"
     ]
    },
    {
     "name": "stderr",
     "output_type": "stream",
     "text": [
      "\u001b[32m[I 2022-07-20 01:35:32,367]\u001b[0m Trial 21 finished with value: 0.7209733279276623 and parameters: {'n_components': 53, 'lambda_l1': 2.602881494153041e-05, 'lambda_l2': 0.00012979084274164734, 'num_leaves': 125, 'feature_fraction': 0.895996440431286, 'bagging_fraction': 0.7788989636075041, 'bagging_freq': 2, 'min_child_samples': 22, 'max_depth': 840}. Best is trial 5 with value: 0.7284628855406718.\u001b[0m\n",
      "\u001b[32m[I 2022-07-20 01:35:39,887]\u001b[0m Trial 22 finished with value: 0.7259933873101444 and parameters: {'n_components': 49, 'lambda_l1': 3.481621207223147e-05, 'lambda_l2': 0.004008711223082693, 'num_leaves': 139, 'feature_fraction': 0.8914728076657998, 'bagging_fraction': 0.8772411455313759, 'bagging_freq': 2, 'min_child_samples': 5, 'max_depth': 999}. Best is trial 5 with value: 0.7284628855406718.\u001b[0m\n",
      "\u001b[32m[I 2022-07-20 01:35:46,777]\u001b[0m Trial 23 finished with value: 0.7244096381559616 and parameters: {'n_components': 47, 'lambda_l1': 3.6740213831478658e-06, 'lambda_l2': 0.0026304919258495455, 'num_leaves': 48, 'feature_fraction': 0.9360220936570774, 'bagging_fraction': 0.8904953524725435, 'bagging_freq': 3, 'min_child_samples': 5, 'max_depth': 980}. Best is trial 5 with value: 0.7284628855406718.\u001b[0m\n",
      "\u001b[32m[I 2022-07-20 01:35:52,707]\u001b[0m Trial 24 finished with value: 0.7297547971679162 and parameters: {'n_components': 45, 'lambda_l1': 1.9380726655289212e-06, 'lambda_l2': 0.0023044673863321843, 'num_leaves': 31, 'feature_fraction': 0.9283875699388793, 'bagging_fraction': 0.8793718921974572, 'bagging_freq': 2, 'min_child_samples': 5, 'max_depth': 905}. Best is trial 24 with value: 0.7297547971679162.\u001b[0m\n",
      "\u001b[32m[I 2022-07-20 01:35:57,027]\u001b[0m Trial 25 finished with value: 0.7116896109351606 and parameters: {'n_components': 23, 'lambda_l1': 3.0425632169435896e-07, 'lambda_l2': 0.43169256144572554, 'num_leaves': 16, 'feature_fraction': 0.9356295383379575, 'bagging_fraction': 0.9838835531593273, 'bagging_freq': 2, 'min_child_samples': 13, 'max_depth': 760}. Best is trial 24 with value: 0.7297547971679162.\u001b[0m\n",
      "\u001b[32m[I 2022-07-20 01:36:02,017]\u001b[0m Trial 26 finished with value: 0.7210264582338887 and parameters: {'n_components': 44, 'lambda_l1': 3.82509609853882e-06, 'lambda_l2': 0.017670650912719695, 'num_leaves': 43, 'feature_fraction': 0.6930213520454462, 'bagging_fraction': 0.8752435071740953, 'bagging_freq': 1, 'min_child_samples': 14, 'max_depth': 913}. Best is trial 24 with value: 0.7297547971679162.\u001b[0m\n",
      "\u001b[32m[I 2022-07-20 01:36:07,577]\u001b[0m Trial 27 finished with value: 0.730487440642433 and parameters: {'n_components': 62, 'lambda_l1': 2.584007103125913e-08, 'lambda_l2': 0.00014996984113569166, 'num_leaves': 219, 'feature_fraction': 0.9361720190550713, 'bagging_fraction': 0.7541651995968564, 'bagging_freq': 2, 'min_child_samples': 5, 'max_depth': 572}. Best is trial 27 with value: 0.730487440642433.\u001b[0m\n",
      "\u001b[32m[I 2022-07-20 01:36:10,857]\u001b[0m Trial 28 finished with value: 0.7211693713708033 and parameters: {'n_components': 74, 'lambda_l1': 5.051319975128508e-08, 'lambda_l2': 6.303087413445638e-06, 'num_leaves': 228, 'feature_fraction': 0.6391770349040097, 'bagging_fraction': 0.7529937116493535, 'bagging_freq': 4, 'min_child_samples': 29, 'max_depth': 574}. Best is trial 27 with value: 0.730487440642433.\u001b[0m\n",
      "\u001b[32m[I 2022-07-20 01:36:13,247]\u001b[0m Trial 29 finished with value: 0.6723100438218471 and parameters: {'n_components': 32, 'lambda_l1': 2.6502711199300073e-08, 'lambda_l2': 0.00025367588610073215, 'num_leaves': 224, 'feature_fraction': 0.7321139020261924, 'bagging_fraction': 0.6759154697910668, 'bagging_freq': 1, 'min_child_samples': 31, 'max_depth': 474}. Best is trial 27 with value: 0.730487440642433.\u001b[0m\n",
      "\u001b[32m[I 2022-07-20 01:36:17,617]\u001b[0m Trial 30 finished with value: 0.7310680371400186 and parameters: {'n_components': 62, 'lambda_l1': 7.687615692991593e-08, 'lambda_l2': 0.0010234717089605586, 'num_leaves': 237, 'feature_fraction': 0.9525862290519209, 'bagging_fraction': 0.6767730990709253, 'bagging_freq': 2, 'min_child_samples': 13, 'max_depth': 578}. Best is trial 30 with value: 0.7310680371400186.\u001b[0m\n",
      "\u001b[32m[I 2022-07-20 01:36:20,927]\u001b[0m Trial 31 finished with value: 0.7217799540285994 and parameters: {'n_components': 64, 'lambda_l1': 1.3394520257407715e-07, 'lambda_l2': 0.0009614392348559693, 'num_leaves': 243, 'feature_fraction': 0.9323902150634725, 'bagging_fraction': 0.6830495273256626, 'bagging_freq': 2, 'min_child_samples': 14, 'max_depth': 400}. Best is trial 30 with value: 0.7310680371400186.\u001b[0m\n",
      "\u001b[32m[I 2022-07-20 01:36:24,977]\u001b[0m Trial 32 finished with value: 0.7374663755147504 and parameters: {'n_components': 61, 'lambda_l1': 1.0149692881534192e-08, 'lambda_l2': 0.00010014868137010426, 'num_leaves': 220, 'feature_fraction': 0.8295912542700972, 'bagging_fraction': 0.6372687870191805, 'bagging_freq': 1, 'min_child_samples': 11, 'max_depth': 572}. Best is trial 32 with value: 0.7374663755147504.\u001b[0m\n",
      "\u001b[32m[I 2022-07-20 01:36:29,407]\u001b[0m Trial 33 finished with value: 0.7348275994945886 and parameters: {'n_components': 60, 'lambda_l1': 1.0726180576213524e-08, 'lambda_l2': 9.279014870042808e-05, 'num_leaves': 220, 'feature_fraction': 0.8237098469674566, 'bagging_fraction': 0.6456840537020017, 'bagging_freq': 2, 'min_child_samples': 9, 'max_depth': 563}. Best is trial 32 with value: 0.7374663755147504.\u001b[0m\n",
      "\u001b[32m[I 2022-07-20 01:36:31,287]\u001b[0m Trial 34 finished with value: 0.5 and parameters: {'n_components': 61, 'lambda_l1': 1.0994291088121505e-08, 'lambda_l2': 0.00012798245077546116, 'num_leaves': 212, 'feature_fraction': 0.8239434847385063, 'bagging_fraction': 0.5488134306809954, 'bagging_freq': 3, 'min_child_samples': 58, 'max_depth': 543}. Best is trial 32 with value: 0.7374663755147504.\u001b[0m\n",
      "\u001b[32m[I 2022-07-20 01:36:34,487]\u001b[0m Trial 35 finished with value: 0.7257938023019291 and parameters: {'n_components': 76, 'lambda_l1': 1.5158015035456985e-08, 'lambda_l2': 2.261404464325431e-06, 'num_leaves': 217, 'feature_fraction': 0.8238541602866001, 'bagging_fraction': 0.6316865749399486, 'bagging_freq': 2, 'min_child_samples': 27, 'max_depth': 559}. Best is trial 32 with value: 0.7374663755147504.\u001b[0m\n",
      "\u001b[32m[I 2022-07-20 01:36:38,577]\u001b[0m Trial 36 finished with value: 0.7316602763851214 and parameters: {'n_components': 89, 'lambda_l1': 1.0220714243994961e-07, 'lambda_l2': 9.275166232526368e-08, 'num_leaves': 178, 'feature_fraction': 0.9631729603418667, 'bagging_fraction': 0.5969630381957971, 'bagging_freq': 1, 'min_child_samples': 11, 'max_depth': 443}. Best is trial 32 with value: 0.7374663755147504.\u001b[0m\n",
      "\u001b[32m[I 2022-07-20 01:36:41,642]\u001b[0m Trial 37 finished with value: 0.5 and parameters: {'n_components': 90, 'lambda_l1': 1.1890144851497055e-07, 'lambda_l2': 1.12611836755121e-07, 'num_leaves': 178, 'feature_fraction': 0.7366010414674764, 'bagging_fraction': 0.5149761600825392, 'bagging_freq': 1, 'min_child_samples': 37, 'max_depth': 440}. Best is trial 32 with value: 0.7374663755147504.\u001b[0m\n",
      "\u001b[32m[I 2022-07-20 01:36:45,917]\u001b[0m Trial 38 finished with value: 0.736026673683214 and parameters: {'n_components': 85, 'lambda_l1': 4.831986562310922e-07, 'lambda_l2': 1.2468395988130614e-07, 'num_leaves': 236, 'feature_fraction': 0.9586748865966924, 'bagging_fraction': 0.4227564158036889, 'bagging_freq': 1, 'min_child_samples': 11, 'max_depth': 513}. Best is trial 32 with value: 0.7374663755147504.\u001b[0m\n",
      "\u001b[32m[I 2022-07-20 01:36:48,337]\u001b[0m Trial 39 finished with value: 0.7269735760670357 and parameters: {'n_components': 87, 'lambda_l1': 5.039304945116431e-07, 'lambda_l2': 1.0845030794801008e-07, 'num_leaves': 181, 'feature_fraction': 0.8011377522546209, 'bagging_fraction': 0.5877063201542502, 'bagging_freq': 1, 'min_child_samples': 19, 'max_depth': 360}. Best is trial 32 with value: 0.7374663755147504.\u001b[0m\n",
      "\u001b[32m[I 2022-07-20 01:36:50,167]\u001b[0m Trial 40 finished with value: 0.5 and parameters: {'n_components': 73, 'lambda_l1': 3.0545273258205487e-07, 'lambda_l2': 1.0516234350709856e-08, 'num_leaves': 167, 'feature_fraction': 0.9594341617115278, 'bagging_fraction': 0.4001033014410756, 'bagging_freq': 1, 'min_child_samples': 70, 'max_depth': 518}. Best is trial 32 with value: 0.7374663755147504.\u001b[0m\n",
      "\u001b[32m[I 2022-07-20 01:36:55,287]\u001b[0m Trial 41 finished with value: 0.7380741130429596 and parameters: {'n_components': 79, 'lambda_l1': 7.468752625693347e-08, 'lambda_l2': 1.145325041390275e-07, 'num_leaves': 240, 'feature_fraction': 0.9660268189822748, 'bagging_fraction': 0.6625848144633127, 'bagging_freq': 1, 'min_child_samples': 11, 'max_depth': 613}. Best is trial 41 with value: 0.7380741130429596.\u001b[0m\n"
     ]
    },
    {
     "name": "stderr",
     "output_type": "stream",
     "text": [
      "\u001b[32m[I 2022-07-20 01:37:00,557]\u001b[0m Trial 42 finished with value: 0.740715942940788 and parameters: {'n_components': 79, 'lambda_l1': 1.7639060983491126e-07, 'lambda_l2': 9.585251118449484e-08, 'num_leaves': 237, 'feature_fraction': 0.9009479553927022, 'bagging_fraction': 0.6507548668229022, 'bagging_freq': 1, 'min_child_samples': 11, 'max_depth': 639}. Best is trial 42 with value: 0.740715942940788.\u001b[0m\n",
      "\u001b[32m[I 2022-07-20 01:37:04,887]\u001b[0m Trial 43 finished with value: 0.7287151860437464 and parameters: {'n_components': 80, 'lambda_l1': 1.037568254840699e-08, 'lambda_l2': 5.326242975913729e-07, 'num_leaves': 237, 'feature_fraction': 0.8445262501889179, 'bagging_fraction': 0.6423448377356257, 'bagging_freq': 1, 'min_child_samples': 17, 'max_depth': 637}. Best is trial 42 with value: 0.740715942940788.\u001b[0m\n",
      "\u001b[32m[I 2022-07-20 01:37:10,317]\u001b[0m Trial 44 finished with value: 0.7302418943285817 and parameters: {'n_components': 70, 'lambda_l1': 1.283313290679408e-06, 'lambda_l2': 3.964026812264752e-08, 'num_leaves': 209, 'feature_fraction': 0.8930087340884995, 'bagging_fraction': 0.7119883581923491, 'bagging_freq': 1, 'min_child_samples': 10, 'max_depth': 685}. Best is trial 42 with value: 0.740715942940788.\u001b[0m\n",
      "\u001b[32m[I 2022-07-20 01:37:14,547]\u001b[0m Trial 45 finished with value: 0.7047259042557029 and parameters: {'n_components': 77, 'lambda_l1': 2.356328478948369e-07, 'lambda_l2': 3.258793704674401e-07, 'num_leaves': 252, 'feature_fraction': 0.9072328629677201, 'bagging_fraction': 0.4319743776405582, 'bagging_freq': 1, 'min_child_samples': 25, 'max_depth': 602}. Best is trial 42 with value: 0.740715942940788.\u001b[0m\n",
      "\u001b[32m[I 2022-07-20 01:37:17,907]\u001b[0m Trial 46 finished with value: 0.7275264426191285 and parameters: {'n_components': 85, 'lambda_l1': 4.090515988537901e-08, 'lambda_l2': 3.6051733503941506e-06, 'num_leaves': 231, 'feature_fraction': 0.9754373402422291, 'bagging_fraction': 0.5197196838348204, 'bagging_freq': 1, 'min_child_samples': 17, 'max_depth': 509}. Best is trial 42 with value: 0.740715942940788.\u001b[0m\n",
      "\u001b[32m[I 2022-07-20 01:37:23,797]\u001b[0m Trial 47 finished with value: 0.7251424568508545 and parameters: {'n_components': 92, 'lambda_l1': 9.814951343659879e-06, 'lambda_l2': 9.379428207954537e-06, 'num_leaves': 206, 'feature_fraction': 0.8571296411466279, 'bagging_fraction': 0.6553137976787474, 'bagging_freq': 1, 'min_child_samples': 10, 'max_depth': 704}. Best is trial 42 with value: 0.740715942940788.\u001b[0m\n",
      "\u001b[32m[I 2022-07-20 01:37:25,887]\u001b[0m Trial 48 finished with value: 0.5 and parameters: {'n_components': 80, 'lambda_l1': 5.87604028424895e-07, 'lambda_l2': 2.8623489476964337e-07, 'num_leaves': 256, 'feature_fraction': 0.9135045035661497, 'bagging_fraction': 0.6126039701054085, 'bagging_freq': 1, 'min_child_samples': 100, 'max_depth': 615}. Best is trial 42 with value: 0.740715942940788.\u001b[0m\n",
      "\u001b[32m[I 2022-07-20 01:37:29,587]\u001b[0m Trial 49 finished with value: 0.6902521902547056 and parameters: {'n_components': 95, 'lambda_l1': 2.8788032304701028e-08, 'lambda_l2': 5.047595885747782e-08, 'num_leaves': 242, 'feature_fraction': 0.750822217111147, 'bagging_fraction': 0.5626191488330076, 'bagging_freq': 3, 'min_child_samples': 33, 'max_depth': 479}. Best is trial 42 with value: 0.740715942940788.\u001b[0m\n"
     ]
    }
   ],
   "source": [
    "study.optimize(objective, n_trials=50)"
   ]
  },
  {
   "cell_type": "code",
   "execution_count": 37,
   "id": "2de6ae10",
   "metadata": {},
   "outputs": [],
   "source": [
    "# Get best trial based on metric score\n",
    "trial = study.best_trial"
   ]
  },
  {
   "cell_type": "code",
   "execution_count": 38,
   "id": "89bdb921",
   "metadata": {},
   "outputs": [
    {
     "name": "stdout",
     "output_type": "stream",
     "text": [
      "    n_components: 79\n",
      "    lambda_l1: 1.7639060983491126e-07\n",
      "    lambda_l2: 9.585251118449484e-08\n",
      "    num_leaves: 237\n",
      "    feature_fraction: 0.9009479553927022\n",
      "    bagging_fraction: 0.6507548668229022\n",
      "    bagging_freq: 1\n",
      "    min_child_samples: 11\n",
      "    max_depth: 639\n"
     ]
    }
   ],
   "source": [
    "# Print params for best trial\n",
    "for key, value in trial.params.items():\n",
    "    print(\"    {}: {}\".format(key, value))"
   ]
  },
  {
   "cell_type": "code",
   "execution_count": 39,
   "id": "1afe3420",
   "metadata": {},
   "outputs": [
    {
     "data": {
      "text/plain": [
       "0.740715942940788"
      ]
     },
     "execution_count": 39,
     "metadata": {},
     "output_type": "execute_result"
    }
   ],
   "source": [
    "# Best Score from HP Opt\n",
    "trial.values[0]"
   ]
  },
  {
   "cell_type": "markdown",
   "id": "152d13a2",
   "metadata": {},
   "source": [
    "- Utilizar redução de dimensionalidade via PCA piorou bastante a performance do modelo"
   ]
  },
  {
   "cell_type": "markdown",
   "id": "ad983cfc",
   "metadata": {},
   "source": [
    "##### 4.3) Features Scaler + Hyper Parameter Optimization with Optuna"
   ]
  },
  {
   "cell_type": "code",
   "execution_count": 40,
   "id": "417135dc",
   "metadata": {},
   "outputs": [],
   "source": [
    "# Define objectiva funtion to maximize metric\n",
    "def objective(trial):\n",
    "    \n",
    "    # List scalers to chose from\n",
    "    scalers = trial.suggest_categorical(\"scalers\", ['minmax', 'standard', 'robust'])\n",
    "    # Define scalers\n",
    "    if scalers == \"minmax\":\n",
    "        scaler = MinMaxScaler()\n",
    "    elif scalers == \"standard\":\n",
    "        scaler = StandardScaler()\n",
    "    else:\n",
    "        scaler = RobustScaler()\n",
    "    # LGBM Hyper Parameter Grid\n",
    "    param = {\n",
    "        \"objective\": \"binary\",\n",
    "        \"metric\": \"binary_logloss\",\n",
    "        \"verbosity\": -1,\n",
    "        \"boosting_type\": \"gbdt\",\n",
    "        \"lambda_l1\": trial.suggest_float(\"lambda_l1\", 1e-8, 10.0, log=True),\n",
    "        \"lambda_l2\": trial.suggest_float(\"lambda_l2\", 1e-8, 10.0, log=True),\n",
    "        \"num_leaves\": trial.suggest_int(\"num_leaves\", 2, 256),\n",
    "        \"feature_fraction\": trial.suggest_float(\"feature_fraction\", 0.4, 1.0),\n",
    "        \"bagging_fraction\": trial.suggest_float(\"bagging_fraction\", 0.4, 1.0),\n",
    "        \"bagging_freq\": trial.suggest_int(\"bagging_freq\", 1, 7),\n",
    "        \"min_child_samples\": trial.suggest_int(\"min_child_samples\", 5, 100),\n",
    "        \"n_estimators\": trial.suggest_int(\"max_depth\", 100, 1000)\n",
    "    }\n",
    "    # Create model pipeline with param trial\n",
    "    clf = Pipeline([(\"scaler\", scaler),\n",
    "                    (\"lgbm_clf\", lgb.LGBMClassifier(random_state=SEED, **param))])\n",
    "    # Get CV Metric we want to maximize\n",
    "    balanced_accuracy = np.mean(cross_val_score(clf, X, y, scoring=metric_scorer, cv=rkf, n_jobs=-1))\n",
    "    \n",
    "    return balanced_accuracy"
   ]
  },
  {
   "cell_type": "code",
   "execution_count": 41,
   "id": "f50ae95b",
   "metadata": {},
   "outputs": [
    {
     "name": "stderr",
     "output_type": "stream",
     "text": [
      "\u001b[32m[I 2022-07-20 01:42:46,958]\u001b[0m A new study created in memory with name: no-name-528ff941-c942-46d3-9080-ac9856f96a8d\u001b[0m\n"
     ]
    }
   ],
   "source": [
    "study = optuna.create_study(direction=\"maximize\")"
   ]
  },
  {
   "cell_type": "code",
   "execution_count": 42,
   "id": "0359a477",
   "metadata": {
    "scrolled": true
   },
   "outputs": [
    {
     "name": "stderr",
     "output_type": "stream",
     "text": [
      "\u001b[32m[I 2022-07-20 01:42:57,068]\u001b[0m Trial 0 finished with value: 0.5 and parameters: {'scalers': 'minmax', 'lambda_l1': 3.45681505416755e-05, 'lambda_l2': 3.218966402128704e-05, 'num_leaves': 215, 'feature_fraction': 0.4119373723351026, 'bagging_fraction': 0.4607883457044517, 'bagging_freq': 1, 'min_child_samples': 91, 'max_depth': 463}. Best is trial 0 with value: 0.5.\u001b[0m\n",
      "\u001b[32m[I 2022-07-20 01:42:57,798]\u001b[0m Trial 1 finished with value: 0.5 and parameters: {'scalers': 'minmax', 'lambda_l1': 0.018976124051664482, 'lambda_l2': 2.8783344821884703e-06, 'num_leaves': 52, 'feature_fraction': 0.6076858982286901, 'bagging_fraction': 0.742502018021475, 'bagging_freq': 7, 'min_child_samples': 54, 'max_depth': 716}. Best is trial 0 with value: 0.5.\u001b[0m\n",
      "\u001b[32m[I 2022-07-20 01:42:59,893]\u001b[0m Trial 2 finished with value: 0.8700598120274978 and parameters: {'scalers': 'robust', 'lambda_l1': 0.0060545350885004585, 'lambda_l2': 0.008817562814843425, 'num_leaves': 43, 'feature_fraction': 0.7806109537976903, 'bagging_fraction': 0.581243051405927, 'bagging_freq': 1, 'min_child_samples': 29, 'max_depth': 510}. Best is trial 2 with value: 0.8700598120274978.\u001b[0m\n",
      "\u001b[32m[I 2022-07-20 01:43:01,059]\u001b[0m Trial 3 finished with value: 0.5 and parameters: {'scalers': 'standard', 'lambda_l1': 0.0016244696802870117, 'lambda_l2': 0.002119420039510707, 'num_leaves': 236, 'feature_fraction': 0.8275046736614127, 'bagging_fraction': 0.48497154475514165, 'bagging_freq': 1, 'min_child_samples': 39, 'max_depth': 934}. Best is trial 2 with value: 0.8700598120274978.\u001b[0m\n",
      "\u001b[32m[I 2022-07-20 01:43:01,633]\u001b[0m Trial 4 finished with value: 0.5 and parameters: {'scalers': 'standard', 'lambda_l1': 9.952873347867698e-07, 'lambda_l2': 3.5685558379712963e-07, 'num_leaves': 110, 'feature_fraction': 0.7901902326280914, 'bagging_fraction': 0.433791765281655, 'bagging_freq': 2, 'min_child_samples': 74, 'max_depth': 545}. Best is trial 2 with value: 0.8700598120274978.\u001b[0m\n",
      "\u001b[32m[I 2022-07-20 01:43:02,232]\u001b[0m Trial 5 finished with value: 0.5 and parameters: {'scalers': 'minmax', 'lambda_l1': 0.0019082522757629683, 'lambda_l2': 0.0007158301899058553, 'num_leaves': 227, 'feature_fraction': 0.6041614597094417, 'bagging_fraction': 0.916023343560422, 'bagging_freq': 5, 'min_child_samples': 64, 'max_depth': 807}. Best is trial 2 with value: 0.8700598120274978.\u001b[0m\n",
      "\u001b[32m[I 2022-07-20 01:43:02,728]\u001b[0m Trial 6 finished with value: 0.5 and parameters: {'scalers': 'minmax', 'lambda_l1': 6.650991315791287e-05, 'lambda_l2': 0.25830216978202125, 'num_leaves': 19, 'feature_fraction': 0.9008640406591668, 'bagging_fraction': 0.7746636140675525, 'bagging_freq': 2, 'min_child_samples': 72, 'max_depth': 398}. Best is trial 2 with value: 0.8700598120274978.\u001b[0m\n",
      "\u001b[32m[I 2022-07-20 01:43:07,888]\u001b[0m Trial 7 finished with value: 0.8495743339477859 and parameters: {'scalers': 'standard', 'lambda_l1': 0.03220519521532153, 'lambda_l2': 4.4685692790526215, 'num_leaves': 106, 'feature_fraction': 0.6644865752901208, 'bagging_fraction': 0.6069279400109153, 'bagging_freq': 3, 'min_child_samples': 12, 'max_depth': 905}. Best is trial 2 with value: 0.8700598120274978.\u001b[0m\n",
      "\u001b[32m[I 2022-07-20 01:43:08,358]\u001b[0m Trial 8 finished with value: 0.5 and parameters: {'scalers': 'standard', 'lambda_l1': 3.4433305341702515e-07, 'lambda_l2': 9.965130582674631e-08, 'num_leaves': 169, 'feature_fraction': 0.9452033870757945, 'bagging_fraction': 0.8128943114226361, 'bagging_freq': 3, 'min_child_samples': 83, 'max_depth': 149}. Best is trial 2 with value: 0.8700598120274978.\u001b[0m\n",
      "\u001b[32m[I 2022-07-20 01:43:09,041]\u001b[0m Trial 9 finished with value: 0.5 and parameters: {'scalers': 'standard', 'lambda_l1': 0.011277550102123522, 'lambda_l2': 4.252603358492084e-05, 'num_leaves': 92, 'feature_fraction': 0.5745324383054211, 'bagging_fraction': 0.6034223074094107, 'bagging_freq': 1, 'min_child_samples': 46, 'max_depth': 211}. Best is trial 2 with value: 0.8700598120274978.\u001b[0m\n",
      "\u001b[32m[I 2022-07-20 01:43:11,128]\u001b[0m Trial 10 finished with value: 0.7492145678324083 and parameters: {'scalers': 'robust', 'lambda_l1': 9.31734002020012, 'lambda_l2': 0.03753838440187495, 'num_leaves': 3, 'feature_fraction': 0.7822406547347042, 'bagging_fraction': 0.5951239255536811, 'bagging_freq': 5, 'min_child_samples': 20, 'max_depth': 669}. Best is trial 2 with value: 0.8700598120274978.\u001b[0m\n",
      "\u001b[32m[I 2022-07-20 01:43:14,618]\u001b[0m Trial 11 finished with value: 0.8125672675063156 and parameters: {'scalers': 'robust', 'lambda_l1': 0.5524078522871037, 'lambda_l2': 6.562214576965511, 'num_leaves': 71, 'feature_fraction': 0.6818743271738389, 'bagging_fraction': 0.6305634954385606, 'bagging_freq': 4, 'min_child_samples': 5, 'max_depth': 346}. Best is trial 2 with value: 0.8700598120274978.\u001b[0m\n",
      "\u001b[32m[I 2022-07-20 01:43:18,060]\u001b[0m Trial 12 finished with value: 0.8563079099048526 and parameters: {'scalers': 'robust', 'lambda_l1': 0.39910584358279694, 'lambda_l2': 5.217228680868407, 'num_leaves': 152, 'feature_fraction': 0.7077583893160163, 'bagging_fraction': 0.5561893568212936, 'bagging_freq': 3, 'min_child_samples': 25, 'max_depth': 996}. Best is trial 2 with value: 0.8700598120274978.\u001b[0m\n",
      "\u001b[32m[I 2022-07-20 01:43:20,028]\u001b[0m Trial 13 finished with value: 0.8607089998065232 and parameters: {'scalers': 'robust', 'lambda_l1': 0.6776566646232474, 'lambda_l2': 0.03502144211793723, 'num_leaves': 161, 'feature_fraction': 0.4895257913189607, 'bagging_fraction': 0.5454968206423593, 'bagging_freq': 3, 'min_child_samples': 30, 'max_depth': 649}. Best is trial 2 with value: 0.8700598120274978.\u001b[0m\n",
      "\u001b[32m[I 2022-07-20 01:43:22,029]\u001b[0m Trial 14 finished with value: 0.7352134785364274 and parameters: {'scalers': 'robust', 'lambda_l1': 8.895370157219146, 'lambda_l2': 0.01286227506267626, 'num_leaves': 181, 'feature_fraction': 0.44947751451245893, 'bagging_fraction': 0.6740105954647866, 'bagging_freq': 7, 'min_child_samples': 32, 'max_depth': 645}. Best is trial 2 with value: 0.8700598120274978.\u001b[0m\n",
      "\u001b[32m[I 2022-07-20 01:43:23,276]\u001b[0m Trial 15 finished with value: 0.7393713548448456 and parameters: {'scalers': 'robust', 'lambda_l1': 0.3287062411213428, 'lambda_l2': 0.14571361256735446, 'num_leaves': 139, 'feature_fraction': 0.5047111810923975, 'bagging_fraction': 0.5238870413296117, 'bagging_freq': 2, 'min_child_samples': 33, 'max_depth': 546}. Best is trial 2 with value: 0.8700598120274978.\u001b[0m\n",
      "\u001b[32m[I 2022-07-20 01:43:24,700]\u001b[0m Trial 16 finished with value: 0.8657300325233761 and parameters: {'scalers': 'robust', 'lambda_l1': 6.849371676294744e-06, 'lambda_l2': 0.004929343713186655, 'num_leaves': 42, 'feature_fraction': 0.5212911864415228, 'bagging_fraction': 0.40337581390982524, 'bagging_freq': 4, 'min_child_samples': 21, 'max_depth': 302}. Best is trial 2 with value: 0.8700598120274978.\u001b[0m\n",
      "\u001b[32m[I 2022-07-20 01:43:26,421]\u001b[0m Trial 17 finished with value: 0.8520168699549506 and parameters: {'scalers': 'robust', 'lambda_l1': 1.105425096983835e-08, 'lambda_l2': 0.0001209265347452719, 'num_leaves': 48, 'feature_fraction': 0.8468966267163113, 'bagging_fraction': 0.41822546121471355, 'bagging_freq': 6, 'min_child_samples': 17, 'max_depth': 291}. Best is trial 2 with value: 0.8700598120274978.\u001b[0m\n",
      "\u001b[32m[I 2022-07-20 01:43:27,965]\u001b[0m Trial 18 finished with value: 0.826885631074292 and parameters: {'scalers': 'robust', 'lambda_l1': 5.5372058768621676e-06, 'lambda_l2': 0.0031052026460162904, 'num_leaves': 25, 'feature_fraction': 0.9999530244635082, 'bagging_fraction': 0.9775128924824193, 'bagging_freq': 5, 'min_child_samples': 47, 'max_depth': 261}. Best is trial 2 with value: 0.8700598120274978.\u001b[0m\n",
      "\u001b[32m[I 2022-07-20 01:43:30,668]\u001b[0m Trial 19 finished with value: 0.8593691035057134 and parameters: {'scalers': 'robust', 'lambda_l1': 0.00012425694482076692, 'lambda_l2': 2.2935448758778624e-06, 'num_leaves': 77, 'feature_fraction': 0.7329171257963983, 'bagging_fraction': 0.4095076593160176, 'bagging_freq': 4, 'min_child_samples': 11, 'max_depth': 451}. Best is trial 2 with value: 0.8700598120274978.\u001b[0m\n",
      "\u001b[32m[I 2022-07-20 01:43:31,593]\u001b[0m Trial 20 finished with value: 0.5 and parameters: {'scalers': 'robust', 'lambda_l1': 4.27610148505197e-08, 'lambda_l2': 0.00036018160423361665, 'num_leaves': 47, 'feature_fraction': 0.5489283472604171, 'bagging_fraction': 0.6966623846685791, 'bagging_freq': 6, 'min_child_samples': 58, 'max_depth': 162}. Best is trial 2 with value: 0.8700598120274978.\u001b[0m\n"
     ]
    },
    {
     "name": "stderr",
     "output_type": "stream",
     "text": [
      "\u001b[32m[I 2022-07-20 01:43:33,862]\u001b[0m Trial 21 finished with value: 0.8762238208128301 and parameters: {'scalers': 'robust', 'lambda_l1': 0.0007062565918408385, 'lambda_l2': 0.3852653100901529, 'num_leaves': 182, 'feature_fraction': 0.48416158100934265, 'bagging_fraction': 0.5281351270789288, 'bagging_freq': 4, 'min_child_samples': 27, 'max_depth': 619}. Best is trial 21 with value: 0.8762238208128301.\u001b[0m\n",
      "\u001b[32m[I 2022-07-20 01:43:35,280]\u001b[0m Trial 22 finished with value: 0.5 and parameters: {'scalers': 'robust', 'lambda_l1': 0.0007361998895672578, 'lambda_l2': 0.3369493478494736, 'num_leaves': 201, 'feature_fraction': 0.40205054120459544, 'bagging_fraction': 0.4926313063386533, 'bagging_freq': 4, 'min_child_samples': 41, 'max_depth': 471}. Best is trial 21 with value: 0.8762238208128301.\u001b[0m\n",
      "\u001b[32m[I 2022-07-20 01:43:37,968]\u001b[0m Trial 23 finished with value: 0.8693071101585034 and parameters: {'scalers': 'robust', 'lambda_l1': 1.2547641294596921e-05, 'lambda_l2': 1.0129667774132727, 'num_leaves': 126, 'feature_fraction': 0.5381913338407237, 'bagging_fraction': 0.5113247168236781, 'bagging_freq': 6, 'min_child_samples': 23, 'max_depth': 764}. Best is trial 21 with value: 0.8762238208128301.\u001b[0m\n",
      "\u001b[32m[I 2022-07-20 01:43:41,067]\u001b[0m Trial 24 finished with value: 0.8688930712820031 and parameters: {'scalers': 'robust', 'lambda_l1': 0.00034523721972278844, 'lambda_l2': 0.7420130699535179, 'num_leaves': 190, 'feature_fraction': 0.6295451159747231, 'bagging_fraction': 0.6469754713637133, 'bagging_freq': 6, 'min_child_samples': 25, 'max_depth': 778}. Best is trial 21 with value: 0.8762238208128301.\u001b[0m\n",
      "\u001b[32m[I 2022-07-20 01:43:46,084]\u001b[0m Trial 25 finished with value: 0.8371422503150445 and parameters: {'scalers': 'robust', 'lambda_l1': 0.003951433624504966, 'lambda_l2': 0.7833964886370867, 'num_leaves': 256, 'feature_fraction': 0.46304424639823266, 'bagging_fraction': 0.5496747027949177, 'bagging_freq': 5, 'min_child_samples': 5, 'max_depth': 582}. Best is trial 21 with value: 0.8762238208128301.\u001b[0m\n",
      "\u001b[32m[I 2022-07-20 01:43:47,408]\u001b[0m Trial 26 finished with value: 0.6800499109163968 and parameters: {'scalers': 'robust', 'lambda_l1': 1.4156133801537722e-05, 'lambda_l2': 0.06407971281431447, 'num_leaves': 131, 'feature_fraction': 0.5548974721646772, 'bagging_fraction': 0.5089616423381194, 'bagging_freq': 7, 'min_child_samples': 34, 'max_depth': 737}. Best is trial 21 with value: 0.8762238208128301.\u001b[0m\n",
      "\u001b[32m[I 2022-07-20 01:43:48,789]\u001b[0m Trial 27 finished with value: 0.5 and parameters: {'scalers': 'robust', 'lambda_l1': 5.689712700928092e-07, 'lambda_l2': 1.7048464593304495, 'num_leaves': 115, 'feature_fraction': 0.6506407111016327, 'bagging_fraction': 0.5695183473173765, 'bagging_freq': 6, 'min_child_samples': 40, 'max_depth': 826}. Best is trial 21 with value: 0.8762238208128301.\u001b[0m\n",
      "\u001b[32m[I 2022-07-20 01:43:51,508]\u001b[0m Trial 28 finished with value: 0.8735204636909359 and parameters: {'scalers': 'minmax', 'lambda_l1': 0.00023415683343248152, 'lambda_l2': 0.01299079698303205, 'num_leaves': 147, 'feature_fraction': 0.7374063241970099, 'bagging_fraction': 0.4770153866395075, 'bagging_freq': 2, 'min_child_samples': 15, 'max_depth': 593}. Best is trial 21 with value: 0.8762238208128301.\u001b[0m\n",
      "\u001b[32m[I 2022-07-20 01:43:53,742]\u001b[0m Trial 29 finished with value: 0.8683722034759188 and parameters: {'scalers': 'minmax', 'lambda_l1': 0.10940401133779323, 'lambda_l2': 0.013782210049569478, 'num_leaves': 205, 'feature_fraction': 0.7466033096176338, 'bagging_fraction': 0.45014827342951946, 'bagging_freq': 1, 'min_child_samples': 12, 'max_depth': 482}. Best is trial 21 with value: 0.8762238208128301.\u001b[0m\n",
      "\u001b[32m[I 2022-07-20 01:43:56,050]\u001b[0m Trial 30 finished with value: 0.8665198956315443 and parameters: {'scalers': 'minmax', 'lambda_l1': 0.00019094914540296158, 'lambda_l2': 0.001399543068037745, 'num_leaves': 150, 'feature_fraction': 0.8718090452275977, 'bagging_fraction': 0.4571314154609816, 'bagging_freq': 2, 'min_child_samples': 16, 'max_depth': 596}. Best is trial 21 with value: 0.8762238208128301.\u001b[0m\n",
      "\u001b[32m[I 2022-07-20 01:43:57,288]\u001b[0m Trial 31 finished with value: 0.8630386464670521 and parameters: {'scalers': 'minmax', 'lambda_l1': 2.138405426252576e-05, 'lambda_l2': 0.10642392179280126, 'num_leaves': 174, 'feature_fraction': 0.7783553815944788, 'bagging_fraction': 0.48123410703642483, 'bagging_freq': 1, 'min_child_samples': 26, 'max_depth': 502}. Best is trial 21 with value: 0.8762238208128301.\u001b[0m\n",
      "\u001b[32m[I 2022-07-20 01:43:57,884]\u001b[0m Trial 32 finished with value: 0.5 and parameters: {'scalers': 'minmax', 'lambda_l1': 0.006963043354786916, 'lambda_l2': 0.017709852425501077, 'num_leaves': 138, 'feature_fraction': 0.4392535448292863, 'bagging_fraction': 0.5213570744577479, 'bagging_freq': 2, 'min_child_samples': 92, 'max_depth': 692}. Best is trial 21 with value: 0.8762238208128301.\u001b[0m\n",
      "\u001b[32m[I 2022-07-20 01:43:59,865]\u001b[0m Trial 33 finished with value: 0.8621622922785849 and parameters: {'scalers': 'minmax', 'lambda_l1': 0.0011662527289211572, 'lambda_l2': 1.2009493345259752, 'num_leaves': 70, 'feature_fraction': 0.7133763691859, 'bagging_fraction': 0.5797027812348897, 'bagging_freq': 1, 'min_child_samples': 27, 'max_depth': 747}. Best is trial 21 with value: 0.8762238208128301.\u001b[0m\n",
      "\u001b[32m[I 2022-07-20 01:44:00,778]\u001b[0m Trial 34 finished with value: 0.5 and parameters: {'scalers': 'minmax', 'lambda_l1': 2.2746236788942435e-06, 'lambda_l2': 0.3016789060570161, 'num_leaves': 190, 'feature_fraction': 0.6190458136305215, 'bagging_fraction': 0.47131136352198566, 'bagging_freq': 3, 'min_child_samples': 38, 'max_depth': 614}. Best is trial 21 with value: 0.8762238208128301.\u001b[0m\n",
      "\u001b[32m[I 2022-07-20 01:44:01,760]\u001b[0m Trial 35 finished with value: 0.5 and parameters: {'scalers': 'standard', 'lambda_l1': 6.038960515544055e-05, 'lambda_l2': 0.0053866983048061964, 'num_leaves': 122, 'feature_fraction': 0.5878090648816581, 'bagging_fraction': 0.7381809587644128, 'bagging_freq': 1, 'min_child_samples': 50, 'max_depth': 864}. Best is trial 21 with value: 0.8762238208128301.\u001b[0m\n",
      "\u001b[32m[I 2022-07-20 01:44:03,541]\u001b[0m Trial 36 finished with value: 0.8676817367788731 and parameters: {'scalers': 'minmax', 'lambda_l1': 0.021764842383840046, 'lambda_l2': 1.0011595912716156e-08, 'num_leaves': 100, 'feature_fraction': 0.8057216257797533, 'bagging_fraction': 0.5135434441206719, 'bagging_freq': 7, 'min_child_samples': 20, 'max_depth': 524}. Best is trial 21 with value: 0.8762238208128301.\u001b[0m\n",
      "\u001b[32m[I 2022-07-20 01:44:04,419]\u001b[0m Trial 37 finished with value: 0.5 and parameters: {'scalers': 'robust', 'lambda_l1': 0.0005900990688203169, 'lambda_l2': 0.0005160172097360198, 'num_leaves': 218, 'feature_fraction': 0.754537442644854, 'bagging_fraction': 0.6446454498326672, 'bagging_freq': 2, 'min_child_samples': 56, 'max_depth': 403}. Best is trial 21 with value: 0.8762238208128301.\u001b[0m\n",
      "\u001b[32m[I 2022-07-20 01:44:07,398]\u001b[0m Trial 38 finished with value: 0.8670094037799145 and parameters: {'scalers': 'minmax', 'lambda_l1': 0.0033761864509298475, 'lambda_l2': 0.00010579241129455784, 'num_leaves': 156, 'feature_fraction': 0.8302124394288827, 'bagging_fraction': 0.453318116205401, 'bagging_freq': 2, 'min_child_samples': 12, 'max_depth': 705}. Best is trial 21 with value: 0.8762238208128301.\u001b[0m\n",
      "\u001b[32m[I 2022-07-20 01:44:09,276]\u001b[0m Trial 39 finished with value: 0.8540915009483121 and parameters: {'scalers': 'standard', 'lambda_l1': 4.724750527558181e-05, 'lambda_l2': 2.0755707178903693, 'num_leaves': 83, 'feature_fraction': 0.6709215881212364, 'bagging_fraction': 0.8453088906436859, 'bagging_freq': 5, 'min_child_samples': 36, 'max_depth': 585}. Best is trial 21 with value: 0.8762238208128301.\u001b[0m\n",
      "\u001b[32m[I 2022-07-20 01:44:10,264]\u001b[0m Trial 40 finished with value: 0.5 and parameters: {'scalers': 'robust', 'lambda_l1': 0.0001864581720534009, 'lambda_l2': 0.0013342480137880138, 'num_leaves': 241, 'feature_fraction': 0.5292335522623797, 'bagging_fraction': 0.6231147078469425, 'bagging_freq': 3, 'min_child_samples': 68, 'max_depth': 424}. Best is trial 21 with value: 0.8762238208128301.\u001b[0m\n",
      "\u001b[32m[I 2022-07-20 01:44:13,368]\u001b[0m Trial 41 finished with value: 0.8707494014198737 and parameters: {'scalers': 'robust', 'lambda_l1': 0.00036727615150918756, 'lambda_l2': 0.5359125864680864, 'num_leaves': 189, 'feature_fraction': 0.6475764638621571, 'bagging_fraction': 0.6639974642233886, 'bagging_freq': 6, 'min_child_samples': 25, 'max_depth': 785}. Best is trial 21 with value: 0.8762238208128301.\u001b[0m\n"
     ]
    },
    {
     "name": "stderr",
     "output_type": "stream",
     "text": [
      "\u001b[32m[I 2022-07-20 01:44:17,208]\u001b[0m Trial 42 finished with value: 0.8664641044155365 and parameters: {'scalers': 'robust', 'lambda_l1': 0.0012376186280973049, 'lambda_l2': 0.2901063945489842, 'num_leaves': 209, 'feature_fraction': 0.48548234364618004, 'bagging_fraction': 0.6752334551372031, 'bagging_freq': 6, 'min_child_samples': 22, 'max_depth': 859}. Best is trial 21 with value: 0.8762238208128301.\u001b[0m\n",
      "\u001b[32m[I 2022-07-20 01:44:18,438]\u001b[0m Trial 43 finished with value: 0.5 and parameters: {'scalers': 'robust', 'lambda_l1': 0.0004537755593987577, 'lambda_l2': 0.08105052431679835, 'num_leaves': 168, 'feature_fraction': 0.6446207315263435, 'bagging_fraction': 0.5890752064160611, 'bagging_freq': 5, 'min_child_samples': 97, 'max_depth': 774}. Best is trial 21 with value: 0.8762238208128301.\u001b[0m\n",
      "\u001b[32m[I 2022-07-20 01:44:22,500]\u001b[0m Trial 44 finished with value: 0.8523685269194169 and parameters: {'scalers': 'robust', 'lambda_l1': 0.055443436382991255, 'lambda_l2': 8.664368863876584, 'num_leaves': 185, 'feature_fraction': 0.5966795636822381, 'bagging_fraction': 0.7303257915568557, 'bagging_freq': 6, 'min_child_samples': 29, 'max_depth': 949}. Best is trial 21 with value: 0.8762238208128301.\u001b[0m\n",
      "\u001b[32m[I 2022-07-20 01:44:25,356]\u001b[0m Trial 45 finished with value: 0.8542331276609529 and parameters: {'scalers': 'standard', 'lambda_l1': 0.00010119035005674787, 'lambda_l2': 2.912056714180467, 'num_leaves': 142, 'feature_fraction': 0.7082598263472355, 'bagging_fraction': 0.5411959348762274, 'bagging_freq': 4, 'min_child_samples': 16, 'max_depth': 635}. Best is trial 21 with value: 0.8762238208128301.\u001b[0m\n",
      "\u001b[32m[I 2022-07-20 01:44:30,609]\u001b[0m Trial 46 finished with value: 0.8498977641080968 and parameters: {'scalers': 'robust', 'lambda_l1': 0.002472707306800461, 'lambda_l2': 0.03808015261797498, 'num_leaves': 225, 'feature_fraction': 0.564912520550448, 'bagging_fraction': 0.6159782529725106, 'bagging_freq': 7, 'min_child_samples': 8, 'max_depth': 674}. Best is trial 21 with value: 0.8762238208128301.\u001b[0m\n",
      "\u001b[32m[I 2022-07-20 01:44:32,947]\u001b[0m Trial 47 finished with value: 0.8778039395030494 and parameters: {'scalers': 'robust', 'lambda_l1': 0.008870684357699114, 'lambda_l2': 0.009071175321555089, 'num_leaves': 197, 'feature_fraction': 0.6820010065713362, 'bagging_fraction': 0.5743066456411522, 'bagging_freq': 2, 'min_child_samples': 23, 'max_depth': 549}. Best is trial 47 with value: 0.8778039395030494.\u001b[0m\n",
      "\u001b[32m[I 2022-07-20 01:44:35,096]\u001b[0m Trial 48 finished with value: 0.8577666957655348 and parameters: {'scalers': 'robust', 'lambda_l1': 0.00913017591754144, 'lambda_l2': 0.010228148949365294, 'num_leaves': 198, 'feature_fraction': 0.6911714922751, 'bagging_fraction': 0.799666282232932, 'bagging_freq': 2, 'min_child_samples': 43, 'max_depth': 545}. Best is trial 47 with value: 0.8778039395030494.\u001b[0m\n",
      "\u001b[32m[I 2022-07-20 01:44:37,447]\u001b[0m Trial 49 finished with value: 0.8550472949178445 and parameters: {'scalers': 'minmax', 'lambda_l1': 0.06990743310253009, 'lambda_l2': 2.1100975414651506e-05, 'num_leaves': 177, 'feature_fraction': 0.770588873863241, 'bagging_fraction': 0.6658126222598848, 'bagging_freq': 1, 'min_child_samples': 17, 'max_depth': 572}. Best is trial 47 with value: 0.8778039395030494.\u001b[0m\n"
     ]
    }
   ],
   "source": [
    "study.optimize(objective, n_trials=50)"
   ]
  },
  {
   "cell_type": "code",
   "execution_count": 43,
   "id": "c12b4332",
   "metadata": {},
   "outputs": [],
   "source": [
    "# Get best trial based on metric score\n",
    "trial = study.best_trial"
   ]
  },
  {
   "cell_type": "code",
   "execution_count": 44,
   "id": "136c5fb7",
   "metadata": {},
   "outputs": [
    {
     "name": "stdout",
     "output_type": "stream",
     "text": [
      "    scalers: robust\n",
      "    lambda_l1: 0.008870684357699114\n",
      "    lambda_l2: 0.009071175321555089\n",
      "    num_leaves: 197\n",
      "    feature_fraction: 0.6820010065713362\n",
      "    bagging_fraction: 0.5743066456411522\n",
      "    bagging_freq: 2\n",
      "    min_child_samples: 23\n",
      "    max_depth: 549\n"
     ]
    }
   ],
   "source": [
    "# Print params for best trial\n",
    "for key, value in trial.params.items():\n",
    "    print(\"    {}: {}\".format(key, value))"
   ]
  },
  {
   "cell_type": "code",
   "execution_count": 45,
   "id": "794fde22",
   "metadata": {},
   "outputs": [
    {
     "data": {
      "text/plain": [
       "0.8778039395030494"
      ]
     },
     "execution_count": 45,
     "metadata": {},
     "output_type": "execute_result"
    }
   ],
   "source": [
    "# Best Score from HP Opt\n",
    "trial.values[0]"
   ]
  },
  {
   "cell_type": "markdown",
   "id": "636f5deb",
   "metadata": {},
   "source": [
    "- A adição de um estágio de feature scaling antes do treinamento parece ter ajudado o modelo"
   ]
  },
  {
   "cell_type": "markdown",
   "id": "5a6f3352",
   "metadata": {},
   "source": [
    "##### 4.4) Boruta Feature Selection + Features Scaler + Hyper Parameter Optimization with Optuna"
   ]
  },
  {
   "cell_type": "code",
   "execution_count": 46,
   "id": "7b70bb42",
   "metadata": {},
   "outputs": [],
   "source": [
    "# define random forest classifier, with utilising all cores and\n",
    "# sampling in proportion to y labels\n",
    "rf = RandomForestClassifier(n_jobs=-1, class_weight='balanced', max_depth=5)\n",
    "# define Boruta feature selection method\n",
    "feat_selector = BorutaPy(rf, n_estimators='auto', verbose=2, random_state=SEED, )"
   ]
  },
  {
   "cell_type": "code",
   "execution_count": 47,
   "id": "2ae7aab1",
   "metadata": {
    "scrolled": true
   },
   "outputs": [
    {
     "name": "stdout",
     "output_type": "stream",
     "text": [
      "Iteration: \t1 / 100\n",
      "Confirmed: \t0\n",
      "Tentative: \t149\n",
      "Rejected: \t0\n",
      "Iteration: \t2 / 100\n",
      "Confirmed: \t0\n",
      "Tentative: \t149\n",
      "Rejected: \t0\n",
      "Iteration: \t3 / 100\n",
      "Confirmed: \t0\n",
      "Tentative: \t149\n",
      "Rejected: \t0\n",
      "Iteration: \t4 / 100\n",
      "Confirmed: \t0\n",
      "Tentative: \t149\n",
      "Rejected: \t0\n",
      "Iteration: \t5 / 100\n",
      "Confirmed: \t0\n",
      "Tentative: \t149\n",
      "Rejected: \t0\n",
      "Iteration: \t6 / 100\n",
      "Confirmed: \t0\n",
      "Tentative: \t149\n",
      "Rejected: \t0\n",
      "Iteration: \t7 / 100\n",
      "Confirmed: \t0\n",
      "Tentative: \t149\n",
      "Rejected: \t0\n",
      "Iteration: \t8 / 100\n",
      "Confirmed: \t19\n",
      "Tentative: \t66\n",
      "Rejected: \t64\n",
      "Iteration: \t9 / 100\n",
      "Confirmed: \t19\n",
      "Tentative: \t66\n",
      "Rejected: \t64\n",
      "Iteration: \t10 / 100\n",
      "Confirmed: \t19\n",
      "Tentative: \t66\n",
      "Rejected: \t64\n",
      "Iteration: \t11 / 100\n",
      "Confirmed: \t19\n",
      "Tentative: \t66\n",
      "Rejected: \t64\n",
      "Iteration: \t12 / 100\n",
      "Confirmed: \t20\n",
      "Tentative: \t56\n",
      "Rejected: \t73\n",
      "Iteration: \t13 / 100\n",
      "Confirmed: \t20\n",
      "Tentative: \t56\n",
      "Rejected: \t73\n",
      "Iteration: \t14 / 100\n",
      "Confirmed: \t20\n",
      "Tentative: \t56\n",
      "Rejected: \t73\n",
      "Iteration: \t15 / 100\n",
      "Confirmed: \t20\n",
      "Tentative: \t56\n",
      "Rejected: \t73\n",
      "Iteration: \t16 / 100\n",
      "Confirmed: \t22\n",
      "Tentative: \t54\n",
      "Rejected: \t73\n",
      "Iteration: \t17 / 100\n",
      "Confirmed: \t22\n",
      "Tentative: \t54\n",
      "Rejected: \t73\n",
      "Iteration: \t18 / 100\n",
      "Confirmed: \t22\n",
      "Tentative: \t53\n",
      "Rejected: \t74\n",
      "Iteration: \t19 / 100\n",
      "Confirmed: \t22\n",
      "Tentative: \t49\n",
      "Rejected: \t78\n",
      "Iteration: \t20 / 100\n",
      "Confirmed: \t22\n",
      "Tentative: \t49\n",
      "Rejected: \t78\n",
      "Iteration: \t21 / 100\n",
      "Confirmed: \t22\n",
      "Tentative: \t49\n",
      "Rejected: \t78\n",
      "Iteration: \t22 / 100\n",
      "Confirmed: \t22\n",
      "Tentative: \t49\n",
      "Rejected: \t78\n",
      "Iteration: \t23 / 100\n",
      "Confirmed: \t22\n",
      "Tentative: \t49\n",
      "Rejected: \t78\n",
      "Iteration: \t24 / 100\n",
      "Confirmed: \t22\n",
      "Tentative: \t49\n",
      "Rejected: \t78\n",
      "Iteration: \t25 / 100\n",
      "Confirmed: \t22\n",
      "Tentative: \t48\n",
      "Rejected: \t79\n",
      "Iteration: \t26 / 100\n",
      "Confirmed: \t23\n",
      "Tentative: \t45\n",
      "Rejected: \t81\n",
      "Iteration: \t27 / 100\n",
      "Confirmed: \t23\n",
      "Tentative: \t45\n",
      "Rejected: \t81\n",
      "Iteration: \t28 / 100\n",
      "Confirmed: \t23\n",
      "Tentative: \t45\n",
      "Rejected: \t81\n",
      "Iteration: \t29 / 100\n",
      "Confirmed: \t23\n",
      "Tentative: \t43\n",
      "Rejected: \t83\n",
      "Iteration: \t30 / 100\n",
      "Confirmed: \t23\n",
      "Tentative: \t43\n",
      "Rejected: \t83\n",
      "Iteration: \t31 / 100\n",
      "Confirmed: \t23\n",
      "Tentative: \t43\n",
      "Rejected: \t83\n",
      "Iteration: \t32 / 100\n",
      "Confirmed: \t23\n",
      "Tentative: \t43\n",
      "Rejected: \t83\n",
      "Iteration: \t33 / 100\n",
      "Confirmed: \t23\n",
      "Tentative: \t43\n",
      "Rejected: \t83\n",
      "Iteration: \t34 / 100\n",
      "Confirmed: \t25\n",
      "Tentative: \t40\n",
      "Rejected: \t84\n",
      "Iteration: \t35 / 100\n",
      "Confirmed: \t25\n",
      "Tentative: \t40\n",
      "Rejected: \t84\n",
      "Iteration: \t36 / 100\n",
      "Confirmed: \t25\n",
      "Tentative: \t40\n",
      "Rejected: \t84\n",
      "Iteration: \t37 / 100\n",
      "Confirmed: \t27\n",
      "Tentative: \t36\n",
      "Rejected: \t86\n",
      "Iteration: \t38 / 100\n",
      "Confirmed: \t27\n",
      "Tentative: \t36\n",
      "Rejected: \t86\n",
      "Iteration: \t39 / 100\n",
      "Confirmed: \t27\n",
      "Tentative: \t36\n",
      "Rejected: \t86\n",
      "Iteration: \t40 / 100\n",
      "Confirmed: \t27\n",
      "Tentative: \t36\n",
      "Rejected: \t86\n",
      "Iteration: \t41 / 100\n",
      "Confirmed: \t27\n",
      "Tentative: \t36\n",
      "Rejected: \t86\n",
      "Iteration: \t42 / 100\n",
      "Confirmed: \t27\n",
      "Tentative: \t36\n",
      "Rejected: \t86\n",
      "Iteration: \t43 / 100\n",
      "Confirmed: \t28\n",
      "Tentative: \t34\n",
      "Rejected: \t87\n",
      "Iteration: \t44 / 100\n",
      "Confirmed: \t28\n",
      "Tentative: \t34\n",
      "Rejected: \t87\n",
      "Iteration: \t45 / 100\n",
      "Confirmed: \t28\n",
      "Tentative: \t34\n",
      "Rejected: \t87\n",
      "Iteration: \t46 / 100\n",
      "Confirmed: \t28\n",
      "Tentative: \t34\n",
      "Rejected: \t87\n",
      "Iteration: \t47 / 100\n",
      "Confirmed: \t28\n",
      "Tentative: \t34\n",
      "Rejected: \t87\n",
      "Iteration: \t48 / 100\n",
      "Confirmed: \t28\n",
      "Tentative: \t34\n",
      "Rejected: \t87\n",
      "Iteration: \t49 / 100\n",
      "Confirmed: \t28\n",
      "Tentative: \t34\n",
      "Rejected: \t87\n",
      "Iteration: \t50 / 100\n",
      "Confirmed: \t28\n",
      "Tentative: \t34\n",
      "Rejected: \t87\n",
      "Iteration: \t51 / 100\n",
      "Confirmed: \t28\n",
      "Tentative: \t31\n",
      "Rejected: \t90\n",
      "Iteration: \t52 / 100\n",
      "Confirmed: \t28\n",
      "Tentative: \t31\n",
      "Rejected: \t90\n",
      "Iteration: \t53 / 100\n",
      "Confirmed: \t28\n",
      "Tentative: \t31\n",
      "Rejected: \t90\n",
      "Iteration: \t54 / 100\n",
      "Confirmed: \t28\n",
      "Tentative: \t29\n",
      "Rejected: \t92\n",
      "Iteration: \t55 / 100\n",
      "Confirmed: \t28\n",
      "Tentative: \t29\n",
      "Rejected: \t92\n",
      "Iteration: \t56 / 100\n",
      "Confirmed: \t28\n",
      "Tentative: \t29\n",
      "Rejected: \t92\n",
      "Iteration: \t57 / 100\n",
      "Confirmed: \t28\n",
      "Tentative: \t28\n",
      "Rejected: \t93\n",
      "Iteration: \t58 / 100\n",
      "Confirmed: \t28\n",
      "Tentative: \t28\n",
      "Rejected: \t93\n",
      "Iteration: \t59 / 100\n",
      "Confirmed: \t29\n",
      "Tentative: \t27\n",
      "Rejected: \t93\n",
      "Iteration: \t60 / 100\n",
      "Confirmed: \t29\n",
      "Tentative: \t27\n",
      "Rejected: \t93\n",
      "Iteration: \t61 / 100\n",
      "Confirmed: \t29\n",
      "Tentative: \t27\n",
      "Rejected: \t93\n",
      "Iteration: \t62 / 100\n",
      "Confirmed: \t29\n",
      "Tentative: \t25\n",
      "Rejected: \t95\n",
      "Iteration: \t63 / 100\n",
      "Confirmed: \t29\n",
      "Tentative: \t25\n",
      "Rejected: \t95\n",
      "Iteration: \t64 / 100\n",
      "Confirmed: \t29\n",
      "Tentative: \t25\n",
      "Rejected: \t95\n",
      "Iteration: \t65 / 100\n",
      "Confirmed: \t29\n",
      "Tentative: \t24\n",
      "Rejected: \t96\n",
      "Iteration: \t66 / 100\n",
      "Confirmed: \t29\n",
      "Tentative: \t24\n",
      "Rejected: \t96\n",
      "Iteration: \t67 / 100\n",
      "Confirmed: \t29\n",
      "Tentative: \t24\n",
      "Rejected: \t96\n",
      "Iteration: \t68 / 100\n",
      "Confirmed: \t29\n",
      "Tentative: \t24\n",
      "Rejected: \t96\n",
      "Iteration: \t69 / 100\n",
      "Confirmed: \t29\n",
      "Tentative: \t24\n",
      "Rejected: \t96\n",
      "Iteration: \t70 / 100\n",
      "Confirmed: \t29\n",
      "Tentative: \t24\n",
      "Rejected: \t96\n",
      "Iteration: \t71 / 100\n",
      "Confirmed: \t29\n",
      "Tentative: \t24\n",
      "Rejected: \t96\n",
      "Iteration: \t72 / 100\n",
      "Confirmed: \t29\n",
      "Tentative: \t23\n",
      "Rejected: \t97\n",
      "Iteration: \t73 / 100\n",
      "Confirmed: \t29\n",
      "Tentative: \t23\n",
      "Rejected: \t97\n",
      "Iteration: \t74 / 100\n",
      "Confirmed: \t29\n",
      "Tentative: \t23\n",
      "Rejected: \t97\n",
      "Iteration: \t75 / 100\n",
      "Confirmed: \t29\n",
      "Tentative: \t23\n",
      "Rejected: \t97\n",
      "Iteration: \t76 / 100\n",
      "Confirmed: \t29\n",
      "Tentative: \t23\n",
      "Rejected: \t97\n",
      "Iteration: \t77 / 100\n",
      "Confirmed: \t29\n",
      "Tentative: \t23\n",
      "Rejected: \t97\n",
      "Iteration: \t78 / 100\n",
      "Confirmed: \t29\n",
      "Tentative: \t23\n",
      "Rejected: \t97\n",
      "Iteration: \t79 / 100\n",
      "Confirmed: \t29\n",
      "Tentative: \t23\n",
      "Rejected: \t97\n",
      "Iteration: \t80 / 100\n",
      "Confirmed: \t29\n",
      "Tentative: \t23\n",
      "Rejected: \t97\n",
      "Iteration: \t81 / 100\n",
      "Confirmed: \t29\n",
      "Tentative: \t23\n",
      "Rejected: \t97\n",
      "Iteration: \t82 / 100\n",
      "Confirmed: \t29\n",
      "Tentative: \t23\n",
      "Rejected: \t97\n",
      "Iteration: \t83 / 100\n",
      "Confirmed: \t29\n",
      "Tentative: \t22\n",
      "Rejected: \t98\n",
      "Iteration: \t84 / 100\n",
      "Confirmed: \t29\n",
      "Tentative: \t22\n",
      "Rejected: \t98\n",
      "Iteration: \t85 / 100\n",
      "Confirmed: \t29\n",
      "Tentative: \t22\n",
      "Rejected: \t98\n",
      "Iteration: \t86 / 100\n",
      "Confirmed: \t29\n",
      "Tentative: \t22\n",
      "Rejected: \t98\n",
      "Iteration: \t87 / 100\n",
      "Confirmed: \t29\n",
      "Tentative: \t22\n",
      "Rejected: \t98\n",
      "Iteration: \t88 / 100\n",
      "Confirmed: \t29\n",
      "Tentative: \t22\n",
      "Rejected: \t98\n",
      "Iteration: \t89 / 100\n",
      "Confirmed: \t29\n",
      "Tentative: \t22\n",
      "Rejected: \t98\n",
      "Iteration: \t90 / 100\n",
      "Confirmed: \t29\n",
      "Tentative: \t22\n",
      "Rejected: \t98\n",
      "Iteration: \t91 / 100\n",
      "Confirmed: \t29\n",
      "Tentative: \t22\n",
      "Rejected: \t98\n",
      "Iteration: \t92 / 100\n",
      "Confirmed: \t29\n",
      "Tentative: \t22\n",
      "Rejected: \t98\n",
      "Iteration: \t93 / 100\n",
      "Confirmed: \t29\n",
      "Tentative: \t22\n",
      "Rejected: \t98\n",
      "Iteration: \t94 / 100\n",
      "Confirmed: \t29\n",
      "Tentative: \t22\n",
      "Rejected: \t98\n",
      "Iteration: \t95 / 100\n",
      "Confirmed: \t29\n",
      "Tentative: \t22\n",
      "Rejected: \t98\n",
      "Iteration: \t96 / 100\n",
      "Confirmed: \t29\n",
      "Tentative: \t22\n",
      "Rejected: \t98\n",
      "Iteration: \t97 / 100\n",
      "Confirmed: \t29\n",
      "Tentative: \t22\n",
      "Rejected: \t98\n",
      "Iteration: \t98 / 100\n",
      "Confirmed: \t31\n",
      "Tentative: \t20\n",
      "Rejected: \t98\n",
      "Iteration: \t99 / 100\n",
      "Confirmed: \t31\n",
      "Tentative: \t20\n",
      "Rejected: \t98\n",
      "\n",
      "\n",
      "BorutaPy finished running.\n",
      "\n",
      "Iteration: \t100 / 100\n",
      "Confirmed: \t31\n",
      "Tentative: \t6\n",
      "Rejected: \t98\n"
     ]
    },
    {
     "data": {
      "text/html": [
       "<style>#sk-container-id-1 {color: black;background-color: white;}#sk-container-id-1 pre{padding: 0;}#sk-container-id-1 div.sk-toggleable {background-color: white;}#sk-container-id-1 label.sk-toggleable__label {cursor: pointer;display: block;width: 100%;margin-bottom: 0;padding: 0.3em;box-sizing: border-box;text-align: center;}#sk-container-id-1 label.sk-toggleable__label-arrow:before {content: \"▸\";float: left;margin-right: 0.25em;color: #696969;}#sk-container-id-1 label.sk-toggleable__label-arrow:hover:before {color: black;}#sk-container-id-1 div.sk-estimator:hover label.sk-toggleable__label-arrow:before {color: black;}#sk-container-id-1 div.sk-toggleable__content {max-height: 0;max-width: 0;overflow: hidden;text-align: left;background-color: #f0f8ff;}#sk-container-id-1 div.sk-toggleable__content pre {margin: 0.2em;color: black;border-radius: 0.25em;background-color: #f0f8ff;}#sk-container-id-1 input.sk-toggleable__control:checked~div.sk-toggleable__content {max-height: 200px;max-width: 100%;overflow: auto;}#sk-container-id-1 input.sk-toggleable__control:checked~label.sk-toggleable__label-arrow:before {content: \"▾\";}#sk-container-id-1 div.sk-estimator input.sk-toggleable__control:checked~label.sk-toggleable__label {background-color: #d4ebff;}#sk-container-id-1 div.sk-label input.sk-toggleable__control:checked~label.sk-toggleable__label {background-color: #d4ebff;}#sk-container-id-1 input.sk-hidden--visually {border: 0;clip: rect(1px 1px 1px 1px);clip: rect(1px, 1px, 1px, 1px);height: 1px;margin: -1px;overflow: hidden;padding: 0;position: absolute;width: 1px;}#sk-container-id-1 div.sk-estimator {font-family: monospace;background-color: #f0f8ff;border: 1px dotted black;border-radius: 0.25em;box-sizing: border-box;margin-bottom: 0.5em;}#sk-container-id-1 div.sk-estimator:hover {background-color: #d4ebff;}#sk-container-id-1 div.sk-parallel-item::after {content: \"\";width: 100%;border-bottom: 1px solid gray;flex-grow: 1;}#sk-container-id-1 div.sk-label:hover label.sk-toggleable__label {background-color: #d4ebff;}#sk-container-id-1 div.sk-serial::before {content: \"\";position: absolute;border-left: 1px solid gray;box-sizing: border-box;top: 0;bottom: 0;left: 50%;z-index: 0;}#sk-container-id-1 div.sk-serial {display: flex;flex-direction: column;align-items: center;background-color: white;padding-right: 0.2em;padding-left: 0.2em;position: relative;}#sk-container-id-1 div.sk-item {position: relative;z-index: 1;}#sk-container-id-1 div.sk-parallel {display: flex;align-items: stretch;justify-content: center;background-color: white;position: relative;}#sk-container-id-1 div.sk-item::before, #sk-container-id-1 div.sk-parallel-item::before {content: \"\";position: absolute;border-left: 1px solid gray;box-sizing: border-box;top: 0;bottom: 0;left: 50%;z-index: -1;}#sk-container-id-1 div.sk-parallel-item {display: flex;flex-direction: column;z-index: 1;position: relative;background-color: white;}#sk-container-id-1 div.sk-parallel-item:first-child::after {align-self: flex-end;width: 50%;}#sk-container-id-1 div.sk-parallel-item:last-child::after {align-self: flex-start;width: 50%;}#sk-container-id-1 div.sk-parallel-item:only-child::after {width: 0;}#sk-container-id-1 div.sk-dashed-wrapped {border: 1px dashed gray;margin: 0 0.4em 0.5em 0.4em;box-sizing: border-box;padding-bottom: 0.4em;background-color: white;}#sk-container-id-1 div.sk-label label {font-family: monospace;font-weight: bold;display: inline-block;line-height: 1.2em;}#sk-container-id-1 div.sk-label-container {text-align: center;}#sk-container-id-1 div.sk-container {/* jupyter's `normalize.less` sets `[hidden] { display: none; }` but bootstrap.min.css set `[hidden] { display: none !important; }` so we also need the `!important` here to be able to override the default hidden behavior on the sphinx rendered scikit-learn.org. See: https://github.com/scikit-learn/scikit-learn/issues/21755 */display: inline-block !important;position: relative;}#sk-container-id-1 div.sk-text-repr-fallback {display: none;}</style><div id=\"sk-container-id-1\" class=\"sk-top-container\"><div class=\"sk-text-repr-fallback\"><pre>BorutaPy(estimator=RandomForestClassifier(class_weight=&#x27;balanced&#x27;, max_depth=5,\n",
       "                                          n_estimators=201, n_jobs=-1,\n",
       "                                          random_state=RandomState(MT19937) at 0x2380411AC40),\n",
       "         n_estimators=&#x27;auto&#x27;,\n",
       "         random_state=RandomState(MT19937) at 0x2380411AC40, verbose=2)</pre><b>In a Jupyter environment, please rerun this cell to show the HTML representation or trust the notebook. <br />On GitHub, the HTML representation is unable to render, please try loading this page with nbviewer.org.</b></div><div class=\"sk-container\" hidden><div class=\"sk-item sk-dashed-wrapped\"><div class=\"sk-label-container\"><div class=\"sk-label sk-toggleable\"><input class=\"sk-toggleable__control sk-hidden--visually\" id=\"sk-estimator-id-1\" type=\"checkbox\" ><label for=\"sk-estimator-id-1\" class=\"sk-toggleable__label sk-toggleable__label-arrow\">BorutaPy</label><div class=\"sk-toggleable__content\"><pre>BorutaPy(estimator=RandomForestClassifier(class_weight=&#x27;balanced&#x27;, max_depth=5,\n",
       "                                          n_estimators=201, n_jobs=-1,\n",
       "                                          random_state=RandomState(MT19937) at 0x2380411AC40),\n",
       "         n_estimators=&#x27;auto&#x27;,\n",
       "         random_state=RandomState(MT19937) at 0x2380411AC40, verbose=2)</pre></div></div></div><div class=\"sk-parallel\"><div class=\"sk-parallel-item\"><div class=\"sk-item\"><div class=\"sk-label-container\"><div class=\"sk-label sk-toggleable\"><input class=\"sk-toggleable__control sk-hidden--visually\" id=\"sk-estimator-id-2\" type=\"checkbox\" ><label for=\"sk-estimator-id-2\" class=\"sk-toggleable__label sk-toggleable__label-arrow\">estimator: RandomForestClassifier</label><div class=\"sk-toggleable__content\"><pre>RandomForestClassifier(class_weight=&#x27;balanced&#x27;, max_depth=5, n_estimators=201,\n",
       "                       n_jobs=-1,\n",
       "                       random_state=RandomState(MT19937) at 0x2380411AC40)</pre></div></div></div><div class=\"sk-serial\"><div class=\"sk-item\"><div class=\"sk-estimator sk-toggleable\"><input class=\"sk-toggleable__control sk-hidden--visually\" id=\"sk-estimator-id-3\" type=\"checkbox\" ><label for=\"sk-estimator-id-3\" class=\"sk-toggleable__label sk-toggleable__label-arrow\">RandomForestClassifier</label><div class=\"sk-toggleable__content\"><pre>RandomForestClassifier(class_weight=&#x27;balanced&#x27;, max_depth=5, n_estimators=201,\n",
       "                       n_jobs=-1,\n",
       "                       random_state=RandomState(MT19937) at 0x2380411AC40)</pre></div></div></div></div></div></div></div></div></div></div>"
      ],
      "text/plain": [
       "BorutaPy(estimator=RandomForestClassifier(class_weight='balanced', max_depth=5,\n",
       "                                          n_estimators=201, n_jobs=-1,\n",
       "                                          random_state=RandomState(MT19937) at 0x2380411AC40),\n",
       "         n_estimators='auto',\n",
       "         random_state=RandomState(MT19937) at 0x2380411AC40, verbose=2)"
      ]
     },
     "execution_count": 47,
     "metadata": {},
     "output_type": "execute_result"
    }
   ],
   "source": [
    "feat_selector.fit(np.array(X), y)"
   ]
  },
  {
   "cell_type": "code",
   "execution_count": 48,
   "id": "82c8863f",
   "metadata": {},
   "outputs": [
    {
     "name": "stdout",
     "output_type": "stream",
     "text": [
      "Number of selected features:  31\n"
     ]
    }
   ],
   "source": [
    "print(\"Number of selected features: \", feat_selector.n_features_)"
   ]
  },
  {
   "cell_type": "code",
   "execution_count": 49,
   "id": "732e41b3",
   "metadata": {
    "scrolled": true
   },
   "outputs": [
    {
     "data": {
      "text/plain": [
       "Index(['Freq.1324.08044804632', 'Freq.1715.32907573994',\n",
       "       'Freq.1793.31292765446', 'Freq.1989.65991446642',\n",
       "       'Freq.2032.95119529926', 'Freq.2148.55916353654',\n",
       "       'Freq.2182.52259691583', 'Freq.2186.33577081196',\n",
       "       'Freq.2224.49761975722', 'Freq.2242.07973381149',\n",
       "       'Freq.2761.81291676166', 'Freq.3044.21704373186',\n",
       "       'Freq.3077.77601350217', 'Freq.3414.71158220371',\n",
       "       'Freq.3425.70211639867', 'Freq.3794.70058709553',\n",
       "       'Freq.3912.82100942603', 'Freq.4266.3135397872',\n",
       "       'Freq.4282.69712175929', 'Freq.4305.85988898402',\n",
       "       'Freq.4318.14922038936', 'Freq.4395.12541812139',\n",
       "       'Freq.4773.1748593189', 'Freq.4823.05474215093',\n",
       "       'Freq.5085.12753419191', 'Freq.5224.39772946441',\n",
       "       'Freq.5433.51287445961', 'Freq.5793.20798465767',\n",
       "       'Freq.6079.05181901815', 'Freq.7738.28945568542',\n",
       "       'Freq.8943.76551923189'],\n",
       "      dtype='object')"
      ]
     },
     "execution_count": 49,
     "metadata": {},
     "output_type": "execute_result"
    }
   ],
   "source": [
    "# Best Features (accord to Boruta)\n",
    "X.columns[feat_selector.support_]"
   ]
  },
  {
   "cell_type": "code",
   "execution_count": 50,
   "id": "89cd78e5",
   "metadata": {},
   "outputs": [],
   "source": [
    "# Filter most importante features\n",
    "X_transform = feat_selector.transform(np.array(X))"
   ]
  },
  {
   "cell_type": "code",
   "execution_count": 51,
   "id": "c23a5f03",
   "metadata": {},
   "outputs": [],
   "source": [
    "# Define objectiva funtion to maximize metric\n",
    "def objective(trial):\n",
    "    \n",
    "    # List scalers to chose from\n",
    "    scalers = trial.suggest_categorical(\"scalers\", ['minmax', 'standard', 'robust'])\n",
    "    # Define scalers\n",
    "    if scalers == \"minmax\":\n",
    "        scaler = MinMaxScaler()\n",
    "    elif scalers == \"standard\":\n",
    "        scaler = StandardScaler()\n",
    "    else:\n",
    "        scaler = RobustScaler()\n",
    "    # LGBM Hyper Parameter Grid\n",
    "    param = {\n",
    "        \"objective\": \"binary\",\n",
    "        \"metric\": \"binary_logloss\",\n",
    "        \"verbosity\": -1,\n",
    "        \"boosting_type\": \"gbdt\",\n",
    "        \"lambda_l1\": trial.suggest_float(\"lambda_l1\", 1e-8, 10.0, log=True),\n",
    "        \"lambda_l2\": trial.suggest_float(\"lambda_l2\", 1e-8, 10.0, log=True),\n",
    "        \"num_leaves\": trial.suggest_int(\"num_leaves\", 2, 256),\n",
    "        \"feature_fraction\": trial.suggest_float(\"feature_fraction\", 0.4, 1.0),\n",
    "        \"bagging_fraction\": trial.suggest_float(\"bagging_fraction\", 0.4, 1.0),\n",
    "        \"bagging_freq\": trial.suggest_int(\"bagging_freq\", 1, 7),\n",
    "        \"min_child_samples\": trial.suggest_int(\"min_child_samples\", 5, 100),\n",
    "        \"n_estimators\": trial.suggest_int(\"max_depth\", 100, 1000)\n",
    "    }\n",
    "    # Create model pipeline with param trial\n",
    "    clf = Pipeline([(\"scaler\", scaler),\n",
    "                    (\"lgbm_clf\", lgb.LGBMClassifier(random_state=SEED, **param))])\n",
    "    # Get CV Metric we want to maximize\n",
    "    balanced_accuracy = np.mean(cross_val_score(clf, X_transform, y, scoring=metric_scorer, cv=rkf, n_jobs=-1))\n",
    "    \n",
    "    return balanced_accuracy"
   ]
  },
  {
   "cell_type": "code",
   "execution_count": 52,
   "id": "4623ad8b",
   "metadata": {
    "scrolled": true
   },
   "outputs": [
    {
     "name": "stderr",
     "output_type": "stream",
     "text": [
      "\u001b[32m[I 2022-07-20 01:46:29,447]\u001b[0m A new study created in memory with name: no-name-ede5cd5f-f980-423d-b09e-c1bc8b5c3d51\u001b[0m\n"
     ]
    }
   ],
   "source": [
    "study = optuna.create_study(direction=\"maximize\")"
   ]
  },
  {
   "cell_type": "code",
   "execution_count": 53,
   "id": "c5b8c6fc",
   "metadata": {
    "scrolled": true
   },
   "outputs": [
    {
     "name": "stderr",
     "output_type": "stream",
     "text": [
      "\u001b[32m[I 2022-07-20 01:46:30,247]\u001b[0m Trial 0 finished with value: 0.5 and parameters: {'scalers': 'robust', 'lambda_l1': 1.8394848229253423e-08, 'lambda_l2': 1.7597219496744995e-07, 'num_leaves': 78, 'feature_fraction': 0.6017972252304895, 'bagging_fraction': 0.5895569154410628, 'bagging_freq': 3, 'min_child_samples': 46, 'max_depth': 978}. Best is trial 0 with value: 0.5.\u001b[0m\n",
      "\u001b[32m[I 2022-07-20 01:46:30,607]\u001b[0m Trial 1 finished with value: 0.7938566411014166 and parameters: {'scalers': 'standard', 'lambda_l1': 6.580549922386909e-06, 'lambda_l2': 0.0007148859747726301, 'num_leaves': 123, 'feature_fraction': 0.9322031194037792, 'bagging_fraction': 0.4427402390819192, 'bagging_freq': 1, 'min_child_samples': 26, 'max_depth': 141}. Best is trial 1 with value: 0.7938566411014166.\u001b[0m\n",
      "\u001b[32m[I 2022-07-20 01:46:31,278]\u001b[0m Trial 2 finished with value: 0.5 and parameters: {'scalers': 'minmax', 'lambda_l1': 0.0144955705212934, 'lambda_l2': 0.00011570063796065413, 'num_leaves': 240, 'feature_fraction': 0.565678641587861, 'bagging_fraction': 0.46115045073217026, 'bagging_freq': 4, 'min_child_samples': 42, 'max_depth': 808}. Best is trial 1 with value: 0.7938566411014166.\u001b[0m\n",
      "\u001b[32m[I 2022-07-20 01:46:31,498]\u001b[0m Trial 3 finished with value: 0.5 and parameters: {'scalers': 'minmax', 'lambda_l1': 0.00866731490904726, 'lambda_l2': 0.29212730236849777, 'num_leaves': 129, 'feature_fraction': 0.7397118425587083, 'bagging_fraction': 0.901337095426232, 'bagging_freq': 4, 'min_child_samples': 96, 'max_depth': 105}. Best is trial 1 with value: 0.7938566411014166.\u001b[0m\n",
      "\u001b[32m[I 2022-07-20 01:46:31,920]\u001b[0m Trial 4 finished with value: 0.5 and parameters: {'scalers': 'minmax', 'lambda_l1': 1.0141875929261639e-06, 'lambda_l2': 0.032840854867317464, 'num_leaves': 91, 'feature_fraction': 0.40003620062890366, 'bagging_fraction': 0.5224574002736568, 'bagging_freq': 1, 'min_child_samples': 57, 'max_depth': 899}. Best is trial 1 with value: 0.7938566411014166.\u001b[0m\n",
      "\u001b[32m[I 2022-07-20 01:46:32,978]\u001b[0m Trial 5 finished with value: 0.8710669154117296 and parameters: {'scalers': 'standard', 'lambda_l1': 2.405867438088247e-05, 'lambda_l2': 1.394290086328261e-05, 'num_leaves': 32, 'feature_fraction': 0.8445809095986994, 'bagging_fraction': 0.6417763017348687, 'bagging_freq': 7, 'min_child_samples': 25, 'max_depth': 559}. Best is trial 5 with value: 0.8710669154117296.\u001b[0m\n",
      "\u001b[32m[I 2022-07-20 01:46:33,222]\u001b[0m Trial 6 finished with value: 0.5 and parameters: {'scalers': 'standard', 'lambda_l1': 2.3668534457442114e-05, 'lambda_l2': 0.06768828795103912, 'num_leaves': 252, 'feature_fraction': 0.5411010018735481, 'bagging_fraction': 0.6294492808568424, 'bagging_freq': 4, 'min_child_samples': 95, 'max_depth': 179}. Best is trial 5 with value: 0.8710669154117296.\u001b[0m\n",
      "\u001b[32m[I 2022-07-20 01:46:33,517]\u001b[0m Trial 7 finished with value: 0.5 and parameters: {'scalers': 'minmax', 'lambda_l1': 1.249793085922827e-08, 'lambda_l2': 8.048509971033617e-08, 'num_leaves': 99, 'feature_fraction': 0.7936957207183766, 'bagging_fraction': 0.8908266289689755, 'bagging_freq': 4, 'min_child_samples': 68, 'max_depth': 447}. Best is trial 5 with value: 0.8710669154117296.\u001b[0m\n",
      "\u001b[32m[I 2022-07-20 01:46:33,843]\u001b[0m Trial 8 finished with value: 0.5 and parameters: {'scalers': 'standard', 'lambda_l1': 0.0016449854048276938, 'lambda_l2': 0.3333751434204713, 'num_leaves': 75, 'feature_fraction': 0.7582293936897255, 'bagging_fraction': 0.773480732850686, 'bagging_freq': 5, 'min_child_samples': 74, 'max_depth': 508}. Best is trial 5 with value: 0.8710669154117296.\u001b[0m\n",
      "\u001b[32m[I 2022-07-20 01:46:34,277]\u001b[0m Trial 9 finished with value: 0.5 and parameters: {'scalers': 'standard', 'lambda_l1': 2.1571762024693677e-08, 'lambda_l2': 3.265865310591614e-08, 'num_leaves': 208, 'feature_fraction': 0.47051428732385037, 'bagging_fraction': 0.9010678049133192, 'bagging_freq': 5, 'min_child_samples': 61, 'max_depth': 936}. Best is trial 5 with value: 0.8710669154117296.\u001b[0m\n",
      "\u001b[32m[I 2022-07-20 01:46:35,280]\u001b[0m Trial 10 finished with value: 0.7880016297986497 and parameters: {'scalers': 'robust', 'lambda_l1': 4.747799683208921, 'lambda_l2': 1.0297156067072307e-05, 'num_leaves': 16, 'feature_fraction': 0.9916494484184448, 'bagging_fraction': 0.7375286443706784, 'bagging_freq': 7, 'min_child_samples': 7, 'max_depth': 677}. Best is trial 5 with value: 0.8710669154117296.\u001b[0m\n",
      "\u001b[32m[I 2022-07-20 01:46:35,987]\u001b[0m Trial 11 finished with value: 0.8719654722212771 and parameters: {'scalers': 'standard', 'lambda_l1': 1.955691085170047e-05, 'lambda_l2': 0.0012906662922128056, 'num_leaves': 12, 'feature_fraction': 0.923000918696108, 'bagging_fraction': 0.42030928822789715, 'bagging_freq': 1, 'min_child_samples': 20, 'max_depth': 351}. Best is trial 11 with value: 0.8719654722212771.\u001b[0m\n",
      "\u001b[32m[I 2022-07-20 01:46:36,884]\u001b[0m Trial 12 finished with value: 0.8713247997917115 and parameters: {'scalers': 'standard', 'lambda_l1': 0.00010894799963079365, 'lambda_l2': 5.98733826204267e-06, 'num_leaves': 6, 'feature_fraction': 0.9097012243439999, 'bagging_fraction': 0.6589363752072817, 'bagging_freq': 7, 'min_child_samples': 18, 'max_depth': 336}. Best is trial 11 with value: 0.8719654722212771.\u001b[0m\n",
      "\u001b[32m[I 2022-07-20 01:46:38,234]\u001b[0m Trial 13 finished with value: 0.8694851734952355 and parameters: {'scalers': 'standard', 'lambda_l1': 0.00040983139287469793, 'lambda_l2': 0.0007690911429631295, 'num_leaves': 40, 'feature_fraction': 0.8891310753064582, 'bagging_fraction': 0.7865331281552133, 'bagging_freq': 2, 'min_child_samples': 8, 'max_depth': 339}. Best is trial 11 with value: 0.8719654722212771.\u001b[0m\n",
      "\u001b[32m[I 2022-07-20 01:46:38,677]\u001b[0m Trial 14 finished with value: 0.8237917320897198 and parameters: {'scalers': 'standard', 'lambda_l1': 0.32383135428589155, 'lambda_l2': 5.8466197602702215, 'num_leaves': 3, 'feature_fraction': 0.6466251497993123, 'bagging_fraction': 0.4080714234564075, 'bagging_freq': 6, 'min_child_samples': 26, 'max_depth': 329}. Best is trial 11 with value: 0.8719654722212771.\u001b[0m\n",
      "\u001b[32m[I 2022-07-20 01:46:39,095]\u001b[0m Trial 15 finished with value: 0.636301736060637 and parameters: {'scalers': 'standard', 'lambda_l1': 7.095640255275634e-07, 'lambda_l2': 1.406579662688846e-06, 'num_leaves': 163, 'feature_fraction': 0.9989921867340424, 'bagging_fraction': 0.5511744747157804, 'bagging_freq': 2, 'min_child_samples': 36, 'max_depth': 296}. Best is trial 11 with value: 0.8719654722212771.\u001b[0m\n",
      "\u001b[32m[I 2022-07-20 01:46:40,278]\u001b[0m Trial 16 finished with value: 0.8702555116237392 and parameters: {'scalers': 'robust', 'lambda_l1': 7.825014454034491e-05, 'lambda_l2': 0.003332773934580559, 'num_leaves': 58, 'feature_fraction': 0.8441328214099612, 'bagging_fraction': 0.6889078372112439, 'bagging_freq': 6, 'min_child_samples': 19, 'max_depth': 422}. Best is trial 11 with value: 0.8719654722212771.\u001b[0m\n",
      "\u001b[32m[I 2022-07-20 01:46:41,023]\u001b[0m Trial 17 finished with value: 0.8715042156415995 and parameters: {'scalers': 'standard', 'lambda_l1': 4.223107105371509e-07, 'lambda_l2': 2.1525400643557943e-05, 'num_leaves': 182, 'feature_fraction': 0.6916176560609492, 'bagging_fraction': 0.5081643569901435, 'bagging_freq': 2, 'min_child_samples': 15, 'max_depth': 242}. Best is trial 11 with value: 0.8719654722212771.\u001b[0m\n",
      "\u001b[32m[I 2022-07-20 01:46:41,407]\u001b[0m Trial 18 finished with value: 0.5 and parameters: {'scalers': 'standard', 'lambda_l1': 7.48563935966923e-07, 'lambda_l2': 0.00013473305697262776, 'num_leaves': 162, 'feature_fraction': 0.6791971135451397, 'bagging_fraction': 0.5104355370606377, 'bagging_freq': 2, 'min_child_samples': 37, 'max_depth': 232}. Best is trial 11 with value: 0.8719654722212771.\u001b[0m\n",
      "\u001b[32m[I 2022-07-20 01:46:42,963]\u001b[0m Trial 19 finished with value: 0.8758586048239685 and parameters: {'scalers': 'robust', 'lambda_l1': 9.297894089098006e-08, 'lambda_l2': 0.005263561524316361, 'num_leaves': 179, 'feature_fraction': 0.7082429893093272, 'bagging_fraction': 0.40287549052992144, 'bagging_freq': 1, 'min_child_samples': 13, 'max_depth': 621}. Best is trial 19 with value: 0.8758586048239685.\u001b[0m\n",
      "\u001b[32m[I 2022-07-20 01:46:43,467]\u001b[0m Trial 20 finished with value: 0.5 and parameters: {'scalers': 'robust', 'lambda_l1': 9.795983147875235e-08, 'lambda_l2': 0.006692512147878619, 'num_leaves': 213, 'feature_fraction': 0.7742296282965543, 'bagging_fraction': 0.41225848147758926, 'bagging_freq': 1, 'min_child_samples': 81, 'max_depth': 675}. Best is trial 19 with value: 0.8758586048239685.\u001b[0m\n"
     ]
    },
    {
     "name": "stderr",
     "output_type": "stream",
     "text": [
      "\u001b[32m[I 2022-07-20 01:46:44,975]\u001b[0m Trial 21 finished with value: 0.8733606478016307 and parameters: {'scalers': 'robust', 'lambda_l1': 1.8082701288012861e-07, 'lambda_l2': 6.229807689914313e-05, 'num_leaves': 180, 'feature_fraction': 0.6961637365040164, 'bagging_fraction': 0.47146084358660906, 'bagging_freq': 2, 'min_child_samples': 14, 'max_depth': 635}. Best is trial 19 with value: 0.8758586048239685.\u001b[0m\n",
      "\u001b[32m[I 2022-07-20 01:46:46,896]\u001b[0m Trial 22 finished with value: 0.8762196755343038 and parameters: {'scalers': 'robust', 'lambda_l1': 4.269481169204178e-06, 'lambda_l2': 0.0046364839578449625, 'num_leaves': 141, 'feature_fraction': 0.6514451684569869, 'bagging_fraction': 0.47315484307615635, 'bagging_freq': 3, 'min_child_samples': 5, 'max_depth': 681}. Best is trial 22 with value: 0.8762196755343038.\u001b[0m\n",
      "\u001b[32m[I 2022-07-20 01:46:48,972]\u001b[0m Trial 23 finished with value: 0.8827154608807085 and parameters: {'scalers': 'robust', 'lambda_l1': 9.924540578173925e-08, 'lambda_l2': 0.020814131952678134, 'num_leaves': 156, 'feature_fraction': 0.6316765023574796, 'bagging_fraction': 0.46700909137581326, 'bagging_freq': 3, 'min_child_samples': 5, 'max_depth': 655}. Best is trial 23 with value: 0.8827154608807085.\u001b[0m\n",
      "\u001b[32m[I 2022-07-20 01:46:51,459]\u001b[0m Trial 24 finished with value: 0.8805790194068056 and parameters: {'scalers': 'robust', 'lambda_l1': 4.84972445127284e-06, 'lambda_l2': 0.030225153225925675, 'num_leaves': 145, 'feature_fraction': 0.6165449857731236, 'bagging_fraction': 0.5619731545024109, 'bagging_freq': 3, 'min_child_samples': 5, 'max_depth': 776}. Best is trial 23 with value: 0.8827154608807085.\u001b[0m\n",
      "\u001b[32m[I 2022-07-20 01:46:54,816]\u001b[0m Trial 25 finished with value: 0.8708354273220758 and parameters: {'scalers': 'robust', 'lambda_l1': 3.250155299285698e-06, 'lambda_l2': 7.399723576593819, 'num_leaves': 144, 'feature_fraction': 0.6153304272892468, 'bagging_fraction': 0.5783505657873513, 'bagging_freq': 3, 'min_child_samples': 6, 'max_depth': 781}. Best is trial 23 with value: 0.8827154608807085.\u001b[0m\n",
      "\u001b[32m[I 2022-07-20 01:46:58,087]\u001b[0m Trial 26 finished with value: 0.8824030952492639 and parameters: {'scalers': 'robust', 'lambda_l1': 2.972449772532827e-06, 'lambda_l2': 0.03141985450172972, 'num_leaves': 114, 'feature_fraction': 0.5335527811363158, 'bagging_fraction': 0.4852077464257183, 'bagging_freq': 3, 'min_child_samples': 5, 'max_depth': 774}. Best is trial 23 with value: 0.8827154608807085.\u001b[0m\n",
      "\u001b[32m[I 2022-07-20 01:46:59,839]\u001b[0m Trial 27 finished with value: 0.8606206764941285 and parameters: {'scalers': 'robust', 'lambda_l1': 1.770127160195806e-06, 'lambda_l2': 0.9847516646600093, 'num_leaves': 113, 'feature_fraction': 0.5001962292353863, 'bagging_fraction': 0.9827638906321258, 'bagging_freq': 3, 'min_child_samples': 32, 'max_depth': 796}. Best is trial 23 with value: 0.8827154608807085.\u001b[0m\n",
      "\u001b[32m[I 2022-07-20 01:47:02,052]\u001b[0m Trial 28 finished with value: 0.8852173800142066 and parameters: {'scalers': 'robust', 'lambda_l1': 1.3991035999981942e-07, 'lambda_l2': 0.033161108232865395, 'num_leaves': 148, 'feature_fraction': 0.5126285318208624, 'bagging_fraction': 0.5967279253744927, 'bagging_freq': 3, 'min_child_samples': 13, 'max_depth': 860}. Best is trial 28 with value: 0.8852173800142066.\u001b[0m\n",
      "\u001b[32m[I 2022-07-20 01:47:02,889]\u001b[0m Trial 29 finished with value: 0.5 and parameters: {'scalers': 'robust', 'lambda_l1': 4.853530255134966e-08, 'lambda_l2': 0.11600577052345144, 'num_leaves': 105, 'feature_fraction': 0.46872865479814874, 'bagging_fraction': 0.6091029360185739, 'bagging_freq': 3, 'min_child_samples': 45, 'max_depth': 873}. Best is trial 28 with value: 0.8852173800142066.\u001b[0m\n",
      "\u001b[32m[I 2022-07-20 01:47:03,697]\u001b[0m Trial 30 finished with value: 0.5 and parameters: {'scalers': 'robust', 'lambda_l1': 1.7541318916104686e-07, 'lambda_l2': 1.1920195773964075, 'num_leaves': 79, 'feature_fraction': 0.5659136705600196, 'bagging_fraction': 0.5332962486841363, 'bagging_freq': 5, 'min_child_samples': 51, 'max_depth': 983}. Best is trial 28 with value: 0.8852173800142066.\u001b[0m\n",
      "\u001b[32m[I 2022-07-20 01:47:05,847]\u001b[0m Trial 31 finished with value: 0.8804213080306346 and parameters: {'scalers': 'robust', 'lambda_l1': 1.0613012875772685e-08, 'lambda_l2': 0.023562204573463478, 'num_leaves': 151, 'feature_fraction': 0.6080126964171781, 'bagging_fraction': 0.5754191659675403, 'bagging_freq': 3, 'min_child_samples': 11, 'max_depth': 751}. Best is trial 28 with value: 0.8852173800142066.\u001b[0m\n",
      "\u001b[32m[I 2022-07-20 01:47:07,240]\u001b[0m Trial 32 finished with value: 0.8632669501551079 and parameters: {'scalers': 'robust', 'lambda_l1': 1.1723578984881963e-05, 'lambda_l2': 0.021984539997575814, 'num_leaves': 125, 'feature_fraction': 0.5131844821299205, 'bagging_fraction': 0.4880600527006414, 'bagging_freq': 3, 'min_child_samples': 23, 'max_depth': 730}. Best is trial 28 with value: 0.8852173800142066.\u001b[0m\n",
      "\u001b[32m[I 2022-07-20 01:47:10,170]\u001b[0m Trial 33 finished with value: 0.8788532942590606 and parameters: {'scalers': 'robust', 'lambda_l1': 3.2127223011655285e-07, 'lambda_l2': 0.1827427478042648, 'num_leaves': 200, 'feature_fraction': 0.5728285986513446, 'bagging_fraction': 0.5649650416572611, 'bagging_freq': 4, 'min_child_samples': 5, 'max_depth': 829}. Best is trial 28 with value: 0.8852173800142066.\u001b[0m\n",
      "\u001b[32m[I 2022-07-20 01:47:12,077]\u001b[0m Trial 34 finished with value: 0.883366049778395 and parameters: {'scalers': 'robust', 'lambda_l1': 4.480206492099719e-08, 'lambda_l2': 0.017958138302277816, 'num_leaves': 127, 'feature_fraction': 0.4112520056862673, 'bagging_fraction': 0.4479704185831176, 'bagging_freq': 2, 'min_child_samples': 13, 'max_depth': 856}. Best is trial 28 with value: 0.8852173800142066.\u001b[0m\n",
      "\u001b[32m[I 2022-07-20 01:47:12,897]\u001b[0m Trial 35 finished with value: 0.7813550367975678 and parameters: {'scalers': 'robust', 'lambda_l1': 4.708978061598439e-08, 'lambda_l2': 1.0076361220991894, 'num_leaves': 125, 'feature_fraction': 0.4335427978750892, 'bagging_fraction': 0.4542105836093588, 'bagging_freq': 2, 'min_child_samples': 30, 'max_depth': 847}. Best is trial 28 with value: 0.8852173800142066.\u001b[0m\n",
      "\u001b[32m[I 2022-07-20 01:47:14,419]\u001b[0m Trial 36 finished with value: 0.8806699269512738 and parameters: {'scalers': 'minmax', 'lambda_l1': 3.4258304431824403e-08, 'lambda_l2': 0.0003944041991408706, 'num_leaves': 161, 'feature_fraction': 0.4127812534347626, 'bagging_fraction': 0.4413474794638923, 'bagging_freq': 4, 'min_child_samples': 14, 'max_depth': 938}. Best is trial 28 with value: 0.8852173800142066.\u001b[0m\n",
      "\u001b[32m[I 2022-07-20 01:47:16,268]\u001b[0m Trial 37 finished with value: 0.8769736405020846 and parameters: {'scalers': 'robust', 'lambda_l1': 1.6073674533195369e-06, 'lambda_l2': 0.0017077645349243122, 'num_leaves': 111, 'feature_fraction': 0.5305464252222267, 'bagging_fraction': 0.6037267621906661, 'bagging_freq': 2, 'min_child_samples': 22, 'max_depth': 910}. Best is trial 28 with value: 0.8852173800142066.\u001b[0m\n",
      "\u001b[32m[I 2022-07-20 01:47:17,653]\u001b[0m Trial 38 finished with value: 0.8790177360264434 and parameters: {'scalers': 'minmax', 'lambda_l1': 3.258687187287645e-07, 'lambda_l2': 0.012139080924517615, 'num_leaves': 90, 'feature_fraction': 0.4608107670239866, 'bagging_fraction': 0.49918150657947946, 'bagging_freq': 4, 'min_child_samples': 11, 'max_depth': 584}. Best is trial 28 with value: 0.8852173800142066.\u001b[0m\n",
      "\u001b[32m[I 2022-07-20 01:47:18,459]\u001b[0m Trial 39 finished with value: 0.785993856977216 and parameters: {'scalers': 'robust', 'lambda_l1': 9.444334152966085e-08, 'lambda_l2': 0.048281742028669514, 'num_leaves': 135, 'feature_fraction': 0.4418942404773819, 'bagging_fraction': 0.4434997789529044, 'bagging_freq': 3, 'min_child_samples': 29, 'max_depth': 721}. Best is trial 28 with value: 0.8852173800142066.\u001b[0m\n",
      "\u001b[32m[I 2022-07-20 01:47:19,347]\u001b[0m Trial 40 finished with value: 0.5 and parameters: {'scalers': 'robust', 'lambda_l1': 2.1599930596995272e-08, 'lambda_l2': 0.10844283654248778, 'num_leaves': 119, 'feature_fraction': 0.49487499653284606, 'bagging_fraction': 0.5328746639784883, 'bagging_freq': 2, 'min_child_samples': 37, 'max_depth': 995}. Best is trial 28 with value: 0.8852173800142066.\u001b[0m\n",
      "\u001b[32m[I 2022-07-20 01:47:20,973]\u001b[0m Trial 41 finished with value: 0.881573856161898 and parameters: {'scalers': 'minmax', 'lambda_l1': 3.5179507587868844e-08, 'lambda_l2': 0.0002968010500596974, 'num_leaves': 166, 'feature_fraction': 0.40068244332903946, 'bagging_fraction': 0.4361839143943816, 'bagging_freq': 4, 'min_child_samples': 15, 'max_depth': 934}. Best is trial 28 with value: 0.8852173800142066.\u001b[0m\n"
     ]
    },
    {
     "name": "stderr",
     "output_type": "stream",
     "text": [
      "\u001b[32m[I 2022-07-20 01:47:22,579]\u001b[0m Trial 42 finished with value: 0.8684630134872008 and parameters: {'scalers': 'minmax', 'lambda_l1': 1.0928343286958552e-08, 'lambda_l2': 0.0004404371707957419, 'num_leaves': 193, 'feature_fraction': 0.4063139615556826, 'bagging_fraction': 0.4417319637913391, 'bagging_freq': 4, 'min_child_samples': 18, 'max_depth': 881}. Best is trial 28 with value: 0.8852173800142066.\u001b[0m\n",
      "\u001b[32m[I 2022-07-20 01:47:24,067]\u001b[0m Trial 43 finished with value: 0.8745703801702253 and parameters: {'scalers': 'minmax', 'lambda_l1': 6.54457616319453e-08, 'lambda_l2': 0.00014355753332428496, 'num_leaves': 157, 'feature_fraction': 0.5462846918471203, 'bagging_fraction': 0.48105225378489314, 'bagging_freq': 4, 'min_child_samples': 11, 'max_depth': 942}. Best is trial 28 with value: 0.8852173800142066.\u001b[0m\n",
      "\u001b[32m[I 2022-07-20 01:47:25,780]\u001b[0m Trial 44 finished with value: 0.8866421478633165 and parameters: {'scalers': 'minmax', 'lambda_l1': 1.5843096732657552e-07, 'lambda_l2': 0.0019728740200122543, 'num_leaves': 175, 'feature_fraction': 0.48536669096061985, 'bagging_fraction': 0.5348384196130493, 'bagging_freq': 5, 'min_child_samples': 17, 'max_depth': 846}. Best is trial 44 with value: 0.8866421478633165.\u001b[0m\n",
      "\u001b[32m[I 2022-07-20 01:47:27,871]\u001b[0m Trial 45 finished with value: 0.8816675712703187 and parameters: {'scalers': 'minmax', 'lambda_l1': 1.671672664576334e-06, 'lambda_l2': 0.01160903117388812, 'num_leaves': 93, 'feature_fraction': 0.48051594675648035, 'bagging_fraction': 0.64346739818364, 'bagging_freq': 5, 'min_child_samples': 9, 'max_depth': 832}. Best is trial 44 with value: 0.8866421478633165.\u001b[0m\n",
      "\u001b[32m[I 2022-07-20 01:47:29,379]\u001b[0m Trial 46 finished with value: 0.8591031049274082 and parameters: {'scalers': 'robust', 'lambda_l1': 1.803947181938642e-07, 'lambda_l2': 0.44534946138323206, 'num_leaves': 226, 'feature_fraction': 0.5801928471577135, 'bagging_fraction': 0.5196101171286034, 'bagging_freq': 6, 'min_child_samples': 24, 'max_depth': 704}. Best is trial 44 with value: 0.8866421478633165.\u001b[0m\n",
      "\u001b[32m[I 2022-07-20 01:47:31,137]\u001b[0m Trial 47 finished with value: 0.8737719717717782 and parameters: {'scalers': 'minmax', 'lambda_l1': 0.010239893981412089, 'lambda_l2': 0.00199356568037105, 'num_leaves': 172, 'feature_fraction': 0.520086974328024, 'bagging_fraction': 0.67974797319609, 'bagging_freq': 3, 'min_child_samples': 17, 'max_depth': 754}. Best is trial 44 with value: 0.8866421478633165.\u001b[0m\n",
      "\u001b[32m[I 2022-07-20 01:47:31,652]\u001b[0m Trial 48 finished with value: 0.5 and parameters: {'scalers': 'robust', 'lambda_l1': 6.705536010655959e-05, 'lambda_l2': 0.07057619199463386, 'num_leaves': 130, 'feature_fraction': 0.4327330736041936, 'bagging_fraction': 0.6127458084589228, 'bagging_freq': 5, 'min_child_samples': 90, 'max_depth': 493}. Best is trial 44 with value: 0.8866421478633165.\u001b[0m\n",
      "\u001b[32m[I 2022-07-20 01:47:34,381]\u001b[0m Trial 49 finished with value: 0.8837643752016817 and parameters: {'scalers': 'robust', 'lambda_l1': 0.000870181480813811, 'lambda_l2': 0.012380620213229004, 'num_leaves': 191, 'feature_fraction': 0.538830298108379, 'bagging_fraction': 0.5421210112540851, 'bagging_freq': 5, 'min_child_samples': 9, 'max_depth': 878}. Best is trial 44 with value: 0.8866421478633165.\u001b[0m\n"
     ]
    }
   ],
   "source": [
    "study.optimize(objective, n_trials=50)"
   ]
  },
  {
   "cell_type": "code",
   "execution_count": 54,
   "id": "728e2a21",
   "metadata": {},
   "outputs": [],
   "source": [
    "# Get best trial based on metric score\n",
    "trial = study.best_trial"
   ]
  },
  {
   "cell_type": "code",
   "execution_count": 55,
   "id": "72c14fe5",
   "metadata": {},
   "outputs": [
    {
     "name": "stdout",
     "output_type": "stream",
     "text": [
      "    scalers: minmax\n",
      "    lambda_l1: 1.5843096732657552e-07\n",
      "    lambda_l2: 0.0019728740200122543\n",
      "    num_leaves: 175\n",
      "    feature_fraction: 0.48536669096061985\n",
      "    bagging_fraction: 0.5348384196130493\n",
      "    bagging_freq: 5\n",
      "    min_child_samples: 17\n",
      "    max_depth: 846\n"
     ]
    }
   ],
   "source": [
    "# Print params for best trial\n",
    "for key, value in trial.params.items():\n",
    "    print(\"    {}: {}\".format(key, value))"
   ]
  },
  {
   "cell_type": "code",
   "execution_count": 56,
   "id": "932d3319",
   "metadata": {},
   "outputs": [
    {
     "data": {
      "text/plain": [
       "0.8866421478633165"
      ]
     },
     "execution_count": 56,
     "metadata": {},
     "output_type": "execute_result"
    }
   ],
   "source": [
    "# Best Score from HP Opt\n",
    "trial.values[0]"
   ]
  },
  {
   "cell_type": "markdown",
   "id": "a61cf7c6",
   "metadata": {},
   "source": [
    "- Pré selecionar as features mais importantes auxiliou a obter uma performance ainda melhor a partir do pipeline com Robust Scaler e LightGBM"
   ]
  },
  {
   "cell_type": "markdown",
   "id": "a61347a5",
   "metadata": {},
   "source": [
    "### Testing other algorithms "
   ]
  },
  {
   "cell_type": "code",
   "execution_count": 58,
   "id": "6215f6f8",
   "metadata": {},
   "outputs": [],
   "source": [
    "X_test, y_test = test_mod.drop(\"Group\", axis=1), test_mod[\"Group\"]\n",
    "X, y = train_mod.drop(\"Group\", axis=1), train_mod[\"Group\"]"
   ]
  },
  {
   "cell_type": "markdown",
   "id": "246eb406",
   "metadata": {},
   "source": [
    "###### Get most important features from boruta"
   ]
  },
  {
   "cell_type": "code",
   "execution_count": 59,
   "id": "7a49642c",
   "metadata": {
    "scrolled": true
   },
   "outputs": [
    {
     "name": "stdout",
     "output_type": "stream",
     "text": [
      "Iteration: \t1 / 100\n",
      "Confirmed: \t0\n",
      "Tentative: \t635\n",
      "Rejected: \t0\n",
      "Iteration: \t2 / 100\n",
      "Confirmed: \t0\n",
      "Tentative: \t635\n",
      "Rejected: \t0\n",
      "Iteration: \t3 / 100\n",
      "Confirmed: \t0\n",
      "Tentative: \t635\n",
      "Rejected: \t0\n",
      "Iteration: \t4 / 100\n",
      "Confirmed: \t0\n",
      "Tentative: \t635\n",
      "Rejected: \t0\n",
      "Iteration: \t5 / 100\n",
      "Confirmed: \t0\n",
      "Tentative: \t635\n",
      "Rejected: \t0\n",
      "Iteration: \t6 / 100\n",
      "Confirmed: \t0\n",
      "Tentative: \t635\n",
      "Rejected: \t0\n",
      "Iteration: \t7 / 100\n",
      "Confirmed: \t0\n",
      "Tentative: \t635\n",
      "Rejected: \t0\n",
      "Iteration: \t8 / 100\n",
      "Confirmed: \t0\n",
      "Tentative: \t50\n",
      "Rejected: \t585\n",
      "Iteration: \t9 / 100\n",
      "Confirmed: \t10\n",
      "Tentative: \t40\n",
      "Rejected: \t585\n",
      "Iteration: \t10 / 100\n",
      "Confirmed: \t10\n",
      "Tentative: \t40\n",
      "Rejected: \t585\n",
      "Iteration: \t11 / 100\n",
      "Confirmed: \t10\n",
      "Tentative: \t40\n",
      "Rejected: \t585\n",
      "Iteration: \t12 / 100\n",
      "Confirmed: \t12\n",
      "Tentative: \t32\n",
      "Rejected: \t591\n",
      "Iteration: \t13 / 100\n",
      "Confirmed: \t12\n",
      "Tentative: \t32\n",
      "Rejected: \t591\n",
      "Iteration: \t14 / 100\n",
      "Confirmed: \t12\n",
      "Tentative: \t32\n",
      "Rejected: \t591\n",
      "Iteration: \t15 / 100\n",
      "Confirmed: \t12\n",
      "Tentative: \t32\n",
      "Rejected: \t591\n",
      "Iteration: \t16 / 100\n",
      "Confirmed: \t16\n",
      "Tentative: \t28\n",
      "Rejected: \t591\n",
      "Iteration: \t17 / 100\n",
      "Confirmed: \t16\n",
      "Tentative: \t28\n",
      "Rejected: \t591\n",
      "Iteration: \t18 / 100\n",
      "Confirmed: \t16\n",
      "Tentative: \t28\n",
      "Rejected: \t591\n",
      "Iteration: \t19 / 100\n",
      "Confirmed: \t18\n",
      "Tentative: \t26\n",
      "Rejected: \t591\n",
      "Iteration: \t20 / 100\n",
      "Confirmed: \t18\n",
      "Tentative: \t26\n",
      "Rejected: \t591\n",
      "Iteration: \t21 / 100\n",
      "Confirmed: \t18\n",
      "Tentative: \t26\n",
      "Rejected: \t591\n",
      "Iteration: \t22 / 100\n",
      "Confirmed: \t18\n",
      "Tentative: \t26\n",
      "Rejected: \t591\n",
      "Iteration: \t23 / 100\n",
      "Confirmed: \t18\n",
      "Tentative: \t26\n",
      "Rejected: \t591\n",
      "Iteration: \t24 / 100\n",
      "Confirmed: \t18\n",
      "Tentative: \t26\n",
      "Rejected: \t591\n",
      "Iteration: \t25 / 100\n",
      "Confirmed: \t18\n",
      "Tentative: \t26\n",
      "Rejected: \t591\n",
      "Iteration: \t26 / 100\n",
      "Confirmed: \t20\n",
      "Tentative: \t24\n",
      "Rejected: \t591\n",
      "Iteration: \t27 / 100\n",
      "Confirmed: \t20\n",
      "Tentative: \t24\n",
      "Rejected: \t591\n",
      "Iteration: \t28 / 100\n",
      "Confirmed: \t20\n",
      "Tentative: \t24\n",
      "Rejected: \t591\n",
      "Iteration: \t29 / 100\n",
      "Confirmed: \t22\n",
      "Tentative: \t22\n",
      "Rejected: \t591\n",
      "Iteration: \t30 / 100\n",
      "Confirmed: \t22\n",
      "Tentative: \t22\n",
      "Rejected: \t591\n",
      "Iteration: \t31 / 100\n",
      "Confirmed: \t22\n",
      "Tentative: \t22\n",
      "Rejected: \t591\n",
      "Iteration: \t32 / 100\n",
      "Confirmed: \t23\n",
      "Tentative: \t21\n",
      "Rejected: \t591\n",
      "Iteration: \t33 / 100\n",
      "Confirmed: \t23\n",
      "Tentative: \t21\n",
      "Rejected: \t591\n",
      "Iteration: \t34 / 100\n",
      "Confirmed: \t23\n",
      "Tentative: \t21\n",
      "Rejected: \t591\n",
      "Iteration: \t35 / 100\n",
      "Confirmed: \t23\n",
      "Tentative: \t21\n",
      "Rejected: \t591\n",
      "Iteration: \t36 / 100\n",
      "Confirmed: \t23\n",
      "Tentative: \t21\n",
      "Rejected: \t591\n",
      "Iteration: \t37 / 100\n",
      "Confirmed: \t23\n",
      "Tentative: \t21\n",
      "Rejected: \t591\n",
      "Iteration: \t38 / 100\n",
      "Confirmed: \t23\n",
      "Tentative: \t21\n",
      "Rejected: \t591\n",
      "Iteration: \t39 / 100\n",
      "Confirmed: \t23\n",
      "Tentative: \t21\n",
      "Rejected: \t591\n",
      "Iteration: \t40 / 100\n",
      "Confirmed: \t23\n",
      "Tentative: \t21\n",
      "Rejected: \t591\n",
      "Iteration: \t41 / 100\n",
      "Confirmed: \t23\n",
      "Tentative: \t21\n",
      "Rejected: \t591\n",
      "Iteration: \t42 / 100\n",
      "Confirmed: \t23\n",
      "Tentative: \t21\n",
      "Rejected: \t591\n",
      "Iteration: \t43 / 100\n",
      "Confirmed: \t24\n",
      "Tentative: \t20\n",
      "Rejected: \t591\n",
      "Iteration: \t44 / 100\n",
      "Confirmed: \t24\n",
      "Tentative: \t20\n",
      "Rejected: \t591\n",
      "Iteration: \t45 / 100\n",
      "Confirmed: \t24\n",
      "Tentative: \t20\n",
      "Rejected: \t591\n",
      "Iteration: \t46 / 100\n",
      "Confirmed: \t24\n",
      "Tentative: \t20\n",
      "Rejected: \t591\n",
      "Iteration: \t47 / 100\n",
      "Confirmed: \t24\n",
      "Tentative: \t20\n",
      "Rejected: \t591\n",
      "Iteration: \t48 / 100\n",
      "Confirmed: \t24\n",
      "Tentative: \t20\n",
      "Rejected: \t591\n",
      "Iteration: \t49 / 100\n",
      "Confirmed: \t24\n",
      "Tentative: \t20\n",
      "Rejected: \t591\n",
      "Iteration: \t50 / 100\n",
      "Confirmed: \t24\n",
      "Tentative: \t20\n",
      "Rejected: \t591\n",
      "Iteration: \t51 / 100\n",
      "Confirmed: \t24\n",
      "Tentative: \t18\n",
      "Rejected: \t593\n",
      "Iteration: \t52 / 100\n",
      "Confirmed: \t24\n",
      "Tentative: \t18\n",
      "Rejected: \t593\n",
      "Iteration: \t53 / 100\n",
      "Confirmed: \t24\n",
      "Tentative: \t18\n",
      "Rejected: \t593\n",
      "Iteration: \t54 / 100\n",
      "Confirmed: \t24\n",
      "Tentative: \t18\n",
      "Rejected: \t593\n",
      "Iteration: \t55 / 100\n",
      "Confirmed: \t24\n",
      "Tentative: \t18\n",
      "Rejected: \t593\n",
      "Iteration: \t56 / 100\n",
      "Confirmed: \t24\n",
      "Tentative: \t18\n",
      "Rejected: \t593\n",
      "Iteration: \t57 / 100\n",
      "Confirmed: \t24\n",
      "Tentative: \t18\n",
      "Rejected: \t593\n",
      "Iteration: \t58 / 100\n",
      "Confirmed: \t24\n",
      "Tentative: \t18\n",
      "Rejected: \t593\n",
      "Iteration: \t59 / 100\n",
      "Confirmed: \t24\n",
      "Tentative: \t18\n",
      "Rejected: \t593\n",
      "Iteration: \t60 / 100\n",
      "Confirmed: \t24\n",
      "Tentative: \t18\n",
      "Rejected: \t593\n",
      "Iteration: \t61 / 100\n",
      "Confirmed: \t24\n",
      "Tentative: \t18\n",
      "Rejected: \t593\n",
      "Iteration: \t62 / 100\n",
      "Confirmed: \t24\n",
      "Tentative: \t18\n",
      "Rejected: \t593\n",
      "Iteration: \t63 / 100\n",
      "Confirmed: \t24\n",
      "Tentative: \t18\n",
      "Rejected: \t593\n",
      "Iteration: \t64 / 100\n",
      "Confirmed: \t24\n",
      "Tentative: \t18\n",
      "Rejected: \t593\n",
      "Iteration: \t65 / 100\n",
      "Confirmed: \t24\n",
      "Tentative: \t18\n",
      "Rejected: \t593\n",
      "Iteration: \t66 / 100\n",
      "Confirmed: \t24\n",
      "Tentative: \t18\n",
      "Rejected: \t593\n",
      "Iteration: \t67 / 100\n",
      "Confirmed: \t24\n",
      "Tentative: \t18\n",
      "Rejected: \t593\n",
      "Iteration: \t68 / 100\n",
      "Confirmed: \t24\n",
      "Tentative: \t18\n",
      "Rejected: \t593\n",
      "Iteration: \t69 / 100\n",
      "Confirmed: \t24\n",
      "Tentative: \t18\n",
      "Rejected: \t593\n",
      "Iteration: \t70 / 100\n",
      "Confirmed: \t24\n",
      "Tentative: \t17\n",
      "Rejected: \t594\n",
      "Iteration: \t71 / 100\n",
      "Confirmed: \t24\n",
      "Tentative: \t17\n",
      "Rejected: \t594\n",
      "Iteration: \t72 / 100\n",
      "Confirmed: \t25\n",
      "Tentative: \t16\n",
      "Rejected: \t594\n",
      "Iteration: \t73 / 100\n",
      "Confirmed: \t25\n",
      "Tentative: \t16\n",
      "Rejected: \t594\n",
      "Iteration: \t74 / 100\n",
      "Confirmed: \t25\n",
      "Tentative: \t16\n",
      "Rejected: \t594\n",
      "Iteration: \t75 / 100\n",
      "Confirmed: \t25\n",
      "Tentative: \t16\n",
      "Rejected: \t594\n",
      "Iteration: \t76 / 100\n",
      "Confirmed: \t25\n",
      "Tentative: \t16\n",
      "Rejected: \t594\n",
      "Iteration: \t77 / 100\n",
      "Confirmed: \t25\n",
      "Tentative: \t16\n",
      "Rejected: \t594\n",
      "Iteration: \t78 / 100\n",
      "Confirmed: \t25\n",
      "Tentative: \t16\n",
      "Rejected: \t594\n",
      "Iteration: \t79 / 100\n",
      "Confirmed: \t25\n",
      "Tentative: \t16\n",
      "Rejected: \t594\n",
      "Iteration: \t80 / 100\n",
      "Confirmed: \t25\n",
      "Tentative: \t16\n",
      "Rejected: \t594\n",
      "Iteration: \t81 / 100\n",
      "Confirmed: \t25\n",
      "Tentative: \t16\n",
      "Rejected: \t594\n",
      "Iteration: \t82 / 100\n",
      "Confirmed: \t25\n",
      "Tentative: \t16\n",
      "Rejected: \t594\n",
      "Iteration: \t83 / 100\n",
      "Confirmed: \t25\n",
      "Tentative: \t16\n",
      "Rejected: \t594\n",
      "Iteration: \t84 / 100\n",
      "Confirmed: \t25\n",
      "Tentative: \t16\n",
      "Rejected: \t594\n",
      "Iteration: \t85 / 100\n",
      "Confirmed: \t26\n",
      "Tentative: \t15\n",
      "Rejected: \t594\n",
      "Iteration: \t86 / 100\n",
      "Confirmed: \t26\n",
      "Tentative: \t15\n",
      "Rejected: \t594\n",
      "Iteration: \t87 / 100\n",
      "Confirmed: \t26\n",
      "Tentative: \t15\n",
      "Rejected: \t594\n",
      "Iteration: \t88 / 100\n",
      "Confirmed: \t26\n",
      "Tentative: \t15\n",
      "Rejected: \t594\n",
      "Iteration: \t89 / 100\n",
      "Confirmed: \t26\n",
      "Tentative: \t15\n",
      "Rejected: \t594\n",
      "Iteration: \t90 / 100\n",
      "Confirmed: \t26\n",
      "Tentative: \t15\n",
      "Rejected: \t594\n",
      "Iteration: \t91 / 100\n",
      "Confirmed: \t26\n",
      "Tentative: \t15\n",
      "Rejected: \t594\n",
      "Iteration: \t92 / 100\n",
      "Confirmed: \t26\n",
      "Tentative: \t15\n",
      "Rejected: \t594\n",
      "Iteration: \t93 / 100\n",
      "Confirmed: \t26\n",
      "Tentative: \t15\n",
      "Rejected: \t594\n",
      "Iteration: \t94 / 100\n",
      "Confirmed: \t26\n",
      "Tentative: \t15\n",
      "Rejected: \t594\n",
      "Iteration: \t95 / 100\n",
      "Confirmed: \t27\n",
      "Tentative: \t14\n",
      "Rejected: \t594\n",
      "Iteration: \t96 / 100\n",
      "Confirmed: \t27\n",
      "Tentative: \t14\n",
      "Rejected: \t594\n",
      "Iteration: \t97 / 100\n",
      "Confirmed: \t27\n",
      "Tentative: \t14\n",
      "Rejected: \t594\n",
      "Iteration: \t98 / 100\n",
      "Confirmed: \t27\n",
      "Tentative: \t14\n",
      "Rejected: \t594\n",
      "Iteration: \t99 / 100\n",
      "Confirmed: \t27\n",
      "Tentative: \t14\n",
      "Rejected: \t594\n",
      "\n",
      "\n",
      "BorutaPy finished running.\n",
      "\n",
      "Iteration: \t100 / 100\n",
      "Confirmed: \t27\n",
      "Tentative: \t11\n",
      "Rejected: \t594\n",
      "Number of selected features:  27\n"
     ]
    }
   ],
   "source": [
    "# define random forest classifier, with utilising all cores and\n",
    "# sampling in proportion to y labels\n",
    "rf = RandomForestClassifier(n_jobs=-1, class_weight='balanced', max_depth=5)\n",
    "# define Boruta feature selection method\n",
    "feat_selector = BorutaPy(rf, n_estimators='auto', verbose=2, random_state=SEED, )\n",
    "feat_selector.fit(np.array(X), y)\n",
    "print(\"Number of selected features: \", feat_selector.n_features_)"
   ]
  },
  {
   "cell_type": "code",
   "execution_count": 60,
   "id": "5be56801",
   "metadata": {},
   "outputs": [],
   "source": [
    "# Filter most importante features\n",
    "X_transform = feat_selector.transform(np.array(X))\n",
    "X_transform_test = feat_selector.transform(np.array(X_test))"
   ]
  },
  {
   "cell_type": "markdown",
   "id": "46bf420c",
   "metadata": {},
   "source": [
    "#### Testando o GBM"
   ]
  },
  {
   "cell_type": "code",
   "execution_count": 61,
   "id": "10216836",
   "metadata": {},
   "outputs": [],
   "source": [
    "gbc = GradientBoostingClassifier(random_state = SEED)"
   ]
  },
  {
   "cell_type": "code",
   "execution_count": 62,
   "id": "9c4988bc",
   "metadata": {},
   "outputs": [],
   "source": [
    "parameters = {'max_depth':list(range(1,100,1)), 'subsample':list(np.arange(0.05,1,0.05)),\n",
    "             'learning_rate':list(np.arange(0.05,1,0.05)), 'n_estimators':list(range(50,500,25)), }"
   ]
  },
  {
   "cell_type": "code",
   "execution_count": 65,
   "id": "e50d759d",
   "metadata": {},
   "outputs": [],
   "source": [
    "rscv_gbc = RandomizedSearchCV(gbc, parameters, scoring=metric_scorer, n_jobs = -1, verbose = 4, n_iter = 50)"
   ]
  },
  {
   "cell_type": "code",
   "execution_count": 66,
   "id": "2cdc42f1",
   "metadata": {},
   "outputs": [
    {
     "name": "stdout",
     "output_type": "stream",
     "text": [
      "Fitting 5 folds for each of 50 candidates, totalling 250 fits\n"
     ]
    }
   ],
   "source": [
    "scores_gbc = rscv_gbc.fit(X,y)"
   ]
  },
  {
   "cell_type": "code",
   "execution_count": 67,
   "id": "c8625829",
   "metadata": {},
   "outputs": [
    {
     "data": {
      "text/plain": [
       "0.7790040106951872"
      ]
     },
     "execution_count": 67,
     "metadata": {},
     "output_type": "execute_result"
    }
   ],
   "source": [
    "scores_gbc.best_score_"
   ]
  },
  {
   "cell_type": "markdown",
   "id": "f52d5a65",
   "metadata": {},
   "source": [
    "* A balanced accuracy utilizando o random search e o dataset sem feature selection com boruta não foi melhor que o optuna"
   ]
  },
  {
   "cell_type": "code",
   "execution_count": 68,
   "id": "fea1723a",
   "metadata": {},
   "outputs": [
    {
     "name": "stdout",
     "output_type": "stream",
     "text": [
      "Fitting 5 folds for each of 50 candidates, totalling 250 fits\n"
     ]
    }
   ],
   "source": [
    "scores_gbc_boruta = rscv_gbc.fit(X_transform, y)"
   ]
  },
  {
   "cell_type": "code",
   "execution_count": 189,
   "id": "9086544f",
   "metadata": {},
   "outputs": [
    {
     "data": {
      "text/plain": [
       "0.844659090909091"
      ]
     },
     "execution_count": 189,
     "metadata": {},
     "output_type": "execute_result"
    }
   ],
   "source": [
    "scores_gbc_boruta.best_score_"
   ]
  },
  {
   "cell_type": "code",
   "execution_count": null,
   "id": "2c88790b",
   "metadata": {},
   "outputs": [],
   "source": []
  },
  {
   "cell_type": "markdown",
   "id": "0e1b9539",
   "metadata": {},
   "source": [
    "* A feature selection com o boruta melhorou muito o score"
   ]
  },
  {
   "cell_type": "markdown",
   "id": "f0e53c2f",
   "metadata": {},
   "source": [
    "### Testando o LGBM com random search"
   ]
  },
  {
   "cell_type": "code",
   "execution_count": 69,
   "id": "e2e220c3",
   "metadata": {},
   "outputs": [],
   "source": [
    "lgbm = lgb.LGBMClassifier(random_state=SEED)\n",
    "parameters = {'num_leaves':list(range(20,100,5)), 'min_child_samples':list(range(5,30,5)),'max_depth':list(range(-1,20,1)),\n",
    "             'learning_rate':list(np.arange(0.05,1,0.05)),'reg_alpha':list(np.arange(0,0.6, 0.1))}\n",
    "rscv_lgbm = RandomizedSearchCV(lgbm, parameters, scoring=metric_scorer, n_jobs = -1, verbose = 4, n_iter = 200)"
   ]
  },
  {
   "cell_type": "code",
   "execution_count": 70,
   "id": "e96efca3",
   "metadata": {},
   "outputs": [
    {
     "name": "stdout",
     "output_type": "stream",
     "text": [
      "Fitting 5 folds for each of 200 candidates, totalling 1000 fits\n"
     ]
    }
   ],
   "source": [
    "scores_lgbm = rscv_lgbm.fit(X, y)"
   ]
  },
  {
   "cell_type": "code",
   "execution_count": 71,
   "id": "2b6dece5",
   "metadata": {},
   "outputs": [
    {
     "data": {
      "text/plain": [
       "0.847159090909091"
      ]
     },
     "execution_count": 71,
     "metadata": {},
     "output_type": "execute_result"
    }
   ],
   "source": [
    "scores_lgbm.best_score_"
   ]
  },
  {
   "cell_type": "code",
   "execution_count": 72,
   "id": "1abeb037",
   "metadata": {},
   "outputs": [
    {
     "data": {
      "text/plain": [
       "(64, 635)"
      ]
     },
     "execution_count": 72,
     "metadata": {},
     "output_type": "execute_result"
    }
   ],
   "source": [
    "X_test.shape"
   ]
  },
  {
   "cell_type": "code",
   "execution_count": 73,
   "id": "dcb411c3",
   "metadata": {},
   "outputs": [
    {
     "name": "stdout",
     "output_type": "stream",
     "text": [
      "Fitting 5 folds for each of 200 candidates, totalling 1000 fits\n"
     ]
    }
   ],
   "source": [
    "scores_lgbm_boruta = rscv_lgbm.fit(X_transform, y)"
   ]
  },
  {
   "cell_type": "code",
   "execution_count": 74,
   "id": "9cd37037",
   "metadata": {},
   "outputs": [
    {
     "data": {
      "text/plain": [
       "0.8677272727272728"
      ]
     },
     "execution_count": 74,
     "metadata": {},
     "output_type": "execute_result"
    }
   ],
   "source": [
    "scores_lgbm_boruta.best_score_"
   ]
  },
  {
   "cell_type": "markdown",
   "id": "ea4cd808",
   "metadata": {},
   "source": [
    "* LGBM é melhor que GBM"
   ]
  },
  {
   "cell_type": "markdown",
   "id": "d8ca8416",
   "metadata": {},
   "source": [
    "### Testando SVM"
   ]
  },
  {
   "cell_type": "code",
   "execution_count": 80,
   "id": "c06d53dd",
   "metadata": {},
   "outputs": [],
   "source": [
    "svc_poly = SVC(random_state=SEED)\n",
    "#parameters = {'C': list(np.arange(1.0,100,0.25)), 'coef0': list(np.arange(1.0,100,0.25)), 'degree': list(range(1,20,1)),\n",
    "              #'shrinking': ['True', 'False'], 'class_weight': ['balanced'], 'gamma': ['scale','auto'] }\n",
    "\n",
    "params = {'kernel': ['rbf'],\n",
    "          'degree': np.linspace(1, 8, 8),\n",
    "          'C': np.logspace(-3, 5, 40),\n",
    "          'gamma': np.logspace(-3, 5, 30),\n",
    "         'class_weight': ['balanced']}\n",
    "rsvc_svc_poly = RandomizedSearchCV(svc_poly, params, scoring=metric_scorer, n_jobs = -1, verbose = 4, n_iter = 50)"
   ]
  },
  {
   "cell_type": "code",
   "execution_count": 87,
   "id": "65c2246a",
   "metadata": {},
   "outputs": [
    {
     "name": "stdout",
     "output_type": "stream",
     "text": [
      "Fitting 5 folds for each of 50 candidates, totalling 250 fits\n"
     ]
    }
   ],
   "source": [
    "scores = rsvc_svc_poly.fit(X, y)"
   ]
  },
  {
   "cell_type": "code",
   "execution_count": 88,
   "id": "95aa631f",
   "metadata": {},
   "outputs": [
    {
     "data": {
      "text/plain": [
       "0.8009625668449198"
      ]
     },
     "execution_count": 88,
     "metadata": {},
     "output_type": "execute_result"
    }
   ],
   "source": [
    "scores.best_score_"
   ]
  },
  {
   "cell_type": "code",
   "execution_count": 89,
   "id": "8402c59a",
   "metadata": {},
   "outputs": [
    {
     "name": "stdout",
     "output_type": "stream",
     "text": [
      "Fitting 5 folds for each of 50 candidates, totalling 250 fits\n"
     ]
    }
   ],
   "source": [
    "scores = rsvc_svc_poly.fit(X_transform, y)"
   ]
  },
  {
   "cell_type": "code",
   "execution_count": 90,
   "id": "71dd2280",
   "metadata": {},
   "outputs": [
    {
     "data": {
      "text/plain": [
       "0.7593716577540107"
      ]
     },
     "execution_count": 90,
     "metadata": {},
     "output_type": "execute_result"
    }
   ],
   "source": [
    "scores.best_score_"
   ]
  },
  {
   "cell_type": "markdown",
   "id": "f905c76c",
   "metadata": {},
   "source": [
    "* SVM com boruta piorou o resultado"
   ]
  },
  {
   "cell_type": "markdown",
   "id": "fddd04a6",
   "metadata": {},
   "source": [
    "# Detectando e removendo outliers"
   ]
  },
  {
   "cell_type": "code",
   "execution_count": 91,
   "id": "24919e92",
   "metadata": {},
   "outputs": [
    {
     "data": {
      "text/html": [
       "<style>#sk-container-id-2 {color: black;background-color: white;}#sk-container-id-2 pre{padding: 0;}#sk-container-id-2 div.sk-toggleable {background-color: white;}#sk-container-id-2 label.sk-toggleable__label {cursor: pointer;display: block;width: 100%;margin-bottom: 0;padding: 0.3em;box-sizing: border-box;text-align: center;}#sk-container-id-2 label.sk-toggleable__label-arrow:before {content: \"▸\";float: left;margin-right: 0.25em;color: #696969;}#sk-container-id-2 label.sk-toggleable__label-arrow:hover:before {color: black;}#sk-container-id-2 div.sk-estimator:hover label.sk-toggleable__label-arrow:before {color: black;}#sk-container-id-2 div.sk-toggleable__content {max-height: 0;max-width: 0;overflow: hidden;text-align: left;background-color: #f0f8ff;}#sk-container-id-2 div.sk-toggleable__content pre {margin: 0.2em;color: black;border-radius: 0.25em;background-color: #f0f8ff;}#sk-container-id-2 input.sk-toggleable__control:checked~div.sk-toggleable__content {max-height: 200px;max-width: 100%;overflow: auto;}#sk-container-id-2 input.sk-toggleable__control:checked~label.sk-toggleable__label-arrow:before {content: \"▾\";}#sk-container-id-2 div.sk-estimator input.sk-toggleable__control:checked~label.sk-toggleable__label {background-color: #d4ebff;}#sk-container-id-2 div.sk-label input.sk-toggleable__control:checked~label.sk-toggleable__label {background-color: #d4ebff;}#sk-container-id-2 input.sk-hidden--visually {border: 0;clip: rect(1px 1px 1px 1px);clip: rect(1px, 1px, 1px, 1px);height: 1px;margin: -1px;overflow: hidden;padding: 0;position: absolute;width: 1px;}#sk-container-id-2 div.sk-estimator {font-family: monospace;background-color: #f0f8ff;border: 1px dotted black;border-radius: 0.25em;box-sizing: border-box;margin-bottom: 0.5em;}#sk-container-id-2 div.sk-estimator:hover {background-color: #d4ebff;}#sk-container-id-2 div.sk-parallel-item::after {content: \"\";width: 100%;border-bottom: 1px solid gray;flex-grow: 1;}#sk-container-id-2 div.sk-label:hover label.sk-toggleable__label {background-color: #d4ebff;}#sk-container-id-2 div.sk-serial::before {content: \"\";position: absolute;border-left: 1px solid gray;box-sizing: border-box;top: 0;bottom: 0;left: 50%;z-index: 0;}#sk-container-id-2 div.sk-serial {display: flex;flex-direction: column;align-items: center;background-color: white;padding-right: 0.2em;padding-left: 0.2em;position: relative;}#sk-container-id-2 div.sk-item {position: relative;z-index: 1;}#sk-container-id-2 div.sk-parallel {display: flex;align-items: stretch;justify-content: center;background-color: white;position: relative;}#sk-container-id-2 div.sk-item::before, #sk-container-id-2 div.sk-parallel-item::before {content: \"\";position: absolute;border-left: 1px solid gray;box-sizing: border-box;top: 0;bottom: 0;left: 50%;z-index: -1;}#sk-container-id-2 div.sk-parallel-item {display: flex;flex-direction: column;z-index: 1;position: relative;background-color: white;}#sk-container-id-2 div.sk-parallel-item:first-child::after {align-self: flex-end;width: 50%;}#sk-container-id-2 div.sk-parallel-item:last-child::after {align-self: flex-start;width: 50%;}#sk-container-id-2 div.sk-parallel-item:only-child::after {width: 0;}#sk-container-id-2 div.sk-dashed-wrapped {border: 1px dashed gray;margin: 0 0.4em 0.5em 0.4em;box-sizing: border-box;padding-bottom: 0.4em;background-color: white;}#sk-container-id-2 div.sk-label label {font-family: monospace;font-weight: bold;display: inline-block;line-height: 1.2em;}#sk-container-id-2 div.sk-label-container {text-align: center;}#sk-container-id-2 div.sk-container {/* jupyter's `normalize.less` sets `[hidden] { display: none; }` but bootstrap.min.css set `[hidden] { display: none !important; }` so we also need the `!important` here to be able to override the default hidden behavior on the sphinx rendered scikit-learn.org. See: https://github.com/scikit-learn/scikit-learn/issues/21755 */display: inline-block !important;position: relative;}#sk-container-id-2 div.sk-text-repr-fallback {display: none;}</style><div id=\"sk-container-id-2\" class=\"sk-top-container\"><div class=\"sk-text-repr-fallback\"><pre>IsolationForest(n_jobs=-1, random_state=42)</pre><b>In a Jupyter environment, please rerun this cell to show the HTML representation or trust the notebook. <br />On GitHub, the HTML representation is unable to render, please try loading this page with nbviewer.org.</b></div><div class=\"sk-container\" hidden><div class=\"sk-item\"><div class=\"sk-estimator sk-toggleable\"><input class=\"sk-toggleable__control sk-hidden--visually\" id=\"sk-estimator-id-4\" type=\"checkbox\" checked><label for=\"sk-estimator-id-4\" class=\"sk-toggleable__label sk-toggleable__label-arrow\">IsolationForest</label><div class=\"sk-toggleable__content\"><pre>IsolationForest(n_jobs=-1, random_state=42)</pre></div></div></div></div></div>"
      ],
      "text/plain": [
       "IsolationForest(n_jobs=-1, random_state=42)"
      ]
     },
     "execution_count": 91,
     "metadata": {},
     "output_type": "execute_result"
    }
   ],
   "source": [
    "features = X.columns\n",
    "isf = IsolationForest(n_jobs=-1, random_state=SEED)\n",
    "isf.fit(X, y)"
   ]
  },
  {
   "cell_type": "code",
   "execution_count": 92,
   "id": "f8da3867",
   "metadata": {},
   "outputs": [
    {
     "name": "stdout",
     "output_type": "stream",
     "text": [
      "[-0.37335031 -0.35718788 -0.3532475  -0.38081305 -0.3755523  -0.38071579\n",
      " -0.40268464 -0.40481986 -0.36316005 -0.34662589 -0.37056069 -0.351747\n",
      " -0.36761156 -0.38240104 -0.36071517 -0.37822417 -0.3595377  -0.37130017\n",
      " -0.38077036 -0.36608276 -0.37009426 -0.38869507 -0.37389165 -0.35993523\n",
      " -0.40506506 -0.37108833 -0.383933   -0.35960726 -0.36161567 -0.37838311\n",
      " -0.36670177 -0.36976671 -0.3473115  -0.36740176 -0.40100442 -0.35180003\n",
      " -0.35043109 -0.3938176  -0.38918293 -0.34834503 -0.36718836 -0.36640724\n",
      " -0.36498337 -0.36673575 -0.37715813 -0.37986126 -0.37473146 -0.36443535\n",
      " -0.36271508 -0.4041507  -0.38693205 -0.36015692 -0.38423067 -0.38874271\n",
      " -0.37899973 -0.43118327 -0.34348181 -0.37242663 -0.37384886 -0.36287897\n",
      " -0.36389237 -0.37658624 -0.3694246  -0.37955559 -0.38231959 -0.36604661\n",
      " -0.35554789 -0.36947836 -0.39100332 -0.35878104 -0.35886513 -0.38116715\n",
      " -0.35869257 -0.3996468  -0.37528464 -0.39273191 -0.39003302 -0.38230307\n",
      " -0.35704667 -0.3869224  -0.36358863 -0.38820681 -0.39444498 -0.38426232\n",
      " -0.3730343  -0.40292845 -0.36795965 -0.39754188 -0.38737126 -0.35621096\n",
      " -0.38614144 -0.35577588 -0.38523774 -0.38419689 -0.35993064 -0.37551611\n",
      " -0.36813885 -0.40881119 -0.38526277 -0.3436433  -0.373631   -0.3765215\n",
      " -0.35996227 -0.3667237  -0.37923601 -0.34441085 -0.41315949 -0.35490049\n",
      " -0.42050001 -0.37843548 -0.34568847 -0.35255735 -0.36615478 -0.36428564\n",
      " -0.36626599 -0.3702829  -0.36010374 -0.40375093 -0.40252078 -0.37248774\n",
      " -0.38109929 -0.39109809 -0.36880341 -0.37155655 -0.3470615  -0.40230875\n",
      " -0.39729157 -0.35559571 -0.36225253 -0.38225041 -0.34016951 -0.34800696]\n"
     ]
    }
   ],
   "source": [
    "print(isf.score_samples(train[features]))"
   ]
  },
  {
   "cell_type": "code",
   "execution_count": 93,
   "id": "0cb791e7",
   "metadata": {},
   "outputs": [
    {
     "data": {
      "text/plain": [
       "array([1, 1, 1, 1, 1, 1, 1, 1, 1, 1, 1, 1, 1, 1, 1, 1, 1, 1, 1, 1, 1, 1,\n",
       "       1, 1, 1, 1, 1, 1, 1, 1, 1, 1, 1, 1, 1, 1, 1, 1, 1, 1, 1, 1, 1, 1,\n",
       "       1, 1, 1, 1, 1, 1, 1, 1, 1, 1, 1, 1, 1, 1, 1, 1, 1, 1, 1, 1, 1, 1,\n",
       "       1, 1, 1, 1, 1, 1, 1, 1, 1, 1, 1, 1, 1, 1, 1, 1, 1, 1, 1, 1, 1, 1,\n",
       "       1, 1, 1, 1, 1, 1, 1, 1, 1, 1, 1, 1, 1, 1, 1, 1, 1, 1, 1, 1, 1, 1,\n",
       "       1, 1, 1, 1, 1, 1, 1, 1, 1, 1, 1, 1, 1, 1, 1, 1, 1, 1, 1, 1, 1, 1])"
      ]
     },
     "execution_count": 93,
     "metadata": {},
     "output_type": "execute_result"
    }
   ],
   "source": [
    "isf.predict(train[features])"
   ]
  },
  {
   "cell_type": "markdown",
   "id": "6a9ce77d",
   "metadata": {},
   "source": [
    "Não foram detectados outliers (-1 é um outlier)"
   ]
  },
  {
   "cell_type": "markdown",
   "id": "ccbe887f",
   "metadata": {},
   "source": [
    "# Adicionando dados sintéticos para balancear as classes"
   ]
  },
  {
   "cell_type": "code",
   "execution_count": 94,
   "id": "11a4a19e",
   "metadata": {},
   "outputs": [
    {
     "data": {
      "image/png": "[encoded data removed]",
      "text/plain": [
       "<Figure size 432x288 with 1 Axes>"
      ]
     },
     "metadata": {
      "needs_background": "light"
     },
     "output_type": "display_data"
    }
   ],
   "source": [
    "y.value_counts().plot(kind='bar', title='Group distribution');"
   ]
  },
  {
   "cell_type": "code",
   "execution_count": 95,
   "id": "f18b9ab9",
   "metadata": {},
   "outputs": [],
   "source": [
    "smote = SMOTE(sampling_strategy ='minority', n_jobs=-1)\n",
    "X_sm, y_sm = smote.fit_resample(X[features], y)"
   ]
  },
  {
   "cell_type": "code",
   "execution_count": 96,
   "id": "080f089c",
   "metadata": {},
   "outputs": [
    {
     "name": "stderr",
     "output_type": "stream",
     "text": [
      "C:\\Users\\Lucas\\AppData\\Local\\Temp\\ipykernel_980\\361123966.py:2: PerformanceWarning: DataFrame is highly fragmented.  This is usually the result of calling `frame.insert` many times, which has poor performance.  Consider joining all columns at once using pd.concat(axis=1) instead. To get a de-fragmented frame, use `newframe = frame.copy()`\n",
      "  df['target'] = y_sm\n"
     ]
    },
    {
     "data": {
      "text/plain": [
       "<AxesSubplot:title={'center':'Count (target)'}>"
      ]
     },
     "execution_count": 96,
     "metadata": {},
     "output_type": "execute_result"
    },
    {
     "data": {
      "image/png": "[encoded data removed]",
      "text/plain": [
       "<Figure size 432x288 with 1 Axes>"
      ]
     },
     "metadata": {
      "needs_background": "light"
     },
     "output_type": "display_data"
    }
   ],
   "source": [
    "df = pd.DataFrame(X_sm, columns=features)\n",
    "df['target'] = y_sm\n",
    "\n",
    "df['target'].value_counts().plot(kind='bar', title='Count (target)')"
   ]
  },
  {
   "cell_type": "markdown",
   "id": "15fbde74",
   "metadata": {},
   "source": [
    "#### testing the best approach for classification but now using the synthetic data"
   ]
  },
  {
   "cell_type": "code",
   "execution_count": 97,
   "id": "9661e244",
   "metadata": {},
   "outputs": [],
   "source": [
    "# define random forest classifier, with utilising all cores and\n",
    "# sampling in proportion to y labels\n",
    "rf = RandomForestClassifier(n_jobs=-1, class_weight='balanced', max_depth=5)\n",
    "# define Boruta feature selection method\n",
    "feat_selector = BorutaPy(rf, n_estimators='auto', verbose=2, random_state=SEED, )"
   ]
  },
  {
   "cell_type": "code",
   "execution_count": 98,
   "id": "ab887582",
   "metadata": {
    "scrolled": true
   },
   "outputs": [
    {
     "name": "stdout",
     "output_type": "stream",
     "text": [
      "Iteration: \t1 / 100\n",
      "Confirmed: \t0\n",
      "Tentative: \t635\n",
      "Rejected: \t0\n",
      "Iteration: \t2 / 100\n",
      "Confirmed: \t0\n",
      "Tentative: \t635\n",
      "Rejected: \t0\n",
      "Iteration: \t3 / 100\n",
      "Confirmed: \t0\n",
      "Tentative: \t635\n",
      "Rejected: \t0\n",
      "Iteration: \t4 / 100\n",
      "Confirmed: \t0\n",
      "Tentative: \t635\n",
      "Rejected: \t0\n",
      "Iteration: \t5 / 100\n",
      "Confirmed: \t0\n",
      "Tentative: \t635\n",
      "Rejected: \t0\n",
      "Iteration: \t6 / 100\n",
      "Confirmed: \t0\n",
      "Tentative: \t635\n",
      "Rejected: \t0\n",
      "Iteration: \t7 / 100\n",
      "Confirmed: \t0\n",
      "Tentative: \t635\n",
      "Rejected: \t0\n",
      "Iteration: \t8 / 100\n",
      "Confirmed: \t0\n",
      "Tentative: \t148\n",
      "Rejected: \t487\n",
      "Iteration: \t9 / 100\n",
      "Confirmed: \t35\n",
      "Tentative: \t113\n",
      "Rejected: \t487\n",
      "Iteration: \t10 / 100\n",
      "Confirmed: \t35\n",
      "Tentative: \t113\n",
      "Rejected: \t487\n",
      "Iteration: \t11 / 100\n",
      "Confirmed: \t35\n",
      "Tentative: \t113\n",
      "Rejected: \t487\n",
      "Iteration: \t12 / 100\n",
      "Confirmed: \t41\n",
      "Tentative: \t95\n",
      "Rejected: \t499\n",
      "Iteration: \t13 / 100\n",
      "Confirmed: \t41\n",
      "Tentative: \t95\n",
      "Rejected: \t499\n",
      "Iteration: \t14 / 100\n",
      "Confirmed: \t41\n",
      "Tentative: \t95\n",
      "Rejected: \t499\n",
      "Iteration: \t15 / 100\n",
      "Confirmed: \t41\n",
      "Tentative: \t95\n",
      "Rejected: \t499\n",
      "Iteration: \t16 / 100\n",
      "Confirmed: \t45\n",
      "Tentative: \t91\n",
      "Rejected: \t499\n",
      "Iteration: \t17 / 100\n",
      "Confirmed: \t45\n",
      "Tentative: \t86\n",
      "Rejected: \t504\n",
      "Iteration: \t18 / 100\n",
      "Confirmed: \t45\n",
      "Tentative: \t86\n",
      "Rejected: \t504\n",
      "Iteration: \t19 / 100\n",
      "Confirmed: \t48\n",
      "Tentative: \t83\n",
      "Rejected: \t504\n",
      "Iteration: \t20 / 100\n",
      "Confirmed: \t48\n",
      "Tentative: \t83\n",
      "Rejected: \t504\n",
      "Iteration: \t21 / 100\n",
      "Confirmed: \t48\n",
      "Tentative: \t83\n",
      "Rejected: \t504\n",
      "Iteration: \t22 / 100\n",
      "Confirmed: \t51\n",
      "Tentative: \t80\n",
      "Rejected: \t504\n",
      "Iteration: \t23 / 100\n",
      "Confirmed: \t51\n",
      "Tentative: \t75\n",
      "Rejected: \t509\n",
      "Iteration: \t24 / 100\n",
      "Confirmed: \t51\n",
      "Tentative: \t75\n",
      "Rejected: \t509\n",
      "Iteration: \t25 / 100\n",
      "Confirmed: \t51\n",
      "Tentative: \t75\n",
      "Rejected: \t509\n",
      "Iteration: \t26 / 100\n",
      "Confirmed: \t53\n",
      "Tentative: \t73\n",
      "Rejected: \t509\n",
      "Iteration: \t27 / 100\n",
      "Confirmed: \t53\n",
      "Tentative: \t73\n",
      "Rejected: \t509\n",
      "Iteration: \t28 / 100\n",
      "Confirmed: \t53\n",
      "Tentative: \t73\n",
      "Rejected: \t509\n",
      "Iteration: \t29 / 100\n",
      "Confirmed: \t53\n",
      "Tentative: \t69\n",
      "Rejected: \t513\n",
      "Iteration: \t30 / 100\n",
      "Confirmed: \t53\n",
      "Tentative: \t69\n",
      "Rejected: \t513\n",
      "Iteration: \t31 / 100\n",
      "Confirmed: \t53\n",
      "Tentative: \t69\n",
      "Rejected: \t513\n",
      "Iteration: \t32 / 100\n",
      "Confirmed: \t54\n",
      "Tentative: \t68\n",
      "Rejected: \t513\n",
      "Iteration: \t33 / 100\n",
      "Confirmed: \t54\n",
      "Tentative: \t68\n",
      "Rejected: \t513\n",
      "Iteration: \t34 / 100\n",
      "Confirmed: \t55\n",
      "Tentative: \t67\n",
      "Rejected: \t513\n",
      "Iteration: \t35 / 100\n",
      "Confirmed: \t55\n",
      "Tentative: \t66\n",
      "Rejected: \t514\n",
      "Iteration: \t36 / 100\n",
      "Confirmed: \t55\n",
      "Tentative: \t66\n",
      "Rejected: \t514\n",
      "Iteration: \t37 / 100\n",
      "Confirmed: \t56\n",
      "Tentative: \t65\n",
      "Rejected: \t514\n",
      "Iteration: \t38 / 100\n",
      "Confirmed: \t56\n",
      "Tentative: \t65\n",
      "Rejected: \t514\n",
      "Iteration: \t39 / 100\n",
      "Confirmed: \t56\n",
      "Tentative: \t65\n",
      "Rejected: \t514\n",
      "Iteration: \t40 / 100\n",
      "Confirmed: \t56\n",
      "Tentative: \t61\n",
      "Rejected: \t518\n",
      "Iteration: \t41 / 100\n",
      "Confirmed: \t56\n",
      "Tentative: \t61\n",
      "Rejected: \t518\n",
      "Iteration: \t42 / 100\n",
      "Confirmed: \t56\n",
      "Tentative: \t61\n",
      "Rejected: \t518\n",
      "Iteration: \t43 / 100\n",
      "Confirmed: \t56\n",
      "Tentative: \t61\n",
      "Rejected: \t518\n",
      "Iteration: \t44 / 100\n",
      "Confirmed: \t56\n",
      "Tentative: \t61\n",
      "Rejected: \t518\n",
      "Iteration: \t45 / 100\n",
      "Confirmed: \t56\n",
      "Tentative: \t61\n",
      "Rejected: \t518\n",
      "Iteration: \t46 / 100\n",
      "Confirmed: \t56\n",
      "Tentative: \t61\n",
      "Rejected: \t518\n",
      "Iteration: \t47 / 100\n",
      "Confirmed: \t56\n",
      "Tentative: \t61\n",
      "Rejected: \t518\n",
      "Iteration: \t48 / 100\n",
      "Confirmed: \t56\n",
      "Tentative: \t61\n",
      "Rejected: \t518\n",
      "Iteration: \t49 / 100\n",
      "Confirmed: \t57\n",
      "Tentative: \t58\n",
      "Rejected: \t520\n",
      "Iteration: \t50 / 100\n",
      "Confirmed: \t57\n",
      "Tentative: \t58\n",
      "Rejected: \t520\n",
      "Iteration: \t51 / 100\n",
      "Confirmed: \t57\n",
      "Tentative: \t58\n",
      "Rejected: \t520\n",
      "Iteration: \t52 / 100\n",
      "Confirmed: \t57\n",
      "Tentative: \t58\n",
      "Rejected: \t520\n",
      "Iteration: \t53 / 100\n",
      "Confirmed: \t57\n",
      "Tentative: \t58\n",
      "Rejected: \t520\n",
      "Iteration: \t54 / 100\n",
      "Confirmed: \t57\n",
      "Tentative: \t55\n",
      "Rejected: \t523\n",
      "Iteration: \t55 / 100\n",
      "Confirmed: \t57\n",
      "Tentative: \t55\n",
      "Rejected: \t523\n",
      "Iteration: \t56 / 100\n",
      "Confirmed: \t57\n",
      "Tentative: \t55\n",
      "Rejected: \t523\n",
      "Iteration: \t57 / 100\n",
      "Confirmed: \t58\n",
      "Tentative: \t52\n",
      "Rejected: \t525\n",
      "Iteration: \t58 / 100\n",
      "Confirmed: \t58\n",
      "Tentative: \t52\n",
      "Rejected: \t525\n",
      "Iteration: \t59 / 100\n",
      "Confirmed: \t58\n",
      "Tentative: \t52\n",
      "Rejected: \t525\n",
      "Iteration: \t60 / 100\n",
      "Confirmed: \t58\n",
      "Tentative: \t52\n",
      "Rejected: \t525\n",
      "Iteration: \t61 / 100\n",
      "Confirmed: \t58\n",
      "Tentative: \t52\n",
      "Rejected: \t525\n",
      "Iteration: \t62 / 100\n",
      "Confirmed: \t61\n",
      "Tentative: \t49\n",
      "Rejected: \t525\n",
      "Iteration: \t63 / 100\n",
      "Confirmed: \t61\n",
      "Tentative: \t49\n",
      "Rejected: \t525\n",
      "Iteration: \t64 / 100\n",
      "Confirmed: \t61\n",
      "Tentative: \t49\n",
      "Rejected: \t525\n",
      "Iteration: \t65 / 100\n",
      "Confirmed: \t61\n",
      "Tentative: \t49\n",
      "Rejected: \t525\n",
      "Iteration: \t66 / 100\n",
      "Confirmed: \t61\n",
      "Tentative: \t49\n",
      "Rejected: \t525\n",
      "Iteration: \t67 / 100\n",
      "Confirmed: \t62\n",
      "Tentative: \t46\n",
      "Rejected: \t527\n",
      "Iteration: \t68 / 100\n",
      "Confirmed: \t62\n",
      "Tentative: \t46\n",
      "Rejected: \t527\n",
      "Iteration: \t69 / 100\n",
      "Confirmed: \t62\n",
      "Tentative: \t46\n",
      "Rejected: \t527\n",
      "Iteration: \t70 / 100\n",
      "Confirmed: \t62\n",
      "Tentative: \t46\n",
      "Rejected: \t527\n",
      "Iteration: \t71 / 100\n",
      "Confirmed: \t62\n",
      "Tentative: \t45\n",
      "Rejected: \t528\n",
      "Iteration: \t72 / 100\n",
      "Confirmed: \t62\n",
      "Tentative: \t45\n",
      "Rejected: \t528\n",
      "Iteration: \t73 / 100\n",
      "Confirmed: \t62\n",
      "Tentative: \t45\n",
      "Rejected: \t528\n",
      "Iteration: \t74 / 100\n",
      "Confirmed: \t62\n",
      "Tentative: \t45\n",
      "Rejected: \t528\n",
      "Iteration: \t75 / 100\n",
      "Confirmed: \t62\n",
      "Tentative: \t45\n",
      "Rejected: \t528\n",
      "Iteration: \t76 / 100\n",
      "Confirmed: \t62\n",
      "Tentative: \t44\n",
      "Rejected: \t529\n",
      "Iteration: \t77 / 100\n",
      "Confirmed: \t62\n",
      "Tentative: \t44\n",
      "Rejected: \t529\n",
      "Iteration: \t78 / 100\n",
      "Confirmed: \t62\n",
      "Tentative: \t44\n",
      "Rejected: \t529\n",
      "Iteration: \t79 / 100\n",
      "Confirmed: \t62\n",
      "Tentative: \t44\n",
      "Rejected: \t529\n",
      "Iteration: \t80 / 100\n",
      "Confirmed: \t62\n",
      "Tentative: \t44\n",
      "Rejected: \t529\n",
      "Iteration: \t81 / 100\n",
      "Confirmed: \t62\n",
      "Tentative: \t44\n",
      "Rejected: \t529\n",
      "Iteration: \t82 / 100\n",
      "Confirmed: \t62\n",
      "Tentative: \t44\n",
      "Rejected: \t529\n",
      "Iteration: \t83 / 100\n",
      "Confirmed: \t62\n",
      "Tentative: \t43\n",
      "Rejected: \t530\n",
      "Iteration: \t84 / 100\n",
      "Confirmed: \t62\n",
      "Tentative: \t43\n",
      "Rejected: \t530\n",
      "Iteration: \t85 / 100\n",
      "Confirmed: \t62\n",
      "Tentative: \t43\n",
      "Rejected: \t530\n",
      "Iteration: \t86 / 100\n",
      "Confirmed: \t62\n",
      "Tentative: \t43\n",
      "Rejected: \t530\n",
      "Iteration: \t87 / 100\n",
      "Confirmed: \t62\n",
      "Tentative: \t43\n",
      "Rejected: \t530\n",
      "Iteration: \t88 / 100\n",
      "Confirmed: \t62\n",
      "Tentative: \t43\n",
      "Rejected: \t530\n",
      "Iteration: \t89 / 100\n",
      "Confirmed: \t62\n",
      "Tentative: \t43\n",
      "Rejected: \t530\n",
      "Iteration: \t90 / 100\n",
      "Confirmed: \t62\n",
      "Tentative: \t43\n",
      "Rejected: \t530\n",
      "Iteration: \t91 / 100\n",
      "Confirmed: \t62\n",
      "Tentative: \t43\n",
      "Rejected: \t530\n",
      "Iteration: \t92 / 100\n",
      "Confirmed: \t62\n",
      "Tentative: \t43\n",
      "Rejected: \t530\n",
      "Iteration: \t93 / 100\n",
      "Confirmed: \t62\n",
      "Tentative: \t43\n",
      "Rejected: \t530\n",
      "Iteration: \t94 / 100\n",
      "Confirmed: \t62\n",
      "Tentative: \t43\n",
      "Rejected: \t530\n",
      "Iteration: \t95 / 100\n",
      "Confirmed: \t62\n",
      "Tentative: \t42\n",
      "Rejected: \t531\n",
      "Iteration: \t96 / 100\n",
      "Confirmed: \t62\n",
      "Tentative: \t42\n",
      "Rejected: \t531\n",
      "Iteration: \t97 / 100\n",
      "Confirmed: \t62\n",
      "Tentative: \t42\n",
      "Rejected: \t531\n",
      "Iteration: \t98 / 100\n",
      "Confirmed: \t63\n",
      "Tentative: \t41\n",
      "Rejected: \t531\n",
      "Iteration: \t99 / 100\n",
      "Confirmed: \t63\n",
      "Tentative: \t41\n",
      "Rejected: \t531\n",
      "\n",
      "\n",
      "BorutaPy finished running.\n",
      "\n",
      "Iteration: \t100 / 100\n",
      "Confirmed: \t63\n",
      "Tentative: \t26\n",
      "Rejected: \t531\n"
     ]
    },
    {
     "data": {
      "text/html": [
       "<style>#sk-container-id-3 {color: black;background-color: white;}#sk-container-id-3 pre{padding: 0;}#sk-container-id-3 div.sk-toggleable {background-color: white;}#sk-container-id-3 label.sk-toggleable__label {cursor: pointer;display: block;width: 100%;margin-bottom: 0;padding: 0.3em;box-sizing: border-box;text-align: center;}#sk-container-id-3 label.sk-toggleable__label-arrow:before {content: \"▸\";float: left;margin-right: 0.25em;color: #696969;}#sk-container-id-3 label.sk-toggleable__label-arrow:hover:before {color: black;}#sk-container-id-3 div.sk-estimator:hover label.sk-toggleable__label-arrow:before {color: black;}#sk-container-id-3 div.sk-toggleable__content {max-height: 0;max-width: 0;overflow: hidden;text-align: left;background-color: #f0f8ff;}#sk-container-id-3 div.sk-toggleable__content pre {margin: 0.2em;color: black;border-radius: 0.25em;background-color: #f0f8ff;}#sk-container-id-3 input.sk-toggleable__control:checked~div.sk-toggleable__content {max-height: 200px;max-width: 100%;overflow: auto;}#sk-container-id-3 input.sk-toggleable__control:checked~label.sk-toggleable__label-arrow:before {content: \"▾\";}#sk-container-id-3 div.sk-estimator input.sk-toggleable__control:checked~label.sk-toggleable__label {background-color: #d4ebff;}#sk-container-id-3 div.sk-label input.sk-toggleable__control:checked~label.sk-toggleable__label {background-color: #d4ebff;}#sk-container-id-3 input.sk-hidden--visually {border: 0;clip: rect(1px 1px 1px 1px);clip: rect(1px, 1px, 1px, 1px);height: 1px;margin: -1px;overflow: hidden;padding: 0;position: absolute;width: 1px;}#sk-container-id-3 div.sk-estimator {font-family: monospace;background-color: #f0f8ff;border: 1px dotted black;border-radius: 0.25em;box-sizing: border-box;margin-bottom: 0.5em;}#sk-container-id-3 div.sk-estimator:hover {background-color: #d4ebff;}#sk-container-id-3 div.sk-parallel-item::after {content: \"\";width: 100%;border-bottom: 1px solid gray;flex-grow: 1;}#sk-container-id-3 div.sk-label:hover label.sk-toggleable__label {background-color: #d4ebff;}#sk-container-id-3 div.sk-serial::before {content: \"\";position: absolute;border-left: 1px solid gray;box-sizing: border-box;top: 0;bottom: 0;left: 50%;z-index: 0;}#sk-container-id-3 div.sk-serial {display: flex;flex-direction: column;align-items: center;background-color: white;padding-right: 0.2em;padding-left: 0.2em;position: relative;}#sk-container-id-3 div.sk-item {position: relative;z-index: 1;}#sk-container-id-3 div.sk-parallel {display: flex;align-items: stretch;justify-content: center;background-color: white;position: relative;}#sk-container-id-3 div.sk-item::before, #sk-container-id-3 div.sk-parallel-item::before {content: \"\";position: absolute;border-left: 1px solid gray;box-sizing: border-box;top: 0;bottom: 0;left: 50%;z-index: -1;}#sk-container-id-3 div.sk-parallel-item {display: flex;flex-direction: column;z-index: 1;position: relative;background-color: white;}#sk-container-id-3 div.sk-parallel-item:first-child::after {align-self: flex-end;width: 50%;}#sk-container-id-3 div.sk-parallel-item:last-child::after {align-self: flex-start;width: 50%;}#sk-container-id-3 div.sk-parallel-item:only-child::after {width: 0;}#sk-container-id-3 div.sk-dashed-wrapped {border: 1px dashed gray;margin: 0 0.4em 0.5em 0.4em;box-sizing: border-box;padding-bottom: 0.4em;background-color: white;}#sk-container-id-3 div.sk-label label {font-family: monospace;font-weight: bold;display: inline-block;line-height: 1.2em;}#sk-container-id-3 div.sk-label-container {text-align: center;}#sk-container-id-3 div.sk-container {/* jupyter's `normalize.less` sets `[hidden] { display: none; }` but bootstrap.min.css set `[hidden] { display: none !important; }` so we also need the `!important` here to be able to override the default hidden behavior on the sphinx rendered scikit-learn.org. See: https://github.com/scikit-learn/scikit-learn/issues/21755 */display: inline-block !important;position: relative;}#sk-container-id-3 div.sk-text-repr-fallback {display: none;}</style><div id=\"sk-container-id-3\" class=\"sk-top-container\"><div class=\"sk-text-repr-fallback\"><pre>BorutaPy(estimator=RandomForestClassifier(class_weight=&#x27;balanced&#x27;, max_depth=5,\n",
       "                                          n_estimators=288, n_jobs=-1,\n",
       "                                          random_state=RandomState(MT19937) at 0x2380411AF40),\n",
       "         n_estimators=&#x27;auto&#x27;,\n",
       "         random_state=RandomState(MT19937) at 0x2380411AF40, verbose=2)</pre><b>In a Jupyter environment, please rerun this cell to show the HTML representation or trust the notebook. <br />On GitHub, the HTML representation is unable to render, please try loading this page with nbviewer.org.</b></div><div class=\"sk-container\" hidden><div class=\"sk-item sk-dashed-wrapped\"><div class=\"sk-label-container\"><div class=\"sk-label sk-toggleable\"><input class=\"sk-toggleable__control sk-hidden--visually\" id=\"sk-estimator-id-5\" type=\"checkbox\" ><label for=\"sk-estimator-id-5\" class=\"sk-toggleable__label sk-toggleable__label-arrow\">BorutaPy</label><div class=\"sk-toggleable__content\"><pre>BorutaPy(estimator=RandomForestClassifier(class_weight=&#x27;balanced&#x27;, max_depth=5,\n",
       "                                          n_estimators=288, n_jobs=-1,\n",
       "                                          random_state=RandomState(MT19937) at 0x2380411AF40),\n",
       "         n_estimators=&#x27;auto&#x27;,\n",
       "         random_state=RandomState(MT19937) at 0x2380411AF40, verbose=2)</pre></div></div></div><div class=\"sk-parallel\"><div class=\"sk-parallel-item\"><div class=\"sk-item\"><div class=\"sk-label-container\"><div class=\"sk-label sk-toggleable\"><input class=\"sk-toggleable__control sk-hidden--visually\" id=\"sk-estimator-id-6\" type=\"checkbox\" ><label for=\"sk-estimator-id-6\" class=\"sk-toggleable__label sk-toggleable__label-arrow\">estimator: RandomForestClassifier</label><div class=\"sk-toggleable__content\"><pre>RandomForestClassifier(class_weight=&#x27;balanced&#x27;, max_depth=5, n_estimators=288,\n",
       "                       n_jobs=-1,\n",
       "                       random_state=RandomState(MT19937) at 0x2380411AF40)</pre></div></div></div><div class=\"sk-serial\"><div class=\"sk-item\"><div class=\"sk-estimator sk-toggleable\"><input class=\"sk-toggleable__control sk-hidden--visually\" id=\"sk-estimator-id-7\" type=\"checkbox\" ><label for=\"sk-estimator-id-7\" class=\"sk-toggleable__label sk-toggleable__label-arrow\">RandomForestClassifier</label><div class=\"sk-toggleable__content\"><pre>RandomForestClassifier(class_weight=&#x27;balanced&#x27;, max_depth=5, n_estimators=288,\n",
       "                       n_jobs=-1,\n",
       "                       random_state=RandomState(MT19937) at 0x2380411AF40)</pre></div></div></div></div></div></div></div></div></div></div>"
      ],
      "text/plain": [
       "BorutaPy(estimator=RandomForestClassifier(class_weight='balanced', max_depth=5,\n",
       "                                          n_estimators=288, n_jobs=-1,\n",
       "                                          random_state=RandomState(MT19937) at 0x2380411AF40),\n",
       "         n_estimators='auto',\n",
       "         random_state=RandomState(MT19937) at 0x2380411AF40, verbose=2)"
      ]
     },
     "execution_count": 98,
     "metadata": {},
     "output_type": "execute_result"
    }
   ],
   "source": [
    "feat_selector.fit(np.array(X_sm), y_sm)"
   ]
  },
  {
   "cell_type": "code",
   "execution_count": 99,
   "id": "f0be541e",
   "metadata": {},
   "outputs": [
    {
     "name": "stdout",
     "output_type": "stream",
     "text": [
      "Number of selected features:  63\n"
     ]
    }
   ],
   "source": [
    "print(\"Number of selected features: \", feat_selector.n_features_)"
   ]
  },
  {
   "cell_type": "code",
   "execution_count": 100,
   "id": "db3ab42f",
   "metadata": {
    "scrolled": true
   },
   "outputs": [
    {
     "data": {
      "text/plain": [
       "Index(['Freq.1261.01801005892', 'Freq.1324.08044804632',\n",
       "       'Freq.1477.74871633496', 'Freq.1523.06577785676',\n",
       "       'Freq.1571.40357692951', 'Freq.1715.32907573994',\n",
       "       'Freq.1793.31292765446', 'Freq.1950.92667543594',\n",
       "       'Freq.1972.54753680164', 'Freq.1984.28695988636',\n",
       "       'Freq.1989.65991446642', 'Freq.2032.95119529926',\n",
       "       'Freq.2079.98280714492', 'Freq.2148.55916353654',\n",
       "       'Freq.2182.52259691583', 'Freq.2186.33577081196',\n",
       "       'Freq.2208.11994786374', 'Freq.2242.07973381149',\n",
       "       'Freq.2245.4309661224', 'Freq.2382.53291586635',\n",
       "       'Freq.2481.36511832931', 'Freq.2552.58836883553',\n",
       "       'Freq.2822.5691494885', 'Freq.2926.87413924864',\n",
       "       'Freq.2980.79091047279', 'Freq.2993.12607948295',\n",
       "       'Freq.3044.21704373186', 'Freq.3062.70477950654',\n",
       "       'Freq.3077.77601350217', 'Freq.3151.06004403914',\n",
       "       'Freq.3275.06824878848', 'Freq.3414.71158220371',\n",
       "       'Freq.3425.70211639867', 'Freq.3610.10023694714',\n",
       "       'Freq.3850.44578942163', 'Freq.3912.82100942603',\n",
       "       'Freq.4266.3135397872', 'Freq.4282.69712175929',\n",
       "       'Freq.4305.85988898402', 'Freq.4318.14922038936',\n",
       "       'Freq.4374.21684152638', 'Freq.4395.12541812139',\n",
       "       'Freq.4773.1748593189', 'Freq.4786.08677209417',\n",
       "       'Freq.4823.05474215093', 'Freq.4828.36698716693',\n",
       "       'Freq.5085.12753419191', 'Freq.5182.5225573881',\n",
       "       'Freq.5224.39772946441', 'Freq.5405.94128004793',\n",
       "       'Freq.5433.51287445961', 'Freq.5447.04170899408',\n",
       "       'Freq.5486.38563387454', 'Freq.5528.62768665769',\n",
       "       'Freq.5720.85320850586', 'Freq.5759.17677099544',\n",
       "       'Freq.5793.20798465767', 'Freq.6115.76202989207',\n",
       "       'Freq.6823.11643549173', 'Freq.7501.51838000843',\n",
       "       'Freq.7738.28945568542', 'Freq.8943.76551923189',\n",
       "       'Freq.9098.58510797401'],\n",
       "      dtype='object')"
      ]
     },
     "execution_count": 100,
     "metadata": {},
     "output_type": "execute_result"
    }
   ],
   "source": [
    "# Best Features (accord to Boruta)\n",
    "X_sm.columns[feat_selector.support_]"
   ]
  },
  {
   "cell_type": "code",
   "execution_count": 101,
   "id": "8bf11072",
   "metadata": {},
   "outputs": [],
   "source": [
    "# Filter most importante features\n",
    "X_transform = feat_selector.transform(np.array(X_sm))"
   ]
  },
  {
   "cell_type": "code",
   "execution_count": 102,
   "id": "3f9977c7",
   "metadata": {},
   "outputs": [],
   "source": [
    "# Define objectiva funtion to maximize metric\n",
    "def objective(trial):\n",
    "    \n",
    "    # List scalers to chose from\n",
    "    scalers = trial.suggest_categorical(\"scalers\", ['minmax', 'standard', 'robust'])\n",
    "    # Define scalers\n",
    "    if scalers == \"minmax\":\n",
    "        scaler = MinMaxScaler()\n",
    "    elif scalers == \"standard\":\n",
    "        scaler = StandardScaler()\n",
    "    else:\n",
    "        scaler = RobustScaler()\n",
    "    # LGBM Hyper Parameter Grid\n",
    "    param = {\n",
    "        \"objective\": \"binary\",\n",
    "        \"metric\": \"binary_logloss\",\n",
    "        \"verbosity\": -1,\n",
    "        \"boosting_type\": \"gbdt\",\n",
    "        \"lambda_l1\": trial.suggest_float(\"lambda_l1\", 1e-8, 10.0, log=True),\n",
    "        \"lambda_l2\": trial.suggest_float(\"lambda_l2\", 1e-8, 10.0, log=True),\n",
    "        \"num_leaves\": trial.suggest_int(\"num_leaves\", 2, 256),\n",
    "        \"feature_fraction\": trial.suggest_float(\"feature_fraction\", 0.4, 1.0),\n",
    "        \"bagging_fraction\": trial.suggest_float(\"bagging_fraction\", 0.4, 1.0),\n",
    "        \"bagging_freq\": trial.suggest_int(\"bagging_freq\", 1, 7),\n",
    "        \"min_child_samples\": trial.suggest_int(\"min_child_samples\", 5, 100),\n",
    "        \"n_estimators\": trial.suggest_int(\"max_depth\", 100, 1000)\n",
    "    }\n",
    "    # Create model pipeline with param trial\n",
    "    clf = Pipeline([(\"scaler\", scaler),\n",
    "                    (\"lgbm_clf\", lgb.LGBMClassifier(random_state=SEED, **param))])\n",
    "    # Get CV Metric we want to maximize\n",
    "    balanced_accuracy = np.mean(cross_val_score(clf, X_transform, y_sm, scoring=metric_scorer, cv=rkf, n_jobs=-1))\n",
    "    \n",
    "    return balanced_accuracy"
   ]
  },
  {
   "cell_type": "code",
   "execution_count": 103,
   "id": "8aae123a",
   "metadata": {
    "scrolled": true
   },
   "outputs": [
    {
     "name": "stderr",
     "output_type": "stream",
     "text": [
      "\u001b[32m[I 2022-07-20 02:03:14,835]\u001b[0m A new study created in memory with name: no-name-b7ae543e-3b12-4e43-9404-1b4cc139f343\u001b[0m\n"
     ]
    }
   ],
   "source": [
    "study = optuna.create_study(direction=\"maximize\")"
   ]
  },
  {
   "cell_type": "code",
   "execution_count": 104,
   "id": "ec956f66",
   "metadata": {
    "scrolled": true
   },
   "outputs": [
    {
     "name": "stderr",
     "output_type": "stream",
     "text": [
      "\u001b[32m[I 2022-07-20 02:03:15,501]\u001b[0m Trial 0 finished with value: 0.5 and parameters: {'scalers': 'robust', 'lambda_l1': 2.625025036504331, 'lambda_l2': 0.037477588440828394, 'num_leaves': 73, 'feature_fraction': 0.6957433696459281, 'bagging_fraction': 0.5529269438567083, 'bagging_freq': 3, 'min_child_samples': 83, 'max_depth': 757}. Best is trial 0 with value: 0.5.\u001b[0m\n",
      "\u001b[32m[I 2022-07-20 02:03:15,790]\u001b[0m Trial 1 finished with value: 0.5 and parameters: {'scalers': 'minmax', 'lambda_l1': 1.6539487267603408e-05, 'lambda_l2': 7.343223446899036e-05, 'num_leaves': 144, 'feature_fraction': 0.5094513809163325, 'bagging_fraction': 0.49101833466608674, 'bagging_freq': 1, 'min_child_samples': 92, 'max_depth': 384}. Best is trial 0 with value: 0.5.\u001b[0m\n",
      "\u001b[32m[I 2022-07-20 02:03:17,666]\u001b[0m Trial 2 finished with value: 0.8973421834163353 and parameters: {'scalers': 'robust', 'lambda_l1': 2.7724602408201123e-08, 'lambda_l2': 7.127187716714074e-08, 'num_leaves': 214, 'feature_fraction': 0.6768117724390659, 'bagging_fraction': 0.791727673645807, 'bagging_freq': 5, 'min_child_samples': 43, 'max_depth': 719}. Best is trial 2 with value: 0.8973421834163353.\u001b[0m\n",
      "\u001b[32m[I 2022-07-20 02:03:17,988]\u001b[0m Trial 3 finished with value: 0.5 and parameters: {'scalers': 'minmax', 'lambda_l1': 5.98276620808226e-08, 'lambda_l2': 0.3668516278800375, 'num_leaves': 13, 'feature_fraction': 0.6609543281047605, 'bagging_fraction': 0.46527612804175333, 'bagging_freq': 3, 'min_child_samples': 62, 'max_depth': 154}. Best is trial 2 with value: 0.8973421834163353.\u001b[0m\n",
      "\u001b[32m[I 2022-07-20 02:03:20,035]\u001b[0m Trial 4 finished with value: 0.9025072845625158 and parameters: {'scalers': 'minmax', 'lambda_l1': 0.006562073613121163, 'lambda_l2': 0.00024037207699802236, 'num_leaves': 56, 'feature_fraction': 0.9090759053602443, 'bagging_fraction': 0.9078523587891111, 'bagging_freq': 2, 'min_child_samples': 19, 'max_depth': 839}. Best is trial 4 with value: 0.9025072845625158.\u001b[0m\n",
      "\u001b[32m[I 2022-07-20 02:03:20,801]\u001b[0m Trial 5 finished with value: 0.8851485345299621 and parameters: {'scalers': 'standard', 'lambda_l1': 8.084271099104095e-06, 'lambda_l2': 0.43744372507970825, 'num_leaves': 196, 'feature_fraction': 0.9815952353885501, 'bagging_fraction': 0.9243836846811506, 'bagging_freq': 3, 'min_child_samples': 60, 'max_depth': 278}. Best is trial 4 with value: 0.9025072845625158.\u001b[0m\n",
      "\u001b[32m[I 2022-07-20 02:03:21,301]\u001b[0m Trial 6 finished with value: 0.5 and parameters: {'scalers': 'robust', 'lambda_l1': 2.3676204254245077e-05, 'lambda_l2': 0.010491905482720354, 'num_leaves': 253, 'feature_fraction': 0.9986894231721567, 'bagging_fraction': 0.6658011099685059, 'bagging_freq': 3, 'min_child_samples': 73, 'max_depth': 518}. Best is trial 4 with value: 0.9025072845625158.\u001b[0m\n",
      "\u001b[32m[I 2022-07-20 02:03:21,929]\u001b[0m Trial 7 finished with value: 0.5 and parameters: {'scalers': 'robust', 'lambda_l1': 0.006417772823619707, 'lambda_l2': 0.020661419275391946, 'num_leaves': 243, 'feature_fraction': 0.5166717216981344, 'bagging_fraction': 0.6652499776561198, 'bagging_freq': 1, 'min_child_samples': 52, 'max_depth': 363}. Best is trial 4 with value: 0.9025072845625158.\u001b[0m\n",
      "\u001b[32m[I 2022-07-20 02:03:22,855]\u001b[0m Trial 8 finished with value: 0.8935718504501062 and parameters: {'scalers': 'standard', 'lambda_l1': 8.89083837408026e-05, 'lambda_l2': 1.2200782728930184, 'num_leaves': 153, 'feature_fraction': 0.4679969799675721, 'bagging_fraction': 0.7508222389201331, 'bagging_freq': 7, 'min_child_samples': 46, 'max_depth': 419}. Best is trial 4 with value: 0.9025072845625158.\u001b[0m\n",
      "\u001b[32m[I 2022-07-20 02:03:24,144]\u001b[0m Trial 9 finished with value: 0.8925299065838588 and parameters: {'scalers': 'robust', 'lambda_l1': 0.015939739881663962, 'lambda_l2': 0.004634181875495207, 'num_leaves': 54, 'feature_fraction': 0.6098144028607373, 'bagging_fraction': 0.7888143067113074, 'bagging_freq': 2, 'min_child_samples': 52, 'max_depth': 800}. Best is trial 4 with value: 0.9025072845625158.\u001b[0m\n",
      "\u001b[32m[I 2022-07-20 02:03:25,646]\u001b[0m Trial 10 finished with value: 0.8442854345965128 and parameters: {'scalers': 'minmax', 'lambda_l1': 6.717664453668533, 'lambda_l2': 8.348591292651346e-06, 'num_leaves': 97, 'feature_fraction': 0.8542383132755308, 'bagging_fraction': 0.953611174965517, 'bagging_freq': 5, 'min_child_samples': 11, 'max_depth': 980}. Best is trial 4 with value: 0.9025072845625158.\u001b[0m\n",
      "\u001b[32m[I 2022-07-20 02:03:27,328]\u001b[0m Trial 11 finished with value: 0.9117279127176573 and parameters: {'scalers': 'minmax', 'lambda_l1': 1.9942131892039305e-08, 'lambda_l2': 1.9813577154977405e-08, 'num_leaves': 191, 'feature_fraction': 0.8161002427837944, 'bagging_fraction': 0.874122354757208, 'bagging_freq': 5, 'min_child_samples': 23, 'max_depth': 708}. Best is trial 11 with value: 0.9117279127176573.\u001b[0m\n",
      "\u001b[32m[I 2022-07-20 02:03:29,354]\u001b[0m Trial 12 finished with value: 0.9023584404445556 and parameters: {'scalers': 'minmax', 'lambda_l1': 0.0063770761442103335, 'lambda_l2': 2.557628286933716e-08, 'num_leaves': 177, 'feature_fraction': 0.8388971165074175, 'bagging_fraction': 0.8723101137072434, 'bagging_freq': 6, 'min_child_samples': 17, 'max_depth': 955}. Best is trial 11 with value: 0.9117279127176573.\u001b[0m\n",
      "\u001b[32m[I 2022-07-20 02:03:30,852]\u001b[0m Trial 13 finished with value: 0.9119870643202685 and parameters: {'scalers': 'minmax', 'lambda_l1': 4.5230991086600616e-07, 'lambda_l2': 2.6954418623214033e-06, 'num_leaves': 8, 'feature_fraction': 0.831807019957437, 'bagging_fraction': 0.8740367249698132, 'bagging_freq': 5, 'min_child_samples': 27, 'max_depth': 639}. Best is trial 13 with value: 0.9119870643202685.\u001b[0m\n",
      "\u001b[32m[I 2022-07-20 02:03:32,293]\u001b[0m Trial 14 finished with value: 0.9122607179187305 and parameters: {'scalers': 'minmax', 'lambda_l1': 5.320457742232654e-07, 'lambda_l2': 9.950336137449884e-07, 'num_leaves': 13, 'feature_fraction': 0.7889509687265079, 'bagging_fraction': 0.8463318632432208, 'bagging_freq': 5, 'min_child_samples': 26, 'max_depth': 632}. Best is trial 14 with value: 0.9122607179187305.\u001b[0m\n",
      "\u001b[32m[I 2022-07-20 02:03:33,763]\u001b[0m Trial 15 finished with value: 0.9036455574663443 and parameters: {'scalers': 'minmax', 'lambda_l1': 5.411858449998455e-07, 'lambda_l2': 1.0554052742368621e-06, 'num_leaves': 3, 'feature_fraction': 0.7721403173501276, 'bagging_fraction': 0.9731224945253818, 'bagging_freq': 7, 'min_child_samples': 31, 'max_depth': 589}. Best is trial 14 with value: 0.9122607179187305.\u001b[0m\n",
      "\u001b[32m[I 2022-07-20 02:03:36,284]\u001b[0m Trial 16 finished with value: 0.8985482591472632 and parameters: {'scalers': 'minmax', 'lambda_l1': 1.1472879508709615e-06, 'lambda_l2': 1.0874691435685774e-06, 'num_leaves': 34, 'feature_fraction': 0.7546956245464902, 'bagging_fraction': 0.8315415041946888, 'bagging_freq': 6, 'min_child_samples': 5, 'max_depth': 621}. Best is trial 14 with value: 0.9122607179187305.\u001b[0m\n",
      "\u001b[32m[I 2022-07-20 02:03:38,154]\u001b[0m Trial 17 finished with value: 0.8982816584224916 and parameters: {'scalers': 'standard', 'lambda_l1': 4.676240035355739e-07, 'lambda_l2': 7.891645900941965e-06, 'num_leaves': 105, 'feature_fraction': 0.8940344514336583, 'bagging_fraction': 0.9973319249482431, 'bagging_freq': 4, 'min_child_samples': 35, 'max_depth': 520}. Best is trial 14 with value: 0.9122607179187305.\u001b[0m\n",
      "\u001b[32m[I 2022-07-20 02:03:39,324]\u001b[0m Trial 18 finished with value: 0.8999984118338625 and parameters: {'scalers': 'minmax', 'lambda_l1': 0.00020474902731624248, 'lambda_l2': 4.1936532975493566e-07, 'num_leaves': 25, 'feature_fraction': 0.607570423147655, 'bagging_fraction': 0.5941933219159916, 'bagging_freq': 4, 'min_child_samples': 32, 'max_depth': 641}. Best is trial 14 with value: 0.9122607179187305.\u001b[0m\n",
      "\u001b[32m[I 2022-07-20 02:03:41,006]\u001b[0m Trial 19 finished with value: 0.9161110523108604 and parameters: {'scalers': 'minmax', 'lambda_l1': 4.636427164769069e-06, 'lambda_l2': 4.613177143147e-05, 'num_leaves': 94, 'feature_fraction': 0.7667540577471704, 'bagging_fraction': 0.7094557159493438, 'bagging_freq': 6, 'min_child_samples': 29, 'max_depth': 872}. Best is trial 19 with value: 0.9161110523108604.\u001b[0m\n",
      "\u001b[32m[I 2022-07-20 02:03:42,810]\u001b[0m Trial 20 finished with value: 0.8972032595037288 and parameters: {'scalers': 'standard', 'lambda_l1': 2.913673276641029e-06, 'lambda_l2': 4.2951874417777256e-05, 'num_leaves': 111, 'feature_fraction': 0.7533760421693748, 'bagging_fraction': 0.7155591221826408, 'bagging_freq': 6, 'min_child_samples': 40, 'max_depth': 878}. Best is trial 19 with value: 0.9161110523108604.\u001b[0m\n"
     ]
    },
    {
     "name": "stderr",
     "output_type": "stream",
     "text": [
      "\u001b[32m[I 2022-07-20 02:03:44,504]\u001b[0m Trial 21 finished with value: 0.9153538904765687 and parameters: {'scalers': 'minmax', 'lambda_l1': 1.5820312250231028e-07, 'lambda_l2': 0.0007584159283696458, 'num_leaves': 76, 'feature_fraction': 0.7870220206403912, 'bagging_fraction': 0.8312462148815994, 'bagging_freq': 5, 'min_child_samples': 25, 'max_depth': 668}. Best is trial 19 with value: 0.9161110523108604.\u001b[0m\n",
      "\u001b[32m[I 2022-07-20 02:03:46,589]\u001b[0m Trial 22 finished with value: 0.9117193096590221 and parameters: {'scalers': 'minmax', 'lambda_l1': 1.3318815606533528e-07, 'lambda_l2': 0.0012684447508025506, 'num_leaves': 77, 'feature_fraction': 0.7728377330500426, 'bagging_fraction': 0.796004509827723, 'bagging_freq': 6, 'min_child_samples': 12, 'max_depth': 905}. Best is trial 19 with value: 0.9161110523108604.\u001b[0m\n",
      "\u001b[32m[I 2022-07-20 02:03:48,020]\u001b[0m Trial 23 finished with value: 0.9164978711948527 and parameters: {'scalers': 'minmax', 'lambda_l1': 3.3418844582178538e-06, 'lambda_l2': 0.0004735084604355869, 'num_leaves': 44, 'feature_fraction': 0.9094634921738141, 'bagging_fraction': 0.7079474767788729, 'bagging_freq': 5, 'min_child_samples': 23, 'max_depth': 471}. Best is trial 23 with value: 0.9164978711948527.\u001b[0m\n",
      "\u001b[32m[I 2022-07-20 02:03:50,387]\u001b[0m Trial 24 finished with value: 0.9114941703117851 and parameters: {'scalers': 'minmax', 'lambda_l1': 0.0012364473578964862, 'lambda_l2': 0.000735092667148357, 'num_leaves': 82, 'feature_fraction': 0.9247985296342645, 'bagging_fraction': 0.610928475544244, 'bagging_freq': 7, 'min_child_samples': 6, 'max_depth': 507}. Best is trial 23 with value: 0.9164978711948527.\u001b[0m\n",
      "\u001b[32m[I 2022-07-20 02:03:51,192]\u001b[0m Trial 25 finished with value: 0.8968522840687752 and parameters: {'scalers': 'minmax', 'lambda_l1': 3.831236265946134e-06, 'lambda_l2': 7.45434058241237e-05, 'num_leaves': 133, 'feature_fraction': 0.9508602349523437, 'bagging_fraction': 0.7200330704705332, 'bagging_freq': 4, 'min_child_samples': 37, 'max_depth': 252}. Best is trial 23 with value: 0.9164978711948527.\u001b[0m\n",
      "\u001b[32m[I 2022-07-20 02:03:52,984]\u001b[0m Trial 26 finished with value: 0.9144912214837927 and parameters: {'scalers': 'minmax', 'lambda_l1': 5.279461045955173e-05, 'lambda_l2': 0.001822737380048286, 'num_leaves': 45, 'feature_fraction': 0.875479750315598, 'bagging_fraction': 0.6769390713684724, 'bagging_freq': 6, 'min_child_samples': 17, 'max_depth': 447}. Best is trial 23 with value: 0.9164978711948527.\u001b[0m\n",
      "\u001b[32m[I 2022-07-20 02:03:54,909]\u001b[0m Trial 27 finished with value: 0.9130364403118307 and parameters: {'scalers': 'minmax', 'lambda_l1': 0.0004871566405190324, 'lambda_l2': 0.07552470715132935, 'num_leaves': 120, 'feature_fraction': 0.7191141062878214, 'bagging_fraction': 0.6248497582762363, 'bagging_freq': 5, 'min_child_samples': 25, 'max_depth': 770}. Best is trial 23 with value: 0.9164978711948527.\u001b[0m\n",
      "\u001b[32m[I 2022-07-20 02:03:56,158]\u001b[0m Trial 28 finished with value: 0.8954264119887605 and parameters: {'scalers': 'minmax', 'lambda_l1': 0.13125690650073887, 'lambda_l2': 0.0002330817521622332, 'num_leaves': 90, 'feature_fraction': 0.4014457536332765, 'bagging_fraction': 0.7530669824932953, 'bagging_freq': 6, 'min_child_samples': 45, 'max_depth': 698}. Best is trial 23 with value: 0.9164978711948527.\u001b[0m\n",
      "\u001b[32m[I 2022-07-20 02:03:56,470]\u001b[0m Trial 29 finished with value: 0.5 and parameters: {'scalers': 'standard', 'lambda_l1': 1.1302998609506022e-08, 'lambda_l2': 1.8777390283216854e-05, 'num_leaves': 69, 'feature_fraction': 0.7138982143588156, 'bagging_fraction': 0.5626183452542404, 'bagging_freq': 4, 'min_child_samples': 76, 'max_depth': 303}. Best is trial 23 with value: 0.9164978711948527.\u001b[0m\n",
      "\u001b[32m[I 2022-07-20 02:03:57,830]\u001b[0m Trial 30 finished with value: 0.8993617204602953 and parameters: {'scalers': 'robust', 'lambda_l1': 1.5337431564891005e-07, 'lambda_l2': 9.469064005520314, 'num_leaves': 69, 'feature_fraction': 0.6087529958681377, 'bagging_fraction': 0.526537701881037, 'bagging_freq': 7, 'min_child_samples': 21, 'max_depth': 462}. Best is trial 23 with value: 0.9164978711948527.\u001b[0m\n",
      "\u001b[32m[I 2022-07-20 02:03:59,453]\u001b[0m Trial 31 finished with value: 0.9087845711584521 and parameters: {'scalers': 'minmax', 'lambda_l1': 2.611944442551931e-05, 'lambda_l2': 0.0019434581925409054, 'num_leaves': 43, 'feature_fraction': 0.8774992007155008, 'bagging_fraction': 0.6582408484878481, 'bagging_freq': 6, 'min_child_samples': 14, 'max_depth': 443}. Best is trial 23 with value: 0.9164978711948527.\u001b[0m\n",
      "\u001b[32m[I 2022-07-20 02:03:59,803]\u001b[0m Trial 32 finished with value: 0.5 and parameters: {'scalers': 'minmax', 'lambda_l1': 3.615448506997556e-06, 'lambda_l2': 0.0002486457758894415, 'num_leaves': 51, 'feature_fraction': 0.9385832719510054, 'bagging_fraction': 0.6926485660926126, 'bagging_freq': 6, 'min_child_samples': 100, 'max_depth': 569}. Best is trial 23 with value: 0.9164978711948527.\u001b[0m\n",
      "\u001b[32m[I 2022-07-20 02:04:00,780]\u001b[0m Trial 33 finished with value: 0.9117421580472294 and parameters: {'scalers': 'minmax', 'lambda_l1': 5.50588861010724e-05, 'lambda_l2': 0.005695034210053896, 'num_leaves': 30, 'feature_fraction': 0.8640612986466345, 'bagging_fraction': 0.7583043866140979, 'bagging_freq': 5, 'min_child_samples': 31, 'max_depth': 357}. Best is trial 23 with value: 0.9164978711948527.\u001b[0m\n",
      "\u001b[32m[I 2022-07-20 02:04:01,506]\u001b[0m Trial 34 finished with value: 0.9098147827423471 and parameters: {'scalers': 'minmax', 'lambda_l1': 1.0173021357564433e-05, 'lambda_l2': 7.171746395740662e-05, 'num_leaves': 67, 'feature_fraction': 0.8031204178373691, 'bagging_fraction': 0.6346013624115966, 'bagging_freq': 5, 'min_child_samples': 17, 'max_depth': 145}. Best is trial 23 with value: 0.9164978711948527.\u001b[0m\n",
      "\u001b[32m[I 2022-07-20 02:04:03,085]\u001b[0m Trial 35 finished with value: 0.9141355439655766 and parameters: {'scalers': 'minmax', 'lambda_l1': 5.228369719489395e-08, 'lambda_l2': 0.03971356373574362, 'num_leaves': 88, 'feature_fraction': 0.6475679446031409, 'bagging_fraction': 0.439788883208545, 'bagging_freq': 6, 'min_child_samples': 12, 'max_depth': 487}. Best is trial 23 with value: 0.9164978711948527.\u001b[0m\n",
      "\u001b[32m[I 2022-07-20 02:04:04,960]\u001b[0m Trial 36 finished with value: 0.9168910894606731 and parameters: {'scalers': 'minmax', 'lambda_l1': 8.464193746357952e-05, 'lambda_l2': 0.0007116824962769796, 'num_leaves': 37, 'feature_fraction': 0.8949269710007635, 'bagging_fraction': 0.6962151957531653, 'bagging_freq': 7, 'min_child_samples': 28, 'max_depth': 833}. Best is trial 36 with value: 0.9168910894606731.\u001b[0m\n",
      "\u001b[32m[I 2022-07-20 02:04:06,844]\u001b[0m Trial 37 finished with value: 0.9097154760444234 and parameters: {'scalers': 'minmax', 'lambda_l1': 2.1832929800819838e-06, 'lambda_l2': 0.00032308650509662305, 'num_leaves': 148, 'feature_fraction': 0.962471875132445, 'bagging_fraction': 0.809020814178035, 'bagging_freq': 7, 'min_child_samples': 39, 'max_depth': 838}. Best is trial 36 with value: 0.9168910894606731.\u001b[0m\n",
      "\u001b[32m[I 2022-07-20 02:04:07,671]\u001b[0m Trial 38 finished with value: 0.5 and parameters: {'scalers': 'robust', 'lambda_l1': 0.0010530479493699326, 'lambda_l2': 0.00046746670489684693, 'num_leaves': 23, 'feature_fraction': 0.9016382178324213, 'bagging_fraction': 0.57131002192478, 'bagging_freq': 7, 'min_child_samples': 62, 'max_depth': 742}. Best is trial 36 with value: 0.9168910894606731.\u001b[0m\n",
      "\u001b[32m[I 2022-07-20 02:04:08,870]\u001b[0m Trial 39 finished with value: 0.9037544216124357 and parameters: {'scalers': 'minmax', 'lambda_l1': 1.6034918903733332e-07, 'lambda_l2': 9.840511951513615e-05, 'num_leaves': 62, 'feature_fraction': 0.6852147114499314, 'bagging_fraction': 0.4009652818652189, 'bagging_freq': 5, 'min_child_samples': 29, 'max_depth': 910}. Best is trial 36 with value: 0.9168910894606731.\u001b[0m\n",
      "\u001b[32m[I 2022-07-20 02:04:10,280]\u001b[0m Trial 40 finished with value: 0.8941759500184087 and parameters: {'scalers': 'standard', 'lambda_l1': 7.467903419518303e-06, 'lambda_l2': 2.7666841144867133e-05, 'num_leaves': 41, 'feature_fraction': 0.7379906196776785, 'bagging_fraction': 0.73039686809138, 'bagging_freq': 7, 'min_child_samples': 48, 'max_depth': 798}. Best is trial 36 with value: 0.9168910894606731.\u001b[0m\n",
      "\u001b[32m[I 2022-07-20 02:04:12,184]\u001b[0m Trial 41 finished with value: 0.915705580668042 and parameters: {'scalers': 'minmax', 'lambda_l1': 0.00011508910268814172, 'lambda_l2': 0.002406114627416653, 'num_leaves': 49, 'feature_fraction': 0.878452305383327, 'bagging_fraction': 0.685402451895678, 'bagging_freq': 6, 'min_child_samples': 22, 'max_depth': 682}. Best is trial 36 with value: 0.9168910894606731.\u001b[0m\n"
     ]
    },
    {
     "name": "stderr",
     "output_type": "stream",
     "text": [
      "\u001b[32m[I 2022-07-20 02:04:14,388]\u001b[0m Trial 42 finished with value: 0.9122812558098936 and parameters: {'scalers': 'minmax', 'lambda_l1': 0.00014343110790534676, 'lambda_l2': 0.0061365252515844775, 'num_leaves': 55, 'feature_fraction': 0.9862862518999178, 'bagging_fraction': 0.6913096886173619, 'bagging_freq': 6, 'min_child_samples': 21, 'max_depth': 682}. Best is trial 36 with value: 0.9168910894606731.\u001b[0m\n",
      "\u001b[32m[I 2022-07-20 02:04:16,324]\u001b[0m Trial 43 finished with value: 0.9139703874416739 and parameters: {'scalers': 'minmax', 'lambda_l1': 1.924565515129665e-05, 'lambda_l2': 0.0026032764539717155, 'num_leaves': 101, 'feature_fraction': 0.9192179218849311, 'bagging_fraction': 0.7685840320744166, 'bagging_freq': 5, 'min_child_samples': 34, 'max_depth': 806}. Best is trial 36 with value: 0.9168910894606731.\u001b[0m\n",
      "\u001b[32m[I 2022-07-20 02:04:17,441]\u001b[0m Trial 44 finished with value: 0.5 and parameters: {'scalers': 'robust', 'lambda_l1': 1.2266102553812062e-06, 'lambda_l2': 0.021305847907630685, 'num_leaves': 20, 'feature_fraction': 0.8286434332460599, 'bagging_fraction': 0.6388052949877344, 'bagging_freq': 7, 'min_child_samples': 57, 'max_depth': 855}. Best is trial 36 with value: 0.9168910894606731.\u001b[0m\n",
      "\u001b[32m[I 2022-07-20 02:04:19,203]\u001b[0m Trial 45 finished with value: 0.9170964051932722 and parameters: {'scalers': 'minmax', 'lambda_l1': 0.000448721518046587, 'lambda_l2': 0.08950832971776969, 'num_leaves': 81, 'feature_fraction': 0.850086231614933, 'bagging_fraction': 0.5240589441343348, 'bagging_freq': 6, 'min_child_samples': 23, 'max_depth': 749}. Best is trial 45 with value: 0.9170964051932722.\u001b[0m\n",
      "\u001b[32m[I 2022-07-20 02:04:21,046]\u001b[0m Trial 46 finished with value: 0.913041944668417 and parameters: {'scalers': 'minmax', 'lambda_l1': 0.0006185685823378383, 'lambda_l2': 2.099930588694705, 'num_leaves': 117, 'feature_fraction': 0.8466992802303385, 'bagging_fraction': 0.5179067305118557, 'bagging_freq': 6, 'min_child_samples': 21, 'max_depth': 751}. Best is trial 45 with value: 0.9170964051932722.\u001b[0m\n",
      "\u001b[32m[I 2022-07-20 02:04:22,246]\u001b[0m Trial 47 finished with value: 0.8933145854272856 and parameters: {'scalers': 'minmax', 'lambda_l1': 0.0027456003832777684, 'lambda_l2': 0.5115337682118466, 'num_leaves': 94, 'feature_fraction': 0.8871743251241123, 'bagging_fraction': 0.593251916844319, 'bagging_freq': 7, 'min_child_samples': 42, 'max_depth': 945}. Best is trial 45 with value: 0.9170964051932722.\u001b[0m\n",
      "\u001b[32m[I 2022-07-20 02:04:25,602]\u001b[0m Trial 48 finished with value: 0.913859298947265 and parameters: {'scalers': 'minmax', 'lambda_l1': 0.00026317612770546426, 'lambda_l2': 0.04421680575032483, 'num_leaves': 166, 'feature_fraction': 0.9654899223015132, 'bagging_fraction': 0.5036809280355119, 'bagging_freq': 6, 'min_child_samples': 8, 'max_depth': 825}. Best is trial 45 with value: 0.9170964051932722.\u001b[0m\n",
      "\u001b[32m[I 2022-07-20 02:04:28,625]\u001b[0m Trial 49 finished with value: 0.915515537073006 and parameters: {'scalers': 'robust', 'lambda_l1': 0.00010034425815227537, 'lambda_l2': 0.012316596538824451, 'num_leaves': 226, 'feature_fraction': 0.8123581336271559, 'bagging_fraction': 0.47154676078138946, 'bagging_freq': 2, 'min_child_samples': 16, 'max_depth': 766}. Best is trial 45 with value: 0.9170964051932722.\u001b[0m\n"
     ]
    }
   ],
   "source": [
    "study.optimize(objective, n_trials=50)"
   ]
  },
  {
   "cell_type": "code",
   "execution_count": 105,
   "id": "fa8b6add",
   "metadata": {},
   "outputs": [],
   "source": [
    "# Get best trial based on metric score\n",
    "trial = study.best_trial"
   ]
  },
  {
   "cell_type": "code",
   "execution_count": 106,
   "id": "18b87f2b",
   "metadata": {},
   "outputs": [
    {
     "name": "stdout",
     "output_type": "stream",
     "text": [
      "    scalers: minmax\n",
      "    lambda_l1: 0.000448721518046587\n",
      "    lambda_l2: 0.08950832971776969\n",
      "    num_leaves: 81\n",
      "    feature_fraction: 0.850086231614933\n",
      "    bagging_fraction: 0.5240589441343348\n",
      "    bagging_freq: 6\n",
      "    min_child_samples: 23\n",
      "    max_depth: 749\n"
     ]
    }
   ],
   "source": [
    "# Print params for best trial\n",
    "for key, value in trial.params.items():\n",
    "    print(\"    {}: {}\".format(key, value))"
   ]
  },
  {
   "cell_type": "code",
   "execution_count": 107,
   "id": "b6583461",
   "metadata": {},
   "outputs": [
    {
     "data": {
      "text/plain": [
       "0.9170964051932722"
      ]
     },
     "execution_count": 107,
     "metadata": {},
     "output_type": "execute_result"
    }
   ],
   "source": [
    "# Best Score from HP Opt\n",
    "trial.values[0]"
   ]
  },
  {
   "cell_type": "markdown",
   "id": "adec63f9",
   "metadata": {},
   "source": [
    "Possivel overfit causado pelo SMOTE"
   ]
  },
  {
   "cell_type": "markdown",
   "id": "263fb0fe",
   "metadata": {},
   "source": [
    "* testando outro tipo de SMOTE (KNN smote)"
   ]
  },
  {
   "cell_type": "code",
   "execution_count": 108,
   "id": "4cb75523",
   "metadata": {},
   "outputs": [],
   "source": [
    "smoteKnn = KMeansSMOTE(sampling_strategy ='minority', n_jobs=-1)\n",
    "X_sm_knn, y_sm_knn = smoteKnn.fit_resample(X[features], y)"
   ]
  },
  {
   "cell_type": "code",
   "execution_count": 109,
   "id": "06b1a103",
   "metadata": {},
   "outputs": [
    {
     "name": "stderr",
     "output_type": "stream",
     "text": [
      "C:\\Users\\Lucas\\AppData\\Local\\Temp\\ipykernel_980\\2222850431.py:2: PerformanceWarning: DataFrame is highly fragmented.  This is usually the result of calling `frame.insert` many times, which has poor performance.  Consider joining all columns at once using pd.concat(axis=1) instead. To get a de-fragmented frame, use `newframe = frame.copy()`\n",
      "  df['target'] = y_sm_knn\n"
     ]
    },
    {
     "data": {
      "text/plain": [
       "<AxesSubplot:title={'center':'Count (target)'}>"
      ]
     },
     "execution_count": 109,
     "metadata": {},
     "output_type": "execute_result"
    },
    {
     "data": {
      "image/png": "[encoded data removed]",
      "text/plain": [
       "<Figure size 432x288 with 1 Axes>"
      ]
     },
     "metadata": {
      "needs_background": "light"
     },
     "output_type": "display_data"
    }
   ],
   "source": [
    "df = pd.DataFrame(X_sm_knn, columns=features)\n",
    "df['target'] = y_sm_knn\n",
    "\n",
    "df['target'].value_counts().plot(kind='bar', title='Count (target)')"
   ]
  },
  {
   "cell_type": "code",
   "execution_count": null,
   "id": "b01513d3",
   "metadata": {},
   "outputs": [],
   "source": []
  },
  {
   "cell_type": "code",
   "execution_count": 110,
   "id": "2ee57bb7",
   "metadata": {
    "scrolled": true
   },
   "outputs": [
    {
     "name": "stdout",
     "output_type": "stream",
     "text": [
      "Iteration: \t1 / 100\n",
      "Confirmed: \t0\n",
      "Tentative: \t635\n",
      "Rejected: \t0\n",
      "Iteration: \t2 / 100\n",
      "Confirmed: \t0\n",
      "Tentative: \t635\n",
      "Rejected: \t0\n",
      "Iteration: \t3 / 100\n",
      "Confirmed: \t0\n",
      "Tentative: \t635\n",
      "Rejected: \t0\n",
      "Iteration: \t4 / 100\n",
      "Confirmed: \t0\n",
      "Tentative: \t635\n",
      "Rejected: \t0\n",
      "Iteration: \t5 / 100\n",
      "Confirmed: \t0\n",
      "Tentative: \t635\n",
      "Rejected: \t0\n",
      "Iteration: \t6 / 100\n",
      "Confirmed: \t0\n",
      "Tentative: \t635\n",
      "Rejected: \t0\n",
      "Iteration: \t7 / 100\n",
      "Confirmed: \t0\n",
      "Tentative: \t635\n",
      "Rejected: \t0\n",
      "Iteration: \t8 / 100\n",
      "Confirmed: \t0\n",
      "Tentative: \t156\n",
      "Rejected: \t479\n",
      "Iteration: \t9 / 100\n",
      "Confirmed: \t40\n",
      "Tentative: \t116\n",
      "Rejected: \t479\n",
      "Iteration: \t10 / 100\n",
      "Confirmed: \t40\n",
      "Tentative: \t116\n",
      "Rejected: \t479\n",
      "Iteration: \t11 / 100\n",
      "Confirmed: \t40\n",
      "Tentative: \t116\n",
      "Rejected: \t479\n",
      "Iteration: \t12 / 100\n",
      "Confirmed: \t45\n",
      "Tentative: \t99\n",
      "Rejected: \t491\n",
      "Iteration: \t13 / 100\n",
      "Confirmed: \t45\n",
      "Tentative: \t99\n",
      "Rejected: \t491\n",
      "Iteration: \t14 / 100\n",
      "Confirmed: \t45\n",
      "Tentative: \t99\n",
      "Rejected: \t491\n",
      "Iteration: \t15 / 100\n",
      "Confirmed: \t45\n",
      "Tentative: \t99\n",
      "Rejected: \t491\n",
      "Iteration: \t16 / 100\n",
      "Confirmed: \t48\n",
      "Tentative: \t84\n",
      "Rejected: \t503\n",
      "Iteration: \t17 / 100\n",
      "Confirmed: \t48\n",
      "Tentative: \t84\n",
      "Rejected: \t503\n",
      "Iteration: \t18 / 100\n",
      "Confirmed: \t48\n",
      "Tentative: \t84\n",
      "Rejected: \t503\n",
      "Iteration: \t19 / 100\n",
      "Confirmed: \t50\n",
      "Tentative: \t76\n",
      "Rejected: \t509\n",
      "Iteration: \t20 / 100\n",
      "Confirmed: \t50\n",
      "Tentative: \t76\n",
      "Rejected: \t509\n",
      "Iteration: \t21 / 100\n",
      "Confirmed: \t50\n",
      "Tentative: \t76\n",
      "Rejected: \t509\n",
      "Iteration: \t22 / 100\n",
      "Confirmed: \t52\n",
      "Tentative: \t74\n",
      "Rejected: \t509\n",
      "Iteration: \t23 / 100\n",
      "Confirmed: \t52\n",
      "Tentative: \t70\n",
      "Rejected: \t513\n",
      "Iteration: \t24 / 100\n",
      "Confirmed: \t52\n",
      "Tentative: \t70\n",
      "Rejected: \t513\n",
      "Iteration: \t25 / 100\n",
      "Confirmed: \t52\n",
      "Tentative: \t70\n",
      "Rejected: \t513\n",
      "Iteration: \t26 / 100\n",
      "Confirmed: \t52\n",
      "Tentative: \t66\n",
      "Rejected: \t517\n",
      "Iteration: \t27 / 100\n",
      "Confirmed: \t52\n",
      "Tentative: \t66\n",
      "Rejected: \t517\n",
      "Iteration: \t28 / 100\n",
      "Confirmed: \t52\n",
      "Tentative: \t66\n",
      "Rejected: \t517\n",
      "Iteration: \t29 / 100\n",
      "Confirmed: \t52\n",
      "Tentative: \t57\n",
      "Rejected: \t526\n",
      "Iteration: \t30 / 100\n",
      "Confirmed: \t52\n",
      "Tentative: \t57\n",
      "Rejected: \t526\n",
      "Iteration: \t31 / 100\n",
      "Confirmed: \t52\n",
      "Tentative: \t57\n",
      "Rejected: \t526\n",
      "Iteration: \t32 / 100\n",
      "Confirmed: \t53\n",
      "Tentative: \t51\n",
      "Rejected: \t531\n",
      "Iteration: \t33 / 100\n",
      "Confirmed: \t53\n",
      "Tentative: \t51\n",
      "Rejected: \t531\n",
      "Iteration: \t34 / 100\n",
      "Confirmed: \t54\n",
      "Tentative: \t50\n",
      "Rejected: \t531\n",
      "Iteration: \t35 / 100\n",
      "Confirmed: \t54\n",
      "Tentative: \t50\n",
      "Rejected: \t531\n",
      "Iteration: \t36 / 100\n",
      "Confirmed: \t54\n",
      "Tentative: \t50\n",
      "Rejected: \t531\n",
      "Iteration: \t37 / 100\n",
      "Confirmed: \t54\n",
      "Tentative: \t50\n",
      "Rejected: \t531\n",
      "Iteration: \t38 / 100\n",
      "Confirmed: \t54\n",
      "Tentative: \t48\n",
      "Rejected: \t533\n",
      "Iteration: \t39 / 100\n",
      "Confirmed: \t54\n",
      "Tentative: \t48\n",
      "Rejected: \t533\n",
      "Iteration: \t40 / 100\n",
      "Confirmed: \t54\n",
      "Tentative: \t46\n",
      "Rejected: \t535\n",
      "Iteration: \t41 / 100\n",
      "Confirmed: \t54\n",
      "Tentative: \t46\n",
      "Rejected: \t535\n",
      "Iteration: \t42 / 100\n",
      "Confirmed: \t54\n",
      "Tentative: \t46\n",
      "Rejected: \t535\n",
      "Iteration: \t43 / 100\n",
      "Confirmed: \t54\n",
      "Tentative: \t46\n",
      "Rejected: \t535\n",
      "Iteration: \t44 / 100\n",
      "Confirmed: \t54\n",
      "Tentative: \t46\n",
      "Rejected: \t535\n",
      "Iteration: \t45 / 100\n",
      "Confirmed: \t54\n",
      "Tentative: \t45\n",
      "Rejected: \t536\n",
      "Iteration: \t46 / 100\n",
      "Confirmed: \t54\n",
      "Tentative: \t43\n",
      "Rejected: \t538\n",
      "Iteration: \t47 / 100\n",
      "Confirmed: \t54\n",
      "Tentative: \t43\n",
      "Rejected: \t538\n",
      "Iteration: \t48 / 100\n",
      "Confirmed: \t54\n",
      "Tentative: \t43\n",
      "Rejected: \t538\n",
      "Iteration: \t49 / 100\n",
      "Confirmed: \t54\n",
      "Tentative: \t41\n",
      "Rejected: \t540\n",
      "Iteration: \t50 / 100\n",
      "Confirmed: \t54\n",
      "Tentative: \t41\n",
      "Rejected: \t540\n",
      "Iteration: \t51 / 100\n",
      "Confirmed: \t54\n",
      "Tentative: \t41\n",
      "Rejected: \t540\n",
      "Iteration: \t52 / 100\n",
      "Confirmed: \t54\n",
      "Tentative: \t41\n",
      "Rejected: \t540\n",
      "Iteration: \t53 / 100\n",
      "Confirmed: \t54\n",
      "Tentative: \t41\n",
      "Rejected: \t540\n",
      "Iteration: \t54 / 100\n",
      "Confirmed: \t56\n",
      "Tentative: \t39\n",
      "Rejected: \t540\n",
      "Iteration: \t55 / 100\n",
      "Confirmed: \t56\n",
      "Tentative: \t38\n",
      "Rejected: \t541\n",
      "Iteration: \t56 / 100\n",
      "Confirmed: \t56\n",
      "Tentative: \t38\n",
      "Rejected: \t541\n",
      "Iteration: \t57 / 100\n",
      "Confirmed: \t56\n",
      "Tentative: \t38\n",
      "Rejected: \t541\n",
      "Iteration: \t58 / 100\n",
      "Confirmed: \t56\n",
      "Tentative: \t38\n",
      "Rejected: \t541\n",
      "Iteration: \t59 / 100\n",
      "Confirmed: \t56\n",
      "Tentative: \t38\n",
      "Rejected: \t541\n",
      "Iteration: \t60 / 100\n",
      "Confirmed: \t56\n",
      "Tentative: \t38\n",
      "Rejected: \t541\n",
      "Iteration: \t61 / 100\n",
      "Confirmed: \t56\n",
      "Tentative: \t38\n",
      "Rejected: \t541\n",
      "Iteration: \t62 / 100\n",
      "Confirmed: \t56\n",
      "Tentative: \t37\n",
      "Rejected: \t542\n",
      "Iteration: \t63 / 100\n",
      "Confirmed: \t56\n",
      "Tentative: \t37\n",
      "Rejected: \t542\n",
      "Iteration: \t64 / 100\n",
      "Confirmed: \t56\n",
      "Tentative: \t37\n",
      "Rejected: \t542\n",
      "Iteration: \t65 / 100\n",
      "Confirmed: \t56\n",
      "Tentative: \t36\n",
      "Rejected: \t543\n",
      "Iteration: \t66 / 100\n",
      "Confirmed: \t56\n",
      "Tentative: \t36\n",
      "Rejected: \t543\n",
      "Iteration: \t67 / 100\n",
      "Confirmed: \t56\n",
      "Tentative: \t33\n",
      "Rejected: \t546\n",
      "Iteration: \t68 / 100\n",
      "Confirmed: \t56\n",
      "Tentative: \t33\n",
      "Rejected: \t546\n",
      "Iteration: \t69 / 100\n",
      "Confirmed: \t56\n",
      "Tentative: \t33\n",
      "Rejected: \t546\n",
      "Iteration: \t70 / 100\n",
      "Confirmed: \t56\n",
      "Tentative: \t33\n",
      "Rejected: \t546\n",
      "Iteration: \t71 / 100\n",
      "Confirmed: \t56\n",
      "Tentative: \t33\n",
      "Rejected: \t546\n",
      "Iteration: \t72 / 100\n",
      "Confirmed: \t56\n",
      "Tentative: \t33\n",
      "Rejected: \t546\n",
      "Iteration: \t73 / 100\n",
      "Confirmed: \t56\n",
      "Tentative: \t33\n",
      "Rejected: \t546\n",
      "Iteration: \t74 / 100\n",
      "Confirmed: \t56\n",
      "Tentative: \t33\n",
      "Rejected: \t546\n",
      "Iteration: \t75 / 100\n",
      "Confirmed: \t57\n",
      "Tentative: \t32\n",
      "Rejected: \t546\n",
      "Iteration: \t76 / 100\n",
      "Confirmed: \t57\n",
      "Tentative: \t32\n",
      "Rejected: \t546\n",
      "Iteration: \t77 / 100\n",
      "Confirmed: \t57\n",
      "Tentative: \t32\n",
      "Rejected: \t546\n",
      "Iteration: \t78 / 100\n",
      "Confirmed: \t57\n",
      "Tentative: \t32\n",
      "Rejected: \t546\n",
      "Iteration: \t79 / 100\n",
      "Confirmed: \t57\n",
      "Tentative: \t32\n",
      "Rejected: \t546\n",
      "Iteration: \t80 / 100\n",
      "Confirmed: \t57\n",
      "Tentative: \t32\n",
      "Rejected: \t546\n",
      "Iteration: \t81 / 100\n",
      "Confirmed: \t57\n",
      "Tentative: \t32\n",
      "Rejected: \t546\n",
      "Iteration: \t82 / 100\n",
      "Confirmed: \t57\n",
      "Tentative: \t32\n",
      "Rejected: \t546\n",
      "Iteration: \t83 / 100\n",
      "Confirmed: \t57\n",
      "Tentative: \t32\n",
      "Rejected: \t546\n",
      "Iteration: \t84 / 100\n",
      "Confirmed: \t57\n",
      "Tentative: \t32\n",
      "Rejected: \t546\n",
      "Iteration: \t85 / 100\n",
      "Confirmed: \t57\n",
      "Tentative: \t32\n",
      "Rejected: \t546\n",
      "Iteration: \t86 / 100\n",
      "Confirmed: \t57\n",
      "Tentative: \t32\n",
      "Rejected: \t546\n",
      "Iteration: \t87 / 100\n",
      "Confirmed: \t57\n",
      "Tentative: \t32\n",
      "Rejected: \t546\n",
      "Iteration: \t88 / 100\n",
      "Confirmed: \t57\n",
      "Tentative: \t32\n",
      "Rejected: \t546\n",
      "Iteration: \t89 / 100\n",
      "Confirmed: \t57\n",
      "Tentative: \t32\n",
      "Rejected: \t546\n",
      "Iteration: \t90 / 100\n",
      "Confirmed: \t57\n",
      "Tentative: \t32\n",
      "Rejected: \t546\n",
      "Iteration: \t91 / 100\n",
      "Confirmed: \t57\n",
      "Tentative: \t32\n",
      "Rejected: \t546\n",
      "Iteration: \t92 / 100\n",
      "Confirmed: \t57\n",
      "Tentative: \t32\n",
      "Rejected: \t546\n",
      "Iteration: \t93 / 100\n",
      "Confirmed: \t57\n",
      "Tentative: \t32\n",
      "Rejected: \t546\n",
      "Iteration: \t94 / 100\n",
      "Confirmed: \t57\n",
      "Tentative: \t32\n",
      "Rejected: \t546\n",
      "Iteration: \t95 / 100\n",
      "Confirmed: \t57\n",
      "Tentative: \t32\n",
      "Rejected: \t546\n",
      "Iteration: \t96 / 100\n",
      "Confirmed: \t57\n",
      "Tentative: \t32\n",
      "Rejected: \t546\n",
      "Iteration: \t97 / 100\n",
      "Confirmed: \t57\n",
      "Tentative: \t32\n",
      "Rejected: \t546\n",
      "Iteration: \t98 / 100\n",
      "Confirmed: \t57\n",
      "Tentative: \t32\n",
      "Rejected: \t546\n",
      "Iteration: \t99 / 100\n",
      "Confirmed: \t57\n",
      "Tentative: \t32\n",
      "Rejected: \t546\n",
      "\n",
      "\n",
      "BorutaPy finished running.\n",
      "\n",
      "Iteration: \t100 / 100\n",
      "Confirmed: \t57\n",
      "Tentative: \t14\n",
      "Rejected: \t546\n"
     ]
    },
    {
     "data": {
      "text/html": [
       "<style>#sk-container-id-4 {color: black;background-color: white;}#sk-container-id-4 pre{padding: 0;}#sk-container-id-4 div.sk-toggleable {background-color: white;}#sk-container-id-4 label.sk-toggleable__label {cursor: pointer;display: block;width: 100%;margin-bottom: 0;padding: 0.3em;box-sizing: border-box;text-align: center;}#sk-container-id-4 label.sk-toggleable__label-arrow:before {content: \"▸\";float: left;margin-right: 0.25em;color: #696969;}#sk-container-id-4 label.sk-toggleable__label-arrow:hover:before {color: black;}#sk-container-id-4 div.sk-estimator:hover label.sk-toggleable__label-arrow:before {color: black;}#sk-container-id-4 div.sk-toggleable__content {max-height: 0;max-width: 0;overflow: hidden;text-align: left;background-color: #f0f8ff;}#sk-container-id-4 div.sk-toggleable__content pre {margin: 0.2em;color: black;border-radius: 0.25em;background-color: #f0f8ff;}#sk-container-id-4 input.sk-toggleable__control:checked~div.sk-toggleable__content {max-height: 200px;max-width: 100%;overflow: auto;}#sk-container-id-4 input.sk-toggleable__control:checked~label.sk-toggleable__label-arrow:before {content: \"▾\";}#sk-container-id-4 div.sk-estimator input.sk-toggleable__control:checked~label.sk-toggleable__label {background-color: #d4ebff;}#sk-container-id-4 div.sk-label input.sk-toggleable__control:checked~label.sk-toggleable__label {background-color: #d4ebff;}#sk-container-id-4 input.sk-hidden--visually {border: 0;clip: rect(1px 1px 1px 1px);clip: rect(1px, 1px, 1px, 1px);height: 1px;margin: -1px;overflow: hidden;padding: 0;position: absolute;width: 1px;}#sk-container-id-4 div.sk-estimator {font-family: monospace;background-color: #f0f8ff;border: 1px dotted black;border-radius: 0.25em;box-sizing: border-box;margin-bottom: 0.5em;}#sk-container-id-4 div.sk-estimator:hover {background-color: #d4ebff;}#sk-container-id-4 div.sk-parallel-item::after {content: \"\";width: 100%;border-bottom: 1px solid gray;flex-grow: 1;}#sk-container-id-4 div.sk-label:hover label.sk-toggleable__label {background-color: #d4ebff;}#sk-container-id-4 div.sk-serial::before {content: \"\";position: absolute;border-left: 1px solid gray;box-sizing: border-box;top: 0;bottom: 0;left: 50%;z-index: 0;}#sk-container-id-4 div.sk-serial {display: flex;flex-direction: column;align-items: center;background-color: white;padding-right: 0.2em;padding-left: 0.2em;position: relative;}#sk-container-id-4 div.sk-item {position: relative;z-index: 1;}#sk-container-id-4 div.sk-parallel {display: flex;align-items: stretch;justify-content: center;background-color: white;position: relative;}#sk-container-id-4 div.sk-item::before, #sk-container-id-4 div.sk-parallel-item::before {content: \"\";position: absolute;border-left: 1px solid gray;box-sizing: border-box;top: 0;bottom: 0;left: 50%;z-index: -1;}#sk-container-id-4 div.sk-parallel-item {display: flex;flex-direction: column;z-index: 1;position: relative;background-color: white;}#sk-container-id-4 div.sk-parallel-item:first-child::after {align-self: flex-end;width: 50%;}#sk-container-id-4 div.sk-parallel-item:last-child::after {align-self: flex-start;width: 50%;}#sk-container-id-4 div.sk-parallel-item:only-child::after {width: 0;}#sk-container-id-4 div.sk-dashed-wrapped {border: 1px dashed gray;margin: 0 0.4em 0.5em 0.4em;box-sizing: border-box;padding-bottom: 0.4em;background-color: white;}#sk-container-id-4 div.sk-label label {font-family: monospace;font-weight: bold;display: inline-block;line-height: 1.2em;}#sk-container-id-4 div.sk-label-container {text-align: center;}#sk-container-id-4 div.sk-container {/* jupyter's `normalize.less` sets `[hidden] { display: none; }` but bootstrap.min.css set `[hidden] { display: none !important; }` so we also need the `!important` here to be able to override the default hidden behavior on the sphinx rendered scikit-learn.org. See: https://github.com/scikit-learn/scikit-learn/issues/21755 */display: inline-block !important;position: relative;}#sk-container-id-4 div.sk-text-repr-fallback {display: none;}</style><div id=\"sk-container-id-4\" class=\"sk-top-container\"><div class=\"sk-text-repr-fallback\"><pre>BorutaPy(estimator=RandomForestClassifier(class_weight=&#x27;balanced&#x27;, max_depth=5,\n",
       "                                          n_estimators=266, n_jobs=-1,\n",
       "                                          random_state=RandomState(MT19937) at 0x2380411AF40),\n",
       "         n_estimators=&#x27;auto&#x27;,\n",
       "         random_state=RandomState(MT19937) at 0x2380411AF40, verbose=2)</pre><b>In a Jupyter environment, please rerun this cell to show the HTML representation or trust the notebook. <br />On GitHub, the HTML representation is unable to render, please try loading this page with nbviewer.org.</b></div><div class=\"sk-container\" hidden><div class=\"sk-item sk-dashed-wrapped\"><div class=\"sk-label-container\"><div class=\"sk-label sk-toggleable\"><input class=\"sk-toggleable__control sk-hidden--visually\" id=\"sk-estimator-id-8\" type=\"checkbox\" ><label for=\"sk-estimator-id-8\" class=\"sk-toggleable__label sk-toggleable__label-arrow\">BorutaPy</label><div class=\"sk-toggleable__content\"><pre>BorutaPy(estimator=RandomForestClassifier(class_weight=&#x27;balanced&#x27;, max_depth=5,\n",
       "                                          n_estimators=266, n_jobs=-1,\n",
       "                                          random_state=RandomState(MT19937) at 0x2380411AF40),\n",
       "         n_estimators=&#x27;auto&#x27;,\n",
       "         random_state=RandomState(MT19937) at 0x2380411AF40, verbose=2)</pre></div></div></div><div class=\"sk-parallel\"><div class=\"sk-parallel-item\"><div class=\"sk-item\"><div class=\"sk-label-container\"><div class=\"sk-label sk-toggleable\"><input class=\"sk-toggleable__control sk-hidden--visually\" id=\"sk-estimator-id-9\" type=\"checkbox\" ><label for=\"sk-estimator-id-9\" class=\"sk-toggleable__label sk-toggleable__label-arrow\">estimator: RandomForestClassifier</label><div class=\"sk-toggleable__content\"><pre>RandomForestClassifier(class_weight=&#x27;balanced&#x27;, max_depth=5, n_estimators=266,\n",
       "                       n_jobs=-1,\n",
       "                       random_state=RandomState(MT19937) at 0x2380411AF40)</pre></div></div></div><div class=\"sk-serial\"><div class=\"sk-item\"><div class=\"sk-estimator sk-toggleable\"><input class=\"sk-toggleable__control sk-hidden--visually\" id=\"sk-estimator-id-10\" type=\"checkbox\" ><label for=\"sk-estimator-id-10\" class=\"sk-toggleable__label sk-toggleable__label-arrow\">RandomForestClassifier</label><div class=\"sk-toggleable__content\"><pre>RandomForestClassifier(class_weight=&#x27;balanced&#x27;, max_depth=5, n_estimators=266,\n",
       "                       n_jobs=-1,\n",
       "                       random_state=RandomState(MT19937) at 0x2380411AF40)</pre></div></div></div></div></div></div></div></div></div></div>"
      ],
      "text/plain": [
       "BorutaPy(estimator=RandomForestClassifier(class_weight='balanced', max_depth=5,\n",
       "                                          n_estimators=266, n_jobs=-1,\n",
       "                                          random_state=RandomState(MT19937) at 0x2380411AF40),\n",
       "         n_estimators='auto',\n",
       "         random_state=RandomState(MT19937) at 0x2380411AF40, verbose=2)"
      ]
     },
     "execution_count": 110,
     "metadata": {},
     "output_type": "execute_result"
    }
   ],
   "source": [
    "feat_selector.fit(np.array(X_sm_knn), y_sm_knn)"
   ]
  },
  {
   "cell_type": "code",
   "execution_count": 111,
   "id": "3ef38930",
   "metadata": {},
   "outputs": [
    {
     "name": "stdout",
     "output_type": "stream",
     "text": [
      "Number of selected features:  57\n"
     ]
    }
   ],
   "source": [
    "print(\"Number of selected features: \", feat_selector.n_features_)"
   ]
  },
  {
   "cell_type": "code",
   "execution_count": 112,
   "id": "4a186086",
   "metadata": {
    "scrolled": true
   },
   "outputs": [
    {
     "data": {
      "text/plain": [
       "Index(['Freq.1223.24180676615', 'Freq.1715.32907573994',\n",
       "       'Freq.1740.18797557113', 'Freq.1793.31292765446',\n",
       "       'Freq.1874.22470784316', 'Freq.1915.56667060927',\n",
       "       'Freq.1989.65991446642', 'Freq.2032.95119529926',\n",
       "       'Freq.2148.55916353654', 'Freq.2182.52259691583',\n",
       "       'Freq.2186.33577081196', 'Freq.2242.07973381149',\n",
       "       'Freq.2245.4309661224', 'Freq.2822.5691494885', 'Freq.2926.87413924864',\n",
       "       'Freq.3044.21704373186', 'Freq.3077.77601350217',\n",
       "       'Freq.3194.41107599375', 'Freq.3275.06824878848',\n",
       "       'Freq.3425.70211639867', 'Freq.3610.10023694714',\n",
       "       'Freq.3722.2629296908', 'Freq.3912.82100942603',\n",
       "       'Freq.4104.40173898671', 'Freq.4144.89285781313',\n",
       "       'Freq.4244.80305549587', 'Freq.4266.3135397872',\n",
       "       'Freq.4282.69712175929', 'Freq.4305.85988898402',\n",
       "       'Freq.4318.14922038936', 'Freq.4374.21684152638',\n",
       "       'Freq.4387.66582672803', 'Freq.4395.12541812139',\n",
       "       'Freq.4411.07592736101', 'Freq.4434.44782516597',\n",
       "       'Freq.4459.7608032322', 'Freq.4580.63232506452', 'Freq.4760.0578048003',\n",
       "       'Freq.4773.1748593189', 'Freq.4823.05474215093', 'Freq.4901.5122688011',\n",
       "       'Freq.5034.94946914192', 'Freq.5085.12753419191',\n",
       "       'Freq.5224.39772946441', 'Freq.5433.51287445961',\n",
       "       'Freq.5486.38563387454', 'Freq.5714.16592259915',\n",
       "       'Freq.5720.85320850586', 'Freq.5814.15441443799',\n",
       "       'Freq.5952.56070871295', 'Freq.6025.09276808843',\n",
       "       'Freq.6079.05181901815', 'Freq.6823.11643549173',\n",
       "       'Freq.6972.71620506773', 'Freq.7738.28945568542',\n",
       "       'Freq.8943.76551923189', 'Freq.9799.842201746'],\n",
       "      dtype='object')"
      ]
     },
     "execution_count": 112,
     "metadata": {},
     "output_type": "execute_result"
    }
   ],
   "source": [
    "# Best Features (accord to Boruta)\n",
    "X_sm_knn.columns[feat_selector.support_]"
   ]
  },
  {
   "cell_type": "code",
   "execution_count": 113,
   "id": "5d01dda6",
   "metadata": {},
   "outputs": [],
   "source": [
    "# Filter most importante features\n",
    "X_transform_knn = feat_selector.transform(np.array(X_sm_knn))"
   ]
  },
  {
   "cell_type": "code",
   "execution_count": 115,
   "id": "d962f87d",
   "metadata": {},
   "outputs": [],
   "source": [
    "# Define objectiva funtion to maximize metric\n",
    "def objective(trial):\n",
    "    \n",
    "    # List scalers to chose from\n",
    "    scalers = trial.suggest_categorical(\"scalers\", ['minmax', 'standard', 'robust'])\n",
    "    # Define scalers\n",
    "    if scalers == \"minmax\":\n",
    "        scaler = MinMaxScaler()\n",
    "    elif scalers == \"standard\":\n",
    "        scaler = StandardScaler()\n",
    "    else:\n",
    "        scaler = RobustScaler()\n",
    "    # LGBM Hyper Parameter Grid\n",
    "    param = {\n",
    "        \"objective\": \"binary\",\n",
    "        \"metric\": \"binary_logloss\",\n",
    "        \"verbosity\": -1,\n",
    "        \"boosting_type\": \"gbdt\",\n",
    "        \"lambda_l1\": trial.suggest_float(\"lambda_l1\", 1e-8, 10.0, log=True),\n",
    "        \"lambda_l2\": trial.suggest_float(\"lambda_l2\", 1e-8, 10.0, log=True),\n",
    "        \"num_leaves\": trial.suggest_int(\"num_leaves\", 2, 256),\n",
    "        \"feature_fraction\": trial.suggest_float(\"feature_fraction\", 0.4, 1.0),\n",
    "        \"bagging_fraction\": trial.suggest_float(\"bagging_fraction\", 0.4, 1.0),\n",
    "        \"bagging_freq\": trial.suggest_int(\"bagging_freq\", 1, 7),\n",
    "        \"min_child_samples\": trial.suggest_int(\"min_child_samples\", 5, 100),\n",
    "        \"n_estimators\": trial.suggest_int(\"max_depth\", 100, 1000)\n",
    "    }\n",
    "    # Create model pipeline with param trial\n",
    "    clf = Pipeline([(\"scaler\", scaler),\n",
    "                    (\"lgbm_clf\", lgb.LGBMClassifier(random_state=SEED, **param))])\n",
    "    # Get CV Metric we want to maximize\n",
    "    balanced_accuracy = np.mean(cross_val_score(clf, X_transform_knn, y_sm_knn, scoring=metric_scorer, cv=rkf, n_jobs=-1))\n",
    "    \n",
    "    return balanced_accuracy"
   ]
  },
  {
   "cell_type": "code",
   "execution_count": 116,
   "id": "6db651a2",
   "metadata": {
    "scrolled": true
   },
   "outputs": [
    {
     "name": "stderr",
     "output_type": "stream",
     "text": [
      "\u001b[32m[I 2022-07-20 02:07:01,054]\u001b[0m A new study created in memory with name: no-name-69c8aa8c-d401-4784-afa9-ee35286692a8\u001b[0m\n"
     ]
    }
   ],
   "source": [
    "study = optuna.create_study(direction=\"maximize\")"
   ]
  },
  {
   "cell_type": "code",
   "execution_count": 117,
   "id": "ea05e266",
   "metadata": {
    "scrolled": true
   },
   "outputs": [
    {
     "name": "stderr",
     "output_type": "stream",
     "text": [
      "\u001b[32m[I 2022-07-20 02:07:02,387]\u001b[0m Trial 0 finished with value: 0.9029742828765663 and parameters: {'scalers': 'robust', 'lambda_l1': 7.854152592862897e-05, 'lambda_l2': 2.416231980309596e-07, 'num_leaves': 166, 'feature_fraction': 0.8324943617250078, 'bagging_fraction': 0.8306480442122652, 'bagging_freq': 7, 'min_child_samples': 29, 'max_depth': 331}. Best is trial 0 with value: 0.9029742828765663.\u001b[0m\n",
      "\u001b[32m[I 2022-07-20 02:07:03,875]\u001b[0m Trial 1 finished with value: 0.8801514742996942 and parameters: {'scalers': 'standard', 'lambda_l1': 0.006826671681737397, 'lambda_l2': 0.003267380220447326, 'num_leaves': 90, 'feature_fraction': 0.9538123428096177, 'bagging_fraction': 0.9901799824322135, 'bagging_freq': 6, 'min_child_samples': 21, 'max_depth': 476}. Best is trial 0 with value: 0.9029742828765663.\u001b[0m\n",
      "\u001b[32m[I 2022-07-20 02:07:04,491]\u001b[0m Trial 2 finished with value: 0.5 and parameters: {'scalers': 'robust', 'lambda_l1': 0.0012580376082296264, 'lambda_l2': 0.017076764797910187, 'num_leaves': 52, 'feature_fraction': 0.9638158304411637, 'bagging_fraction': 0.5628838095639423, 'bagging_freq': 4, 'min_child_samples': 80, 'max_depth': 871}. Best is trial 0 with value: 0.9029742828765663.\u001b[0m\n",
      "\u001b[32m[I 2022-07-20 02:07:04,725]\u001b[0m Trial 3 finished with value: 0.5 and parameters: {'scalers': 'minmax', 'lambda_l1': 0.3880773631309214, 'lambda_l2': 1.1304181955326424, 'num_leaves': 240, 'feature_fraction': 0.699101862415384, 'bagging_fraction': 0.5975253422334192, 'bagging_freq': 5, 'min_child_samples': 69, 'max_depth': 139}. Best is trial 0 with value: 0.9029742828765663.\u001b[0m\n",
      "\u001b[32m[I 2022-07-20 02:07:05,026]\u001b[0m Trial 4 finished with value: 0.5 and parameters: {'scalers': 'minmax', 'lambda_l1': 0.24014646418442187, 'lambda_l2': 0.8343609605449821, 'num_leaves': 144, 'feature_fraction': 0.9051353954863781, 'bagging_fraction': 0.5609843506494283, 'bagging_freq': 1, 'min_child_samples': 79, 'max_depth': 291}. Best is trial 0 with value: 0.9029742828765663.\u001b[0m\n",
      "\u001b[32m[I 2022-07-20 02:07:05,536]\u001b[0m Trial 5 finished with value: 0.5 and parameters: {'scalers': 'standard', 'lambda_l1': 0.0008844281652365676, 'lambda_l2': 8.567445932346763e-06, 'num_leaves': 162, 'feature_fraction': 0.8558374019340491, 'bagging_fraction': 0.788104639197295, 'bagging_freq': 6, 'min_child_samples': 58, 'max_depth': 419}. Best is trial 0 with value: 0.9029742828765663.\u001b[0m\n",
      "\u001b[32m[I 2022-07-20 02:07:07,016]\u001b[0m Trial 6 finished with value: 0.9003148448773449 and parameters: {'scalers': 'minmax', 'lambda_l1': 2.0274857458298443e-07, 'lambda_l2': 1.1711587593014435e-06, 'num_leaves': 24, 'feature_fraction': 0.5344411720231502, 'bagging_fraction': 0.8592004838920155, 'bagging_freq': 3, 'min_child_samples': 24, 'max_depth': 928}. Best is trial 0 with value: 0.9029742828765663.\u001b[0m\n",
      "\u001b[32m[I 2022-07-20 02:07:07,538]\u001b[0m Trial 7 finished with value: 0.5 and parameters: {'scalers': 'minmax', 'lambda_l1': 0.0003935478538597788, 'lambda_l2': 3.26917992705551e-06, 'num_leaves': 34, 'feature_fraction': 0.822923119382676, 'bagging_fraction': 0.44327675106116415, 'bagging_freq': 5, 'min_child_samples': 49, 'max_depth': 583}. Best is trial 0 with value: 0.9029742828765663.\u001b[0m\n",
      "\u001b[32m[I 2022-07-20 02:07:08,818]\u001b[0m Trial 8 finished with value: 0.9022431761350105 and parameters: {'scalers': 'robust', 'lambda_l1': 2.0288393836274322e-06, 'lambda_l2': 0.042952349434788234, 'num_leaves': 188, 'feature_fraction': 0.5861141107491612, 'bagging_fraction': 0.8147988207454009, 'bagging_freq': 5, 'min_child_samples': 44, 'max_depth': 458}. Best is trial 0 with value: 0.9029742828765663.\u001b[0m\n",
      "\u001b[32m[I 2022-07-20 02:07:09,087]\u001b[0m Trial 9 finished with value: 0.5 and parameters: {'scalers': 'standard', 'lambda_l1': 4.002204385279205e-08, 'lambda_l2': 0.8020444952278809, 'num_leaves': 84, 'feature_fraction': 0.6897306598715574, 'bagging_fraction': 0.4870583942933757, 'bagging_freq': 4, 'min_child_samples': 91, 'max_depth': 291}. Best is trial 0 with value: 0.9029742828765663.\u001b[0m\n",
      "\u001b[32m[I 2022-07-20 02:07:11,064]\u001b[0m Trial 10 finished with value: 0.8928404709325762 and parameters: {'scalers': 'robust', 'lambda_l1': 7.338567124118697e-06, 'lambda_l2': 1.2221076028081915e-08, 'num_leaves': 224, 'feature_fraction': 0.41915744767096536, 'bagging_fraction': 0.6912086073121881, 'bagging_freq': 7, 'min_child_samples': 9, 'max_depth': 693}. Best is trial 0 with value: 0.9029742828765663.\u001b[0m\n",
      "\u001b[32m[I 2022-07-20 02:07:12,133]\u001b[0m Trial 11 finished with value: 0.8941402566946298 and parameters: {'scalers': 'robust', 'lambda_l1': 7.229562531771163e-06, 'lambda_l2': 0.00023371888366216108, 'num_leaves': 189, 'feature_fraction': 0.5694410319471896, 'bagging_fraction': 0.9081736569435666, 'bagging_freq': 7, 'min_child_samples': 41, 'max_depth': 292}. Best is trial 0 with value: 0.9029742828765663.\u001b[0m\n",
      "\u001b[32m[I 2022-07-20 02:07:14,027]\u001b[0m Trial 12 finished with value: 0.909776511263934 and parameters: {'scalers': 'robust', 'lambda_l1': 3.396101603435242e-06, 'lambda_l2': 9.626909564414234e-08, 'num_leaves': 192, 'feature_fraction': 0.7818645805297078, 'bagging_fraction': 0.7556244869590205, 'bagging_freq': 2, 'min_child_samples': 33, 'max_depth': 648}. Best is trial 12 with value: 0.909776511263934.\u001b[0m\n",
      "\u001b[32m[I 2022-07-20 02:07:15,777]\u001b[0m Trial 13 finished with value: 0.9085215774722356 and parameters: {'scalers': 'robust', 'lambda_l1': 3.491072705747281e-05, 'lambda_l2': 2.5186798653390248e-08, 'num_leaves': 116, 'feature_fraction': 0.7824240666841746, 'bagging_fraction': 0.7123708218173841, 'bagging_freq': 1, 'min_child_samples': 30, 'max_depth': 638}. Best is trial 12 with value: 0.909776511263934.\u001b[0m\n",
      "\u001b[32m[I 2022-07-20 02:07:18,486]\u001b[0m Trial 14 finished with value: 0.8850829021339858 and parameters: {'scalers': 'robust', 'lambda_l1': 5.740544035392554e-07, 'lambda_l2': 1.5615773829837275e-08, 'num_leaves': 111, 'feature_fraction': 0.7618047550500795, 'bagging_fraction': 0.6957615250122396, 'bagging_freq': 1, 'min_child_samples': 5, 'max_depth': 712}. Best is trial 12 with value: 0.909776511263934.\u001b[0m\n",
      "\u001b[32m[I 2022-07-20 02:07:20,332]\u001b[0m Trial 15 finished with value: 0.9036952833673036 and parameters: {'scalers': 'robust', 'lambda_l1': 4.813124332541364e-05, 'lambda_l2': 4.7948745998588114e-05, 'num_leaves': 123, 'feature_fraction': 0.7521669954361547, 'bagging_fraction': 0.7347675804864409, 'bagging_freq': 2, 'min_child_samples': 34, 'max_depth': 709}. Best is trial 12 with value: 0.909776511263934.\u001b[0m\n",
      "\u001b[32m[I 2022-07-20 02:07:21,156]\u001b[0m Trial 16 finished with value: 0.5 and parameters: {'scalers': 'robust', 'lambda_l1': 1.9165452924019552e-08, 'lambda_l2': 2.142417820312448e-07, 'num_leaves': 215, 'feature_fraction': 0.6481674263174791, 'bagging_fraction': 0.6438201439623195, 'bagging_freq': 2, 'min_child_samples': 58, 'max_depth': 598}. Best is trial 12 with value: 0.909776511263934.\u001b[0m\n",
      "\u001b[32m[I 2022-07-20 02:07:22,900]\u001b[0m Trial 17 finished with value: 0.8628789191544609 and parameters: {'scalers': 'robust', 'lambda_l1': 3.5503707388460004, 'lambda_l2': 8.883624934739123e-08, 'num_leaves': 252, 'feature_fraction': 0.7691143612934861, 'bagging_fraction': 0.7805629376495754, 'bagging_freq': 2, 'min_child_samples': 16, 'max_depth': 845}. Best is trial 12 with value: 0.909776511263934.\u001b[0m\n",
      "\u001b[32m[I 2022-07-20 02:07:24,875]\u001b[0m Trial 18 finished with value: 0.8998189851299372 and parameters: {'scalers': 'robust', 'lambda_l1': 0.015409261732976293, 'lambda_l2': 2.5964938143702517e-05, 'num_leaves': 198, 'feature_fraction': 0.8853745339316157, 'bagging_fraction': 0.9117880137759581, 'bagging_freq': 3, 'min_child_samples': 37, 'max_depth': 648}. Best is trial 12 with value: 0.909776511263934.\u001b[0m\n",
      "\u001b[32m[I 2022-07-20 02:07:26,728]\u001b[0m Trial 19 finished with value: 0.8976147489206698 and parameters: {'scalers': 'standard', 'lambda_l1': 3.3148495663818395e-05, 'lambda_l2': 9.978987843000593e-07, 'num_leaves': 74, 'feature_fraction': 0.7705849835776974, 'bagging_fraction': 0.7455673750780893, 'bagging_freq': 1, 'min_child_samples': 15, 'max_depth': 834}. Best is trial 12 with value: 0.909776511263934.\u001b[0m\n",
      "\u001b[32m[I 2022-07-20 02:07:28,608]\u001b[0m Trial 20 finished with value: 0.9098459702921778 and parameters: {'scalers': 'robust', 'lambda_l1': 4.1329659091246915e-07, 'lambda_l2': 7.462139374027874e-08, 'num_leaves': 146, 'feature_fraction': 0.6559929328408238, 'bagging_fraction': 0.6463126075196474, 'bagging_freq': 3, 'min_child_samples': 28, 'max_depth': 771}. Best is trial 20 with value: 0.9098459702921778.\u001b[0m\n"
     ]
    },
    {
     "name": "stderr",
     "output_type": "stream",
     "text": [
      "\u001b[32m[I 2022-07-20 02:07:30,582]\u001b[0m Trial 21 finished with value: 0.9088117475919334 and parameters: {'scalers': 'robust', 'lambda_l1': 3.843877097128014e-07, 'lambda_l2': 7.252684852409211e-08, 'num_leaves': 146, 'feature_fraction': 0.6298562307307098, 'bagging_fraction': 0.6580261770558589, 'bagging_freq': 3, 'min_child_samples': 29, 'max_depth': 781}. Best is trial 20 with value: 0.9098459702921778.\u001b[0m\n",
      "\u001b[32m[I 2022-07-20 02:07:32,426]\u001b[0m Trial 22 finished with value: 0.9118892934980396 and parameters: {'scalers': 'robust', 'lambda_l1': 1.370128935087444e-07, 'lambda_l2': 1.6843058713477336e-07, 'num_leaves': 149, 'feature_fraction': 0.6337157813949136, 'bagging_fraction': 0.6304739890493619, 'bagging_freq': 3, 'min_child_samples': 26, 'max_depth': 778}. Best is trial 22 with value: 0.9118892934980396.\u001b[0m\n",
      "\u001b[32m[I 2022-07-20 02:07:33,495]\u001b[0m Trial 23 finished with value: 0.8209167141767761 and parameters: {'scalers': 'robust', 'lambda_l1': 9.589155497702425e-08, 'lambda_l2': 8.781194069672654e-07, 'num_leaves': 182, 'feature_fraction': 0.48269485114724786, 'bagging_fraction': 0.6068391179593552, 'bagging_freq': 3, 'min_child_samples': 46, 'max_depth': 992}. Best is trial 22 with value: 0.9118892934980396.\u001b[0m\n",
      "\u001b[32m[I 2022-07-20 02:07:35,349]\u001b[0m Trial 24 finished with value: 0.9082369301450184 and parameters: {'scalers': 'robust', 'lambda_l1': 1.8960187367291966e-06, 'lambda_l2': 2.8668832994788996e-07, 'num_leaves': 142, 'feature_fraction': 0.6564643293363689, 'bagging_fraction': 0.5262358564344455, 'bagging_freq': 2, 'min_child_samples': 19, 'max_depth': 763}. Best is trial 22 with value: 0.9118892934980396.\u001b[0m\n",
      "\u001b[32m[I 2022-07-20 02:07:36,266]\u001b[0m Trial 25 finished with value: 0.5 and parameters: {'scalers': 'robust', 'lambda_l1': 1.5570044892077372e-08, 'lambda_l2': 0.0003469070955213026, 'num_leaves': 172, 'feature_fraction': 0.710265906148683, 'bagging_fraction': 0.6432789797669356, 'bagging_freq': 4, 'min_child_samples': 55, 'max_depth': 535}. Best is trial 22 with value: 0.9118892934980396.\u001b[0m\n",
      "\u001b[32m[I 2022-07-20 02:07:37,454]\u001b[0m Trial 26 finished with value: 0.7345246741992097 and parameters: {'scalers': 'robust', 'lambda_l1': 1.211669519206291e-06, 'lambda_l2': 7.27206503681072e-08, 'num_leaves': 206, 'feature_fraction': 0.5972746975677554, 'bagging_fraction': 0.4158739347248316, 'bagging_freq': 3, 'min_child_samples': 37, 'max_depth': 933}. Best is trial 22 with value: 0.9118892934980396.\u001b[0m\n",
      "\u001b[32m[I 2022-07-20 02:07:39,418]\u001b[0m Trial 27 finished with value: 0.9066594017652454 and parameters: {'scalers': 'robust', 'lambda_l1': 5.649917449075794e-06, 'lambda_l2': 5.9340914437408074e-06, 'num_leaves': 99, 'feature_fraction': 0.5470028042489682, 'bagging_fraction': 0.6042435160132241, 'bagging_freq': 2, 'min_child_samples': 25, 'max_depth': 777}. Best is trial 22 with value: 0.9118892934980396.\u001b[0m\n",
      "\u001b[32m[I 2022-07-20 02:07:41,383]\u001b[0m Trial 28 finished with value: 0.8961212844388154 and parameters: {'scalers': 'minmax', 'lambda_l1': 8.43703619567257e-08, 'lambda_l2': 4.471895150461347e-05, 'num_leaves': 153, 'feature_fraction': 0.7198976748366934, 'bagging_fraction': 0.4995382408967176, 'bagging_freq': 4, 'min_child_samples': 8, 'max_depth': 780}. Best is trial 22 with value: 0.9118892934980396.\u001b[0m\n",
      "\u001b[32m[I 2022-07-20 02:07:43,123]\u001b[0m Trial 29 finished with value: 0.8984257877485432 and parameters: {'scalers': 'standard', 'lambda_l1': 1.0408414299182252e-08, 'lambda_l2': 8.557546175403267, 'num_leaves': 127, 'feature_fraction': 0.4968906586465088, 'bagging_fraction': 0.7633879646190893, 'bagging_freq': 3, 'min_child_samples': 28, 'max_depth': 680}. Best is trial 22 with value: 0.9118892934980396.\u001b[0m\n",
      "\u001b[32m[I 2022-07-20 02:07:45,593]\u001b[0m Trial 30 finished with value: 0.9001345379766432 and parameters: {'scalers': 'robust', 'lambda_l1': 0.00011136045358224891, 'lambda_l2': 3.7590757569142344e-07, 'num_leaves': 172, 'feature_fraction': 0.8158791360167478, 'bagging_fraction': 0.661114621880086, 'bagging_freq': 2, 'min_child_samples': 13, 'max_depth': 888}. Best is trial 22 with value: 0.9118892934980396.\u001b[0m\n",
      "\u001b[32m[I 2022-07-20 02:07:47,920]\u001b[0m Trial 31 finished with value: 0.9078005879998914 and parameters: {'scalers': 'robust', 'lambda_l1': 2.3610826800753614e-07, 'lambda_l2': 6.88558463293057e-08, 'num_leaves': 140, 'feature_fraction': 0.6409831284251526, 'bagging_fraction': 0.6698917041929577, 'bagging_freq': 3, 'min_child_samples': 35, 'max_depth': 761}. Best is trial 22 with value: 0.9118892934980396.\u001b[0m\n",
      "\u001b[32m[I 2022-07-20 02:07:49,417]\u001b[0m Trial 32 finished with value: 0.9045802362627055 and parameters: {'scalers': 'robust', 'lambda_l1': 4.265125955640903e-07, 'lambda_l2': 6.658231661667401e-08, 'num_leaves': 2, 'feature_fraction': 0.6144872801402196, 'bagging_fraction': 0.6357816297740827, 'bagging_freq': 3, 'min_child_samples': 31, 'max_depth': 533}. Best is trial 22 with value: 0.9118892934980396.\u001b[0m\n",
      "\u001b[32m[I 2022-07-20 02:07:51,488]\u001b[0m Trial 33 finished with value: 0.906015041524523 and parameters: {'scalers': 'robust', 'lambda_l1': 1.1232701804417067e-07, 'lambda_l2': 1.8195548412752521e-06, 'num_leaves': 158, 'feature_fraction': 0.6619059094042143, 'bagging_fraction': 0.7213508240699069, 'bagging_freq': 4, 'min_child_samples': 23, 'max_depth': 800}. Best is trial 22 with value: 0.9118892934980396.\u001b[0m\n",
      "\u001b[32m[I 2022-07-20 02:07:52,647]\u001b[0m Trial 34 finished with value: 0.8934224117385884 and parameters: {'scalers': 'robust', 'lambda_l1': 1.0461634312053143e-06, 'lambda_l2': 2.416104891195062e-07, 'num_leaves': 134, 'feature_fraction': 0.6200871795940801, 'bagging_fraction': 0.5678008071245307, 'bagging_freq': 4, 'min_child_samples': 41, 'max_depth': 722}. Best is trial 22 with value: 0.9118892934980396.\u001b[0m\n",
      "\u001b[32m[I 2022-07-20 02:07:55,077]\u001b[0m Trial 35 finished with value: 0.8929836934221609 and parameters: {'scalers': 'robust', 'lambda_l1': 8.795896469996347e-06, 'lambda_l2': 1.0096697380986386e-08, 'num_leaves': 102, 'feature_fraction': 0.9880598669123543, 'bagging_fraction': 0.8548391545129918, 'bagging_freq': 2, 'min_child_samples': 21, 'max_depth': 884}. Best is trial 22 with value: 0.9118892934980396.\u001b[0m\n",
      "\u001b[32m[I 2022-07-20 02:07:55,799]\u001b[0m Trial 36 finished with value: 0.5 and parameters: {'scalers': 'standard', 'lambda_l1': 3.120131339546746e-06, 'lambda_l2': 3.833595610123162e-08, 'num_leaves': 177, 'feature_fraction': 0.6776824233519716, 'bagging_fraction': 0.6149249777379184, 'bagging_freq': 3, 'min_child_samples': 51, 'max_depth': 629}. Best is trial 22 with value: 0.9118892934980396.\u001b[0m\n",
      "\u001b[32m[I 2022-07-20 02:07:56,141]\u001b[0m Trial 37 finished with value: 0.5 and parameters: {'scalers': 'minmax', 'lambda_l1': 0.00856902690524293, 'lambda_l2': 0.002702099525048744, 'num_leaves': 227, 'feature_fraction': 0.7253997359335073, 'bagging_fraction': 0.5494119202174373, 'bagging_freq': 4, 'min_child_samples': 66, 'max_depth': 376}. Best is trial 22 with value: 0.9118892934980396.\u001b[0m\n",
      "\u001b[32m[I 2022-07-20 02:07:57,051]\u001b[0m Trial 38 finished with value: 0.89830105107311 and parameters: {'scalers': 'robust', 'lambda_l1': 4.264392382844264e-07, 'lambda_l2': 1.0022208998561428e-05, 'num_leaves': 156, 'feature_fraction': 0.5316165293313616, 'bagging_fraction': 0.6777158499459885, 'bagging_freq': 3, 'min_child_samples': 29, 'max_depth': 141}. Best is trial 22 with value: 0.9118892934980396.\u001b[0m\n",
      "\u001b[32m[I 2022-07-20 02:07:58,898]\u001b[0m Trial 39 finished with value: 0.8925976160492415 and parameters: {'scalers': 'minmax', 'lambda_l1': 3.989900570875768e-08, 'lambda_l2': 3.9433042353449564e-07, 'num_leaves': 71, 'feature_fraction': 0.8637938548390259, 'bagging_fraction': 0.8243070129066066, 'bagging_freq': 5, 'min_child_samples': 18, 'max_depth': 823}. Best is trial 22 with value: 0.9118892934980396.\u001b[0m\n",
      "\u001b[32m[I 2022-07-20 02:07:59,573]\u001b[0m Trial 40 finished with value: 0.5 and parameters: {'scalers': 'robust', 'lambda_l1': 1.7608923439374075e-05, 'lambda_l2': 3.175379501903218e-06, 'num_leaves': 150, 'feature_fraction': 0.8152240582357348, 'bagging_fraction': 0.5799769847903797, 'bagging_freq': 2, 'min_child_samples': 66, 'max_depth': 933}. Best is trial 22 with value: 0.9118892934980396.\u001b[0m\n",
      "\u001b[32m[I 2022-07-20 02:08:01,487]\u001b[0m Trial 41 finished with value: 0.9122427749623958 and parameters: {'scalers': 'robust', 'lambda_l1': 9.349971599326824e-05, 'lambda_l2': 2.4952160884616552e-08, 'num_leaves': 116, 'feature_fraction': 0.796202935787731, 'bagging_fraction': 0.7277596298678937, 'bagging_freq': 1, 'min_child_samples': 26, 'max_depth': 582}. Best is trial 41 with value: 0.9122427749623958.\u001b[0m\n"
     ]
    },
    {
     "name": "stderr",
     "output_type": "stream",
     "text": [
      "\u001b[32m[I 2022-07-20 02:08:03,522]\u001b[0m Trial 42 finished with value: 0.9051633965449755 and parameters: {'scalers': 'robust', 'lambda_l1': 0.00022279387749269094, 'lambda_l2': 1.4050877271404308e-07, 'num_leaves': 127, 'feature_fraction': 0.9171355532768535, 'bagging_fraction': 0.7942053773870015, 'bagging_freq': 1, 'min_child_samples': 26, 'max_depth': 485}. Best is trial 41 with value: 0.9122427749623958.\u001b[0m\n",
      "\u001b[32m[I 2022-07-20 02:08:05,107]\u001b[0m Trial 43 finished with value: 0.9017170466272634 and parameters: {'scalers': 'robust', 'lambda_l1': 0.0027685034990614413, 'lambda_l2': 3.727994002554489e-08, 'num_leaves': 165, 'feature_fraction': 0.6896402978867615, 'bagging_fraction': 0.7572908658952044, 'bagging_freq': 1, 'min_child_samples': 41, 'max_depth': 586}. Best is trial 41 with value: 0.9122427749623958.\u001b[0m\n",
      "\u001b[32m[I 2022-07-20 02:08:07,379]\u001b[0m Trial 44 finished with value: 0.8929209660093947 and parameters: {'scalers': 'robust', 'lambda_l1': 2.4698749151145154e-07, 'lambda_l2': 2.7471419916691907e-08, 'num_leaves': 104, 'feature_fraction': 0.7411524580257527, 'bagging_fraction': 0.702398229998887, 'bagging_freq': 2, 'min_child_samples': 12, 'max_depth': 739}. Best is trial 41 with value: 0.9122427749623958.\u001b[0m\n",
      "\u001b[32m[I 2022-07-20 02:08:08,917]\u001b[0m Trial 45 finished with value: 0.9044908426197127 and parameters: {'scalers': 'standard', 'lambda_l1': 0.000700800808869678, 'lambda_l2': 6.235091327938935e-07, 'num_leaves': 88, 'feature_fraction': 0.7956452978299615, 'bagging_fraction': 0.6495800905174203, 'bagging_freq': 1, 'min_child_samples': 32, 'max_depth': 653}. Best is trial 41 with value: 0.9122427749623958.\u001b[0m\n",
      "\u001b[32m[I 2022-07-20 02:08:10,802]\u001b[0m Trial 46 finished with value: 0.9059061994077474 and parameters: {'scalers': 'robust', 'lambda_l1': 9.7282745649074e-07, 'lambda_l2': 1.1128348584207143e-07, 'num_leaves': 115, 'feature_fraction': 0.855298714693045, 'bagging_fraction': 0.7273942305933904, 'bagging_freq': 3, 'min_child_samples': 22, 'max_depth': 497}. Best is trial 41 with value: 0.9122427749623958.\u001b[0m\n",
      "\u001b[32m[I 2022-07-20 02:08:11,815]\u001b[0m Trial 47 finished with value: 0.8250316696976913 and parameters: {'scalers': 'robust', 'lambda_l1': 3.0867349745685807e-06, 'lambda_l2': 2.189946340495663e-08, 'num_leaves': 198, 'feature_fraction': 0.625216891734299, 'bagging_fraction': 0.6211637411157174, 'bagging_freq': 2, 'min_child_samples': 46, 'max_depth': 675}. Best is trial 41 with value: 0.9122427749623958.\u001b[0m\n",
      "\u001b[32m[I 2022-07-20 02:08:12,217]\u001b[0m Trial 48 finished with value: 0.5 and parameters: {'scalers': 'minmax', 'lambda_l1': 5.2742089566844754e-08, 'lambda_l2': 0.06505495116607124, 'num_leaves': 136, 'feature_fraction': 0.5751083404995845, 'bagging_fraction': 0.680702347813624, 'bagging_freq': 1, 'min_child_samples': 79, 'max_depth': 609}. Best is trial 41 with value: 0.9122427749623958.\u001b[0m\n",
      "\u001b[32m[I 2022-07-20 02:08:13,914]\u001b[0m Trial 49 finished with value: 0.9009067968495214 and parameters: {'scalers': 'robust', 'lambda_l1': 1.5064625637204851e-05, 'lambda_l2': 2.992629143349652e-06, 'num_leaves': 147, 'feature_fraction': 0.6876094625972015, 'bagging_fraction': 0.8011688723093647, 'bagging_freq': 3, 'min_child_samples': 38, 'max_depth': 572}. Best is trial 41 with value: 0.9122427749623958.\u001b[0m\n"
     ]
    }
   ],
   "source": [
    "study.optimize(objective, n_trials=50)"
   ]
  },
  {
   "cell_type": "code",
   "execution_count": 118,
   "id": "e29917e0",
   "metadata": {},
   "outputs": [],
   "source": [
    "# Get best trial based on metric score\n",
    "trial = study.best_trial"
   ]
  },
  {
   "cell_type": "code",
   "execution_count": 119,
   "id": "43c629ad",
   "metadata": {},
   "outputs": [
    {
     "name": "stdout",
     "output_type": "stream",
     "text": [
      "    scalers: robust\n",
      "    lambda_l1: 9.349971599326824e-05\n",
      "    lambda_l2: 2.4952160884616552e-08\n",
      "    num_leaves: 116\n",
      "    feature_fraction: 0.796202935787731\n",
      "    bagging_fraction: 0.7277596298678937\n",
      "    bagging_freq: 1\n",
      "    min_child_samples: 26\n",
      "    max_depth: 582\n"
     ]
    }
   ],
   "source": [
    "# Print params for best trial\n",
    "for key, value in trial.params.items():\n",
    "    print(\"    {}: {}\".format(key, value))"
   ]
  },
  {
   "cell_type": "code",
   "execution_count": 120,
   "id": "bfda2a7c",
   "metadata": {},
   "outputs": [
    {
     "data": {
      "text/plain": [
       "0.9122427749623958"
      ]
     },
     "execution_count": 120,
     "metadata": {},
     "output_type": "execute_result"
    }
   ],
   "source": [
    "# Best Score from HP Opt\n",
    "trial.values[0]"
   ]
  },
  {
   "cell_type": "markdown",
   "id": "44b4ef33",
   "metadata": {},
   "source": []
  },
  {
   "cell_type": "markdown",
   "id": "c504fccb",
   "metadata": {},
   "source": [
    "#### Teste com Adaptive Synthetic (ADASYN) algorithm SMOTE"
   ]
  },
  {
   "cell_type": "code",
   "execution_count": null,
   "id": "03e17768",
   "metadata": {},
   "outputs": [],
   "source": []
  },
  {
   "cell_type": "code",
   "execution_count": 121,
   "id": "7477eba3",
   "metadata": {},
   "outputs": [],
   "source": [
    "smoteADA = ADASYN(sampling_strategy ='minority', n_jobs=-1)\n",
    "X_sm_ADA, y_sm_ADA = smoteADA.fit_resample(X[features], y)"
   ]
  },
  {
   "cell_type": "code",
   "execution_count": 122,
   "id": "89f50ce3",
   "metadata": {},
   "outputs": [
    {
     "name": "stderr",
     "output_type": "stream",
     "text": [
      "C:\\Users\\Lucas\\AppData\\Local\\Temp\\ipykernel_980\\2564322491.py:2: PerformanceWarning: DataFrame is highly fragmented.  This is usually the result of calling `frame.insert` many times, which has poor performance.  Consider joining all columns at once using pd.concat(axis=1) instead. To get a de-fragmented frame, use `newframe = frame.copy()`\n",
      "  df['target'] = y_sm_ADA\n"
     ]
    },
    {
     "data": {
      "text/plain": [
       "<AxesSubplot:title={'center':'Count (target)'}>"
      ]
     },
     "execution_count": 122,
     "metadata": {},
     "output_type": "execute_result"
    },
    {
     "data": {
      "image/png": "[encoded data removed]",
      "text/plain": [
       "<Figure size 432x288 with 1 Axes>"
      ]
     },
     "metadata": {
      "needs_background": "light"
     },
     "output_type": "display_data"
    }
   ],
   "source": [
    "df = pd.DataFrame(X_sm_ADA, columns=features)\n",
    "df['target'] = y_sm_ADA\n",
    "\n",
    "df['target'].value_counts().plot(kind='bar', title='Count (target)')"
   ]
  },
  {
   "cell_type": "code",
   "execution_count": null,
   "id": "17fad086",
   "metadata": {},
   "outputs": [],
   "source": []
  },
  {
   "cell_type": "code",
   "execution_count": 123,
   "id": "c483783f",
   "metadata": {
    "scrolled": true
   },
   "outputs": [
    {
     "name": "stdout",
     "output_type": "stream",
     "text": [
      "Iteration: \t1 / 100\n",
      "Confirmed: \t0\n",
      "Tentative: \t635\n",
      "Rejected: \t0\n",
      "Iteration: \t2 / 100\n",
      "Confirmed: \t0\n",
      "Tentative: \t635\n",
      "Rejected: \t0\n",
      "Iteration: \t3 / 100\n",
      "Confirmed: \t0\n",
      "Tentative: \t635\n",
      "Rejected: \t0\n",
      "Iteration: \t4 / 100\n",
      "Confirmed: \t0\n",
      "Tentative: \t635\n",
      "Rejected: \t0\n",
      "Iteration: \t5 / 100\n",
      "Confirmed: \t0\n",
      "Tentative: \t635\n",
      "Rejected: \t0\n",
      "Iteration: \t6 / 100\n",
      "Confirmed: \t0\n",
      "Tentative: \t635\n",
      "Rejected: \t0\n",
      "Iteration: \t7 / 100\n",
      "Confirmed: \t0\n",
      "Tentative: \t635\n",
      "Rejected: \t0\n",
      "Iteration: \t8 / 100\n",
      "Confirmed: \t0\n",
      "Tentative: \t147\n",
      "Rejected: \t488\n",
      "Iteration: \t9 / 100\n",
      "Confirmed: \t48\n",
      "Tentative: \t99\n",
      "Rejected: \t488\n",
      "Iteration: \t10 / 100\n",
      "Confirmed: \t48\n",
      "Tentative: \t99\n",
      "Rejected: \t488\n",
      "Iteration: \t11 / 100\n",
      "Confirmed: \t48\n",
      "Tentative: \t99\n",
      "Rejected: \t488\n",
      "Iteration: \t12 / 100\n",
      "Confirmed: \t52\n",
      "Tentative: \t95\n",
      "Rejected: \t488\n",
      "Iteration: \t13 / 100\n",
      "Confirmed: \t52\n",
      "Tentative: \t87\n",
      "Rejected: \t496\n",
      "Iteration: \t14 / 100\n",
      "Confirmed: \t52\n",
      "Tentative: \t87\n",
      "Rejected: \t496\n",
      "Iteration: \t15 / 100\n",
      "Confirmed: \t52\n",
      "Tentative: \t87\n",
      "Rejected: \t496\n",
      "Iteration: \t16 / 100\n",
      "Confirmed: \t52\n",
      "Tentative: \t80\n",
      "Rejected: \t503\n",
      "Iteration: \t17 / 100\n",
      "Confirmed: \t52\n",
      "Tentative: \t80\n",
      "Rejected: \t503\n",
      "Iteration: \t18 / 100\n",
      "Confirmed: \t52\n",
      "Tentative: \t80\n",
      "Rejected: \t503\n",
      "Iteration: \t19 / 100\n",
      "Confirmed: \t52\n",
      "Tentative: \t80\n",
      "Rejected: \t503\n",
      "Iteration: \t20 / 100\n",
      "Confirmed: \t52\n",
      "Tentative: \t80\n",
      "Rejected: \t503\n",
      "Iteration: \t21 / 100\n",
      "Confirmed: \t52\n",
      "Tentative: \t77\n",
      "Rejected: \t506\n",
      "Iteration: \t22 / 100\n",
      "Confirmed: \t54\n",
      "Tentative: \t75\n",
      "Rejected: \t506\n",
      "Iteration: \t23 / 100\n",
      "Confirmed: \t54\n",
      "Tentative: \t75\n",
      "Rejected: \t506\n",
      "Iteration: \t24 / 100\n",
      "Confirmed: \t54\n",
      "Tentative: \t75\n",
      "Rejected: \t506\n",
      "Iteration: \t25 / 100\n",
      "Confirmed: \t54\n",
      "Tentative: \t75\n",
      "Rejected: \t506\n",
      "Iteration: \t26 / 100\n",
      "Confirmed: \t59\n",
      "Tentative: \t70\n",
      "Rejected: \t506\n",
      "Iteration: \t27 / 100\n",
      "Confirmed: \t59\n",
      "Tentative: \t68\n",
      "Rejected: \t508\n",
      "Iteration: \t28 / 100\n",
      "Confirmed: \t59\n",
      "Tentative: \t68\n",
      "Rejected: \t508\n",
      "Iteration: \t29 / 100\n",
      "Confirmed: \t60\n",
      "Tentative: \t62\n",
      "Rejected: \t513\n",
      "Iteration: \t30 / 100\n",
      "Confirmed: \t60\n",
      "Tentative: \t62\n",
      "Rejected: \t513\n",
      "Iteration: \t31 / 100\n",
      "Confirmed: \t60\n",
      "Tentative: \t62\n",
      "Rejected: \t513\n",
      "Iteration: \t32 / 100\n",
      "Confirmed: \t61\n",
      "Tentative: \t57\n",
      "Rejected: \t517\n",
      "Iteration: \t33 / 100\n",
      "Confirmed: \t61\n",
      "Tentative: \t57\n",
      "Rejected: \t517\n",
      "Iteration: \t34 / 100\n",
      "Confirmed: \t61\n",
      "Tentative: \t57\n",
      "Rejected: \t517\n",
      "Iteration: \t35 / 100\n",
      "Confirmed: \t61\n",
      "Tentative: \t57\n",
      "Rejected: \t517\n",
      "Iteration: \t36 / 100\n",
      "Confirmed: \t61\n",
      "Tentative: \t57\n",
      "Rejected: \t517\n",
      "Iteration: \t37 / 100\n",
      "Confirmed: \t63\n",
      "Tentative: \t55\n",
      "Rejected: \t517\n",
      "Iteration: \t38 / 100\n",
      "Confirmed: \t63\n",
      "Tentative: \t52\n",
      "Rejected: \t520\n",
      "Iteration: \t39 / 100\n",
      "Confirmed: \t63\n",
      "Tentative: \t52\n",
      "Rejected: \t520\n",
      "Iteration: \t40 / 100\n",
      "Confirmed: \t66\n",
      "Tentative: \t49\n",
      "Rejected: \t520\n",
      "Iteration: \t41 / 100\n",
      "Confirmed: \t66\n",
      "Tentative: \t49\n",
      "Rejected: \t520\n",
      "Iteration: \t42 / 100\n",
      "Confirmed: \t66\n",
      "Tentative: \t49\n",
      "Rejected: \t520\n",
      "Iteration: \t43 / 100\n",
      "Confirmed: \t67\n",
      "Tentative: \t48\n",
      "Rejected: \t520\n",
      "Iteration: \t44 / 100\n",
      "Confirmed: \t67\n",
      "Tentative: \t48\n",
      "Rejected: \t520\n",
      "Iteration: \t45 / 100\n",
      "Confirmed: \t67\n",
      "Tentative: \t48\n",
      "Rejected: \t520\n",
      "Iteration: \t46 / 100\n",
      "Confirmed: \t67\n",
      "Tentative: \t48\n",
      "Rejected: \t520\n",
      "Iteration: \t47 / 100\n",
      "Confirmed: \t67\n",
      "Tentative: \t48\n",
      "Rejected: \t520\n",
      "Iteration: \t48 / 100\n",
      "Confirmed: \t67\n",
      "Tentative: \t48\n",
      "Rejected: \t520\n",
      "Iteration: \t49 / 100\n",
      "Confirmed: \t67\n",
      "Tentative: \t48\n",
      "Rejected: \t520\n",
      "Iteration: \t50 / 100\n",
      "Confirmed: \t67\n",
      "Tentative: \t48\n",
      "Rejected: \t520\n",
      "Iteration: \t51 / 100\n",
      "Confirmed: \t67\n",
      "Tentative: \t48\n",
      "Rejected: \t520\n",
      "Iteration: \t52 / 100\n",
      "Confirmed: \t67\n",
      "Tentative: \t46\n",
      "Rejected: \t522\n",
      "Iteration: \t53 / 100\n",
      "Confirmed: \t67\n",
      "Tentative: \t46\n",
      "Rejected: \t522\n",
      "Iteration: \t54 / 100\n",
      "Confirmed: \t68\n",
      "Tentative: \t45\n",
      "Rejected: \t522\n",
      "Iteration: \t55 / 100\n",
      "Confirmed: \t68\n",
      "Tentative: \t45\n",
      "Rejected: \t522\n",
      "Iteration: \t56 / 100\n",
      "Confirmed: \t68\n",
      "Tentative: \t45\n",
      "Rejected: \t522\n",
      "Iteration: \t57 / 100\n",
      "Confirmed: \t68\n",
      "Tentative: \t45\n",
      "Rejected: \t522\n",
      "Iteration: \t58 / 100\n",
      "Confirmed: \t68\n",
      "Tentative: \t45\n",
      "Rejected: \t522\n",
      "Iteration: \t59 / 100\n",
      "Confirmed: \t69\n",
      "Tentative: \t44\n",
      "Rejected: \t522\n",
      "Iteration: \t60 / 100\n",
      "Confirmed: \t69\n",
      "Tentative: \t44\n",
      "Rejected: \t522\n",
      "Iteration: \t61 / 100\n",
      "Confirmed: \t69\n",
      "Tentative: \t43\n",
      "Rejected: \t523\n",
      "Iteration: \t62 / 100\n",
      "Confirmed: \t70\n",
      "Tentative: \t42\n",
      "Rejected: \t523\n",
      "Iteration: \t63 / 100\n",
      "Confirmed: \t70\n",
      "Tentative: \t42\n",
      "Rejected: \t523\n",
      "Iteration: \t64 / 100\n",
      "Confirmed: \t70\n",
      "Tentative: \t42\n",
      "Rejected: \t523\n",
      "Iteration: \t65 / 100\n",
      "Confirmed: \t70\n",
      "Tentative: \t41\n",
      "Rejected: \t524\n",
      "Iteration: \t66 / 100\n",
      "Confirmed: \t70\n",
      "Tentative: \t41\n",
      "Rejected: \t524\n",
      "Iteration: \t67 / 100\n",
      "Confirmed: \t70\n",
      "Tentative: \t39\n",
      "Rejected: \t526\n",
      "Iteration: \t68 / 100\n",
      "Confirmed: \t70\n",
      "Tentative: \t39\n",
      "Rejected: \t526\n",
      "Iteration: \t69 / 100\n",
      "Confirmed: \t70\n",
      "Tentative: \t39\n",
      "Rejected: \t526\n",
      "Iteration: \t70 / 100\n",
      "Confirmed: \t70\n",
      "Tentative: \t39\n",
      "Rejected: \t526\n",
      "Iteration: \t71 / 100\n",
      "Confirmed: \t70\n",
      "Tentative: \t39\n",
      "Rejected: \t526\n",
      "Iteration: \t72 / 100\n",
      "Confirmed: \t70\n",
      "Tentative: \t39\n",
      "Rejected: \t526\n",
      "Iteration: \t73 / 100\n",
      "Confirmed: \t70\n",
      "Tentative: \t39\n",
      "Rejected: \t526\n",
      "Iteration: \t74 / 100\n",
      "Confirmed: \t70\n",
      "Tentative: \t39\n",
      "Rejected: \t526\n",
      "Iteration: \t75 / 100\n",
      "Confirmed: \t70\n",
      "Tentative: \t39\n",
      "Rejected: \t526\n",
      "Iteration: \t76 / 100\n",
      "Confirmed: \t70\n",
      "Tentative: \t38\n",
      "Rejected: \t527\n",
      "Iteration: \t77 / 100\n",
      "Confirmed: \t71\n",
      "Tentative: \t37\n",
      "Rejected: \t527\n",
      "Iteration: \t78 / 100\n",
      "Confirmed: \t71\n",
      "Tentative: \t37\n",
      "Rejected: \t527\n",
      "Iteration: \t79 / 100\n",
      "Confirmed: \t71\n",
      "Tentative: \t37\n",
      "Rejected: \t527\n",
      "Iteration: \t80 / 100\n",
      "Confirmed: \t71\n",
      "Tentative: \t37\n",
      "Rejected: \t527\n",
      "Iteration: \t81 / 100\n",
      "Confirmed: \t71\n",
      "Tentative: \t37\n",
      "Rejected: \t527\n",
      "Iteration: \t82 / 100\n",
      "Confirmed: \t71\n",
      "Tentative: \t37\n",
      "Rejected: \t527\n",
      "Iteration: \t83 / 100\n",
      "Confirmed: \t71\n",
      "Tentative: \t37\n",
      "Rejected: \t527\n",
      "Iteration: \t84 / 100\n",
      "Confirmed: \t71\n",
      "Tentative: \t37\n",
      "Rejected: \t527\n",
      "Iteration: \t85 / 100\n",
      "Confirmed: \t71\n",
      "Tentative: \t37\n",
      "Rejected: \t527\n",
      "Iteration: \t86 / 100\n",
      "Confirmed: \t71\n",
      "Tentative: \t37\n",
      "Rejected: \t527\n",
      "Iteration: \t87 / 100\n",
      "Confirmed: \t71\n",
      "Tentative: \t37\n",
      "Rejected: \t527\n",
      "Iteration: \t88 / 100\n",
      "Confirmed: \t71\n",
      "Tentative: \t37\n",
      "Rejected: \t527\n",
      "Iteration: \t89 / 100\n",
      "Confirmed: \t71\n",
      "Tentative: \t37\n",
      "Rejected: \t527\n",
      "Iteration: \t90 / 100\n",
      "Confirmed: \t71\n",
      "Tentative: \t35\n",
      "Rejected: \t529\n",
      "Iteration: \t91 / 100\n",
      "Confirmed: \t71\n",
      "Tentative: \t35\n",
      "Rejected: \t529\n",
      "Iteration: \t92 / 100\n",
      "Confirmed: \t71\n",
      "Tentative: \t35\n",
      "Rejected: \t529\n",
      "Iteration: \t93 / 100\n",
      "Confirmed: \t71\n",
      "Tentative: \t34\n",
      "Rejected: \t530\n",
      "Iteration: \t94 / 100\n",
      "Confirmed: \t71\n",
      "Tentative: \t34\n",
      "Rejected: \t530\n",
      "Iteration: \t95 / 100\n",
      "Confirmed: \t71\n",
      "Tentative: \t34\n",
      "Rejected: \t530\n",
      "Iteration: \t96 / 100\n",
      "Confirmed: \t71\n",
      "Tentative: \t34\n",
      "Rejected: \t530\n",
      "Iteration: \t97 / 100\n",
      "Confirmed: \t71\n",
      "Tentative: \t34\n",
      "Rejected: \t530\n",
      "Iteration: \t98 / 100\n",
      "Confirmed: \t71\n",
      "Tentative: \t33\n",
      "Rejected: \t531\n",
      "Iteration: \t99 / 100\n",
      "Confirmed: \t71\n",
      "Tentative: \t33\n",
      "Rejected: \t531\n",
      "\n",
      "\n",
      "BorutaPy finished running.\n",
      "\n",
      "Iteration: \t100 / 100\n",
      "Confirmed: \t71\n",
      "Tentative: \t20\n",
      "Rejected: \t531\n"
     ]
    },
    {
     "data": {
      "text/html": [
       "<style>#sk-container-id-5 {color: black;background-color: white;}#sk-container-id-5 pre{padding: 0;}#sk-container-id-5 div.sk-toggleable {background-color: white;}#sk-container-id-5 label.sk-toggleable__label {cursor: pointer;display: block;width: 100%;margin-bottom: 0;padding: 0.3em;box-sizing: border-box;text-align: center;}#sk-container-id-5 label.sk-toggleable__label-arrow:before {content: \"▸\";float: left;margin-right: 0.25em;color: #696969;}#sk-container-id-5 label.sk-toggleable__label-arrow:hover:before {color: black;}#sk-container-id-5 div.sk-estimator:hover label.sk-toggleable__label-arrow:before {color: black;}#sk-container-id-5 div.sk-toggleable__content {max-height: 0;max-width: 0;overflow: hidden;text-align: left;background-color: #f0f8ff;}#sk-container-id-5 div.sk-toggleable__content pre {margin: 0.2em;color: black;border-radius: 0.25em;background-color: #f0f8ff;}#sk-container-id-5 input.sk-toggleable__control:checked~div.sk-toggleable__content {max-height: 200px;max-width: 100%;overflow: auto;}#sk-container-id-5 input.sk-toggleable__control:checked~label.sk-toggleable__label-arrow:before {content: \"▾\";}#sk-container-id-5 div.sk-estimator input.sk-toggleable__control:checked~label.sk-toggleable__label {background-color: #d4ebff;}#sk-container-id-5 div.sk-label input.sk-toggleable__control:checked~label.sk-toggleable__label {background-color: #d4ebff;}#sk-container-id-5 input.sk-hidden--visually {border: 0;clip: rect(1px 1px 1px 1px);clip: rect(1px, 1px, 1px, 1px);height: 1px;margin: -1px;overflow: hidden;padding: 0;position: absolute;width: 1px;}#sk-container-id-5 div.sk-estimator {font-family: monospace;background-color: #f0f8ff;border: 1px dotted black;border-radius: 0.25em;box-sizing: border-box;margin-bottom: 0.5em;}#sk-container-id-5 div.sk-estimator:hover {background-color: #d4ebff;}#sk-container-id-5 div.sk-parallel-item::after {content: \"\";width: 100%;border-bottom: 1px solid gray;flex-grow: 1;}#sk-container-id-5 div.sk-label:hover label.sk-toggleable__label {background-color: #d4ebff;}#sk-container-id-5 div.sk-serial::before {content: \"\";position: absolute;border-left: 1px solid gray;box-sizing: border-box;top: 0;bottom: 0;left: 50%;z-index: 0;}#sk-container-id-5 div.sk-serial {display: flex;flex-direction: column;align-items: center;background-color: white;padding-right: 0.2em;padding-left: 0.2em;position: relative;}#sk-container-id-5 div.sk-item {position: relative;z-index: 1;}#sk-container-id-5 div.sk-parallel {display: flex;align-items: stretch;justify-content: center;background-color: white;position: relative;}#sk-container-id-5 div.sk-item::before, #sk-container-id-5 div.sk-parallel-item::before {content: \"\";position: absolute;border-left: 1px solid gray;box-sizing: border-box;top: 0;bottom: 0;left: 50%;z-index: -1;}#sk-container-id-5 div.sk-parallel-item {display: flex;flex-direction: column;z-index: 1;position: relative;background-color: white;}#sk-container-id-5 div.sk-parallel-item:first-child::after {align-self: flex-end;width: 50%;}#sk-container-id-5 div.sk-parallel-item:last-child::after {align-self: flex-start;width: 50%;}#sk-container-id-5 div.sk-parallel-item:only-child::after {width: 0;}#sk-container-id-5 div.sk-dashed-wrapped {border: 1px dashed gray;margin: 0 0.4em 0.5em 0.4em;box-sizing: border-box;padding-bottom: 0.4em;background-color: white;}#sk-container-id-5 div.sk-label label {font-family: monospace;font-weight: bold;display: inline-block;line-height: 1.2em;}#sk-container-id-5 div.sk-label-container {text-align: center;}#sk-container-id-5 div.sk-container {/* jupyter's `normalize.less` sets `[hidden] { display: none; }` but bootstrap.min.css set `[hidden] { display: none !important; }` so we also need the `!important` here to be able to override the default hidden behavior on the sphinx rendered scikit-learn.org. See: https://github.com/scikit-learn/scikit-learn/issues/21755 */display: inline-block !important;position: relative;}#sk-container-id-5 div.sk-text-repr-fallback {display: none;}</style><div id=\"sk-container-id-5\" class=\"sk-top-container\"><div class=\"sk-text-repr-fallback\"><pre>BorutaPy(estimator=RandomForestClassifier(class_weight=&#x27;balanced&#x27;, max_depth=5,\n",
       "                                          n_estimators=288, n_jobs=-1,\n",
       "                                          random_state=RandomState(MT19937) at 0x2380411AF40),\n",
       "         n_estimators=&#x27;auto&#x27;,\n",
       "         random_state=RandomState(MT19937) at 0x2380411AF40, verbose=2)</pre><b>In a Jupyter environment, please rerun this cell to show the HTML representation or trust the notebook. <br />On GitHub, the HTML representation is unable to render, please try loading this page with nbviewer.org.</b></div><div class=\"sk-container\" hidden><div class=\"sk-item sk-dashed-wrapped\"><div class=\"sk-label-container\"><div class=\"sk-label sk-toggleable\"><input class=\"sk-toggleable__control sk-hidden--visually\" id=\"sk-estimator-id-11\" type=\"checkbox\" ><label for=\"sk-estimator-id-11\" class=\"sk-toggleable__label sk-toggleable__label-arrow\">BorutaPy</label><div class=\"sk-toggleable__content\"><pre>BorutaPy(estimator=RandomForestClassifier(class_weight=&#x27;balanced&#x27;, max_depth=5,\n",
       "                                          n_estimators=288, n_jobs=-1,\n",
       "                                          random_state=RandomState(MT19937) at 0x2380411AF40),\n",
       "         n_estimators=&#x27;auto&#x27;,\n",
       "         random_state=RandomState(MT19937) at 0x2380411AF40, verbose=2)</pre></div></div></div><div class=\"sk-parallel\"><div class=\"sk-parallel-item\"><div class=\"sk-item\"><div class=\"sk-label-container\"><div class=\"sk-label sk-toggleable\"><input class=\"sk-toggleable__control sk-hidden--visually\" id=\"sk-estimator-id-12\" type=\"checkbox\" ><label for=\"sk-estimator-id-12\" class=\"sk-toggleable__label sk-toggleable__label-arrow\">estimator: RandomForestClassifier</label><div class=\"sk-toggleable__content\"><pre>RandomForestClassifier(class_weight=&#x27;balanced&#x27;, max_depth=5, n_estimators=288,\n",
       "                       n_jobs=-1,\n",
       "                       random_state=RandomState(MT19937) at 0x2380411AF40)</pre></div></div></div><div class=\"sk-serial\"><div class=\"sk-item\"><div class=\"sk-estimator sk-toggleable\"><input class=\"sk-toggleable__control sk-hidden--visually\" id=\"sk-estimator-id-13\" type=\"checkbox\" ><label for=\"sk-estimator-id-13\" class=\"sk-toggleable__label sk-toggleable__label-arrow\">RandomForestClassifier</label><div class=\"sk-toggleable__content\"><pre>RandomForestClassifier(class_weight=&#x27;balanced&#x27;, max_depth=5, n_estimators=288,\n",
       "                       n_jobs=-1,\n",
       "                       random_state=RandomState(MT19937) at 0x2380411AF40)</pre></div></div></div></div></div></div></div></div></div></div>"
      ],
      "text/plain": [
       "BorutaPy(estimator=RandomForestClassifier(class_weight='balanced', max_depth=5,\n",
       "                                          n_estimators=288, n_jobs=-1,\n",
       "                                          random_state=RandomState(MT19937) at 0x2380411AF40),\n",
       "         n_estimators='auto',\n",
       "         random_state=RandomState(MT19937) at 0x2380411AF40, verbose=2)"
      ]
     },
     "execution_count": 123,
     "metadata": {},
     "output_type": "execute_result"
    }
   ],
   "source": [
    "feat_selector.fit(np.array(X_sm_ADA), y_sm_ADA)"
   ]
  },
  {
   "cell_type": "code",
   "execution_count": 124,
   "id": "49ce67da",
   "metadata": {},
   "outputs": [
    {
     "name": "stdout",
     "output_type": "stream",
     "text": [
      "Number of selected features:  71\n"
     ]
    }
   ],
   "source": [
    "print(\"Number of selected features: \", feat_selector.n_features_)"
   ]
  },
  {
   "cell_type": "code",
   "execution_count": 125,
   "id": "5ba08422",
   "metadata": {
    "scrolled": true
   },
   "outputs": [
    {
     "data": {
      "text/plain": [
       "Index(['Freq.1261.01801005892', 'Freq.1324.08044804632',\n",
       "       'Freq.1477.74871633496', 'Freq.1523.06577785676',\n",
       "       'Freq.1571.40357692951', 'Freq.1647.83676716786',\n",
       "       'Freq.1715.32907573994', 'Freq.1793.31292765446',\n",
       "       'Freq.1950.92667543594', 'Freq.1972.54753680164',\n",
       "       'Freq.1989.65991446642', 'Freq.2032.95119529926',\n",
       "       'Freq.2051.88539120953', 'Freq.2079.98280714492',\n",
       "       'Freq.2148.55916353654', 'Freq.2182.52259691583',\n",
       "       'Freq.2186.33577081196', 'Freq.2208.11994786374',\n",
       "       'Freq.2224.49761975722', 'Freq.2242.07973381149',\n",
       "       'Freq.2245.4309661224', 'Freq.2382.53291586635',\n",
       "       'Freq.2481.36511832931', 'Freq.2552.58836883553',\n",
       "       'Freq.2761.81291676166', 'Freq.2822.5691494885',\n",
       "       'Freq.2926.87413924864', 'Freq.2980.79091047279',\n",
       "       'Freq.3044.21704373186', 'Freq.3077.77601350217',\n",
       "       'Freq.3275.06824878848', 'Freq.3414.71158220371',\n",
       "       'Freq.3425.70211639867', 'Freq.3520.59647058314',\n",
       "       'Freq.3610.10023694714', 'Freq.3614.96936487735',\n",
       "       'Freq.3912.82100942603', 'Freq.4084.58227194118',\n",
       "       'Freq.4104.40173898671', 'Freq.4266.3135397872',\n",
       "       'Freq.4282.69712175929', 'Freq.4305.85988898402',\n",
       "       'Freq.4318.14922038936', 'Freq.4374.21684152638',\n",
       "       'Freq.4395.12541812139', 'Freq.4773.1748593189',\n",
       "       'Freq.4786.08677209417', 'Freq.4823.05474215093',\n",
       "       'Freq.4828.36698716693', 'Freq.5085.12753419191',\n",
       "       'Freq.5182.5225573881', 'Freq.5405.94128004793',\n",
       "       'Freq.5433.51287445961', 'Freq.5447.04170899408',\n",
       "       'Freq.5486.38563387454', 'Freq.5528.62768665769',\n",
       "       'Freq.5720.85320850586', 'Freq.5759.17677099544',\n",
       "       'Freq.5793.20798465767', 'Freq.5814.15441443799',\n",
       "       'Freq.5842.12096665623', 'Freq.6079.05181901815',\n",
       "       'Freq.6115.76202989207', 'Freq.6449.69816727993',\n",
       "       'Freq.6755.49151085718', 'Freq.6794.26027179688',\n",
       "       'Freq.6823.11643549173', 'Freq.7501.51838000843',\n",
       "       'Freq.7738.28945568542', 'Freq.8943.76551923189',\n",
       "       'Freq.9098.58510797401'],\n",
       "      dtype='object')"
      ]
     },
     "execution_count": 125,
     "metadata": {},
     "output_type": "execute_result"
    }
   ],
   "source": [
    "# Best Features (accord to Boruta)\n",
    "X_sm_ADA.columns[feat_selector.support_]"
   ]
  },
  {
   "cell_type": "code",
   "execution_count": 126,
   "id": "d9be20af",
   "metadata": {},
   "outputs": [],
   "source": [
    "# Filter most importante features\n",
    "X_transform_ADA = feat_selector.transform(np.array(X_sm_ADA))"
   ]
  },
  {
   "cell_type": "code",
   "execution_count": 127,
   "id": "4b4aa510",
   "metadata": {},
   "outputs": [],
   "source": [
    "# Define objectiva funtion to maximize metric\n",
    "def objective(trial):\n",
    "    \n",
    "    # List scalers to chose from\n",
    "    scalers = trial.suggest_categorical(\"scalers\", ['minmax', 'standard', 'robust'])\n",
    "    # Define scalers\n",
    "    if scalers == \"minmax\":\n",
    "        scaler = MinMaxScaler()\n",
    "    elif scalers == \"standard\":\n",
    "        scaler = StandardScaler()\n",
    "    else:\n",
    "        scaler = RobustScaler()\n",
    "    # LGBM Hyper Parameter Grid\n",
    "    param = {\n",
    "        \"objective\": \"binary\",\n",
    "        \"metric\": \"binary_logloss\",\n",
    "        \"verbosity\": -1,\n",
    "        \"boosting_type\": \"gbdt\",\n",
    "        \"lambda_l1\": trial.suggest_float(\"lambda_l1\", 1e-8, 10.0, log=True),\n",
    "        \"lambda_l2\": trial.suggest_float(\"lambda_l2\", 1e-8, 10.0, log=True),\n",
    "        \"num_leaves\": trial.suggest_int(\"num_leaves\", 2, 256),\n",
    "        \"feature_fraction\": trial.suggest_float(\"feature_fraction\", 0.4, 1.0),\n",
    "        \"bagging_fraction\": trial.suggest_float(\"bagging_fraction\", 0.4, 1.0),\n",
    "        \"bagging_freq\": trial.suggest_int(\"bagging_freq\", 1, 7),\n",
    "        \"min_child_samples\": trial.suggest_int(\"min_child_samples\", 5, 100),\n",
    "        \"n_estimators\": trial.suggest_int(\"max_depth\", 100, 1000)\n",
    "    }\n",
    "    # Create model pipeline with param trial\n",
    "    clf = Pipeline([(\"scaler\", scaler),\n",
    "                    (\"lgbm_clf\", lgb.LGBMClassifier(random_state=SEED, **param))])\n",
    "    # Get CV Metric we want to maximize\n",
    "    balanced_accuracy = np.mean(cross_val_score(clf, X_transform_ADA, y_sm_ADA, scoring=metric_scorer, cv=rkf, n_jobs=-1))\n",
    "    \n",
    "    return balanced_accuracy"
   ]
  },
  {
   "cell_type": "code",
   "execution_count": 129,
   "id": "df24f71d",
   "metadata": {
    "scrolled": true
   },
   "outputs": [
    {
     "name": "stderr",
     "output_type": "stream",
     "text": [
      "\u001b[32m[I 2022-07-20 02:10:52,490]\u001b[0m A new study created in memory with name: no-name-569ae704-8725-4451-9a19-eb90499b10c9\u001b[0m\n"
     ]
    }
   ],
   "source": [
    "study = optuna.create_study(direction=\"maximize\")"
   ]
  },
  {
   "cell_type": "code",
   "execution_count": 130,
   "id": "78a9ef18",
   "metadata": {
    "scrolled": true
   },
   "outputs": [
    {
     "name": "stderr",
     "output_type": "stream",
     "text": [
      "\u001b[32m[I 2022-07-20 02:10:53,493]\u001b[0m Trial 0 finished with value: 0.5674740500727343 and parameters: {'scalers': 'standard', 'lambda_l1': 7.821650766069514e-08, 'lambda_l2': 1.0931755868802867e-07, 'num_leaves': 184, 'feature_fraction': 0.8106964183209158, 'bagging_fraction': 0.53810044395208, 'bagging_freq': 6, 'min_child_samples': 45, 'max_depth': 964}. Best is trial 0 with value: 0.5674740500727343.\u001b[0m\n",
      "\u001b[32m[I 2022-07-20 02:10:55,868]\u001b[0m Trial 1 finished with value: 0.9266887884861955 and parameters: {'scalers': 'standard', 'lambda_l1': 0.00018221948443719445, 'lambda_l2': 0.05008006138796867, 'num_leaves': 249, 'feature_fraction': 0.5647045000328383, 'bagging_fraction': 0.48361002758314287, 'bagging_freq': 7, 'min_child_samples': 15, 'max_depth': 629}. Best is trial 1 with value: 0.9266887884861955.\u001b[0m\n",
      "\u001b[32m[I 2022-07-20 02:10:56,832]\u001b[0m Trial 2 finished with value: 0.5 and parameters: {'scalers': 'robust', 'lambda_l1': 0.002099167122268548, 'lambda_l2': 1.0076956214041772, 'num_leaves': 171, 'feature_fraction': 0.9904399212453519, 'bagging_fraction': 0.4782331687922696, 'bagging_freq': 2, 'min_child_samples': 58, 'max_depth': 604}. Best is trial 1 with value: 0.9266887884861955.\u001b[0m\n",
      "\u001b[32m[I 2022-07-20 02:10:59,172]\u001b[0m Trial 3 finished with value: 0.9264619951771655 and parameters: {'scalers': 'robust', 'lambda_l1': 0.0007844510729908379, 'lambda_l2': 0.003733801953029078, 'num_leaves': 3, 'feature_fraction': 0.7352879631804909, 'bagging_fraction': 0.6452921613998319, 'bagging_freq': 3, 'min_child_samples': 26, 'max_depth': 616}. Best is trial 1 with value: 0.9266887884861955.\u001b[0m\n",
      "\u001b[32m[I 2022-07-20 02:10:59,675]\u001b[0m Trial 4 finished with value: 0.5 and parameters: {'scalers': 'minmax', 'lambda_l1': 3.0343709498971676, 'lambda_l2': 0.9891574252717601, 'num_leaves': 41, 'feature_fraction': 0.8592851263649772, 'bagging_fraction': 0.6819161728991615, 'bagging_freq': 5, 'min_child_samples': 64, 'max_depth': 283}. Best is trial 1 with value: 0.9266887884861955.\u001b[0m\n",
      "\u001b[32m[I 2022-07-20 02:11:01,503]\u001b[0m Trial 5 finished with value: 0.9239602451856708 and parameters: {'scalers': 'standard', 'lambda_l1': 0.017542274713023064, 'lambda_l2': 0.0010302511931921316, 'num_leaves': 146, 'feature_fraction': 0.4088345623790409, 'bagging_fraction': 0.7274923260859635, 'bagging_freq': 2, 'min_child_samples': 11, 'max_depth': 398}. Best is trial 1 with value: 0.9266887884861955.\u001b[0m\n",
      "\u001b[32m[I 2022-07-20 02:11:02,637]\u001b[0m Trial 6 finished with value: 0.5 and parameters: {'scalers': 'robust', 'lambda_l1': 0.003592981582953521, 'lambda_l2': 1.4951788733471736, 'num_leaves': 200, 'feature_fraction': 0.4844359571433031, 'bagging_fraction': 0.563958703322158, 'bagging_freq': 4, 'min_child_samples': 61, 'max_depth': 857}. Best is trial 1 with value: 0.9266887884861955.\u001b[0m\n",
      "\u001b[32m[I 2022-07-20 02:11:03,161]\u001b[0m Trial 7 finished with value: 0.5 and parameters: {'scalers': 'robust', 'lambda_l1': 1.7766184454826053e-05, 'lambda_l2': 2.329384620124809e-07, 'num_leaves': 101, 'feature_fraction': 0.9034127984089715, 'bagging_fraction': 0.4603281981886331, 'bagging_freq': 3, 'min_child_samples': 100, 'max_depth': 452}. Best is trial 1 with value: 0.9266887884861955.\u001b[0m\n",
      "\u001b[32m[I 2022-07-20 02:11:03,544]\u001b[0m Trial 8 finished with value: 0.5 and parameters: {'scalers': 'standard', 'lambda_l1': 3.223282325444255e-05, 'lambda_l2': 4.837508504325215e-05, 'num_leaves': 218, 'feature_fraction': 0.7343358715984154, 'bagging_fraction': 0.783289156262473, 'bagging_freq': 5, 'min_child_samples': 100, 'max_depth': 644}. Best is trial 1 with value: 0.9266887884861955.\u001b[0m\n",
      "\u001b[32m[I 2022-07-20 02:11:05,793]\u001b[0m Trial 9 finished with value: 0.9165238522657253 and parameters: {'scalers': 'robust', 'lambda_l1': 7.971976341306282e-08, 'lambda_l2': 1.0658178470527982e-05, 'num_leaves': 176, 'feature_fraction': 0.9927811928025898, 'bagging_fraction': 0.4348385653039867, 'bagging_freq': 7, 'min_child_samples': 28, 'max_depth': 987}. Best is trial 1 with value: 0.9266887884861955.\u001b[0m\n",
      "\u001b[32m[I 2022-07-20 02:11:07,436]\u001b[0m Trial 10 finished with value: 0.8799013946150169 and parameters: {'scalers': 'minmax', 'lambda_l1': 0.9384998715916223, 'lambda_l2': 0.029688684595984918, 'num_leaves': 251, 'feature_fraction': 0.5871394551124067, 'bagging_fraction': 0.9567157107905172, 'bagging_freq': 7, 'min_child_samples': 5, 'max_depth': 769}. Best is trial 1 with value: 0.9266887884861955.\u001b[0m\n",
      "\u001b[32m[I 2022-07-20 02:11:08,039]\u001b[0m Trial 11 finished with value: 0.9099495499125916 and parameters: {'scalers': 'standard', 'lambda_l1': 2.4071052680329226e-05, 'lambda_l2': 0.009356198513618333, 'num_leaves': 9, 'feature_fraction': 0.6189580933978234, 'bagging_fraction': 0.6253446783282667, 'bagging_freq': 1, 'min_child_samples': 24, 'max_depth': 141}. Best is trial 1 with value: 0.9266887884861955.\u001b[0m\n",
      "\u001b[32m[I 2022-07-20 02:11:09,904]\u001b[0m Trial 12 finished with value: 0.91283458809852 and parameters: {'scalers': 'robust', 'lambda_l1': 0.1138628052282175, 'lambda_l2': 0.02665314011495166, 'num_leaves': 103, 'feature_fraction': 0.6442906309604107, 'bagging_fraction': 0.8467592882674161, 'bagging_freq': 4, 'min_child_samples': 34, 'max_depth': 704}. Best is trial 1 with value: 0.9266887884861955.\u001b[0m\n",
      "\u001b[32m[I 2022-07-20 02:11:11,645]\u001b[0m Trial 13 finished with value: 0.9272238526867009 and parameters: {'scalers': 'standard', 'lambda_l1': 0.0004836084086587587, 'lambda_l2': 0.0012802815599586102, 'num_leaves': 60, 'feature_fraction': 0.739308991292056, 'bagging_fraction': 0.6020325130426532, 'bagging_freq': 3, 'min_child_samples': 18, 'max_depth': 484}. Best is trial 13 with value: 0.9272238526867009.\u001b[0m\n",
      "\u001b[32m[I 2022-07-20 02:11:13,107]\u001b[0m Trial 14 finished with value: 0.9297224540810067 and parameters: {'scalers': 'standard', 'lambda_l1': 2.7715867690487095e-06, 'lambda_l2': 0.00010232046338310657, 'num_leaves': 88, 'feature_fraction': 0.5176445970778948, 'bagging_fraction': 0.5603531435051413, 'bagging_freq': 5, 'min_child_samples': 16, 'max_depth': 495}. Best is trial 14 with value: 0.9297224540810067.\u001b[0m\n",
      "\u001b[32m[I 2022-07-20 02:11:13,772]\u001b[0m Trial 15 finished with value: 0.8547993509543432 and parameters: {'scalers': 'standard', 'lambda_l1': 1.2295012131771062e-06, 'lambda_l2': 7.240265226802513e-06, 'num_leaves': 66, 'feature_fraction': 0.5070723460586369, 'bagging_fraction': 0.6091806261918775, 'bagging_freq': 5, 'min_child_samples': 44, 'max_depth': 445}. Best is trial 14 with value: 0.9297224540810067.\u001b[0m\n",
      "\u001b[32m[I 2022-07-20 02:11:14,104]\u001b[0m Trial 16 finished with value: 0.5 and parameters: {'scalers': 'standard', 'lambda_l1': 2.336686044627845e-06, 'lambda_l2': 0.0001556110896514893, 'num_leaves': 83, 'feature_fraction': 0.6722294560684218, 'bagging_fraction': 0.553822848995903, 'bagging_freq': 3, 'min_child_samples': 83, 'max_depth': 315}. Best is trial 14 with value: 0.9297224540810067.\u001b[0m\n",
      "\u001b[32m[I 2022-07-20 02:11:15,564]\u001b[0m Trial 17 finished with value: 0.9210492016798131 and parameters: {'scalers': 'standard', 'lambda_l1': 1.1602932718150978e-08, 'lambda_l2': 1.1754737975191187e-06, 'num_leaves': 43, 'feature_fraction': 0.7810726332632517, 'bagging_fraction': 0.4019502567322245, 'bagging_freq': 6, 'min_child_samples': 16, 'max_depth': 507}. Best is trial 14 with value: 0.9297224540810067.\u001b[0m\n",
      "\u001b[32m[I 2022-07-20 02:11:16,175]\u001b[0m Trial 18 finished with value: 0.9038038979209645 and parameters: {'scalers': 'minmax', 'lambda_l1': 2.187375324549545e-06, 'lambda_l2': 1.691455862049147e-08, 'num_leaves': 121, 'feature_fraction': 0.40669152746035186, 'bagging_fraction': 0.7391110752494593, 'bagging_freq': 1, 'min_child_samples': 38, 'max_depth': 190}. Best is trial 14 with value: 0.9297224540810067.\u001b[0m\n",
      "\u001b[32m[I 2022-07-20 02:11:16,491]\u001b[0m Trial 19 finished with value: 0.5 and parameters: {'scalers': 'standard', 'lambda_l1': 0.00023427546639004585, 'lambda_l2': 0.0006083865289992765, 'num_leaves': 54, 'feature_fraction': 0.511230154186876, 'bagging_fraction': 0.8953010731800717, 'bagging_freq': 4, 'min_child_samples': 74, 'max_depth': 354}. Best is trial 14 with value: 0.9297224540810067.\u001b[0m\n",
      "\u001b[32m[I 2022-07-20 02:11:18,132]\u001b[0m Trial 20 finished with value: 0.9268096858636719 and parameters: {'scalers': 'standard', 'lambda_l1': 0.018546331443399157, 'lambda_l2': 3.1548668417385043e-05, 'num_leaves': 148, 'feature_fraction': 0.699124328819757, 'bagging_fraction': 0.5198835857592599, 'bagging_freq': 2, 'min_child_samples': 20, 'max_depth': 543}. Best is trial 14 with value: 0.9297224540810067.\u001b[0m\n"
     ]
    },
    {
     "name": "stderr",
     "output_type": "stream",
     "text": [
      "\u001b[32m[I 2022-07-20 02:11:20,018]\u001b[0m Trial 21 finished with value: 0.9093286493992763 and parameters: {'scalers': 'standard', 'lambda_l1': 0.20123583833463018, 'lambda_l2': 7.501757319324846e-05, 'num_leaves': 143, 'feature_fraction': 0.711379721615431, 'bagging_fraction': 0.5151235993676241, 'bagging_freq': 2, 'min_child_samples': 5, 'max_depth': 537}. Best is trial 14 with value: 0.9297224540810067.\u001b[0m\n",
      "\u001b[32m[I 2022-07-20 02:11:21,659]\u001b[0m Trial 22 finished with value: 0.9233719423851002 and parameters: {'scalers': 'standard', 'lambda_l1': 0.01236071136399938, 'lambda_l2': 3.7950440734652305e-06, 'num_leaves': 81, 'feature_fraction': 0.8123314911780154, 'bagging_fraction': 0.5896987190817036, 'bagging_freq': 3, 'min_child_samples': 19, 'max_depth': 509}. Best is trial 14 with value: 0.9297224540810067.\u001b[0m\n",
      "\u001b[32m[I 2022-07-20 02:11:23,450]\u001b[0m Trial 23 finished with value: 0.9191304429789336 and parameters: {'scalers': 'standard', 'lambda_l1': 0.03630221425639977, 'lambda_l2': 0.0017653139270226927, 'num_leaves': 120, 'feature_fraction': 0.9055343910059549, 'bagging_fraction': 0.6537337071382595, 'bagging_freq': 2, 'min_child_samples': 32, 'max_depth': 721}. Best is trial 14 with value: 0.9297224540810067.\u001b[0m\n",
      "\u001b[32m[I 2022-07-20 02:11:24,323]\u001b[0m Trial 24 finished with value: 0.9185110454990486 and parameters: {'scalers': 'standard', 'lambda_l1': 0.000105610984990071, 'lambda_l2': 0.00022555615778336124, 'num_leaves': 31, 'feature_fraction': 0.6785069363492592, 'bagging_fraction': 0.5168112349165878, 'bagging_freq': 4, 'min_child_samples': 21, 'max_depth': 259}. Best is trial 14 with value: 0.9297224540810067.\u001b[0m\n",
      "\u001b[32m[I 2022-07-20 02:11:24,856]\u001b[0m Trial 25 finished with value: 0.8169566661408766 and parameters: {'scalers': 'minmax', 'lambda_l1': 0.0024313114103111317, 'lambda_l2': 2.4994331032649068e-05, 'num_leaves': 143, 'feature_fraction': 0.5797862805540642, 'bagging_fraction': 0.5748501091934703, 'bagging_freq': 1, 'min_child_samples': 41, 'max_depth': 399}. Best is trial 14 with value: 0.9297224540810067.\u001b[0m\n",
      "\u001b[32m[I 2022-07-20 02:11:27,775]\u001b[0m Trial 26 finished with value: 0.9171609454357132 and parameters: {'scalers': 'standard', 'lambda_l1': 3.443460359201747e-07, 'lambda_l2': 0.1720768951084194, 'num_leaves': 93, 'feature_fraction': 0.7578888926634776, 'bagging_fraction': 0.6941222147667029, 'bagging_freq': 6, 'min_child_samples': 12, 'max_depth': 560}. Best is trial 14 with value: 0.9297224540810067.\u001b[0m\n",
      "\u001b[32m[I 2022-07-20 02:11:28,683]\u001b[0m Trial 27 finished with value: 0.8794861863497699 and parameters: {'scalers': 'standard', 'lambda_l1': 8.900440599547189e-06, 'lambda_l2': 8.400213885838086, 'num_leaves': 67, 'feature_fraction': 0.4695495287252656, 'bagging_fraction': 0.7771941337072705, 'bagging_freq': 3, 'min_child_samples': 51, 'max_depth': 463}. Best is trial 14 with value: 0.9297224540810067.\u001b[0m\n",
      "\u001b[32m[I 2022-07-20 02:11:30,154]\u001b[0m Trial 28 finished with value: 0.9180039633139478 and parameters: {'scalers': 'standard', 'lambda_l1': 0.0009411442513539488, 'lambda_l2': 9.303111620660839e-07, 'num_leaves': 113, 'feature_fraction': 0.5473997743692883, 'bagging_fraction': 0.517378826881659, 'bagging_freq': 5, 'min_child_samples': 31, 'max_depth': 689}. Best is trial 14 with value: 0.9297224540810067.\u001b[0m\n",
      "\u001b[32m[I 2022-07-20 02:11:30,839]\u001b[0m Trial 29 finished with value: 0.5 and parameters: {'scalers': 'standard', 'lambda_l1': 0.11168730346189386, 'lambda_l2': 0.0045550004546725045, 'num_leaves': 158, 'feature_fraction': 0.8113020210942442, 'bagging_fraction': 0.6004799266220247, 'bagging_freq': 2, 'min_child_samples': 51, 'max_depth': 562}. Best is trial 14 with value: 0.9297224540810067.\u001b[0m\n",
      "\u001b[32m[I 2022-07-20 02:11:32,988]\u001b[0m Trial 30 finished with value: 0.9250873811216302 and parameters: {'scalers': 'minmax', 'lambda_l1': 0.006762550793083813, 'lambda_l2': 0.00032628779679350767, 'num_leaves': 77, 'feature_fraction': 0.6177182352725445, 'bagging_fraction': 0.4005104569776624, 'bagging_freq': 3, 'min_child_samples': 10, 'max_depth': 827}. Best is trial 14 with value: 0.9297224540810067.\u001b[0m\n",
      "\u001b[32m[I 2022-07-20 02:11:35,208]\u001b[0m Trial 31 finished with value: 0.9245615214463899 and parameters: {'scalers': 'standard', 'lambda_l1': 0.00013231109154144839, 'lambda_l2': 0.08895088742360087, 'num_leaves': 235, 'feature_fraction': 0.5459226979041393, 'bagging_fraction': 0.4808658220503312, 'bagging_freq': 7, 'min_child_samples': 17, 'max_depth': 657}. Best is trial 14 with value: 0.9297224540810067.\u001b[0m\n",
      "\u001b[32m[I 2022-07-20 02:11:36,744]\u001b[0m Trial 32 finished with value: 0.9252902239014855 and parameters: {'scalers': 'standard', 'lambda_l1': 9.239585236479818e-05, 'lambda_l2': 0.01502824158072417, 'num_leaves': 194, 'feature_fraction': 0.44701664508394146, 'bagging_fraction': 0.4798230878327209, 'bagging_freq': 6, 'min_child_samples': 22, 'max_depth': 588}. Best is trial 14 with value: 0.9297224540810067.\u001b[0m\n",
      "\u001b[32m[I 2022-07-20 02:11:38,891]\u001b[0m Trial 33 finished with value: 0.9244485082341121 and parameters: {'scalers': 'standard', 'lambda_l1': 0.0006081065693716812, 'lambda_l2': 0.0018169665944045752, 'num_leaves': 210, 'feature_fraction': 0.6567889222644107, 'bagging_fraction': 0.5471358286099697, 'bagging_freq': 7, 'min_child_samples': 13, 'max_depth': 496}. Best is trial 14 with value: 0.9297224540810067.\u001b[0m\n",
      "\u001b[32m[I 2022-07-20 02:11:40,230]\u001b[0m Trial 34 finished with value: 0.9154792138760791 and parameters: {'scalers': 'standard', 'lambda_l1': 5.520123646637977e-06, 'lambda_l2': 2.74227109494198e-05, 'num_leaves': 21, 'feature_fraction': 0.5452284857861418, 'bagging_fraction': 0.4480992314867862, 'bagging_freq': 4, 'min_child_samples': 26, 'max_depth': 618}. Best is trial 14 with value: 0.9297224540810067.\u001b[0m\n",
      "\u001b[32m[I 2022-07-20 02:11:41,087]\u001b[0m Trial 35 finished with value: 0.8584325754654702 and parameters: {'scalers': 'standard', 'lambda_l1': 0.001186519748746063, 'lambda_l2': 0.10549327692911353, 'num_leaves': 255, 'feature_fraction': 0.7022348110847043, 'bagging_fraction': 0.5021254827935032, 'bagging_freq': 2, 'min_child_samples': 36, 'max_depth': 391}. Best is trial 14 with value: 0.9297224540810067.\u001b[0m\n",
      "\u001b[32m[I 2022-07-20 02:11:44,622]\u001b[0m Trial 36 finished with value: 0.9158136310713709 and parameters: {'scalers': 'standard', 'lambda_l1': 3.437916979499904e-07, 'lambda_l2': 0.572339340364923, 'num_leaves': 50, 'feature_fraction': 0.8547831458855655, 'bagging_fraction': 0.6571483877737234, 'bagging_freq': 6, 'min_child_samples': 8, 'max_depth': 597}. Best is trial 14 with value: 0.9297224540810067.\u001b[0m\n",
      "\u001b[32m[I 2022-07-20 02:11:46,727]\u001b[0m Trial 37 finished with value: 0.9156591183154652 and parameters: {'scalers': 'robust', 'lambda_l1': 0.3527780706305969, 'lambda_l2': 0.00010354162636212545, 'num_leaves': 228, 'feature_fraction': 0.5956677455535417, 'bagging_fraction': 0.5445916636581571, 'bagging_freq': 5, 'min_child_samples': 16, 'max_depth': 773}. Best is trial 14 with value: 0.9297224540810067.\u001b[0m\n",
      "\u001b[32m[I 2022-07-20 02:11:48,250]\u001b[0m Trial 38 finished with value: 0.9229499982731406 and parameters: {'scalers': 'standard', 'lambda_l1': 0.031831598634752566, 'lambda_l2': 0.0006997343694818238, 'num_leaves': 168, 'feature_fraction': 0.7762526697908415, 'bagging_fraction': 0.6364903857123864, 'bagging_freq': 3, 'min_child_samples': 29, 'max_depth': 416}. Best is trial 14 with value: 0.9297224540810067.\u001b[0m\n",
      "\u001b[32m[I 2022-07-20 02:11:49,748]\u001b[0m Trial 39 finished with value: 0.8308631114757277 and parameters: {'scalers': 'minmax', 'lambda_l1': 5.93925173208141, 'lambda_l2': 0.0028169836944394668, 'num_leaves': 65, 'feature_fraction': 0.4413045296265798, 'bagging_fraction': 0.43199252584765935, 'bagging_freq': 2, 'min_child_samples': 23, 'max_depth': 906}. Best is trial 14 with value: 0.9297224540810067.\u001b[0m\n",
      "\u001b[32m[I 2022-07-20 02:11:52,704]\u001b[0m Trial 40 finished with value: 0.9231894907208374 and parameters: {'scalers': 'robust', 'lambda_l1': 0.00032316831623385863, 'lambda_l2': 3.849710590870654e-06, 'num_leaves': 100, 'feature_fraction': 0.7415252851911658, 'bagging_fraction': 0.5781450640444734, 'bagging_freq': 4, 'min_child_samples': 15, 'max_depth': 652}. Best is trial 14 with value: 0.9297224540810067.\u001b[0m\n"
     ]
    },
    {
     "name": "stderr",
     "output_type": "stream",
     "text": [
      "\u001b[32m[I 2022-07-20 02:11:54,749]\u001b[0m Trial 41 finished with value: 0.923064718348387 and parameters: {'scalers': 'robust', 'lambda_l1': 4.945841651226771e-05, 'lambda_l2': 0.007201052580671323, 'num_leaves': 5, 'feature_fraction': 0.7251203509799251, 'bagging_fraction': 0.709805965457603, 'bagging_freq': 3, 'min_child_samples': 27, 'max_depth': 478}. Best is trial 14 with value: 0.9297224540810067.\u001b[0m\n",
      "\u001b[32m[I 2022-07-20 02:11:58,481]\u001b[0m Trial 42 finished with value: 0.9187709115574827 and parameters: {'scalers': 'robust', 'lambda_l1': 0.00046279169418629286, 'lambda_l2': 0.042292093879881636, 'num_leaves': 22, 'feature_fraction': 0.8625956698618079, 'bagging_fraction': 0.6689086851808821, 'bagging_freq': 3, 'min_child_samples': 10, 'max_depth': 543}. Best is trial 14 with value: 0.9297224540810067.\u001b[0m\n",
      "\u001b[32m[I 2022-07-20 02:12:00,996]\u001b[0m Trial 43 finished with value: 0.9198369569242247 and parameters: {'scalers': 'robust', 'lambda_l1': 0.0038406481911285617, 'lambda_l2': 0.3171337522107936, 'num_leaves': 131, 'feature_fraction': 0.6372307042067489, 'bagging_fraction': 0.6014004379114826, 'bagging_freq': 2, 'min_child_samples': 20, 'max_depth': 612}. Best is trial 14 with value: 0.9297224540810067.\u001b[0m\n",
      "\u001b[32m[I 2022-07-20 02:12:03,914]\u001b[0m Trial 44 finished with value: 0.916889372946455 and parameters: {'scalers': 'robust', 'lambda_l1': 0.007643089064959097, 'lambda_l2': 0.0005377079059299512, 'num_leaves': 190, 'feature_fraction': 0.6824078391223689, 'bagging_fraction': 0.6283189472577111, 'bagging_freq': 5, 'min_child_samples': 5, 'max_depth': 745}. Best is trial 14 with value: 0.9297224540810067.\u001b[0m\n",
      "\u001b[32m[I 2022-07-20 02:12:04,854]\u001b[0m Trial 45 finished with value: 0.5 and parameters: {'scalers': 'robust', 'lambda_l1': 1.2160565062290513e-05, 'lambda_l2': 2.290073063950741e-05, 'num_leaves': 33, 'feature_fraction': 0.9417258425465731, 'bagging_fraction': 0.486221598615266, 'bagging_freq': 1, 'min_child_samples': 58, 'max_depth': 681}. Best is trial 14 with value: 0.9297224540810067.\u001b[0m\n",
      "\u001b[32m[I 2022-07-20 02:12:05,967]\u001b[0m Trial 46 finished with value: 0.9215752518035799 and parameters: {'scalers': 'standard', 'lambda_l1': 3.17973880518758e-05, 'lambda_l2': 0.016140483919084028, 'num_leaves': 54, 'feature_fraction': 0.7863319475759747, 'bagging_fraction': 0.5637109713602783, 'bagging_freq': 4, 'min_child_samples': 25, 'max_depth': 348}. Best is trial 14 with value: 0.9297224540810067.\u001b[0m\n",
      "\u001b[32m[I 2022-07-20 02:12:06,664]\u001b[0m Trial 47 finished with value: 0.5 and parameters: {'scalers': 'standard', 'lambda_l1': 0.03496064470340109, 'lambda_l2': 0.0012827550874760416, 'num_leaves': 178, 'feature_fraction': 0.521012033434035, 'bagging_fraction': 0.5323157899478846, 'bagging_freq': 7, 'min_child_samples': 45, 'max_depth': 438}. Best is trial 14 with value: 0.9297224540810067.\u001b[0m\n",
      "\u001b[32m[I 2022-07-20 02:12:08,354]\u001b[0m Trial 48 finished with value: 0.9163953700023746 and parameters: {'scalers': 'standard', 'lambda_l1': 0.0019312507290070965, 'lambda_l2': 3.3914427435206056, 'num_leaves': 16, 'feature_fraction': 0.8374838292611935, 'bagging_fraction': 0.45204721499085454, 'bagging_freq': 3, 'min_child_samples': 18, 'max_depth': 537}. Best is trial 14 with value: 0.9297224540810067.\u001b[0m\n",
      "\u001b[32m[I 2022-07-20 02:12:09,896]\u001b[0m Trial 49 finished with value: 0.9121999358570566 and parameters: {'scalers': 'minmax', 'lambda_l1': 5.63948145404573e-07, 'lambda_l2': 0.004804930421865931, 'num_leaves': 161, 'feature_fraction': 0.7521263292274984, 'bagging_fraction': 0.6246538049538872, 'bagging_freq': 3, 'min_child_samples': 37, 'max_depth': 640}. Best is trial 14 with value: 0.9297224540810067.\u001b[0m\n"
     ]
    }
   ],
   "source": [
    "study.optimize(objective, n_trials=50)"
   ]
  },
  {
   "cell_type": "code",
   "execution_count": 131,
   "id": "5dc871a9",
   "metadata": {},
   "outputs": [],
   "source": [
    "# Get best trial based on metric score\n",
    "trial = study.best_trial"
   ]
  },
  {
   "cell_type": "code",
   "execution_count": 132,
   "id": "8c1c1caa",
   "metadata": {},
   "outputs": [
    {
     "name": "stdout",
     "output_type": "stream",
     "text": [
      "    scalers: standard\n",
      "    lambda_l1: 2.7715867690487095e-06\n",
      "    lambda_l2: 0.00010232046338310657\n",
      "    num_leaves: 88\n",
      "    feature_fraction: 0.5176445970778948\n",
      "    bagging_fraction: 0.5603531435051413\n",
      "    bagging_freq: 5\n",
      "    min_child_samples: 16\n",
      "    max_depth: 495\n"
     ]
    }
   ],
   "source": [
    "# Print params for best trial\n",
    "for key, value in trial.params.items():\n",
    "    print(\"    {}: {}\".format(key, value))"
   ]
  },
  {
   "cell_type": "code",
   "execution_count": 133,
   "id": "47c481c3",
   "metadata": {},
   "outputs": [
    {
     "data": {
      "text/plain": [
       "0.9297224540810067"
      ]
     },
     "execution_count": 133,
     "metadata": {},
     "output_type": "execute_result"
    }
   ],
   "source": [
    "# Best Score from HP Opt\n",
    "trial.values[0]"
   ]
  },
  {
   "cell_type": "markdown",
   "id": "2ed46dd4",
   "metadata": {},
   "source": [
    "* Dentre os SMOTES, ADA obteve o melhor score"
   ]
  },
  {
   "cell_type": "code",
   "execution_count": null,
   "id": "84e24aec",
   "metadata": {},
   "outputs": [],
   "source": []
  }
 ],
 "metadata": {
  "kernelspec": {
   "display_name": "Python 3 (ipykernel)",
   "language": "python",
   "name": "python3"
  },
  "language_info": {
   "codemirror_mode": {
    "name": "ipython",
    "version": 3
   },
   "file_extension": ".py",
   "mimetype": "text/x-python",
   "name": "python",
   "nbconvert_exporter": "python",
   "pygments_lexer": "ipython3",
   "version": "3.10.5"
  }
 },
 "nbformat": 4,
 "nbformat_minor": 5
}
