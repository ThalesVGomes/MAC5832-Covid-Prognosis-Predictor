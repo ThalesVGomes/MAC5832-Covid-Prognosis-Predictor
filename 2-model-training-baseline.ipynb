{
 "cells": [
  {
   "cell_type": "markdown",
   "id": "44a0ae40",
   "metadata": {},
   "source": [
    "# Notebook to Implement Model Training "
   ]
  },
  {
   "cell_type": "markdown",
   "id": "e47ad424",
   "metadata": {},
   "source": [
    "---"
   ]
  },
  {
   "cell_type": "markdown",
   "id": "58aabb6a",
   "metadata": {},
   "source": [
    "### 1) Setup"
   ]
  },
  {
   "cell_type": "code",
   "execution_count": 44,
   "id": "e33b8c0f",
   "metadata": {},
   "outputs": [],
   "source": [
    "# Imports\n",
    "import pandas as pd\n",
    "import numpy as np\n",
    "import matplotlib.pyplot as plt\n",
    "import seaborn as sns\n",
    "\n",
    "from sklearn.metrics import balanced_accuracy_score, make_scorer\n",
    "from sklearn.model_selection import RepeatedKFold, cross_val_score, GridSearchCV\n",
    "from sklearn.ensemble import RandomForestClassifier"
   ]
  },
  {
   "cell_type": "code",
   "execution_count": 21,
   "id": "1028d840",
   "metadata": {},
   "outputs": [],
   "source": [
    "SEED = 42"
   ]
  },
  {
   "cell_type": "code",
   "execution_count": 2,
   "id": "c2e29d7c",
   "metadata": {},
   "outputs": [],
   "source": [
    "TRAIN_CLINICAL_FILENAME = \"train_set_clinical.csv\"\n",
    "TEST_CLINICAL_FILENAME = \"test_set_clinical.csv\""
   ]
  },
  {
   "cell_type": "markdown",
   "id": "84adf36c",
   "metadata": {},
   "source": [
    "---"
   ]
  },
  {
   "cell_type": "markdown",
   "id": "f9589ede",
   "metadata": {},
   "source": [
    "### 2) Read and Preprocess Data"
   ]
  },
  {
   "cell_type": "code",
   "execution_count": 14,
   "id": "a841c96a",
   "metadata": {},
   "outputs": [],
   "source": [
    "train = pd.read_csv(TRAIN_CLINICAL_FILENAME, sep=\";\", index_col=\"ID\")"
   ]
  },
  {
   "cell_type": "code",
   "execution_count": 15,
   "id": "dfe72ece",
   "metadata": {},
   "outputs": [
    {
     "data": {
      "text/plain": [
       "(132, 650)"
      ]
     },
     "execution_count": 15,
     "metadata": {},
     "output_type": "execute_result"
    }
   ],
   "source": [
    "train.shape"
   ]
  },
  {
   "cell_type": "code",
   "execution_count": 16,
   "id": "be41efe6",
   "metadata": {},
   "outputs": [
    {
     "data": {
      "text/html": [
       "<div>\n",
       "<style scoped>\n",
       "    .dataframe tbody tr th:only-of-type {\n",
       "        vertical-align: middle;\n",
       "    }\n",
       "\n",
       "    .dataframe tbody tr th {\n",
       "        vertical-align: top;\n",
       "    }\n",
       "\n",
       "    .dataframe thead th {\n",
       "        text-align: right;\n",
       "    }\n",
       "</style>\n",
       "<table border=\"1\" class=\"dataframe\">\n",
       "  <thead>\n",
       "    <tr style=\"text-align: right;\">\n",
       "      <th></th>\n",
       "      <th>Age (Y)</th>\n",
       "      <th>Sex</th>\n",
       "      <th>Fever</th>\n",
       "      <th>Cough</th>\n",
       "      <th>Headache</th>\n",
       "      <th>Sore throat</th>\n",
       "      <th>Muscle or Body Aches</th>\n",
       "      <th>Fadigue</th>\n",
       "      <th>Congestion or runny nose</th>\n",
       "      <th>Shortness of breath or difficulty breathing</th>\n",
       "      <th>...</th>\n",
       "      <th>Freq.8943.76551923189</th>\n",
       "      <th>Freq.9058.85825530971</th>\n",
       "      <th>Freq.9098.58510797401</th>\n",
       "      <th>Freq.9437.74469644083</th>\n",
       "      <th>Freq.9593.90405666006</th>\n",
       "      <th>Freq.9799.842201746</th>\n",
       "      <th>Freq.10432.4853106264</th>\n",
       "      <th>Freq.11006.9514551194</th>\n",
       "      <th>Freq.11161.31855876</th>\n",
       "      <th>Group</th>\n",
       "    </tr>\n",
       "    <tr>\n",
       "      <th>ID</th>\n",
       "      <th></th>\n",
       "      <th></th>\n",
       "      <th></th>\n",
       "      <th></th>\n",
       "      <th></th>\n",
       "      <th></th>\n",
       "      <th></th>\n",
       "      <th></th>\n",
       "      <th></th>\n",
       "      <th></th>\n",
       "      <th></th>\n",
       "      <th></th>\n",
       "      <th></th>\n",
       "      <th></th>\n",
       "      <th></th>\n",
       "      <th></th>\n",
       "      <th></th>\n",
       "      <th></th>\n",
       "      <th></th>\n",
       "      <th></th>\n",
       "      <th></th>\n",
       "    </tr>\n",
       "  </thead>\n",
       "  <tbody>\n",
       "    <tr>\n",
       "      <th>1</th>\n",
       "      <td>53</td>\n",
       "      <td>F</td>\n",
       "      <td>0.0</td>\n",
       "      <td>0.0</td>\n",
       "      <td>0.0</td>\n",
       "      <td>1.0</td>\n",
       "      <td>0.0</td>\n",
       "      <td>1.0</td>\n",
       "      <td>0.0</td>\n",
       "      <td>0.0</td>\n",
       "      <td>...</td>\n",
       "      <td>0.000017</td>\n",
       "      <td>0.000005</td>\n",
       "      <td>0.000020</td>\n",
       "      <td>0.000029</td>\n",
       "      <td>0.000037</td>\n",
       "      <td>0.000024</td>\n",
       "      <td>0.000016</td>\n",
       "      <td>0.000030</td>\n",
       "      <td>0.000030</td>\n",
       "      <td>MILD</td>\n",
       "    </tr>\n",
       "    <tr>\n",
       "      <th>2</th>\n",
       "      <td>21</td>\n",
       "      <td>F</td>\n",
       "      <td>0.0</td>\n",
       "      <td>0.0</td>\n",
       "      <td>1.0</td>\n",
       "      <td>0.0</td>\n",
       "      <td>0.0</td>\n",
       "      <td>0.0</td>\n",
       "      <td>1.0</td>\n",
       "      <td>0.0</td>\n",
       "      <td>...</td>\n",
       "      <td>0.000021</td>\n",
       "      <td>0.000013</td>\n",
       "      <td>0.000002</td>\n",
       "      <td>0.000004</td>\n",
       "      <td>0.000005</td>\n",
       "      <td>0.000002</td>\n",
       "      <td>0.000008</td>\n",
       "      <td>0.000103</td>\n",
       "      <td>0.000002</td>\n",
       "      <td>MILD</td>\n",
       "    </tr>\n",
       "    <tr>\n",
       "      <th>5</th>\n",
       "      <td>62</td>\n",
       "      <td>F</td>\n",
       "      <td>0.0</td>\n",
       "      <td>1.0</td>\n",
       "      <td>1.0</td>\n",
       "      <td>0.0</td>\n",
       "      <td>0.0</td>\n",
       "      <td>1.0</td>\n",
       "      <td>0.0</td>\n",
       "      <td>1.0</td>\n",
       "      <td>...</td>\n",
       "      <td>0.000099</td>\n",
       "      <td>0.000079</td>\n",
       "      <td>0.000013</td>\n",
       "      <td>0.000012</td>\n",
       "      <td>0.000001</td>\n",
       "      <td>0.000062</td>\n",
       "      <td>0.000003</td>\n",
       "      <td>0.000089</td>\n",
       "      <td>0.000028</td>\n",
       "      <td>MILD</td>\n",
       "    </tr>\n",
       "    <tr>\n",
       "      <th>6</th>\n",
       "      <td>34</td>\n",
       "      <td>F</td>\n",
       "      <td>0.0</td>\n",
       "      <td>1.0</td>\n",
       "      <td>1.0</td>\n",
       "      <td>1.0</td>\n",
       "      <td>1.0</td>\n",
       "      <td>1.0</td>\n",
       "      <td>0.0</td>\n",
       "      <td>0.0</td>\n",
       "      <td>...</td>\n",
       "      <td>0.000025</td>\n",
       "      <td>0.000021</td>\n",
       "      <td>0.000017</td>\n",
       "      <td>0.000010</td>\n",
       "      <td>0.000022</td>\n",
       "      <td>0.000156</td>\n",
       "      <td>0.000015</td>\n",
       "      <td>0.000053</td>\n",
       "      <td>0.000007</td>\n",
       "      <td>SEVERE</td>\n",
       "    </tr>\n",
       "    <tr>\n",
       "      <th>8</th>\n",
       "      <td>42</td>\n",
       "      <td>M</td>\n",
       "      <td>0.0</td>\n",
       "      <td>1.0</td>\n",
       "      <td>1.0</td>\n",
       "      <td>0.0</td>\n",
       "      <td>0.0</td>\n",
       "      <td>1.0</td>\n",
       "      <td>0.0</td>\n",
       "      <td>0.0</td>\n",
       "      <td>...</td>\n",
       "      <td>0.000009</td>\n",
       "      <td>0.000153</td>\n",
       "      <td>0.000006</td>\n",
       "      <td>0.000046</td>\n",
       "      <td>0.000003</td>\n",
       "      <td>0.000017</td>\n",
       "      <td>0.000008</td>\n",
       "      <td>0.000110</td>\n",
       "      <td>0.000007</td>\n",
       "      <td>SEVERE</td>\n",
       "    </tr>\n",
       "  </tbody>\n",
       "</table>\n",
       "<p>5 rows × 650 columns</p>\n",
       "</div>"
      ],
      "text/plain": [
       "    Age (Y) Sex  Fever  Cough  Headache  Sore throat  Muscle or Body Aches  \\\n",
       "ID                                                                           \n",
       "1        53   F    0.0    0.0       0.0          1.0                   0.0   \n",
       "2        21   F    0.0    0.0       1.0          0.0                   0.0   \n",
       "5        62   F    0.0    1.0       1.0          0.0                   0.0   \n",
       "6        34   F    0.0    1.0       1.0          1.0                   1.0   \n",
       "8        42   M    0.0    1.0       1.0          0.0                   0.0   \n",
       "\n",
       "    Fadigue  Congestion or runny nose  \\\n",
       "ID                                      \n",
       "1       1.0                       0.0   \n",
       "2       0.0                       1.0   \n",
       "5       1.0                       0.0   \n",
       "6       1.0                       0.0   \n",
       "8       1.0                       0.0   \n",
       "\n",
       "    Shortness of breath or difficulty breathing  ...  Freq.8943.76551923189  \\\n",
       "ID                                               ...                          \n",
       "1                                           0.0  ...               0.000017   \n",
       "2                                           0.0  ...               0.000021   \n",
       "5                                           1.0  ...               0.000099   \n",
       "6                                           0.0  ...               0.000025   \n",
       "8                                           0.0  ...               0.000009   \n",
       "\n",
       "    Freq.9058.85825530971  Freq.9098.58510797401  Freq.9437.74469644083  \\\n",
       "ID                                                                        \n",
       "1                0.000005               0.000020               0.000029   \n",
       "2                0.000013               0.000002               0.000004   \n",
       "5                0.000079               0.000013               0.000012   \n",
       "6                0.000021               0.000017               0.000010   \n",
       "8                0.000153               0.000006               0.000046   \n",
       "\n",
       "    Freq.9593.90405666006  Freq.9799.842201746  Freq.10432.4853106264  \\\n",
       "ID                                                                      \n",
       "1                0.000037             0.000024               0.000016   \n",
       "2                0.000005             0.000002               0.000008   \n",
       "5                0.000001             0.000062               0.000003   \n",
       "6                0.000022             0.000156               0.000015   \n",
       "8                0.000003             0.000017               0.000008   \n",
       "\n",
       "    Freq.11006.9514551194  Freq.11161.31855876   Group  \n",
       "ID                                                      \n",
       "1                0.000030             0.000030    MILD  \n",
       "2                0.000103             0.000002    MILD  \n",
       "5                0.000089             0.000028    MILD  \n",
       "6                0.000053             0.000007  SEVERE  \n",
       "8                0.000110             0.000007  SEVERE  \n",
       "\n",
       "[5 rows x 650 columns]"
      ]
     },
     "execution_count": 16,
     "metadata": {},
     "output_type": "execute_result"
    }
   ],
   "source": [
    "train.head()"
   ]
  },
  {
   "cell_type": "code",
   "execution_count": 17,
   "id": "646285c1",
   "metadata": {},
   "outputs": [],
   "source": [
    "##### Preprocessing\n",
    "\n",
    "train_mod = train.copy()\n",
    "# Drop NaN Values \n",
    "train_mod.dropna(inplace=True)\n",
    "# Convert Sex column to boolean (Female: 1, Male: 0)\n",
    "train_mod[\"Sex\"] = np.where(train_mod[\"Sex\"]==\"F\", 1, 0)"
   ]
  },
  {
   "cell_type": "code",
   "execution_count": 19,
   "id": "b27da16d",
   "metadata": {},
   "outputs": [
    {
     "data": {
      "text/plain": [
       "(131, 650)"
      ]
     },
     "execution_count": 19,
     "metadata": {},
     "output_type": "execute_result"
    }
   ],
   "source": [
    "train_mod.shape"
   ]
  },
  {
   "cell_type": "code",
   "execution_count": 18,
   "id": "81e259a5",
   "metadata": {
    "scrolled": true
   },
   "outputs": [
    {
     "data": {
      "text/html": [
       "<div>\n",
       "<style scoped>\n",
       "    .dataframe tbody tr th:only-of-type {\n",
       "        vertical-align: middle;\n",
       "    }\n",
       "\n",
       "    .dataframe tbody tr th {\n",
       "        vertical-align: top;\n",
       "    }\n",
       "\n",
       "    .dataframe thead th {\n",
       "        text-align: right;\n",
       "    }\n",
       "</style>\n",
       "<table border=\"1\" class=\"dataframe\">\n",
       "  <thead>\n",
       "    <tr style=\"text-align: right;\">\n",
       "      <th></th>\n",
       "      <th>Age (Y)</th>\n",
       "      <th>Sex</th>\n",
       "      <th>Fever</th>\n",
       "      <th>Cough</th>\n",
       "      <th>Headache</th>\n",
       "      <th>Sore throat</th>\n",
       "      <th>Muscle or Body Aches</th>\n",
       "      <th>Fadigue</th>\n",
       "      <th>Congestion or runny nose</th>\n",
       "      <th>Shortness of breath or difficulty breathing</th>\n",
       "      <th>...</th>\n",
       "      <th>Freq.8943.76551923189</th>\n",
       "      <th>Freq.9058.85825530971</th>\n",
       "      <th>Freq.9098.58510797401</th>\n",
       "      <th>Freq.9437.74469644083</th>\n",
       "      <th>Freq.9593.90405666006</th>\n",
       "      <th>Freq.9799.842201746</th>\n",
       "      <th>Freq.10432.4853106264</th>\n",
       "      <th>Freq.11006.9514551194</th>\n",
       "      <th>Freq.11161.31855876</th>\n",
       "      <th>Group</th>\n",
       "    </tr>\n",
       "    <tr>\n",
       "      <th>ID</th>\n",
       "      <th></th>\n",
       "      <th></th>\n",
       "      <th></th>\n",
       "      <th></th>\n",
       "      <th></th>\n",
       "      <th></th>\n",
       "      <th></th>\n",
       "      <th></th>\n",
       "      <th></th>\n",
       "      <th></th>\n",
       "      <th></th>\n",
       "      <th></th>\n",
       "      <th></th>\n",
       "      <th></th>\n",
       "      <th></th>\n",
       "      <th></th>\n",
       "      <th></th>\n",
       "      <th></th>\n",
       "      <th></th>\n",
       "      <th></th>\n",
       "      <th></th>\n",
       "    </tr>\n",
       "  </thead>\n",
       "  <tbody>\n",
       "    <tr>\n",
       "      <th>1</th>\n",
       "      <td>53</td>\n",
       "      <td>1</td>\n",
       "      <td>0.0</td>\n",
       "      <td>0.0</td>\n",
       "      <td>0.0</td>\n",
       "      <td>1.0</td>\n",
       "      <td>0.0</td>\n",
       "      <td>1.0</td>\n",
       "      <td>0.0</td>\n",
       "      <td>0.0</td>\n",
       "      <td>...</td>\n",
       "      <td>0.000017</td>\n",
       "      <td>0.000005</td>\n",
       "      <td>0.000020</td>\n",
       "      <td>0.000029</td>\n",
       "      <td>0.000037</td>\n",
       "      <td>0.000024</td>\n",
       "      <td>0.000016</td>\n",
       "      <td>0.000030</td>\n",
       "      <td>0.000030</td>\n",
       "      <td>MILD</td>\n",
       "    </tr>\n",
       "    <tr>\n",
       "      <th>2</th>\n",
       "      <td>21</td>\n",
       "      <td>1</td>\n",
       "      <td>0.0</td>\n",
       "      <td>0.0</td>\n",
       "      <td>1.0</td>\n",
       "      <td>0.0</td>\n",
       "      <td>0.0</td>\n",
       "      <td>0.0</td>\n",
       "      <td>1.0</td>\n",
       "      <td>0.0</td>\n",
       "      <td>...</td>\n",
       "      <td>0.000021</td>\n",
       "      <td>0.000013</td>\n",
       "      <td>0.000002</td>\n",
       "      <td>0.000004</td>\n",
       "      <td>0.000005</td>\n",
       "      <td>0.000002</td>\n",
       "      <td>0.000008</td>\n",
       "      <td>0.000103</td>\n",
       "      <td>0.000002</td>\n",
       "      <td>MILD</td>\n",
       "    </tr>\n",
       "    <tr>\n",
       "      <th>5</th>\n",
       "      <td>62</td>\n",
       "      <td>1</td>\n",
       "      <td>0.0</td>\n",
       "      <td>1.0</td>\n",
       "      <td>1.0</td>\n",
       "      <td>0.0</td>\n",
       "      <td>0.0</td>\n",
       "      <td>1.0</td>\n",
       "      <td>0.0</td>\n",
       "      <td>1.0</td>\n",
       "      <td>...</td>\n",
       "      <td>0.000099</td>\n",
       "      <td>0.000079</td>\n",
       "      <td>0.000013</td>\n",
       "      <td>0.000012</td>\n",
       "      <td>0.000001</td>\n",
       "      <td>0.000062</td>\n",
       "      <td>0.000003</td>\n",
       "      <td>0.000089</td>\n",
       "      <td>0.000028</td>\n",
       "      <td>MILD</td>\n",
       "    </tr>\n",
       "    <tr>\n",
       "      <th>6</th>\n",
       "      <td>34</td>\n",
       "      <td>1</td>\n",
       "      <td>0.0</td>\n",
       "      <td>1.0</td>\n",
       "      <td>1.0</td>\n",
       "      <td>1.0</td>\n",
       "      <td>1.0</td>\n",
       "      <td>1.0</td>\n",
       "      <td>0.0</td>\n",
       "      <td>0.0</td>\n",
       "      <td>...</td>\n",
       "      <td>0.000025</td>\n",
       "      <td>0.000021</td>\n",
       "      <td>0.000017</td>\n",
       "      <td>0.000010</td>\n",
       "      <td>0.000022</td>\n",
       "      <td>0.000156</td>\n",
       "      <td>0.000015</td>\n",
       "      <td>0.000053</td>\n",
       "      <td>0.000007</td>\n",
       "      <td>SEVERE</td>\n",
       "    </tr>\n",
       "    <tr>\n",
       "      <th>8</th>\n",
       "      <td>42</td>\n",
       "      <td>0</td>\n",
       "      <td>0.0</td>\n",
       "      <td>1.0</td>\n",
       "      <td>1.0</td>\n",
       "      <td>0.0</td>\n",
       "      <td>0.0</td>\n",
       "      <td>1.0</td>\n",
       "      <td>0.0</td>\n",
       "      <td>0.0</td>\n",
       "      <td>...</td>\n",
       "      <td>0.000009</td>\n",
       "      <td>0.000153</td>\n",
       "      <td>0.000006</td>\n",
       "      <td>0.000046</td>\n",
       "      <td>0.000003</td>\n",
       "      <td>0.000017</td>\n",
       "      <td>0.000008</td>\n",
       "      <td>0.000110</td>\n",
       "      <td>0.000007</td>\n",
       "      <td>SEVERE</td>\n",
       "    </tr>\n",
       "  </tbody>\n",
       "</table>\n",
       "<p>5 rows × 650 columns</p>\n",
       "</div>"
      ],
      "text/plain": [
       "    Age (Y)  Sex  Fever  Cough  Headache  Sore throat  Muscle or Body Aches  \\\n",
       "ID                                                                            \n",
       "1        53    1    0.0    0.0       0.0          1.0                   0.0   \n",
       "2        21    1    0.0    0.0       1.0          0.0                   0.0   \n",
       "5        62    1    0.0    1.0       1.0          0.0                   0.0   \n",
       "6        34    1    0.0    1.0       1.0          1.0                   1.0   \n",
       "8        42    0    0.0    1.0       1.0          0.0                   0.0   \n",
       "\n",
       "    Fadigue  Congestion or runny nose  \\\n",
       "ID                                      \n",
       "1       1.0                       0.0   \n",
       "2       0.0                       1.0   \n",
       "5       1.0                       0.0   \n",
       "6       1.0                       0.0   \n",
       "8       1.0                       0.0   \n",
       "\n",
       "    Shortness of breath or difficulty breathing  ...  Freq.8943.76551923189  \\\n",
       "ID                                               ...                          \n",
       "1                                           0.0  ...               0.000017   \n",
       "2                                           0.0  ...               0.000021   \n",
       "5                                           1.0  ...               0.000099   \n",
       "6                                           0.0  ...               0.000025   \n",
       "8                                           0.0  ...               0.000009   \n",
       "\n",
       "    Freq.9058.85825530971  Freq.9098.58510797401  Freq.9437.74469644083  \\\n",
       "ID                                                                        \n",
       "1                0.000005               0.000020               0.000029   \n",
       "2                0.000013               0.000002               0.000004   \n",
       "5                0.000079               0.000013               0.000012   \n",
       "6                0.000021               0.000017               0.000010   \n",
       "8                0.000153               0.000006               0.000046   \n",
       "\n",
       "    Freq.9593.90405666006  Freq.9799.842201746  Freq.10432.4853106264  \\\n",
       "ID                                                                      \n",
       "1                0.000037             0.000024               0.000016   \n",
       "2                0.000005             0.000002               0.000008   \n",
       "5                0.000001             0.000062               0.000003   \n",
       "6                0.000022             0.000156               0.000015   \n",
       "8                0.000003             0.000017               0.000008   \n",
       "\n",
       "    Freq.11006.9514551194  Freq.11161.31855876   Group  \n",
       "ID                                                      \n",
       "1                0.000030             0.000030    MILD  \n",
       "2                0.000103             0.000002    MILD  \n",
       "5                0.000089             0.000028    MILD  \n",
       "6                0.000053             0.000007  SEVERE  \n",
       "8                0.000110             0.000007  SEVERE  \n",
       "\n",
       "[5 rows x 650 columns]"
      ]
     },
     "execution_count": 18,
     "metadata": {},
     "output_type": "execute_result"
    }
   ],
   "source": [
    "train_mod.head()"
   ]
  },
  {
   "cell_type": "markdown",
   "id": "70f65f1f",
   "metadata": {},
   "source": [
    "---"
   ]
  },
  {
   "cell_type": "markdown",
   "id": "2cc47ef4",
   "metadata": {},
   "source": [
    "### 3) Baseline Model Training and CV"
   ]
  },
  {
   "cell_type": "code",
   "execution_count": 37,
   "id": "adcaec69",
   "metadata": {},
   "outputs": [],
   "source": [
    "# Define Classifier (or pipeline)\n",
    "clf = RandomForestClassifier(random_state=SEED)"
   ]
  },
  {
   "cell_type": "code",
   "execution_count": 38,
   "id": "3de5c702",
   "metadata": {},
   "outputs": [],
   "source": [
    "# Get Features and Target\n",
    "X, y = train_mod.drop(\"Group\", axis=1), train_mod[\"Group\"]"
   ]
  },
  {
   "cell_type": "code",
   "execution_count": 39,
   "id": "2dbd6b39",
   "metadata": {},
   "outputs": [],
   "source": [
    "# Defining RepeatedKFold Cross Validator\n",
    "rkf = RepeatedKFold(n_splits=5, n_repeats=10, random_state=SEED)"
   ]
  },
  {
   "cell_type": "code",
   "execution_count": 40,
   "id": "356afa19",
   "metadata": {},
   "outputs": [],
   "source": [
    "# Define metric scorer\n",
    "metric_scorer = make_scorer(balanced_accuracy_score)"
   ]
  },
  {
   "cell_type": "code",
   "execution_count": 41,
   "id": "8258c5a6",
   "metadata": {},
   "outputs": [],
   "source": [
    "# Cross validate model\n",
    "scores = cross_val_score(clf, X, y, scoring=metric_scorer, cv=rkf, n_jobs=-1)"
   ]
  },
  {
   "cell_type": "code",
   "execution_count": 42,
   "id": "5e19c754",
   "metadata": {},
   "outputs": [
    {
     "data": {
      "text/plain": [
       "array([0.6       , 0.7518797 , 0.76875   , 0.66339869, 0.77777778,\n",
       "       0.61813187, 0.72222222, 0.74836601, 0.62727273, 0.69444444,\n",
       "       0.61111111, 0.76923077, 0.54761905, 0.73308271, 0.6372549 ,\n",
       "       0.75      , 0.65384615, 0.84722222, 0.67261905, 0.78571429,\n",
       "       0.7       , 0.69230769, 0.7593985 , 0.66666667, 0.61111111,\n",
       "       0.75      , 0.63636364, 0.55625   , 0.77272727, 0.65972222,\n",
       "       0.74117647, 0.52857143, 0.81875   , 0.64285714, 0.72727273,\n",
       "       0.75      , 0.55357143, 0.75      , 0.61111111, 0.65413534,\n",
       "       0.72222222, 0.89166667, 0.67857143, 0.71875   , 0.64848485,\n",
       "       0.58223684, 0.70606061, 0.70833333, 0.75238095, 0.64285714])"
      ]
     },
     "execution_count": 42,
     "metadata": {},
     "output_type": "execute_result"
    }
   ],
   "source": [
    "# Score from each CV Iteration\n",
    "scores"
   ]
  },
  {
   "cell_type": "code",
   "execution_count": 43,
   "id": "92335208",
   "metadata": {},
   "outputs": [
    {
     "data": {
      "text/plain": [
       "0.692270009574189"
      ]
     },
     "execution_count": 43,
     "metadata": {},
     "output_type": "execute_result"
    }
   ],
   "source": [
    "# Mean Metric Value\n",
    "np.mean(scores)"
   ]
  },
  {
   "cell_type": "markdown",
   "id": "8e848ed4",
   "metadata": {},
   "source": [
    "---"
   ]
  },
  {
   "cell_type": "markdown",
   "id": "58c49d27",
   "metadata": {},
   "source": [
    "### 4) Experiments"
   ]
  },
  {
   "cell_type": "markdown",
   "id": "8c019825",
   "metadata": {},
   "source": [
    "##### 4.1) Hyper Parameter Optimization with GridSearchCV"
   ]
  },
  {
   "cell_type": "code",
   "execution_count": 46,
   "id": "fac3358e",
   "metadata": {},
   "outputs": [],
   "source": [
    "# Define hyper parameters search space\n",
    "parameters = {\n",
    "    \"n_estimators\": [100, 500, 1000],\n",
    "    \"max_depth\": [5, 10, 20]\n",
    "}"
   ]
  },
  {
   "cell_type": "code",
   "execution_count": 50,
   "id": "ec1ffe97",
   "metadata": {},
   "outputs": [],
   "source": [
    "# Define new model (or pipeline) and Grid Search (could be Random Search or Optune as well) Object for HP Optimization\n",
    "clf = RandomForestClassifier(random_state=SEED)\n",
    "search = GridSearchCV(clf, parameters, scoring=metric_scorer, cv=rkf, verbose=3)"
   ]
  },
  {
   "cell_type": "code",
   "execution_count": null,
   "id": "3ffa9508",
   "metadata": {
    "scrolled": true
   },
   "outputs": [],
   "source": [
    "search.fit(X, y)"
   ]
  },
  {
   "cell_type": "code",
   "execution_count": 53,
   "id": "befc147e",
   "metadata": {},
   "outputs": [
    {
     "data": {
      "text/plain": [
       "0.6998807091171644"
      ]
     },
     "execution_count": 53,
     "metadata": {},
     "output_type": "execute_result"
    }
   ],
   "source": [
    "# Best Score\n",
    "search.best_score_"
   ]
  },
  {
   "cell_type": "code",
   "execution_count": 52,
   "id": "0dc2029c",
   "metadata": {},
   "outputs": [
    {
     "data": {
      "text/plain": [
       "{'max_depth': 5, 'n_estimators': 100}"
      ]
     },
     "execution_count": 52,
     "metadata": {},
     "output_type": "execute_result"
    }
   ],
   "source": [
    "# Best Params\n",
    "search.best_params_"
   ]
  }
 ],
 "metadata": {
  "kernelspec": {
   "display_name": "Python 3 (ipykernel)",
   "language": "python",
   "name": "python3"
  },
  "language_info": {
   "codemirror_mode": {
    "name": "ipython",
    "version": 3
   },
   "file_extension": ".py",
   "mimetype": "text/x-python",
   "name": "python",
   "nbconvert_exporter": "python",
   "pygments_lexer": "ipython3",
   "version": "3.9.7"
  }
 },
 "nbformat": 4,
 "nbformat_minor": 5
}
