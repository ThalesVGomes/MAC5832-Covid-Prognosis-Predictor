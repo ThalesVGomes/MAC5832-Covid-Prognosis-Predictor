{
 "cells": [
  {
   "cell_type": "markdown",
   "id": "44a0ae40",
   "metadata": {},
   "source": [
    "# Notebook to Implement Model Training - LGBM"
   ]
  },
  {
   "cell_type": "markdown",
   "id": "e47ad424",
   "metadata": {},
   "source": [
    "---"
   ]
  },
  {
   "cell_type": "markdown",
   "id": "58aabb6a",
   "metadata": {},
   "source": [
    "### 1) Setup"
   ]
  },
  {
   "cell_type": "code",
   "execution_count": 1,
   "id": "e33b8c0f",
   "metadata": {},
   "outputs": [],
   "source": [
    "# Imports\n",
    "import pandas as pd\n",
    "import numpy as np\n",
    "import matplotlib.pyplot as plt\n",
    "import seaborn as sns\n",
    "\n",
    "from sklearn.metrics import balanced_accuracy_score, make_scorer\n",
    "from sklearn.model_selection import RepeatedKFold, cross_val_score, GridSearchCV\n",
    "\n",
    "import optuna\n",
    "import lightgbm as lgb\n",
    "\n",
    "from sklearn.decomposition import PCA\n",
    "from sklearn.pipeline import Pipeline\n",
    "from sklearn.preprocessing import StandardScaler, MinMaxScaler, RobustScaler\n",
    "\n",
    "from sklearn.ensemble import RandomForestClassifier\n",
    "from boruta import BorutaPy"
   ]
  },
  {
   "cell_type": "code",
   "execution_count": 2,
   "id": "1028d840",
   "metadata": {},
   "outputs": [],
   "source": [
    "SEED = 42"
   ]
  },
  {
   "cell_type": "code",
   "execution_count": 3,
   "id": "c2e29d7c",
   "metadata": {},
   "outputs": [],
   "source": [
    "TRAIN_CLINICAL_FILENAME = \"train_set_clinical.csv\"\n",
    "TEST_CLINICAL_FILENAME = \"test_set_clinical.csv\""
   ]
  },
  {
   "cell_type": "markdown",
   "id": "84adf36c",
   "metadata": {},
   "source": [
    "---"
   ]
  },
  {
   "cell_type": "markdown",
   "id": "f9589ede",
   "metadata": {},
   "source": [
    "### 2) Read and Preprocess Data"
   ]
  },
  {
   "cell_type": "code",
   "execution_count": 4,
   "id": "a841c96a",
   "metadata": {},
   "outputs": [],
   "source": [
    "train = pd.read_csv(TRAIN_CLINICAL_FILENAME, sep=\";\", index_col=\"ID\")"
   ]
  },
  {
   "cell_type": "code",
   "execution_count": 5,
   "id": "dfe72ece",
   "metadata": {},
   "outputs": [
    {
     "data": {
      "text/plain": [
       "(132, 650)"
      ]
     },
     "execution_count": 5,
     "metadata": {},
     "output_type": "execute_result"
    }
   ],
   "source": [
    "train.shape"
   ]
  },
  {
   "cell_type": "code",
   "execution_count": 6,
   "id": "be41efe6",
   "metadata": {},
   "outputs": [
    {
     "data": {
      "text/html": [
       "<div>\n",
       "<style scoped>\n",
       "    .dataframe tbody tr th:only-of-type {\n",
       "        vertical-align: middle;\n",
       "    }\n",
       "\n",
       "    .dataframe tbody tr th {\n",
       "        vertical-align: top;\n",
       "    }\n",
       "\n",
       "    .dataframe thead th {\n",
       "        text-align: right;\n",
       "    }\n",
       "</style>\n",
       "<table border=\"1\" class=\"dataframe\">\n",
       "  <thead>\n",
       "    <tr style=\"text-align: right;\">\n",
       "      <th></th>\n",
       "      <th>Age (Y)</th>\n",
       "      <th>Sex</th>\n",
       "      <th>Fever</th>\n",
       "      <th>Cough</th>\n",
       "      <th>Headache</th>\n",
       "      <th>Sore throat</th>\n",
       "      <th>Muscle or Body Aches</th>\n",
       "      <th>Fadigue</th>\n",
       "      <th>Congestion or runny nose</th>\n",
       "      <th>Shortness of breath or difficulty breathing</th>\n",
       "      <th>...</th>\n",
       "      <th>Freq.8943.76551923189</th>\n",
       "      <th>Freq.9058.85825530971</th>\n",
       "      <th>Freq.9098.58510797401</th>\n",
       "      <th>Freq.9437.74469644083</th>\n",
       "      <th>Freq.9593.90405666006</th>\n",
       "      <th>Freq.9799.842201746</th>\n",
       "      <th>Freq.10432.4853106264</th>\n",
       "      <th>Freq.11006.9514551194</th>\n",
       "      <th>Freq.11161.31855876</th>\n",
       "      <th>Group</th>\n",
       "    </tr>\n",
       "    <tr>\n",
       "      <th>ID</th>\n",
       "      <th></th>\n",
       "      <th></th>\n",
       "      <th></th>\n",
       "      <th></th>\n",
       "      <th></th>\n",
       "      <th></th>\n",
       "      <th></th>\n",
       "      <th></th>\n",
       "      <th></th>\n",
       "      <th></th>\n",
       "      <th></th>\n",
       "      <th></th>\n",
       "      <th></th>\n",
       "      <th></th>\n",
       "      <th></th>\n",
       "      <th></th>\n",
       "      <th></th>\n",
       "      <th></th>\n",
       "      <th></th>\n",
       "      <th></th>\n",
       "      <th></th>\n",
       "    </tr>\n",
       "  </thead>\n",
       "  <tbody>\n",
       "    <tr>\n",
       "      <th>1</th>\n",
       "      <td>53</td>\n",
       "      <td>F</td>\n",
       "      <td>0.0</td>\n",
       "      <td>0.0</td>\n",
       "      <td>0.0</td>\n",
       "      <td>1.0</td>\n",
       "      <td>0.0</td>\n",
       "      <td>1.0</td>\n",
       "      <td>0.0</td>\n",
       "      <td>0.0</td>\n",
       "      <td>...</td>\n",
       "      <td>0.000017</td>\n",
       "      <td>0.000005</td>\n",
       "      <td>0.000020</td>\n",
       "      <td>0.000029</td>\n",
       "      <td>0.000037</td>\n",
       "      <td>0.000024</td>\n",
       "      <td>0.000016</td>\n",
       "      <td>0.000030</td>\n",
       "      <td>0.000030</td>\n",
       "      <td>MILD</td>\n",
       "    </tr>\n",
       "    <tr>\n",
       "      <th>2</th>\n",
       "      <td>21</td>\n",
       "      <td>F</td>\n",
       "      <td>0.0</td>\n",
       "      <td>0.0</td>\n",
       "      <td>1.0</td>\n",
       "      <td>0.0</td>\n",
       "      <td>0.0</td>\n",
       "      <td>0.0</td>\n",
       "      <td>1.0</td>\n",
       "      <td>0.0</td>\n",
       "      <td>...</td>\n",
       "      <td>0.000021</td>\n",
       "      <td>0.000013</td>\n",
       "      <td>0.000002</td>\n",
       "      <td>0.000004</td>\n",
       "      <td>0.000005</td>\n",
       "      <td>0.000002</td>\n",
       "      <td>0.000008</td>\n",
       "      <td>0.000103</td>\n",
       "      <td>0.000002</td>\n",
       "      <td>MILD</td>\n",
       "    </tr>\n",
       "    <tr>\n",
       "      <th>5</th>\n",
       "      <td>62</td>\n",
       "      <td>F</td>\n",
       "      <td>0.0</td>\n",
       "      <td>1.0</td>\n",
       "      <td>1.0</td>\n",
       "      <td>0.0</td>\n",
       "      <td>0.0</td>\n",
       "      <td>1.0</td>\n",
       "      <td>0.0</td>\n",
       "      <td>1.0</td>\n",
       "      <td>...</td>\n",
       "      <td>0.000099</td>\n",
       "      <td>0.000079</td>\n",
       "      <td>0.000013</td>\n",
       "      <td>0.000012</td>\n",
       "      <td>0.000001</td>\n",
       "      <td>0.000062</td>\n",
       "      <td>0.000003</td>\n",
       "      <td>0.000089</td>\n",
       "      <td>0.000028</td>\n",
       "      <td>MILD</td>\n",
       "    </tr>\n",
       "    <tr>\n",
       "      <th>6</th>\n",
       "      <td>34</td>\n",
       "      <td>F</td>\n",
       "      <td>0.0</td>\n",
       "      <td>1.0</td>\n",
       "      <td>1.0</td>\n",
       "      <td>1.0</td>\n",
       "      <td>1.0</td>\n",
       "      <td>1.0</td>\n",
       "      <td>0.0</td>\n",
       "      <td>0.0</td>\n",
       "      <td>...</td>\n",
       "      <td>0.000025</td>\n",
       "      <td>0.000021</td>\n",
       "      <td>0.000017</td>\n",
       "      <td>0.000010</td>\n",
       "      <td>0.000022</td>\n",
       "      <td>0.000156</td>\n",
       "      <td>0.000015</td>\n",
       "      <td>0.000053</td>\n",
       "      <td>0.000007</td>\n",
       "      <td>SEVERE</td>\n",
       "    </tr>\n",
       "    <tr>\n",
       "      <th>8</th>\n",
       "      <td>42</td>\n",
       "      <td>M</td>\n",
       "      <td>0.0</td>\n",
       "      <td>1.0</td>\n",
       "      <td>1.0</td>\n",
       "      <td>0.0</td>\n",
       "      <td>0.0</td>\n",
       "      <td>1.0</td>\n",
       "      <td>0.0</td>\n",
       "      <td>0.0</td>\n",
       "      <td>...</td>\n",
       "      <td>0.000009</td>\n",
       "      <td>0.000153</td>\n",
       "      <td>0.000006</td>\n",
       "      <td>0.000046</td>\n",
       "      <td>0.000003</td>\n",
       "      <td>0.000017</td>\n",
       "      <td>0.000008</td>\n",
       "      <td>0.000110</td>\n",
       "      <td>0.000007</td>\n",
       "      <td>SEVERE</td>\n",
       "    </tr>\n",
       "  </tbody>\n",
       "</table>\n",
       "<p>5 rows × 650 columns</p>\n",
       "</div>"
      ],
      "text/plain": [
       "    Age (Y) Sex  Fever  Cough  Headache  Sore throat  Muscle or Body Aches  \\\n",
       "ID                                                                           \n",
       "1        53   F    0.0    0.0       0.0          1.0                   0.0   \n",
       "2        21   F    0.0    0.0       1.0          0.0                   0.0   \n",
       "5        62   F    0.0    1.0       1.0          0.0                   0.0   \n",
       "6        34   F    0.0    1.0       1.0          1.0                   1.0   \n",
       "8        42   M    0.0    1.0       1.0          0.0                   0.0   \n",
       "\n",
       "    Fadigue  Congestion or runny nose  \\\n",
       "ID                                      \n",
       "1       1.0                       0.0   \n",
       "2       0.0                       1.0   \n",
       "5       1.0                       0.0   \n",
       "6       1.0                       0.0   \n",
       "8       1.0                       0.0   \n",
       "\n",
       "    Shortness of breath or difficulty breathing  ...  Freq.8943.76551923189  \\\n",
       "ID                                               ...                          \n",
       "1                                           0.0  ...               0.000017   \n",
       "2                                           0.0  ...               0.000021   \n",
       "5                                           1.0  ...               0.000099   \n",
       "6                                           0.0  ...               0.000025   \n",
       "8                                           0.0  ...               0.000009   \n",
       "\n",
       "    Freq.9058.85825530971  Freq.9098.58510797401  Freq.9437.74469644083  \\\n",
       "ID                                                                        \n",
       "1                0.000005               0.000020               0.000029   \n",
       "2                0.000013               0.000002               0.000004   \n",
       "5                0.000079               0.000013               0.000012   \n",
       "6                0.000021               0.000017               0.000010   \n",
       "8                0.000153               0.000006               0.000046   \n",
       "\n",
       "    Freq.9593.90405666006  Freq.9799.842201746  Freq.10432.4853106264  \\\n",
       "ID                                                                      \n",
       "1                0.000037             0.000024               0.000016   \n",
       "2                0.000005             0.000002               0.000008   \n",
       "5                0.000001             0.000062               0.000003   \n",
       "6                0.000022             0.000156               0.000015   \n",
       "8                0.000003             0.000017               0.000008   \n",
       "\n",
       "    Freq.11006.9514551194  Freq.11161.31855876   Group  \n",
       "ID                                                      \n",
       "1                0.000030             0.000030    MILD  \n",
       "2                0.000103             0.000002    MILD  \n",
       "5                0.000089             0.000028    MILD  \n",
       "6                0.000053             0.000007  SEVERE  \n",
       "8                0.000110             0.000007  SEVERE  \n",
       "\n",
       "[5 rows x 650 columns]"
      ]
     },
     "execution_count": 6,
     "metadata": {},
     "output_type": "execute_result"
    }
   ],
   "source": [
    "train.head()"
   ]
  },
  {
   "cell_type": "code",
   "execution_count": 7,
   "id": "646285c1",
   "metadata": {},
   "outputs": [],
   "source": [
    "##### Preprocessing\n",
    "\n",
    "train_mod = train.copy()\n",
    "# Drop NaN Values \n",
    "train_mod.dropna(inplace=True)\n",
    "# Convert Sex column to boolean (Female: 1, Male: 0)\n",
    "train_mod[\"Sex\"] = np.where(train_mod[\"Sex\"]==\"F\", 1, 0)"
   ]
  },
  {
   "cell_type": "code",
   "execution_count": 8,
   "id": "b27da16d",
   "metadata": {},
   "outputs": [
    {
     "data": {
      "text/plain": [
       "(131, 650)"
      ]
     },
     "execution_count": 8,
     "metadata": {},
     "output_type": "execute_result"
    }
   ],
   "source": [
    "train_mod.shape"
   ]
  },
  {
   "cell_type": "code",
   "execution_count": 9,
   "id": "81e259a5",
   "metadata": {
    "scrolled": true
   },
   "outputs": [
    {
     "data": {
      "text/html": [
       "<div>\n",
       "<style scoped>\n",
       "    .dataframe tbody tr th:only-of-type {\n",
       "        vertical-align: middle;\n",
       "    }\n",
       "\n",
       "    .dataframe tbody tr th {\n",
       "        vertical-align: top;\n",
       "    }\n",
       "\n",
       "    .dataframe thead th {\n",
       "        text-align: right;\n",
       "    }\n",
       "</style>\n",
       "<table border=\"1\" class=\"dataframe\">\n",
       "  <thead>\n",
       "    <tr style=\"text-align: right;\">\n",
       "      <th></th>\n",
       "      <th>Age (Y)</th>\n",
       "      <th>Sex</th>\n",
       "      <th>Fever</th>\n",
       "      <th>Cough</th>\n",
       "      <th>Headache</th>\n",
       "      <th>Sore throat</th>\n",
       "      <th>Muscle or Body Aches</th>\n",
       "      <th>Fadigue</th>\n",
       "      <th>Congestion or runny nose</th>\n",
       "      <th>Shortness of breath or difficulty breathing</th>\n",
       "      <th>...</th>\n",
       "      <th>Freq.8943.76551923189</th>\n",
       "      <th>Freq.9058.85825530971</th>\n",
       "      <th>Freq.9098.58510797401</th>\n",
       "      <th>Freq.9437.74469644083</th>\n",
       "      <th>Freq.9593.90405666006</th>\n",
       "      <th>Freq.9799.842201746</th>\n",
       "      <th>Freq.10432.4853106264</th>\n",
       "      <th>Freq.11006.9514551194</th>\n",
       "      <th>Freq.11161.31855876</th>\n",
       "      <th>Group</th>\n",
       "    </tr>\n",
       "    <tr>\n",
       "      <th>ID</th>\n",
       "      <th></th>\n",
       "      <th></th>\n",
       "      <th></th>\n",
       "      <th></th>\n",
       "      <th></th>\n",
       "      <th></th>\n",
       "      <th></th>\n",
       "      <th></th>\n",
       "      <th></th>\n",
       "      <th></th>\n",
       "      <th></th>\n",
       "      <th></th>\n",
       "      <th></th>\n",
       "      <th></th>\n",
       "      <th></th>\n",
       "      <th></th>\n",
       "      <th></th>\n",
       "      <th></th>\n",
       "      <th></th>\n",
       "      <th></th>\n",
       "      <th></th>\n",
       "    </tr>\n",
       "  </thead>\n",
       "  <tbody>\n",
       "    <tr>\n",
       "      <th>1</th>\n",
       "      <td>53</td>\n",
       "      <td>1</td>\n",
       "      <td>0.0</td>\n",
       "      <td>0.0</td>\n",
       "      <td>0.0</td>\n",
       "      <td>1.0</td>\n",
       "      <td>0.0</td>\n",
       "      <td>1.0</td>\n",
       "      <td>0.0</td>\n",
       "      <td>0.0</td>\n",
       "      <td>...</td>\n",
       "      <td>0.000017</td>\n",
       "      <td>0.000005</td>\n",
       "      <td>0.000020</td>\n",
       "      <td>0.000029</td>\n",
       "      <td>0.000037</td>\n",
       "      <td>0.000024</td>\n",
       "      <td>0.000016</td>\n",
       "      <td>0.000030</td>\n",
       "      <td>0.000030</td>\n",
       "      <td>MILD</td>\n",
       "    </tr>\n",
       "    <tr>\n",
       "      <th>2</th>\n",
       "      <td>21</td>\n",
       "      <td>1</td>\n",
       "      <td>0.0</td>\n",
       "      <td>0.0</td>\n",
       "      <td>1.0</td>\n",
       "      <td>0.0</td>\n",
       "      <td>0.0</td>\n",
       "      <td>0.0</td>\n",
       "      <td>1.0</td>\n",
       "      <td>0.0</td>\n",
       "      <td>...</td>\n",
       "      <td>0.000021</td>\n",
       "      <td>0.000013</td>\n",
       "      <td>0.000002</td>\n",
       "      <td>0.000004</td>\n",
       "      <td>0.000005</td>\n",
       "      <td>0.000002</td>\n",
       "      <td>0.000008</td>\n",
       "      <td>0.000103</td>\n",
       "      <td>0.000002</td>\n",
       "      <td>MILD</td>\n",
       "    </tr>\n",
       "    <tr>\n",
       "      <th>5</th>\n",
       "      <td>62</td>\n",
       "      <td>1</td>\n",
       "      <td>0.0</td>\n",
       "      <td>1.0</td>\n",
       "      <td>1.0</td>\n",
       "      <td>0.0</td>\n",
       "      <td>0.0</td>\n",
       "      <td>1.0</td>\n",
       "      <td>0.0</td>\n",
       "      <td>1.0</td>\n",
       "      <td>...</td>\n",
       "      <td>0.000099</td>\n",
       "      <td>0.000079</td>\n",
       "      <td>0.000013</td>\n",
       "      <td>0.000012</td>\n",
       "      <td>0.000001</td>\n",
       "      <td>0.000062</td>\n",
       "      <td>0.000003</td>\n",
       "      <td>0.000089</td>\n",
       "      <td>0.000028</td>\n",
       "      <td>MILD</td>\n",
       "    </tr>\n",
       "    <tr>\n",
       "      <th>6</th>\n",
       "      <td>34</td>\n",
       "      <td>1</td>\n",
       "      <td>0.0</td>\n",
       "      <td>1.0</td>\n",
       "      <td>1.0</td>\n",
       "      <td>1.0</td>\n",
       "      <td>1.0</td>\n",
       "      <td>1.0</td>\n",
       "      <td>0.0</td>\n",
       "      <td>0.0</td>\n",
       "      <td>...</td>\n",
       "      <td>0.000025</td>\n",
       "      <td>0.000021</td>\n",
       "      <td>0.000017</td>\n",
       "      <td>0.000010</td>\n",
       "      <td>0.000022</td>\n",
       "      <td>0.000156</td>\n",
       "      <td>0.000015</td>\n",
       "      <td>0.000053</td>\n",
       "      <td>0.000007</td>\n",
       "      <td>SEVERE</td>\n",
       "    </tr>\n",
       "    <tr>\n",
       "      <th>8</th>\n",
       "      <td>42</td>\n",
       "      <td>0</td>\n",
       "      <td>0.0</td>\n",
       "      <td>1.0</td>\n",
       "      <td>1.0</td>\n",
       "      <td>0.0</td>\n",
       "      <td>0.0</td>\n",
       "      <td>1.0</td>\n",
       "      <td>0.0</td>\n",
       "      <td>0.0</td>\n",
       "      <td>...</td>\n",
       "      <td>0.000009</td>\n",
       "      <td>0.000153</td>\n",
       "      <td>0.000006</td>\n",
       "      <td>0.000046</td>\n",
       "      <td>0.000003</td>\n",
       "      <td>0.000017</td>\n",
       "      <td>0.000008</td>\n",
       "      <td>0.000110</td>\n",
       "      <td>0.000007</td>\n",
       "      <td>SEVERE</td>\n",
       "    </tr>\n",
       "  </tbody>\n",
       "</table>\n",
       "<p>5 rows × 650 columns</p>\n",
       "</div>"
      ],
      "text/plain": [
       "    Age (Y)  Sex  Fever  Cough  Headache  Sore throat  Muscle or Body Aches  \\\n",
       "ID                                                                            \n",
       "1        53    1    0.0    0.0       0.0          1.0                   0.0   \n",
       "2        21    1    0.0    0.0       1.0          0.0                   0.0   \n",
       "5        62    1    0.0    1.0       1.0          0.0                   0.0   \n",
       "6        34    1    0.0    1.0       1.0          1.0                   1.0   \n",
       "8        42    0    0.0    1.0       1.0          0.0                   0.0   \n",
       "\n",
       "    Fadigue  Congestion or runny nose  \\\n",
       "ID                                      \n",
       "1       1.0                       0.0   \n",
       "2       0.0                       1.0   \n",
       "5       1.0                       0.0   \n",
       "6       1.0                       0.0   \n",
       "8       1.0                       0.0   \n",
       "\n",
       "    Shortness of breath or difficulty breathing  ...  Freq.8943.76551923189  \\\n",
       "ID                                               ...                          \n",
       "1                                           0.0  ...               0.000017   \n",
       "2                                           0.0  ...               0.000021   \n",
       "5                                           1.0  ...               0.000099   \n",
       "6                                           0.0  ...               0.000025   \n",
       "8                                           0.0  ...               0.000009   \n",
       "\n",
       "    Freq.9058.85825530971  Freq.9098.58510797401  Freq.9437.74469644083  \\\n",
       "ID                                                                        \n",
       "1                0.000005               0.000020               0.000029   \n",
       "2                0.000013               0.000002               0.000004   \n",
       "5                0.000079               0.000013               0.000012   \n",
       "6                0.000021               0.000017               0.000010   \n",
       "8                0.000153               0.000006               0.000046   \n",
       "\n",
       "    Freq.9593.90405666006  Freq.9799.842201746  Freq.10432.4853106264  \\\n",
       "ID                                                                      \n",
       "1                0.000037             0.000024               0.000016   \n",
       "2                0.000005             0.000002               0.000008   \n",
       "5                0.000001             0.000062               0.000003   \n",
       "6                0.000022             0.000156               0.000015   \n",
       "8                0.000003             0.000017               0.000008   \n",
       "\n",
       "    Freq.11006.9514551194  Freq.11161.31855876   Group  \n",
       "ID                                                      \n",
       "1                0.000030             0.000030    MILD  \n",
       "2                0.000103             0.000002    MILD  \n",
       "5                0.000089             0.000028    MILD  \n",
       "6                0.000053             0.000007  SEVERE  \n",
       "8                0.000110             0.000007  SEVERE  \n",
       "\n",
       "[5 rows x 650 columns]"
      ]
     },
     "execution_count": 9,
     "metadata": {},
     "output_type": "execute_result"
    }
   ],
   "source": [
    "train_mod.head()"
   ]
  },
  {
   "cell_type": "markdown",
   "id": "70f65f1f",
   "metadata": {},
   "source": [
    "---"
   ]
  },
  {
   "cell_type": "markdown",
   "id": "2cc47ef4",
   "metadata": {},
   "source": [
    "### 3) Baseline Model Training and CV"
   ]
  },
  {
   "cell_type": "code",
   "execution_count": 10,
   "id": "adcaec69",
   "metadata": {},
   "outputs": [],
   "source": [
    "# Define Classifier (or pipeline)\n",
    "clf = lgb.LGBMClassifier(random_state=SEED)"
   ]
  },
  {
   "cell_type": "code",
   "execution_count": 11,
   "id": "3de5c702",
   "metadata": {},
   "outputs": [],
   "source": [
    "# Get Features and Target\n",
    "X, y = train_mod.drop(\"Group\", axis=1), train_mod[\"Group\"]"
   ]
  },
  {
   "cell_type": "code",
   "execution_count": 12,
   "id": "2dbd6b39",
   "metadata": {},
   "outputs": [],
   "source": [
    "# Defining RepeatedKFold Cross Validator\n",
    "rkf = RepeatedKFold(n_splits=5, n_repeats=10, random_state=SEED)"
   ]
  },
  {
   "cell_type": "code",
   "execution_count": 13,
   "id": "356afa19",
   "metadata": {},
   "outputs": [],
   "source": [
    "# Define metric scorer\n",
    "metric_scorer = make_scorer(balanced_accuracy_score)"
   ]
  },
  {
   "cell_type": "code",
   "execution_count": 14,
   "id": "8258c5a6",
   "metadata": {},
   "outputs": [],
   "source": [
    "# Cross validate model\n",
    "scores = cross_val_score(clf, X, y, scoring=metric_scorer, cv=rkf, n_jobs=-1)"
   ]
  },
  {
   "cell_type": "code",
   "execution_count": 15,
   "id": "5e19c754",
   "metadata": {},
   "outputs": [
    {
     "data": {
      "text/plain": [
       "array([0.75833333, 0.79699248, 0.76875   , 0.71895425, 0.85947712,\n",
       "       0.73901099, 0.71568627, 0.94444444, 0.70606061, 0.79166667,\n",
       "       0.88888889, 0.80769231, 0.67261905, 0.7593985 , 0.83333333,\n",
       "       0.87058824, 0.69230769, 0.76388889, 0.875     , 0.73308271,\n",
       "       0.72058824, 0.73076923, 0.80451128, 0.79761905, 0.64583333,\n",
       "       0.87058824, 0.62727273, 0.75625   , 0.86363636, 0.75694444,\n",
       "       0.79117647, 0.65238095, 0.675     , 0.74404762, 0.81818182,\n",
       "       0.725     , 0.80357143, 0.85      , 0.72222222, 0.72556391,\n",
       "       0.86111111, 0.89166667, 0.73809524, 0.6875    , 0.75151515,\n",
       "       0.70723684, 0.84242424, 0.68452381, 0.82857143, 0.75      ])"
      ]
     },
     "execution_count": 15,
     "metadata": {},
     "output_type": "execute_result"
    }
   ],
   "source": [
    "# Score from each CV Iteration\n",
    "scores"
   ]
  },
  {
   "cell_type": "code",
   "execution_count": 16,
   "id": "92335208",
   "metadata": {},
   "outputs": [
    {
     "data": {
      "text/plain": [
       "0.7703995514289632"
      ]
     },
     "execution_count": 16,
     "metadata": {},
     "output_type": "execute_result"
    }
   ],
   "source": [
    "# Mean Metric Value\n",
    "np.mean(scores)"
   ]
  },
  {
   "cell_type": "markdown",
   "id": "8e848ed4",
   "metadata": {},
   "source": [
    "---"
   ]
  },
  {
   "cell_type": "markdown",
   "id": "58c49d27",
   "metadata": {},
   "source": [
    "### 4) Experiments"
   ]
  },
  {
   "cell_type": "markdown",
   "id": "8c019825",
   "metadata": {},
   "source": [
    "##### 4.1) Hyper Parameter Optimization with Optuna"
   ]
  },
  {
   "cell_type": "code",
   "execution_count": 17,
   "id": "fac3358e",
   "metadata": {},
   "outputs": [],
   "source": [
    "# Define objectiva funtion to maximize metric\n",
    "def objective(trial):\n",
    "    \n",
    "    # Hyper Parameter Grid\n",
    "    param = {\n",
    "        \"objective\": \"binary\",\n",
    "        \"metric\": \"binary_logloss\",\n",
    "        \"verbosity\": -1,\n",
    "        \"boosting_type\": \"gbdt\",\n",
    "        \"lambda_l1\": trial.suggest_float(\"lambda_l1\", 1e-8, 10.0, log=True),\n",
    "        \"lambda_l2\": trial.suggest_float(\"lambda_l2\", 1e-8, 10.0, log=True),\n",
    "        \"num_leaves\": trial.suggest_int(\"num_leaves\", 2, 256),\n",
    "        \"feature_fraction\": trial.suggest_float(\"feature_fraction\", 0.4, 1.0),\n",
    "        \"bagging_fraction\": trial.suggest_float(\"bagging_fraction\", 0.4, 1.0),\n",
    "        \"bagging_freq\": trial.suggest_int(\"bagging_freq\", 1, 7),\n",
    "        \"min_child_samples\": trial.suggest_int(\"min_child_samples\", 5, 100),\n",
    "        \"n_estimators\": trial.suggest_int(\"max_depth\", 100, 1000)\n",
    "    }\n",
    "    # Create model with param trial\n",
    "    clf = lgb.LGBMClassifier(random_state=SEED, **param)\n",
    "    # Get CV Metric we want to maximize\n",
    "    balanced_accuracy = np.mean(cross_val_score(clf, X, y, scoring=metric_scorer, cv=rkf, n_jobs=-1))\n",
    "    \n",
    "    return balanced_accuracy"
   ]
  },
  {
   "cell_type": "code",
   "execution_count": 18,
   "id": "a1574fcb",
   "metadata": {},
   "outputs": [
    {
     "name": "stderr",
     "output_type": "stream",
     "text": [
      "\u001b[32m[I 2022-06-07 21:33:10,292]\u001b[0m A new study created in memory with name: no-name-8dc14008-d12f-4d4a-9f86-4896d741ebc6\u001b[0m\n"
     ]
    }
   ],
   "source": [
    "study = optuna.create_study(direction=\"maximize\")"
   ]
  },
  {
   "cell_type": "code",
   "execution_count": null,
   "id": "03e01408",
   "metadata": {
    "scrolled": true
   },
   "outputs": [],
   "source": [
    "study.optimize(objective, n_trials=500)"
   ]
  },
  {
   "cell_type": "code",
   "execution_count": 20,
   "id": "055b7aae",
   "metadata": {},
   "outputs": [],
   "source": [
    "# Get best trial based on metric score\n",
    "trial = study.best_trial"
   ]
  },
  {
   "cell_type": "code",
   "execution_count": 21,
   "id": "96818657",
   "metadata": {},
   "outputs": [
    {
     "name": "stdout",
     "output_type": "stream",
     "text": [
      "    lambda_l1: 1.906040265636331e-06\n",
      "    lambda_l2: 0.00013566593007094776\n",
      "    num_leaves: 103\n",
      "    feature_fraction: 0.9084190810467557\n",
      "    bagging_fraction: 0.793872889712087\n",
      "    bagging_freq: 2\n",
      "    min_child_samples: 32\n",
      "    max_depth: 891\n"
     ]
    }
   ],
   "source": [
    "# Print params for best trial\n",
    "for key, value in trial.params.items():\n",
    "    print(\"    {}: {}\".format(key, value))"
   ]
  },
  {
   "cell_type": "code",
   "execution_count": 22,
   "id": "2f3afdcc",
   "metadata": {},
   "outputs": [
    {
     "data": {
      "text/plain": [
       "0.8481697872990442"
      ]
     },
     "execution_count": 22,
     "metadata": {},
     "output_type": "execute_result"
    }
   ],
   "source": [
    "# Best Score from HP Opt\n",
    "trial.values[0]"
   ]
  },
  {
   "cell_type": "markdown",
   "id": "5d878a6b",
   "metadata": {},
   "source": [
    "- Aumento de performance considerável em relação ao valor baseline para um LGBM"
   ]
  },
  {
   "cell_type": "markdown",
   "id": "a642b35f",
   "metadata": {},
   "source": [
    "##### 4.2) PCA Dimension Reduction + Hyper Parameter Optimization with Optuna"
   ]
  },
  {
   "cell_type": "code",
   "execution_count": 23,
   "id": "ea04ed14",
   "metadata": {},
   "outputs": [],
   "source": [
    "# Define objectiva funtion to maximize metric\n",
    "def objective(trial):\n",
    "    \n",
    "    # PCA Parameter Grid\n",
    "    pca_param = {\n",
    "        \"n_components\": trial.suggest_int(\"n_components\", 5, 100)\n",
    "    }\n",
    "    # Hyper Parameter Grid\n",
    "    param = {\n",
    "        \"objective\": \"binary\",\n",
    "        \"metric\": \"binary_logloss\",\n",
    "        \"verbosity\": -1,\n",
    "        \"boosting_type\": \"gbdt\",\n",
    "        \"lambda_l1\": trial.suggest_float(\"lambda_l1\", 1e-8, 10.0, log=True),\n",
    "        \"lambda_l2\": trial.suggest_float(\"lambda_l2\", 1e-8, 10.0, log=True),\n",
    "        \"num_leaves\": trial.suggest_int(\"num_leaves\", 2, 256),\n",
    "        \"feature_fraction\": trial.suggest_float(\"feature_fraction\", 0.4, 1.0),\n",
    "        \"bagging_fraction\": trial.suggest_float(\"bagging_fraction\", 0.4, 1.0),\n",
    "        \"bagging_freq\": trial.suggest_int(\"bagging_freq\", 1, 7),\n",
    "        \"min_child_samples\": trial.suggest_int(\"min_child_samples\", 5, 100),\n",
    "        \"n_estimators\": trial.suggest_int(\"max_depth\", 100, 1000)\n",
    "    }\n",
    "    # Create model pipeline with param trial\n",
    "    clf = Pipeline([(\"pca\", PCA(**pca_param)),\n",
    "                    (\"lgbm_clf\", lgb.LGBMClassifier(random_state=SEED, **param))])\n",
    "    # Get CV Metric we want to maximize\n",
    "    balanced_accuracy = np.mean(cross_val_score(clf, X, y, scoring=metric_scorer, cv=rkf, n_jobs=-1))\n",
    "    \n",
    "    return balanced_accuracy"
   ]
  },
  {
   "cell_type": "code",
   "execution_count": 24,
   "id": "9d8c7fab",
   "metadata": {},
   "outputs": [
    {
     "name": "stderr",
     "output_type": "stream",
     "text": [
      "\u001b[32m[I 2022-06-07 22:03:03,265]\u001b[0m A new study created in memory with name: no-name-093fcda5-6d53-4232-a790-502672351a7d\u001b[0m\n"
     ]
    }
   ],
   "source": [
    "study = optuna.create_study(direction=\"maximize\")"
   ]
  },
  {
   "cell_type": "code",
   "execution_count": null,
   "id": "f5b1c8f5",
   "metadata": {
    "scrolled": false
   },
   "outputs": [],
   "source": [
    "study.optimize(objective, n_trials=500)"
   ]
  },
  {
   "cell_type": "code",
   "execution_count": 26,
   "id": "2de6ae10",
   "metadata": {},
   "outputs": [],
   "source": [
    "# Get best trial based on metric score\n",
    "trial = study.best_trial"
   ]
  },
  {
   "cell_type": "code",
   "execution_count": 27,
   "id": "89bdb921",
   "metadata": {},
   "outputs": [
    {
     "name": "stdout",
     "output_type": "stream",
     "text": [
      "    n_components: 98\n",
      "    lambda_l1: 4.997984938308335e-06\n",
      "    lambda_l2: 9.51579276153768e-06\n",
      "    num_leaves: 44\n",
      "    feature_fraction: 0.5421454819677247\n",
      "    bagging_fraction: 0.48235662397332973\n",
      "    bagging_freq: 4\n",
      "    min_child_samples: 8\n",
      "    max_depth: 563\n"
     ]
    }
   ],
   "source": [
    "# Print params for best trial\n",
    "for key, value in trial.params.items():\n",
    "    print(\"    {}: {}\".format(key, value))"
   ]
  },
  {
   "cell_type": "code",
   "execution_count": 28,
   "id": "1afe3420",
   "metadata": {},
   "outputs": [
    {
     "data": {
      "text/plain": [
       "0.7134464057614213"
      ]
     },
     "execution_count": 28,
     "metadata": {},
     "output_type": "execute_result"
    }
   ],
   "source": [
    "# Best Score from HP Opt\n",
    "trial.values[0]"
   ]
  },
  {
   "cell_type": "markdown",
   "id": "152d13a2",
   "metadata": {},
   "source": [
    "- Utilizar redução de dimensionalidade via PCA piorou bastante a performance do modelo"
   ]
  },
  {
   "cell_type": "markdown",
   "id": "ad983cfc",
   "metadata": {},
   "source": [
    "##### 4.3) Features Scaler + Hyper Parameter Optimization with Optuna"
   ]
  },
  {
   "cell_type": "code",
   "execution_count": 29,
   "id": "417135dc",
   "metadata": {},
   "outputs": [],
   "source": [
    "# Define objectiva funtion to maximize metric\n",
    "def objective(trial):\n",
    "    \n",
    "    # List scalers to chose from\n",
    "    scalers = trial.suggest_categorical(\"scalers\", ['minmax', 'standard', 'robust'])\n",
    "    # Define scalers\n",
    "    if scalers == \"minmax\":\n",
    "        scaler = MinMaxScaler()\n",
    "    elif scalers == \"standard\":\n",
    "        scaler = StandardScaler()\n",
    "    else:\n",
    "        scaler = RobustScaler()\n",
    "    # LGBM Hyper Parameter Grid\n",
    "    param = {\n",
    "        \"objective\": \"binary\",\n",
    "        \"metric\": \"binary_logloss\",\n",
    "        \"verbosity\": -1,\n",
    "        \"boosting_type\": \"gbdt\",\n",
    "        \"lambda_l1\": trial.suggest_float(\"lambda_l1\", 1e-8, 10.0, log=True),\n",
    "        \"lambda_l2\": trial.suggest_float(\"lambda_l2\", 1e-8, 10.0, log=True),\n",
    "        \"num_leaves\": trial.suggest_int(\"num_leaves\", 2, 256),\n",
    "        \"feature_fraction\": trial.suggest_float(\"feature_fraction\", 0.4, 1.0),\n",
    "        \"bagging_fraction\": trial.suggest_float(\"bagging_fraction\", 0.4, 1.0),\n",
    "        \"bagging_freq\": trial.suggest_int(\"bagging_freq\", 1, 7),\n",
    "        \"min_child_samples\": trial.suggest_int(\"min_child_samples\", 5, 100),\n",
    "        \"n_estimators\": trial.suggest_int(\"max_depth\", 100, 1000)\n",
    "    }\n",
    "    # Create model pipeline with param trial\n",
    "    clf = Pipeline([(\"scaler\", scaler),\n",
    "                    (\"lgbm_clf\", lgb.LGBMClassifier(random_state=SEED, **param))])\n",
    "    # Get CV Metric we want to maximize\n",
    "    balanced_accuracy = np.mean(cross_val_score(clf, X, y, scoring=metric_scorer, cv=rkf, n_jobs=-1))\n",
    "    \n",
    "    return balanced_accuracy"
   ]
  },
  {
   "cell_type": "code",
   "execution_count": 30,
   "id": "f50ae95b",
   "metadata": {},
   "outputs": [
    {
     "name": "stderr",
     "output_type": "stream",
     "text": [
      "\u001b[32m[I 2022-06-07 22:15:09,043]\u001b[0m A new study created in memory with name: no-name-9d027bd4-11fc-4b2d-8846-da6f6ffb30f6\u001b[0m\n"
     ]
    }
   ],
   "source": [
    "study = optuna.create_study(direction=\"maximize\")"
   ]
  },
  {
   "cell_type": "code",
   "execution_count": null,
   "id": "0359a477",
   "metadata": {
    "scrolled": true
   },
   "outputs": [],
   "source": [
    "study.optimize(objective, n_trials=500)"
   ]
  },
  {
   "cell_type": "code",
   "execution_count": 32,
   "id": "c12b4332",
   "metadata": {},
   "outputs": [],
   "source": [
    "# Get best trial based on metric score\n",
    "trial = study.best_trial"
   ]
  },
  {
   "cell_type": "code",
   "execution_count": 33,
   "id": "136c5fb7",
   "metadata": {},
   "outputs": [
    {
     "name": "stdout",
     "output_type": "stream",
     "text": [
      "    scalers: robust\n",
      "    lambda_l1: 4.3223282482835764e-07\n",
      "    lambda_l2: 3.3796186878776776e-05\n",
      "    num_leaves: 188\n",
      "    feature_fraction: 0.650978565866076\n",
      "    bagging_fraction: 0.9212536490874126\n",
      "    bagging_freq: 7\n",
      "    min_child_samples: 36\n",
      "    max_depth: 956\n"
     ]
    }
   ],
   "source": [
    "# Print params for best trial\n",
    "for key, value in trial.params.items():\n",
    "    print(\"    {}: {}\".format(key, value))"
   ]
  },
  {
   "cell_type": "code",
   "execution_count": 34,
   "id": "794fde22",
   "metadata": {},
   "outputs": [
    {
     "data": {
      "text/plain": [
       "0.8521054248039541"
      ]
     },
     "execution_count": 34,
     "metadata": {},
     "output_type": "execute_result"
    }
   ],
   "source": [
    "# Best Score from HP Opt\n",
    "trial.values[0]"
   ]
  },
  {
   "cell_type": "markdown",
   "id": "636f5deb",
   "metadata": {},
   "source": [
    "- A adição de um estágio de feature scaling antes do treinamento parece ter ajudado o modelo"
   ]
  },
  {
   "cell_type": "markdown",
   "id": "5a6f3352",
   "metadata": {},
   "source": [
    "##### 4.4) Boruta Feature Selection + Features Scaler + Hyper Parameter Optimization with Optuna"
   ]
  },
  {
   "cell_type": "code",
   "execution_count": 35,
   "id": "7b70bb42",
   "metadata": {},
   "outputs": [],
   "source": [
    "# define random forest classifier, with utilising all cores and\n",
    "# sampling in proportion to y labels\n",
    "rf = RandomForestClassifier(n_jobs=-1, class_weight='balanced', max_depth=5)\n",
    "# define Boruta feature selection method\n",
    "feat_selector = BorutaPy(rf, n_estimators='auto', verbose=2, random_state=SEED, )"
   ]
  },
  {
   "cell_type": "code",
   "execution_count": null,
   "id": "2ae7aab1",
   "metadata": {
    "scrolled": true
   },
   "outputs": [],
   "source": [
    "feat_selector.fit(np.array(X), y)"
   ]
  },
  {
   "cell_type": "code",
   "execution_count": 37,
   "id": "82c8863f",
   "metadata": {},
   "outputs": [
    {
     "name": "stdout",
     "output_type": "stream",
     "text": [
      "Number of selected features:  29\n"
     ]
    }
   ],
   "source": [
    "print(\"Number of selected features: \", feat_selector.n_features_)"
   ]
  },
  {
   "cell_type": "code",
   "execution_count": 38,
   "id": "732e41b3",
   "metadata": {
    "scrolled": true
   },
   "outputs": [
    {
     "data": {
      "text/plain": [
       "Index(['Freq.1324.08044804632', 'Freq.1715.32907573994',\n",
       "       'Freq.1793.31292765446', 'Freq.1989.65991446642',\n",
       "       'Freq.2032.95119529926', 'Freq.2148.55916353654',\n",
       "       'Freq.2182.52259691583', 'Freq.2186.33577081196',\n",
       "       'Freq.2242.07973381149', 'Freq.2761.81291676166',\n",
       "       'Freq.3044.21704373186', 'Freq.3414.71158220371',\n",
       "       'Freq.3425.70211639867', 'Freq.3912.82100942603',\n",
       "       'Freq.4006.25935764913', 'Freq.4266.3135397872',\n",
       "       'Freq.4282.69712175929', 'Freq.4305.85988898402',\n",
       "       'Freq.4318.14922038936', 'Freq.4395.12541812139',\n",
       "       'Freq.4773.1748593189', 'Freq.4823.05474215093',\n",
       "       'Freq.5085.12753419191', 'Freq.5224.39772946441',\n",
       "       'Freq.5433.51287445961', 'Freq.6079.05181901815',\n",
       "       'Freq.7501.51838000843', 'Freq.7738.28945568542',\n",
       "       'Freq.8943.76551923189'],\n",
       "      dtype='object')"
      ]
     },
     "execution_count": 38,
     "metadata": {},
     "output_type": "execute_result"
    }
   ],
   "source": [
    "# Best Features (accord to Boruta)\n",
    "X.columns[feat_selector.support_]"
   ]
  },
  {
   "cell_type": "code",
   "execution_count": 39,
   "id": "89cd78e5",
   "metadata": {},
   "outputs": [],
   "source": [
    "# Filter most importante features\n",
    "X_transform = feat_selector.transform(np.array(X))"
   ]
  },
  {
   "cell_type": "code",
   "execution_count": 40,
   "id": "c23a5f03",
   "metadata": {},
   "outputs": [],
   "source": [
    "# Define objectiva funtion to maximize metric\n",
    "def objective(trial):\n",
    "    \n",
    "    # List scalers to chose from\n",
    "    scalers = trial.suggest_categorical(\"scalers\", ['minmax', 'standard', 'robust'])\n",
    "    # Define scalers\n",
    "    if scalers == \"minmax\":\n",
    "        scaler = MinMaxScaler()\n",
    "    elif scalers == \"standard\":\n",
    "        scaler = StandardScaler()\n",
    "    else:\n",
    "        scaler = RobustScaler()\n",
    "    # LGBM Hyper Parameter Grid\n",
    "    param = {\n",
    "        \"objective\": \"binary\",\n",
    "        \"metric\": \"binary_logloss\",\n",
    "        \"verbosity\": -1,\n",
    "        \"boosting_type\": \"gbdt\",\n",
    "        \"lambda_l1\": trial.suggest_float(\"lambda_l1\", 1e-8, 10.0, log=True),\n",
    "        \"lambda_l2\": trial.suggest_float(\"lambda_l2\", 1e-8, 10.0, log=True),\n",
    "        \"num_leaves\": trial.suggest_int(\"num_leaves\", 2, 256),\n",
    "        \"feature_fraction\": trial.suggest_float(\"feature_fraction\", 0.4, 1.0),\n",
    "        \"bagging_fraction\": trial.suggest_float(\"bagging_fraction\", 0.4, 1.0),\n",
    "        \"bagging_freq\": trial.suggest_int(\"bagging_freq\", 1, 7),\n",
    "        \"min_child_samples\": trial.suggest_int(\"min_child_samples\", 5, 100),\n",
    "        \"n_estimators\": trial.suggest_int(\"max_depth\", 100, 1000)\n",
    "    }\n",
    "    # Create model pipeline with param trial\n",
    "    clf = Pipeline([(\"scaler\", scaler),\n",
    "                    (\"lgbm_clf\", lgb.LGBMClassifier(random_state=SEED, **param))])\n",
    "    # Get CV Metric we want to maximize\n",
    "    balanced_accuracy = np.mean(cross_val_score(clf, X_transform, y, scoring=metric_scorer, cv=rkf, n_jobs=-1))\n",
    "    \n",
    "    return balanced_accuracy"
   ]
  },
  {
   "cell_type": "code",
   "execution_count": 41,
   "id": "4623ad8b",
   "metadata": {},
   "outputs": [
    {
     "name": "stderr",
     "output_type": "stream",
     "text": [
      "\u001b[32m[I 2022-06-07 22:53:12,323]\u001b[0m A new study created in memory with name: no-name-c4546cea-e73f-48ab-b880-81890a252ef4\u001b[0m\n"
     ]
    }
   ],
   "source": [
    "study = optuna.create_study(direction=\"maximize\")"
   ]
  },
  {
   "cell_type": "code",
   "execution_count": null,
   "id": "c5b8c6fc",
   "metadata": {
    "scrolled": false
   },
   "outputs": [],
   "source": [
    "study.optimize(objective, n_trials=500)"
   ]
  },
  {
   "cell_type": "code",
   "execution_count": 43,
   "id": "728e2a21",
   "metadata": {},
   "outputs": [],
   "source": [
    "# Get best trial based on metric score\n",
    "trial = study.best_trial"
   ]
  },
  {
   "cell_type": "code",
   "execution_count": 44,
   "id": "72c14fe5",
   "metadata": {},
   "outputs": [
    {
     "name": "stdout",
     "output_type": "stream",
     "text": [
      "    scalers: standard\n",
      "    lambda_l1: 0.2404118700722963\n",
      "    lambda_l2: 1.492665030235694\n",
      "    num_leaves: 135\n",
      "    feature_fraction: 0.6682498832291581\n",
      "    bagging_fraction: 0.46400514850106434\n",
      "    bagging_freq: 1\n",
      "    min_child_samples: 14\n",
      "    max_depth: 924\n"
     ]
    }
   ],
   "source": [
    "# Print params for best trial\n",
    "for key, value in trial.params.items():\n",
    "    print(\"    {}: {}\".format(key, value))"
   ]
  },
  {
   "cell_type": "code",
   "execution_count": 45,
   "id": "932d3319",
   "metadata": {},
   "outputs": [
    {
     "data": {
      "text/plain": [
       "0.9043265457023197"
      ]
     },
     "execution_count": 45,
     "metadata": {},
     "output_type": "execute_result"
    }
   ],
   "source": [
    "# Best Score from HP Opt\n",
    "trial.values[0]"
   ]
  },
  {
   "cell_type": "markdown",
   "id": "a61cf7c6",
   "metadata": {},
   "source": [
    "- Pré selecionar as features mais importantes auxiliou a obter uma performance ainda melhor a partir do pipeline com Robust Scaler e LightGBM"
   ]
  }
 ],
 "metadata": {
  "kernelspec": {
   "display_name": "Python 3 (ipykernel)",
   "language": "python",
   "name": "python3"
  },
  "language_info": {
   "codemirror_mode": {
    "name": "ipython",
    "version": 3
   },
   "file_extension": ".py",
   "mimetype": "text/x-python",
   "name": "python",
   "nbconvert_exporter": "python",
   "pygments_lexer": "ipython3",
   "version": "3.9.7"
  }
 },
 "nbformat": 4,
 "nbformat_minor": 5
}
